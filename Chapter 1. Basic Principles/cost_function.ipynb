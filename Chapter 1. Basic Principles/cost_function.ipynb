{
  "nbformat": 4,
  "nbformat_minor": 0,
  "metadata": {
    "kernelspec": {
      "display_name": "Python 3",
      "language": "python",
      "name": "python3"
    },
    "language_info": {
      "codemirror_mode": {
        "name": "ipython",
        "version": 3
      },
      "file_extension": ".py",
      "mimetype": "text/x-python",
      "name": "python",
      "nbconvert_exporter": "python",
      "pygments_lexer": "ipython3",
      "version": "3.7.4"
    },
    "colab": {
      "name": "cost_function.ipynb",
      "provenance": [],
      "include_colab_link": true
    }
  },
  "cells": [
    {
      "cell_type": "markdown",
      "metadata": {
        "id": "view-in-github",
        "colab_type": "text"
      },
      "source": [
        "<a href=\"https://colab.research.google.com/github/5x12/ml4everyone/blob/master/Chapter%201.%20Basic%20Principles/cost_function.ipynb\" target=\"_parent\"><img src=\"https://colab.research.google.com/assets/colab-badge.svg\" alt=\"Open In Colab\"/></a>"
      ]
    },
    {
      "cell_type": "markdown",
      "metadata": {
        "id": "fy9Pru5BcTDV",
        "colab_type": "text"
      },
      "source": [
        "# COST FUNCTION\n",
        "\n",
        "This Jupyter Notebook is a supplement for Chapter 3. Dimensionality Reduction Techniques of the [Machine Learning For Everyone](ml4everyonebook.com) book."
      ]
    },
    {
      "cell_type": "markdown",
      "metadata": {
        "id": "8VorHuMIcTDV",
        "colab_type": "text"
      },
      "source": [
        "# 1. Data & Basic Libraries\n",
        "\n",
        "Let's import basic libraries and the data we have in Section 1.4: **Algorithms and How They Work**."
      ]
    },
    {
      "cell_type": "code",
      "metadata": {
        "id": "iM_Rcuu6cTDW",
        "colab_type": "code",
        "colab": {}
      },
      "source": [
        "##https://www.pugetsystems.com/labs/hpc/Machine-Learning-and-Data-Science-Linear-Regression-Part-3-965/\n",
        "# Basic libraries\n",
        "\n",
        "import pandas as pd \n",
        "import numpy as np \n",
        "import matplotlib.pyplot as plt\n",
        "%matplotlib inline"
      ],
      "execution_count": 0,
      "outputs": []
    },
    {
      "cell_type": "code",
      "metadata": {
        "id": "Gd4KEUA3cTDY",
        "colab_type": "code",
        "colab": {}
      },
      "source": [
        "# Defined data\n",
        "\n",
        "x = np.array([30, 46, 60, 65, 77, 95])\n",
        "y = np.array([31, 30, 80, 49, 70, 118]) #in 100.000"
      ],
      "execution_count": 0,
      "outputs": []
    },
    {
      "cell_type": "markdown",
      "metadata": {
        "id": "wugDx0xicTDa",
        "colab_type": "text"
      },
      "source": [
        "# 2. Building a Regression Model "
      ]
    },
    {
      "cell_type": "markdown",
      "metadata": {
        "id": "1VYKc3cvYWme",
        "colab_type": "text"
      },
      "source": [
        "Let's now build a simple regression with our data and then visualize it with the graph."
      ]
    },
    {
      "cell_type": "markdown",
      "metadata": {
        "id": "XGKd_3V6cTDb",
        "colab_type": "text"
      },
      "source": [
        "## 2.1. Build & Plot"
      ]
    },
    {
      "cell_type": "markdown",
      "metadata": {
        "id": "PESQ4iaeYE25",
        "colab_type": "text"
      },
      "source": [
        "Building the regression model first:"
      ]
    },
    {
      "cell_type": "code",
      "metadata": {
        "id": "GAN6Tz_gcTDb",
        "colab_type": "code",
        "colab": {}
      },
      "source": [
        "from sklearn.linear_model import LinearRegression #import Linear Regression model from scikit-learn library\n",
        "\n",
        "reg = LinearRegression() #define the model\n",
        "x=x.reshape((-1, 1)) #reshape x\n",
        "reg = LinearRegression().fit(x, y) #train your model with x-values"
      ],
      "execution_count": 0,
      "outputs": []
    },
    {
      "cell_type": "markdown",
      "metadata": {
        "id": "zq_A_pN6ZuaF",
        "colab_type": "text"
      },
      "source": [
        "Checking estimated coefficient and intercept:"
      ]
    },
    {
      "cell_type": "code",
      "metadata": {
        "id": "DOBf-DpYZsfx",
        "colab_type": "code",
        "colab": {
          "base_uri": "https://localhost:8080/",
          "height": 51
        },
        "outputId": "f1ff1599-b45a-45ac-d269-73986f1050cc"
      },
      "source": [
        "print(' coefficient (parameter a) = {} \\n intercept (parameter b) = {}'.format(reg.coef_[0].round(1), \n",
        "                                                                               reg.intercept_.round(0)))"
      ],
      "execution_count": 6,
      "outputs": [
        {
          "output_type": "stream",
          "text": [
            " coefficient (parameter a) = 1.3 \n",
            " intercept (parameter b) = -18.0\n"
          ],
          "name": "stdout"
        }
      ]
    },
    {
      "cell_type": "markdown",
      "metadata": {
        "id": "gEXbsgf9Zhh-",
        "colab_type": "text"
      },
      "source": [
        "Plotting the regression model:"
      ]
    },
    {
      "cell_type": "code",
      "metadata": {
        "id": "l8AgOvs8cTDe",
        "colab_type": "code",
        "outputId": "11c9d902-bbd5-4119-a27f-e16055fe26ad",
        "colab": {
          "base_uri": "https://localhost:8080/",
          "height": 286
        }
      },
      "source": [
        "fig, ax = plt.subplots() #define the graph\n",
        "ax.plot(x,y, 'o', color='g', label='training data')\n",
        "ax.plot(x, reg.intercept_ + reg.coef_[0]*x, label='y = {} + {} x'.format(reg.intercept_.round(0), reg.coef_[0].round(2))) \n",
        "plt.legend(); #show legend\n",
        "plt.ylim(0, 140) #length of y-axis\n",
        "plt.xlim(0, 110) #length of x-axis"
      ],
      "execution_count": 9,
      "outputs": [
        {
          "output_type": "execute_result",
          "data": {
            "text/plain": [
              "(0.0, 110.0)"
            ]
          },
          "metadata": {
            "tags": []
          },
          "execution_count": 9
        },
        {
          "output_type": "display_data",
          "data": {
            "image/png": "[encoded data removed]",
            "text/plain": [
              "<Figure size 432x288 with 1 Axes>"
            ]
          },
          "metadata": {
            "tags": [],
            "needs_background": "light"
          }
        }
      ]
    },
    {
      "cell_type": "markdown",
      "metadata": {
        "id": "80C8dtsZcTDm",
        "colab_type": "text"
      },
      "source": [
        "## 2.2. Drawing Residuals"
      ]
    },
    {
      "cell_type": "markdown",
      "metadata": {
        "id": "1KADSi81bj-V",
        "colab_type": "text"
      },
      "source": [
        "Let's draw residuals - the difference between a data point and the model prediction. "
      ]
    },
    {
      "cell_type": "code",
      "metadata": {
        "id": "1pkjUxEycTDn",
        "colab_type": "code",
        "outputId": "5be28a93-16df-4e42-a23e-96250e698854",
        "colab": {
          "base_uri": "https://localhost:8080/",
          "height": 268
        }
      },
      "source": [
        "fig, ax = plt.subplots()\n",
        "ax.plot(x,y, 'o', color='g', label='training data')\n",
        "ax.plot(x, -18.0  + 1.3*x, label='h(x) = .1 + 1.2*x')\n",
        "for i in range(len(x)):\n",
        "    ax.plot([x[i], x[i]], [-18.0  + 1.3*x[i],y[i]], '-', color='c')\n",
        "plt.legend();"
      ],
      "execution_count": 0,
      "outputs": [
        {
          "output_type": "display_data",
          "data": {
            "image/png": "[encoded data removed]",
            "text/plain": [
              "<Figure size 432x288 with 1 Axes>"
            ]
          },
          "metadata": {
            "tags": [],
            "needs_background": "light"
          }
        }
      ]
    },
    {
      "cell_type": "markdown",
      "metadata": {
        "id": "nPtJqyTPcTDp",
        "colab_type": "text"
      },
      "source": [
        "## 2.3. Calculating Sum of Squared Residuals (SSR)"
      ]
    },
    {
      "cell_type": "markdown",
      "metadata": {
        "id": "8mfGlLfAcJoD",
        "colab_type": "text"
      },
      "source": [
        "Let's calculate SSR:"
      ]
    },
    {
      "cell_type": "code",
      "metadata": {
        "id": "6RCPAW37cTDp",
        "colab_type": "code",
        "outputId": "fdef737c-aa96-4ad4-94f2-505c0836b56b",
        "colab": {
          "base_uri": "https://localhost:8080/",
          "height": 34
        }
      },
      "source": [
        "# Defining lists\n",
        "\n",
        "y_pred = [] #defined list with predicted values of y\n",
        "r = [] #defined list with residuals\n",
        "\n",
        "#Calculating predicted values of y\n",
        "\n",
        "for i in x:\n",
        "    y_pred.append(-18 + 1.3*i)\n",
        "    \n",
        "#Calculating residuals\n",
        "for i in range(0, len(x)):\n",
        "    r.append((y[i]-y_pred[i])**2)\n",
        "\n",
        "#Summing up the residuals\n",
        "\n",
        "np.sum(r)"
      ],
      "execution_count": 10,
      "outputs": [
        {
          "output_type": "execute_result",
          "data": {
            "text/plain": [
              "1248.1500000000003"
            ]
          },
          "metadata": {
            "tags": []
          },
          "execution_count": 10
        }
      ]
    },
    {
      "cell_type": "markdown",
      "metadata": {
        "id": "-Gc_ADr4cTDr",
        "colab_type": "text"
      },
      "source": [
        "## 1.3. Other Regressions"
      ]
    },
    {
      "cell_type": "markdown",
      "metadata": {
        "id": "qSMH6GrjcTDs",
        "colab_type": "text"
      },
      "source": [
        "### 1.3.1. Regression 1"
      ]
    },
    {
      "cell_type": "code",
      "metadata": {
        "id": "Sho5z22ccTDt",
        "colab_type": "code",
        "outputId": "177b6646-f615-4442-d3cf-37261d3ffd99",
        "colab": {
          "base_uri": "https://localhost:8080/",
          "height": 289
        }
      },
      "source": [
        "fig, ax = plt.subplots()\n",
        "ax.plot(x,y, 'o', color='g', label='training data')\n",
        "ax.plot(x, 780 + -10*x, label='y = {} + {} x'.format(reg.intercept_.round(2), reg.coef_[0].round(2)))\n",
        "plt.legend();\n",
        "plt.ylim(0, 140)\n",
        "plt.xlim(0, 110)"
      ],
      "execution_count": 0,
      "outputs": [
        {
          "output_type": "execute_result",
          "data": {
            "text/plain": [
              "(0.0, 110.0)"
            ]
          },
          "metadata": {
            "tags": []
          },
          "execution_count": 9
        },
        {
          "output_type": "display_data",
          "data": {
            "image/png": "[encoded data removed]",
            "text/plain": [
              "<Figure size 432x288 with 1 Axes>"
            ]
          },
          "metadata": {
            "tags": [],
            "needs_background": "light"
          }
        }
      ]
    },
    {
      "cell_type": "code",
      "metadata": {
        "id": "O5VNRBnxcTDv",
        "colab_type": "code",
        "outputId": "8db5982d-cfd1-49cb-cf2b-9f390c946b83",
        "colab": {
          "base_uri": "https://localhost:8080/",
          "height": 34
        }
      },
      "source": [
        "##calculating OLS:\n",
        "\n",
        "y_pred = []\n",
        "r = []\n",
        "for i in x:\n",
        "    y_pred.append(780 + -10*i)\n",
        "    \n",
        "for i in range(0, len(x)):\n",
        "    r.append((y[i]-y_pred[i])**2)\n",
        "\n",
        "np.sum(r)"
      ],
      "execution_count": 0,
      "outputs": [
        {
          "output_type": "execute_result",
          "data": {
            "text/plain": [
              "388806"
            ]
          },
          "metadata": {
            "tags": []
          },
          "execution_count": 11
        }
      ]
    },
    {
      "cell_type": "markdown",
      "metadata": {
        "id": "6W7AWJXJcTDy",
        "colab_type": "text"
      },
      "source": [
        "### 1.3.2. Regression 2"
      ]
    },
    {
      "cell_type": "code",
      "metadata": {
        "id": "b0-HN8ZTcTDy",
        "colab_type": "code",
        "outputId": "30b2b4a2-2e6f-4ace-c0b5-25c6ad9105f1",
        "colab": {
          "base_uri": "https://localhost:8080/",
          "height": 289
        }
      },
      "source": [
        "fig, ax = plt.subplots()\n",
        "ax.plot(x,y, 'o', color='g', label='training data')\n",
        "ax.plot(x, 4*x-190, label='y = {} + {} x'.format(reg.intercept_.round(2), reg.coef_[0].round(2)))\n",
        "plt.legend();\n",
        "plt.ylim(0, 140)\n",
        "plt.xlim(0, 110)"
      ],
      "execution_count": 0,
      "outputs": [
        {
          "output_type": "execute_result",
          "data": {
            "text/plain": [
              "(0.0, 110.0)"
            ]
          },
          "metadata": {
            "tags": []
          },
          "execution_count": 12
        },
        {
          "output_type": "display_data",
          "data": {
            "image/png": "[encoded data removed]",
            "text/plain": [
              "<Figure size 432x288 with 1 Axes>"
            ]
          },
          "metadata": {
            "tags": [],
            "needs_background": "light"
          }
        }
      ]
    },
    {
      "cell_type": "code",
      "metadata": {
        "id": "_n2ZmKEtcTD1",
        "colab_type": "code",
        "outputId": "608b1348-0eaf-4efb-bbf4-dc524835ccf6",
        "colab": {
          "base_uri": "https://localhost:8080/",
          "height": 34
        }
      },
      "source": [
        "y_pred = []\n",
        "r = []\n",
        "for i in x:\n",
        "    y_pred.append(-190 + 4*i)\n",
        "    \n",
        "for i in range(0, len(x)):\n",
        "    r.append((y[i]-y_pred[i])**2)\n",
        "\n",
        "np.sum(r)"
      ],
      "execution_count": 0,
      "outputs": [
        {
          "output_type": "execute_result",
          "data": {
            "text/plain": [
              "20326"
            ]
          },
          "metadata": {
            "tags": []
          },
          "execution_count": 13
        }
      ]
    },
    {
      "cell_type": "code",
      "metadata": {
        "id": "G_nteSr7cTD5",
        "colab_type": "code",
        "outputId": "56378f33-5a5b-4359-d553-a1b9122e1cc8",
        "colab": {
          "base_uri": "https://localhost:8080/",
          "height": 34
        }
      },
      "source": [
        "y"
      ],
      "execution_count": 0,
      "outputs": [
        {
          "output_type": "execute_result",
          "data": {
            "text/plain": [
              "array([ 32,  30,  80,  49,  70, 117])"
            ]
          },
          "metadata": {
            "tags": []
          },
          "execution_count": 20
        }
      ]
    },
    {
      "cell_type": "markdown",
      "metadata": {
        "id": "RLPXq5mncTD7",
        "colab_type": "text"
      },
      "source": [
        "# 3. Cost Functions"
      ]
    },
    {
      "cell_type": "markdown",
      "metadata": {
        "id": "O9sezqxFcTD7",
        "colab_type": "text"
      },
      "source": [
        "## 3.1. A"
      ]
    },
    {
      "cell_type": "code",
      "metadata": {
        "id": "9zxsEHQhcTD7",
        "colab_type": "code",
        "outputId": "422af46e-38a8-4df7-d7ad-b5233a124ef8",
        "colab": {
          "base_uri": "https://localhost:8080/",
          "height": 381
        }
      },
      "source": [
        "fig, ax = plt.subplots()\n",
        "ax.plot(x,y, 'o', color='g', label='training data')\n",
        "a1 = np.linspace(-1,4,21) #coefficient - should be the range -10 +10 from a real one\n",
        "for i in range(len(a1)):\n",
        "    ax.plot(x, -18 + a1[i]*x, label='a1 = %.2f' %a1[i] )\n",
        "\n",
        "plt.legend();"
      ],
      "execution_count": 0,
      "outputs": [
        {
          "output_type": "display_data",
          "data": {
            "image/png": "[encoded data removed]",
            "text/plain": [
              "<Figure size 432x288 with 1 Axes>"
            ]
          },
          "metadata": {
            "tags": []
          }
        }
      ]
    },
    {
      "cell_type": "markdown",
      "metadata": {
        "id": "PHCCSvQccTD-",
        "colab_type": "text"
      },
      "source": [
        "## 3.2. B"
      ]
    },
    {
      "cell_type": "code",
      "metadata": {
        "id": "V23XbqVccTD-",
        "colab_type": "code",
        "colab": {}
      },
      "source": [
        "# The function J\n",
        "def J(a0, a1, x, y, m):\n",
        "    J = 0\n",
        "    for i in range(m):\n",
        "        J += ((a0 + a1*x[i]) - y[i] )**2\n",
        "    return J"
      ],
      "execution_count": 0,
      "outputs": []
    },
    {
      "cell_type": "code",
      "metadata": {
        "id": "BwPT-O_DcTEA",
        "colab_type": "code",
        "outputId": "c0f2cfe5-7330-4561-85c5-fec4ee7a9b02",
        "colab": {
          "base_uri": "https://localhost:8080/",
          "height": 268
        }
      },
      "source": [
        "fig, ax = plt.subplots()\n",
        "a = np.linspace(-2,4.5,13) ## \n",
        "a1 = np.linspace(-2,4.5,13) \n",
        "\n",
        "ax.plot(a, J(-18,a,x,y,m=len(x)), c='C0')\n",
        "for i in range(len(a1)):\n",
        "    ax.plot(a1[i], J(-18,a1[i],x,y,m=len(x)), 'o', label='J(a0,%.1f)' %a1[i])\n",
        "plt.legend();"
      ],
      "execution_count": 0,
      "outputs": [
        {
          "output_type": "display_data",
          "data": {
            "image/png": "[encoded data removed]",
            "text/plain": [
              "<Figure size 432x288 with 1 Axes>"
            ]
          },
          "metadata": {
            "tags": []
          }
        }
      ]
    },
    {
      "cell_type": "markdown",
      "metadata": {
        "id": "Pcwzjc77cTEC",
        "colab_type": "text"
      },
      "source": [
        "## 3.3. C"
      ]
    },
    {
      "cell_type": "code",
      "metadata": {
        "id": "R_WItky4cTED",
        "colab_type": "code",
        "outputId": "6efa8735-775c-45dd-c3da-44fd0d431ddf",
        "colab": {
          "base_uri": "https://localhost:8080/",
          "height": 248
        }
      },
      "source": [
        "\n",
        "from mpl_toolkits.mplot3d.axes3d import Axes3D\n",
        "fig = plt.figure()\n",
        "ax = fig.add_subplot(1,1,1,projection='3d')\n",
        "a0 = np.linspace(-100,100,10)\n",
        "a1 = np.linspace(-1,4,20)\n",
        "aa0, aa1 = np.meshgrid(a0, a1)\n",
        "ax.plot_surface(aa0, aa1, J(aa0,aa1,x,y,m=len(x)))\n",
        "ax.view_init(50,-110)"
      ],
      "execution_count": 0,
      "outputs": [
        {
          "output_type": "display_data",
          "data": {
            "image/png": "[encoded data removed]",
            "text/plain": [
              "<Figure size 432x288 with 1 Axes>"
            ]
          },
          "metadata": {
            "tags": []
          }
        }
      ]
    },
    {
      "cell_type": "code",
      "metadata": {
        "id": "kjFKTd_Fcw9I",
        "colab_type": "code",
        "colab": {}
      },
      "source": [
        ""
      ],
      "execution_count": 0,
      "outputs": []
    },
    {
      "cell_type": "markdown",
      "metadata": {
        "id": "7ZbxMRooc540",
        "colab_type": "text"
      },
      "source": [
        "## Other "
      ]
    },
    {
      "cell_type": "markdown",
      "metadata": {
        "id": "pMfzROdelnga",
        "colab_type": "text"
      },
      "source": [
        "### orig"
      ]
    },
    {
      "cell_type": "code",
      "metadata": {
        "id": "xxQIWccSc3G9",
        "colab_type": "code",
        "outputId": "2784a3c1-d8b9-4de9-e201-03e497bb29f0",
        "colab": {
          "base_uri": "https://localhost:8080/",
          "height": 289
        }
      },
      "source": [
        "fig, ax = plt.subplots()\n",
        "ax.plot(x,y, 'o', color='g', label='training data')\n",
        "ax.plot(x, -18 + 1.3*x, label='y = {} + {} x'.format(-18, 1.3))\n",
        "plt.legend();\n",
        "plt.ylim(0, 140)\n",
        "plt.xlim(0, 110)"
      ],
      "execution_count": 0,
      "outputs": [
        {
          "output_type": "execute_result",
          "data": {
            "text/plain": [
              "(0.0, 110.0)"
            ]
          },
          "metadata": {
            "tags": []
          },
          "execution_count": 14
        },
        {
          "output_type": "display_data",
          "data": {
            "image/png": "[encoded data removed]",
            "text/plain": [
              "<Figure size 432x288 with 1 Axes>"
            ]
          },
          "metadata": {
            "tags": [],
            "needs_background": "light"
          }
        }
      ]
    },
    {
      "cell_type": "code",
      "metadata": {
        "id": "t8DBlSD-dJT7",
        "colab_type": "code",
        "outputId": "a51fcaf9-e9d9-4d06-fb0c-8bb5ad62a2f0",
        "colab": {
          "base_uri": "https://localhost:8080/",
          "height": 34
        }
      },
      "source": [
        "##calculating SSR:\n",
        "\n",
        "y_pred = []\n",
        "r = []\n",
        "for i in x:\n",
        "    y_pred.append(-18 + 1.3*i)\n",
        "    \n",
        "for i in range(0, len(x)):\n",
        "    r.append((y[i]-y_pred[i])**2)\n",
        "\n",
        "np.sum(r)"
      ],
      "execution_count": 0,
      "outputs": [
        {
          "output_type": "execute_result",
          "data": {
            "text/plain": [
              "1248.1500000000003"
            ]
          },
          "metadata": {
            "tags": []
          },
          "execution_count": 15
        }
      ]
    },
    {
      "cell_type": "markdown",
      "metadata": {
        "id": "pgEipzaBlso9",
        "colab_type": "text"
      },
      "source": [
        "### one"
      ]
    },
    {
      "cell_type": "code",
      "metadata": {
        "id": "fEnu3OrPkifw",
        "colab_type": "code",
        "outputId": "ede2bc29-c6bf-4ab4-f911-f43b0a61a9f0",
        "colab": {
          "base_uri": "https://localhost:8080/",
          "height": 289
        }
      },
      "source": [
        "fig, ax = plt.subplots()\n",
        "ax.plot(x,y, 'o', color='g', label='training data')\n",
        "ax.plot(x, -18 + 0.7*x, label='y = {} + {} x'.format(-18, 0.7))\n",
        "plt.legend();\n",
        "plt.ylim(0, 140)\n",
        "plt.xlim(0, 110)"
      ],
      "execution_count": 0,
      "outputs": [
        {
          "output_type": "execute_result",
          "data": {
            "text/plain": [
              "(0.0, 110.0)"
            ]
          },
          "metadata": {
            "tags": []
          },
          "execution_count": 16
        },
        {
          "output_type": "display_data",
          "data": {
            "image/png": "[encoded data removed]",
            "text/plain": [
              "<Figure size 432x288 with 1 Axes>"
            ]
          },
          "metadata": {
            "tags": [],
            "needs_background": "light"
          }
        }
      ]
    },
    {
      "cell_type": "code",
      "metadata": {
        "id": "R2XoIwhNkjOG",
        "colab_type": "code",
        "outputId": "516e7e2a-8934-44fe-c201-4077eeff2993",
        "colab": {
          "base_uri": "https://localhost:8080/",
          "height": 34
        }
      },
      "source": [
        "##calculating SSR:\n",
        "\n",
        "y_pred = []\n",
        "r = []\n",
        "for i in x:\n",
        "    y_pred.append(-18 + 0.7*i)\n",
        "    \n",
        "for i in range(0, len(x)):\n",
        "    r.append((y[i]-y_pred[i])**2)\n",
        "\n",
        "np.sum(r)"
      ],
      "execution_count": 0,
      "outputs": [
        {
          "output_type": "execute_result",
          "data": {
            "text/plain": [
              "10624.95"
            ]
          },
          "metadata": {
            "tags": []
          },
          "execution_count": 17
        }
      ]
    },
    {
      "cell_type": "markdown",
      "metadata": {
        "id": "XR94GcNrl3f-",
        "colab_type": "text"
      },
      "source": [
        "### three"
      ]
    },
    {
      "cell_type": "code",
      "metadata": {
        "id": "1ahxU1atlGdr",
        "colab_type": "code",
        "outputId": "ee66fe60-609b-40a9-b60e-a9b63c068c51",
        "colab": {
          "base_uri": "https://localhost:8080/",
          "height": 289
        }
      },
      "source": [
        "fig, ax = plt.subplots()\n",
        "ax.plot(x,y, 'o', color='g', label='training data')\n",
        "ax.plot(x, -18 + 1.9*x, label='y = {} + {} x'.format(-18, 1.9))\n",
        "plt.legend();\n",
        "plt.ylim(0, 140)\n",
        "plt.xlim(0, 110)"
      ],
      "execution_count": 0,
      "outputs": [
        {
          "output_type": "execute_result",
          "data": {
            "text/plain": [
              "(0.0, 110.0)"
            ]
          },
          "metadata": {
            "tags": []
          },
          "execution_count": 18
        },
        {
          "output_type": "display_data",
          "data": {
            "image/png": "[encoded data removed]",
            "text/plain": [
              "<Figure size 432x288 with 1 Axes>"
            ]
          },
          "metadata": {
            "tags": [],
            "needs_background": "light"
          }
        }
      ]
    },
    {
      "cell_type": "code",
      "metadata": {
        "id": "FpOz91i-lbjY",
        "colab_type": "code",
        "outputId": "00a7ec81-24cb-4143-ed4a-fcf71926a359",
        "colab": {
          "base_uri": "https://localhost:8080/",
          "height": 232
        }
      },
      "source": [
        "##calculating SSR:\n",
        "\n",
        "y_pred = []\n",
        "r = []\n",
        "for i in x:\n",
        "    y_pred.append(-18 + 1.9*i)\n",
        "    \n",
        "for i in range(0, len(x)):\n",
        "    r.append((y[i]-y_pred[i])**2)\n",
        "\n",
        "np.sum(r)"
      ],
      "execution_count": 0,
      "outputs": [
        {
          "output_type": "error",
          "ename": "NameError",
          "evalue": "ignored",
          "traceback": [
            "\u001b[0;31m---------------------------------------------------------------------------\u001b[0m",
            "\u001b[0;31mNameError\u001b[0m                                 Traceback (most recent call last)",
            "\u001b[0;32m<ipython-input-1-e5f1c8e717c3>\u001b[0m in \u001b[0;36m<module>\u001b[0;34m()\u001b[0m\n\u001b[1;32m      2\u001b[0m \u001b[0my_pred\u001b[0m \u001b[0;34m=\u001b[0m \u001b[0;34m[\u001b[0m\u001b[0;34m]\u001b[0m\u001b[0;34m\u001b[0m\u001b[0;34m\u001b[0m\u001b[0m\n\u001b[1;32m      3\u001b[0m \u001b[0mr\u001b[0m \u001b[0;34m=\u001b[0m \u001b[0;34m[\u001b[0m\u001b[0;34m]\u001b[0m\u001b[0;34m\u001b[0m\u001b[0;34m\u001b[0m\u001b[0m\n\u001b[0;32m----> 4\u001b[0;31m \u001b[0;32mfor\u001b[0m \u001b[0mi\u001b[0m \u001b[0;32min\u001b[0m \u001b[0mx\u001b[0m\u001b[0;34m:\u001b[0m\u001b[0;34m\u001b[0m\u001b[0;34m\u001b[0m\u001b[0m\n\u001b[0m\u001b[1;32m      5\u001b[0m     \u001b[0my_pred\u001b[0m\u001b[0;34m.\u001b[0m\u001b[0mappend\u001b[0m\u001b[0;34m(\u001b[0m\u001b[0;34m-\u001b[0m\u001b[0;36m18\u001b[0m \u001b[0;34m+\u001b[0m \u001b[0;36m1.9\u001b[0m\u001b[0;34m*\u001b[0m\u001b[0mi\u001b[0m\u001b[0;34m)\u001b[0m\u001b[0;34m\u001b[0m\u001b[0;34m\u001b[0m\u001b[0m\n\u001b[1;32m      6\u001b[0m \u001b[0;34m\u001b[0m\u001b[0m\n",
            "\u001b[0;31mNameError\u001b[0m: name 'x' is not defined"
          ]
        }
      ]
    },
    {
      "cell_type": "markdown",
      "metadata": {
        "id": "sRQQqTii57lK",
        "colab_type": "text"
      },
      "source": [
        "## RESTRUCTURED"
      ]
    },
    {
      "cell_type": "code",
      "metadata": {
        "id": "jOk2Dly9JXid",
        "colab_type": "code",
        "colab": {}
      },
      "source": [
        "# some simple random (close to linear) data\n",
        "x = np.array([30, 46, 60, 65, 77, 95])\n",
        "y = np.array([31, 30, 80, 49, 70, 118]) #in 100.000"
      ],
      "execution_count": 0,
      "outputs": []
    },
    {
      "cell_type": "code",
      "metadata": {
        "id": "H9Ju17VMJVBk",
        "colab_type": "code",
        "colab": {}
      },
      "source": [
        "i=0\n",
        "result_x = []\n",
        "result_y = []\n",
        "\n",
        "for i in range(0, len(x)):\n",
        "  result_x.append((x[i]-np.min(x))/(np.max(x)-np.min(x)))\n",
        "  result_y.append((y[i]-np.min(y))/(np.max(y)-np.min(y)))"
      ],
      "execution_count": 0,
      "outputs": []
    },
    {
      "cell_type": "code",
      "metadata": {
        "id": "GRFKsDGdJwB8",
        "colab_type": "code",
        "outputId": "f78f9be9-5b02-474e-85ae-705fd93b29e7",
        "colab": {
          "base_uri": "https://localhost:8080/",
          "height": 119
        }
      },
      "source": [
        "result_x"
      ],
      "execution_count": 0,
      "outputs": [
        {
          "output_type": "execute_result",
          "data": {
            "text/plain": [
              "[0.0,\n",
              " 0.24615384615384617,\n",
              " 0.46153846153846156,\n",
              " 0.5384615384615384,\n",
              " 0.7230769230769231,\n",
              " 1.0]"
            ]
          },
          "metadata": {
            "tags": []
          },
          "execution_count": 153
        }
      ]
    },
    {
      "cell_type": "code",
      "metadata": {
        "id": "aviQw_3vJRjR",
        "colab_type": "code",
        "colab": {}
      },
      "source": [
        "result_x = np.array(result_x)\n",
        "result_y = np.array(result_y)\n",
        "\n",
        "result_x=result_x.reshape((-1, 1))\n",
        "\n",
        "from sklearn.linear_model import LinearRegression\n",
        "reg = LinearRegression().fit(result_x, result_y)"
      ],
      "execution_count": 0,
      "outputs": []
    },
    {
      "cell_type": "code",
      "metadata": {
        "id": "x5NB_1KF6Lbz",
        "colab_type": "code",
        "outputId": "febfa776-bf17-475f-d51c-691d14566117",
        "colab": {
          "base_uri": "https://localhost:8080/",
          "height": 51
        }
      },
      "source": [
        "print(' parameter a = {} \\n parameter b = {}'.format(reg.intercept_.round(2), \n",
        "                                                     reg.coef_[0].round(2)))"
      ],
      "execution_count": 0,
      "outputs": [
        {
          "output_type": "stream",
          "text": [
            " parameter a = -0.1 \n",
            " parameter b = 0.96\n"
          ],
          "name": "stdout"
        }
      ]
    },
    {
      "cell_type": "code",
      "metadata": {
        "id": "FyqB0KiZ6e26",
        "colab_type": "code",
        "outputId": "a594030d-b3c7-4c21-d333-eb1949ba698c",
        "colab": {
          "base_uri": "https://localhost:8080/",
          "height": 289
        }
      },
      "source": [
        "fig, ax = plt.subplots()\n",
        "ax.plot(result_x,result_y, 'o', color='g', label='training data')\n",
        "ax.plot(result_x, reg.intercept_.round(2) + reg.coef_[0].round(2)*result_x, label='y = {} + {} x'.format(reg.intercept_.round(2), reg.coef_[0].round(2)))\n",
        "plt.legend();\n",
        "plt.ylim(0, 1)\n",
        "plt.xlim(0, 1)"
      ],
      "execution_count": 0,
      "outputs": [
        {
          "output_type": "execute_result",
          "data": {
            "text/plain": [
              "(0.0, 1.0)"
            ]
          },
          "metadata": {
            "tags": []
          },
          "execution_count": 27
        },
        {
          "output_type": "display_data",
          "data": {
            "image/png": "[encoded data removed]",
            "text/plain": [
              "<Figure size 432x288 with 1 Axes>"
            ]
          },
          "metadata": {
            "tags": []
          }
        }
      ]
    },
    {
      "cell_type": "code",
      "metadata": {
        "id": "WPAi_npZJMb3",
        "colab_type": "code",
        "outputId": "7358b439-49bd-44e6-f6d4-834acc07f29a",
        "colab": {
          "base_uri": "https://localhost:8080/",
          "height": 34
        }
      },
      "source": [
        "b=-0.1\n",
        "a = 0\n",
        "l=0.1\n",
        "\n",
        "d=(-2)*(result_y[0]-(a*result_x[0]+b))+(-2)*(result_y[1]-(a*result_x[1]+b))+(-2)*(result_y[2]-(a*result_x[2]+b))+(-2)*(result_y[3]-(a*result_x[3]+b))+(-2)*(result_y[4]-(a*result_x[4]+b))+(-2)*(result_y[5]-(a*result_x[5]+b))\n",
        "d"
      ],
      "execution_count": 0,
      "outputs": [
        {
          "output_type": "execute_result",
          "data": {
            "text/plain": [
              "array([-5.7])"
            ]
          },
          "metadata": {
            "tags": []
          },
          "execution_count": 152
        }
      ]
    },
    {
      "cell_type": "code",
      "metadata": {
        "id": "W4-Jrt-7Kar1",
        "colab_type": "code",
        "outputId": "a0544b57-1b0d-49ac-c9f0-8162d6694779",
        "colab": {
          "base_uri": "https://localhost:8080/",
          "height": 34
        }
      },
      "source": [
        "a_new = d*l\n",
        "a = a-a_new\n",
        "a"
      ],
      "execution_count": 0,
      "outputs": [
        {
          "output_type": "execute_result",
          "data": {
            "text/plain": [
              "array([0.57])"
            ]
          },
          "metadata": {
            "tags": []
          },
          "execution_count": 153
        }
      ]
    },
    {
      "cell_type": "code",
      "metadata": {
        "id": "dIA4Aqf5KqYr",
        "colab_type": "code",
        "outputId": "878df007-1a32-40d1-dfcf-da8ef7f885ea",
        "colab": {
          "base_uri": "https://localhost:8080/",
          "height": 34
        }
      },
      "source": [
        "d=(-2)*(result_y[0]-(a*result_x[0]+b))+(-2)*(result_y[1]-(a*result_x[1]+b))+(-2)*(result_y[2]-(a*result_x[2]+b))+(-2)*(result_y[3]-(a*result_x[3]+b))+(-2)*(result_y[4]-(a*result_x[4]+b))+(-2)*(result_y[5]-(a*result_x[5]+b))\n",
        "\n",
        "a_new = d*l\n",
        "a = a-a_new\n",
        "a"
      ],
      "execution_count": 0,
      "outputs": [
        {
          "output_type": "execute_result",
          "data": {
            "text/plain": [
              "array([0.80150769])"
            ]
          },
          "metadata": {
            "tags": []
          },
          "execution_count": 154
        }
      ]
    },
    {
      "cell_type": "code",
      "metadata": {
        "id": "qVuaqC0KKswx",
        "colab_type": "code",
        "outputId": "129fb62a-32a9-4e66-d6b5-e26e7f372366",
        "colab": {
          "base_uri": "https://localhost:8080/",
          "height": 34
        }
      },
      "source": [
        "a_new = d*l\n",
        "a = a-a_new\n",
        "a"
      ],
      "execution_count": 0,
      "outputs": [
        {
          "output_type": "execute_result",
          "data": {
            "text/plain": [
              "array([1.03301538])"
            ]
          },
          "metadata": {
            "tags": []
          },
          "execution_count": 155
        }
      ]
    },
    {
      "cell_type": "code",
      "metadata": {
        "id": "Gc8ahUhzKxwJ",
        "colab_type": "code",
        "colab": {}
      },
      "source": [
        "d=(-2)*(result_y[0]-(a*result_x[0]+b))+(-2)*(result_y[1]-(a*result_x[1]+b))+(-2)*(result_y[2]-(a*result_x[2]+b))+(-2)*(result_y[3]-(a*result_x[3]+b))+(-2)*(result_y[4]-(a*result_x[4]+b))+(-2)*(result_y[5]-(a*result_x[5]+b))"
      ],
      "execution_count": 0,
      "outputs": []
    },
    {
      "cell_type": "code",
      "metadata": {
        "id": "FM6_eE7-KySI",
        "colab_type": "code",
        "outputId": "34589343-faf8-4583-d1c1-fabd0bb356a5",
        "colab": {
          "base_uri": "https://localhost:8080/",
          "height": 34
        }
      },
      "source": [
        "a_new = d*l\n",
        "a = a-a_new\n",
        "a"
      ],
      "execution_count": 0,
      "outputs": [
        {
          "output_type": "execute_result",
          "data": {
            "text/plain": [
              "array([0.98956317])"
            ]
          },
          "metadata": {
            "tags": []
          },
          "execution_count": 157
        }
      ]
    },
    {
      "cell_type": "code",
      "metadata": {
        "id": "qdMmy01wKy9Q",
        "colab_type": "code",
        "colab": {}
      },
      "source": [
        "d=(-2)*(result_y[0]-(a*result_x[0]+b))+(-2)*(result_y[1]-(a*result_x[1]+b))+(-2)*(result_y[2]-(a*result_x[2]+b))+(-2)*(result_y[3]-(a*result_x[3]+b))+(-2)*(result_y[4]-(a*result_x[4]+b))+(-2)*(result_y[5]-(a*result_x[5]+b))"
      ],
      "execution_count": 0,
      "outputs": []
    },
    {
      "cell_type": "code",
      "metadata": {
        "id": "nLdDqugWKz1n",
        "colab_type": "code",
        "outputId": "50524b2a-e3f7-4039-cc30-cb03168eba92",
        "colab": {
          "base_uri": "https://localhost:8080/",
          "height": 34
        }
      },
      "source": [
        "a_new = d*l\n",
        "a = a-a_new\n",
        "a"
      ],
      "execution_count": 0,
      "outputs": [
        {
          "output_type": "execute_result",
          "data": {
            "text/plain": [
              "array([0.97191489])"
            ]
          },
          "metadata": {
            "tags": []
          },
          "execution_count": 159
        }
      ]
    },
    {
      "cell_type": "code",
      "metadata": {
        "id": "cSEQfvuqK0fw",
        "colab_type": "code",
        "colab": {}
      },
      "source": [
        "d=(-2)*(result_y[0]-(a*result_x[0]+b))+(-2)*(result_y[1]-(a*result_x[1]+b))+(-2)*(result_y[2]-(a*result_x[2]+b))+(-2)*(result_y[3]-(a*result_x[3]+b))+(-2)*(result_y[4]-(a*result_x[4]+b))+(-2)*(result_y[5]-(a*result_x[5]+b))"
      ],
      "execution_count": 0,
      "outputs": []
    },
    {
      "cell_type": "code",
      "metadata": {
        "id": "X5_Gt92AK1Qp",
        "colab_type": "code",
        "outputId": "587a85a0-917f-49aa-c91c-f68a24674865",
        "colab": {
          "base_uri": "https://localhost:8080/",
          "height": 34
        }
      },
      "source": [
        "a_new = d*l\n",
        "a = a-a_new\n",
        "a"
      ],
      "execution_count": 0,
      "outputs": [
        {
          "output_type": "execute_result",
          "data": {
            "text/plain": [
              "array([0.93920945])"
            ]
          },
          "metadata": {
            "tags": []
          },
          "execution_count": 145
        }
      ]
    },
    {
      "cell_type": "code",
      "metadata": {
        "id": "J3b7zeIdK12n",
        "colab_type": "code",
        "colab": {}
      },
      "source": [
        "d=(-2)*(result_y[0]-(a*result_x[0]+b))+(-2)*(result_y[1]-(a*result_x[1]+b))+(-2)*(result_y[2]-(a*result_x[2]+b))+(-2)*(result_y[3]-(a*result_x[3]+b))+(-2)*(result_y[4]-(a*result_x[4]+b))+(-2)*(result_y[5]-(a*result_x[5]+b))"
      ],
      "execution_count": 0,
      "outputs": []
    },
    {
      "cell_type": "code",
      "metadata": {
        "id": "5CozLzwgK9fP",
        "colab_type": "code",
        "outputId": "87696f3b-1011-4051-affb-ad7d8c17c5f4",
        "colab": {
          "base_uri": "https://localhost:8080/",
          "height": 34
        }
      },
      "source": [
        "a_new = d*l\n",
        "a = a-a_new\n",
        "a"
      ],
      "execution_count": 0,
      "outputs": [
        {
          "output_type": "execute_result",
          "data": {
            "text/plain": [
              "array([0.95146353])"
            ]
          },
          "metadata": {
            "tags": []
          },
          "execution_count": 147
        }
      ]
    },
    {
      "cell_type": "code",
      "metadata": {
        "id": "fj3l2E5eK_-e",
        "colab_type": "code",
        "colab": {}
      },
      "source": [
        "d=(-2)*(result_y[0]-(a*result_x[0]+b))+(-2)*(result_y[1]-(a*result_x[1]+b))+(-2)*(result_y[2]-(a*result_x[2]+b))+(-2)*(result_y[3]-(a*result_x[3]+b))+(-2)*(result_y[4]-(a*result_x[4]+b))+(-2)*(result_y[5]-(a*result_x[5]+b))"
      ],
      "execution_count": 0,
      "outputs": []
    },
    {
      "cell_type": "code",
      "metadata": {
        "id": "u2ttqGljLAYe",
        "colab_type": "code",
        "outputId": "5396dafa-18bc-41d0-d31f-407eb8eadbff",
        "colab": {
          "base_uri": "https://localhost:8080/",
          "height": 34
        }
      },
      "source": [
        "a_new = d*l\n",
        "a = a-a_new\n",
        "a"
      ],
      "execution_count": 0,
      "outputs": [
        {
          "output_type": "execute_result",
          "data": {
            "text/plain": [
              "array([0.95644057])"
            ]
          },
          "metadata": {
            "tags": []
          },
          "execution_count": 149
        }
      ]
    },
    {
      "cell_type": "code",
      "metadata": {
        "id": "CWkXkIJOLQNO",
        "colab_type": "code",
        "outputId": "d49bfe77-ee2b-487d-9522-97e1d4d09ce4",
        "colab": {
          "base_uri": "https://localhost:8080/",
          "height": 34
        }
      },
      "source": [
        "d=(-2)*(result_y[0]-(a*result_x[0]+b))+(-2)*(result_y[1]-(a*result_x[1]+b))+(-2)*(result_y[2]-(a*result_x[2]+b))+(-2)*(result_y[3]-(a*result_x[3]+b))+(-2)*(result_y[4]-(a*result_x[4]+b))+(-2)*(result_y[5]-(a*result_x[5]+b))\n",
        "\n",
        "a_new = d*l\n",
        "a = a-a_new\n",
        "a"
      ],
      "execution_count": 0,
      "outputs": [
        {
          "output_type": "execute_result",
          "data": {
            "text/plain": [
              "array([0.95846202])"
            ]
          },
          "metadata": {
            "tags": []
          },
          "execution_count": 150
        }
      ]
    },
    {
      "cell_type": "code",
      "metadata": {
        "id": "SaT-60Z-LSw1",
        "colab_type": "code",
        "outputId": "023f1864-165d-4515-cf73-04616b0acca1",
        "colab": {
          "base_uri": "https://localhost:8080/",
          "height": 34
        }
      },
      "source": [
        "d=(-2)*(result_y[0]-(a*result_x[0]+b))+(-2)*(result_y[1]-(a*result_x[1]+b))+(-2)*(result_y[2]-(a*result_x[2]+b))+(-2)*(result_y[3]-(a*result_x[3]+b))+(-2)*(result_y[4]-(a*result_x[4]+b))+(-2)*(result_y[5]-(a*result_x[5]+b))\n",
        "\n",
        "a_new = d*l\n",
        "a = a-a_new\n",
        "a"
      ],
      "execution_count": 0,
      "outputs": [
        {
          "output_type": "execute_result",
          "data": {
            "text/plain": [
              "array([0.95928303])"
            ]
          },
          "metadata": {
            "tags": []
          },
          "execution_count": 151
        }
      ]
    },
    {
      "cell_type": "code",
      "metadata": {
        "id": "iK0LTqeSLTJL",
        "colab_type": "code",
        "outputId": "c36c676c-838f-433a-cd0d-9abd980e18ab",
        "colab": {
          "base_uri": "https://localhost:8080/",
          "height": 34
        }
      },
      "source": [
        "d=(-2)*(result_y[0]-(a*result_x[0]+b))+(-2)*(result_y[1]-(a*result_x[1]+b))+(-2)*(result_y[2]-(a*result_x[2]+b))+(-2)*(result_y[3]-(a*result_x[3]+b))+(-2)*(result_y[4]-(a*result_x[4]+b))+(-2)*(result_y[5]-(a*result_x[5]+b))\n",
        "\n",
        "a_new = d*l\n",
        "a = a-a_new\n",
        "a"
      ],
      "execution_count": 0,
      "outputs": [
        {
          "output_type": "execute_result",
          "data": {
            "text/plain": [
              "array([0.02137028])"
            ]
          },
          "metadata": {
            "tags": []
          },
          "execution_count": 97
        }
      ]
    },
    {
      "cell_type": "code",
      "metadata": {
        "id": "u_N-Sxv0LThk",
        "colab_type": "code",
        "outputId": "51ae47ac-b651-425f-fcc1-ddfe9cdfb789",
        "colab": {
          "base_uri": "https://localhost:8080/",
          "height": 34
        }
      },
      "source": [
        "d=(-2)*(result_y[0]-(a*result_x[0]+b))+(-2)*(result_y[1]-(a*result_x[1]+b))+(-2)*(result_y[2]-(a*result_x[2]+b))+(-2)*(result_y[3]-(a*result_x[3]+b))+(-2)*(result_y[4]-(a*result_x[4]+b))+(-2)*(result_y[5]-(a*result_x[5]+b))\n",
        "\n",
        "a_new = d*l\n",
        "a = a-a_new\n",
        "a"
      ],
      "execution_count": 0,
      "outputs": [
        {
          "output_type": "execute_result",
          "data": {
            "text/plain": [
              "array([0.02309913])"
            ]
          },
          "metadata": {
            "tags": []
          },
          "execution_count": 98
        }
      ]
    },
    {
      "cell_type": "code",
      "metadata": {
        "id": "j-X_YGydLT69",
        "colab_type": "code",
        "outputId": "cc2ce9b1-85d8-4621-c9f8-a1eb634e46fa",
        "colab": {
          "base_uri": "https://localhost:8080/",
          "height": 34
        }
      },
      "source": [
        "d=(-2)*(result_y[0]-(a*result_x[0]+b))+(-2)*(result_y[1]-(a*result_x[1]+b))+(-2)*(result_y[2]-(a*result_x[2]+b))+(-2)*(result_y[3]-(a*result_x[3]+b))+(-2)*(result_y[4]-(a*result_x[4]+b))+(-2)*(result_y[5]-(a*result_x[5]+b))\n",
        "\n",
        "a_new = d*l\n",
        "a = a-a_new\n",
        "a"
      ],
      "execution_count": 0,
      "outputs": [
        {
          "output_type": "execute_result",
          "data": {
            "text/plain": [
              "array([0.02482552])"
            ]
          },
          "metadata": {
            "tags": []
          },
          "execution_count": 99
        }
      ]
    },
    {
      "cell_type": "code",
      "metadata": {
        "id": "su3lMRN6LU48",
        "colab_type": "code",
        "outputId": "7709f96e-4d14-48a7-b708-d3c2487044cc",
        "colab": {
          "base_uri": "https://localhost:8080/",
          "height": 34
        }
      },
      "source": [
        "d=(-2)*(result_y[0]-(a*result_x[0]+b))+(-2)*(result_y[1]-(a*result_x[1]+b))+(-2)*(result_y[2]-(a*result_x[2]+b))+(-2)*(result_y[3]-(a*result_x[3]+b))+(-2)*(result_y[4]-(a*result_x[4]+b))+(-2)*(result_y[5]-(a*result_x[5]+b))\n",
        "\n",
        "a_new = d*l\n",
        "a = a-a_new\n",
        "a"
      ],
      "execution_count": 0,
      "outputs": [
        {
          "output_type": "execute_result",
          "data": {
            "text/plain": [
              "array([0.02654948])"
            ]
          },
          "metadata": {
            "tags": []
          },
          "execution_count": 100
        }
      ]
    },
    {
      "cell_type": "code",
      "metadata": {
        "id": "3Z0GL6r2LVwF",
        "colab_type": "code",
        "colab": {}
      },
      "source": [
        ""
      ],
      "execution_count": 0,
      "outputs": []
    },
    {
      "cell_type": "markdown",
      "metadata": {
        "id": "bwfLhUAZ70W1",
        "colab_type": "text"
      },
      "source": [
        "# ORIGINAL"
      ]
    },
    {
      "cell_type": "code",
      "metadata": {
        "id": "6qce1gZk74oh",
        "colab_type": "code",
        "colab": {}
      },
      "source": [
        "# some simple random (close to linear) data\n",
        "result_x = np.array([30, 46, 60, 65, 77, 95])\n",
        "result_y = np.array([31, 30, 80, 49, 70, 118]) #in 100.000"
      ],
      "execution_count": 0,
      "outputs": []
    },
    {
      "cell_type": "code",
      "metadata": {
        "id": "FQhZb1WJE0s6",
        "colab_type": "code",
        "colab": {}
      },
      "source": [
        "result_x=result_x.reshape((-1, 1))\n",
        "from sklearn.linear_model import LinearRegression\n",
        "reg = LinearRegression().fit(result_x, result_y)"
      ],
      "execution_count": 0,
      "outputs": []
    },
    {
      "cell_type": "code",
      "metadata": {
        "id": "vukeNyaILBjO",
        "colab_type": "code",
        "outputId": "33069929-6d0c-4aee-ea4b-57d38a17ab1b",
        "colab": {
          "base_uri": "https://localhost:8080/",
          "height": 34
        }
      },
      "source": [
        "b=-18\n",
        "a = 2.25\n",
        "l=0.001\n",
        "\n",
        "d=(-2)*(result_y[0]-(a*result_x[0]+b))+(-2)*(result_y[1]-(a*result_x[1]+b))+(-2)*(result_y[2]-(a*result_x[2]+b))+(-2)*(result_y[3]-(a*result_x[3]+b))+(-2)*(result_y[4]-(a*result_x[4]+b))+(-2)*(result_y[5]-(a*result_x[5]+b))\n",
        "d"
      ],
      "execution_count": 8,
      "outputs": [
        {
          "output_type": "execute_result",
          "data": {
            "text/plain": [
              "array([706.5])"
            ]
          },
          "metadata": {
            "tags": []
          },
          "execution_count": 8
        }
      ]
    },
    {
      "cell_type": "code",
      "metadata": {
        "id": "9MQMxNoeQSJy",
        "colab_type": "code",
        "outputId": "b8d8691f-b2f6-4c29-ed1f-f3ca3108bb93",
        "colab": {
          "base_uri": "https://localhost:8080/",
          "height": 34
        }
      },
      "source": [
        "a_new = d*l\n",
        "a_new"
      ],
      "execution_count": 9,
      "outputs": [
        {
          "output_type": "execute_result",
          "data": {
            "text/plain": [
              "array([0.7065])"
            ]
          },
          "metadata": {
            "tags": []
          },
          "execution_count": 9
        }
      ]
    },
    {
      "cell_type": "code",
      "metadata": {
        "id": "KC0ZsMvJQTFp",
        "colab_type": "code",
        "outputId": "a40ff2eb-122b-49fd-c09f-41b4f37829c0",
        "colab": {
          "base_uri": "https://localhost:8080/",
          "height": 34
        }
      },
      "source": [
        "a = a-a_new\n",
        "a"
      ],
      "execution_count": 10,
      "outputs": [
        {
          "output_type": "execute_result",
          "data": {
            "text/plain": [
              "array([1.5435])"
            ]
          },
          "metadata": {
            "tags": []
          },
          "execution_count": 10
        }
      ]
    },
    {
      "cell_type": "code",
      "metadata": {
        "id": "5tI6BDUcFJ-s",
        "colab_type": "code",
        "outputId": "69cabcf0-ca86-4d89-fde1-a907c0b41251",
        "colab": {
          "base_uri": "https://localhost:8080/",
          "height": 34
        }
      },
      "source": [
        "d=(-2)*(result_y[0]-(a*result_x[0]+b))+(-2)*(result_y[1]-(a*result_x[1]+b))+(-2)*(result_y[2]-(a*result_x[2]+b))+(-2)*(result_y[3]-(a*result_x[3]+b))+(-2)*(result_y[4]-(a*result_x[4]+b))+(-2)*(result_y[5]-(a*result_x[5]+b))\n",
        "d"
      ],
      "execution_count": 11,
      "outputs": [
        {
          "output_type": "execute_result",
          "data": {
            "text/plain": [
              "array([179.451])"
            ]
          },
          "metadata": {
            "tags": []
          },
          "execution_count": 11
        }
      ]
    },
    {
      "cell_type": "code",
      "metadata": {
        "id": "9UX9Fn_nQU3I",
        "colab_type": "code",
        "outputId": "519687bc-a7e5-4cd1-cfb1-41177889a5a8",
        "colab": {
          "base_uri": "https://localhost:8080/",
          "height": 34
        }
      },
      "source": [
        "a_new = d*l\n",
        "a_new"
      ],
      "execution_count": 12,
      "outputs": [
        {
          "output_type": "execute_result",
          "data": {
            "text/plain": [
              "array([0.179451])"
            ]
          },
          "metadata": {
            "tags": []
          },
          "execution_count": 12
        }
      ]
    },
    {
      "cell_type": "code",
      "metadata": {
        "id": "eDaB6ANqQViJ",
        "colab_type": "code",
        "outputId": "f04be640-9448-4fae-c02b-40e1d1fcf4c8",
        "colab": {
          "base_uri": "https://localhost:8080/",
          "height": 34
        }
      },
      "source": [
        "a = a-a_new\n",
        "a"
      ],
      "execution_count": 13,
      "outputs": [
        {
          "output_type": "execute_result",
          "data": {
            "text/plain": [
              "array([1.364049])"
            ]
          },
          "metadata": {
            "tags": []
          },
          "execution_count": 13
        }
      ]
    },
    {
      "cell_type": "code",
      "metadata": {
        "id": "zY-Vun0lFM6L",
        "colab_type": "code",
        "outputId": "ab186257-a817-4396-b790-e9fec0f55886",
        "colab": {
          "base_uri": "https://localhost:8080/",
          "height": 34
        }
      },
      "source": [
        "d=(-2)*(result_y[0]-(a*result_x[0]+b))+(-2)*(result_y[1]-(a*result_x[1]+b))+(-2)*(result_y[2]-(a*result_x[2]+b))+(-2)*(result_y[3]-(a*result_x[3]+b))+(-2)*(result_y[4]-(a*result_x[4]+b))+(-2)*(result_y[5]-(a*result_x[5]+b))\n",
        "d"
      ],
      "execution_count": 14,
      "outputs": [
        {
          "output_type": "execute_result",
          "data": {
            "text/plain": [
              "array([45.580554])"
            ]
          },
          "metadata": {
            "tags": []
          },
          "execution_count": 14
        }
      ]
    },
    {
      "cell_type": "code",
      "metadata": {
        "id": "0mF69uDoQXTg",
        "colab_type": "code",
        "outputId": "5142a781-01f2-4e60-8ae2-8cdabbb6e552",
        "colab": {
          "base_uri": "https://localhost:8080/",
          "height": 34
        }
      },
      "source": [
        "a_new = d*l\n",
        "a_new"
      ],
      "execution_count": 15,
      "outputs": [
        {
          "output_type": "execute_result",
          "data": {
            "text/plain": [
              "array([0.04558055])"
            ]
          },
          "metadata": {
            "tags": []
          },
          "execution_count": 15
        }
      ]
    },
    {
      "cell_type": "code",
      "metadata": {
        "id": "9k21IIxvQX_g",
        "colab_type": "code",
        "outputId": "1b9d2708-c35a-48bd-bdee-8faa7205ac3c",
        "colab": {
          "base_uri": "https://localhost:8080/",
          "height": 34
        }
      },
      "source": [
        "a = a-a_new\n",
        "a"
      ],
      "execution_count": 16,
      "outputs": [
        {
          "output_type": "execute_result",
          "data": {
            "text/plain": [
              "array([1.31846845])"
            ]
          },
          "metadata": {
            "tags": []
          },
          "execution_count": 16
        }
      ]
    },
    {
      "cell_type": "code",
      "metadata": {
        "id": "N4fr38NtFPiT",
        "colab_type": "code",
        "outputId": "bbdb7dbe-2c84-482b-8d7b-805e0561dc73",
        "colab": {
          "base_uri": "https://localhost:8080/",
          "height": 34
        }
      },
      "source": [
        "d=(-2)*(result_y[0]-(a*result_x[0]+b))+(-2)*(result_y[1]-(a*result_x[1]+b))+(-2)*(result_y[2]-(a*result_x[2]+b))+(-2)*(result_y[3]-(a*result_x[3]+b))+(-2)*(result_y[4]-(a*result_x[4]+b))+(-2)*(result_y[5]-(a*result_x[5]+b))\n",
        "d"
      ],
      "execution_count": 17,
      "outputs": [
        {
          "output_type": "execute_result",
          "data": {
            "text/plain": [
              "array([11.57746072])"
            ]
          },
          "metadata": {
            "tags": []
          },
          "execution_count": 17
        }
      ]
    },
    {
      "cell_type": "code",
      "metadata": {
        "id": "jos0JFnENdBa",
        "colab_type": "code",
        "outputId": "9891829c-a3af-4243-8ea7-7082f49a27af",
        "colab": {
          "base_uri": "https://localhost:8080/",
          "height": 34
        }
      },
      "source": [
        "a_new = d*l\n",
        "a_new"
      ],
      "execution_count": 18,
      "outputs": [
        {
          "output_type": "execute_result",
          "data": {
            "text/plain": [
              "array([0.01157746])"
            ]
          },
          "metadata": {
            "tags": []
          },
          "execution_count": 18
        }
      ]
    },
    {
      "cell_type": "code",
      "metadata": {
        "id": "XVzZ1QWGNkW_",
        "colab_type": "code",
        "outputId": "0e369d9f-1c34-4d08-9569-ef9e5d623381",
        "colab": {
          "base_uri": "https://localhost:8080/",
          "height": 34
        }
      },
      "source": [
        "a = a-a_new\n",
        "a"
      ],
      "execution_count": 19,
      "outputs": [
        {
          "output_type": "execute_result",
          "data": {
            "text/plain": [
              "array([1.30689099])"
            ]
          },
          "metadata": {
            "tags": []
          },
          "execution_count": 19
        }
      ]
    },
    {
      "cell_type": "code",
      "metadata": {
        "id": "IaSAJgLzFWai",
        "colab_type": "code",
        "outputId": "0183fe34-1561-46dd-8e63-7e05166daee7",
        "colab": {
          "base_uri": "https://localhost:8080/",
          "height": 34
        }
      },
      "source": [
        "d=(-2)*(result_y[0]-(a*result_x[0]+b))+(-2)*(result_y[1]-(a*result_x[1]+b))+(-2)*(result_y[2]-(a*result_x[2]+b))+(-2)*(result_y[3]-(a*result_x[3]+b))+(-2)*(result_y[4]-(a*result_x[4]+b))+(-2)*(result_y[5]-(a*result_x[5]+b))\n",
        "d"
      ],
      "execution_count": 20,
      "outputs": [
        {
          "output_type": "execute_result",
          "data": {
            "text/plain": [
              "array([2.94067502])"
            ]
          },
          "metadata": {
            "tags": []
          },
          "execution_count": 20
        }
      ]
    },
    {
      "cell_type": "code",
      "metadata": {
        "id": "BRJI-XI1NoWX",
        "colab_type": "code",
        "outputId": "420cd6c9-8350-4c80-ed82-2de86bf2c25e",
        "colab": {
          "base_uri": "https://localhost:8080/",
          "height": 34
        }
      },
      "source": [
        "a_new = d*l\n",
        "a_new"
      ],
      "execution_count": 21,
      "outputs": [
        {
          "output_type": "execute_result",
          "data": {
            "text/plain": [
              "array([0.00294068])"
            ]
          },
          "metadata": {
            "tags": []
          },
          "execution_count": 21
        }
      ]
    },
    {
      "cell_type": "code",
      "metadata": {
        "id": "dRfmcP2ONpPv",
        "colab_type": "code",
        "outputId": "e733fcb0-63d4-4ed6-b4b4-956e494a0c4d",
        "colab": {
          "base_uri": "https://localhost:8080/",
          "height": 34
        }
      },
      "source": [
        "a = a-a_new\n",
        "a"
      ],
      "execution_count": 22,
      "outputs": [
        {
          "output_type": "execute_result",
          "data": {
            "text/plain": [
              "array([1.30395031])"
            ]
          },
          "metadata": {
            "tags": []
          },
          "execution_count": 22
        }
      ]
    },
    {
      "cell_type": "code",
      "metadata": {
        "id": "W2lMsNEjFb4w",
        "colab_type": "code",
        "outputId": "14775fc9-74f5-4746-e7b8-b4e289052ee4",
        "colab": {
          "base_uri": "https://localhost:8080/",
          "height": 34
        }
      },
      "source": [
        "d=(-2)*(result_y[0]-(a*result_x[0]+b))+(-2)*(result_y[1]-(a*result_x[1]+b))+(-2)*(result_y[2]-(a*result_x[2]+b))+(-2)*(result_y[3]-(a*result_x[3]+b))+(-2)*(result_y[4]-(a*result_x[4]+b))+(-2)*(result_y[5]-(a*result_x[5]+b))\n",
        "d"
      ],
      "execution_count": 23,
      "outputs": [
        {
          "output_type": "execute_result",
          "data": {
            "text/plain": [
              "array([0.74693146])"
            ]
          },
          "metadata": {
            "tags": []
          },
          "execution_count": 23
        }
      ]
    },
    {
      "cell_type": "code",
      "metadata": {
        "id": "IG0GsAmeNq_2",
        "colab_type": "code",
        "outputId": "350590a3-2455-421b-afc6-20184677b26c",
        "colab": {
          "base_uri": "https://localhost:8080/",
          "height": 34
        }
      },
      "source": [
        "a_new = d*l\n",
        "a_new"
      ],
      "execution_count": 24,
      "outputs": [
        {
          "output_type": "execute_result",
          "data": {
            "text/plain": [
              "array([0.00074693])"
            ]
          },
          "metadata": {
            "tags": []
          },
          "execution_count": 24
        }
      ]
    },
    {
      "cell_type": "code",
      "metadata": {
        "id": "w7-Yo-APNsXO",
        "colab_type": "code",
        "outputId": "1f46f80b-9bdd-4b67-e292-5609b6cc9dc9",
        "colab": {
          "base_uri": "https://localhost:8080/",
          "height": 34
        }
      },
      "source": [
        "a = a-a_new\n",
        "a"
      ],
      "execution_count": 25,
      "outputs": [
        {
          "output_type": "execute_result",
          "data": {
            "text/plain": [
              "array([1.30320338])"
            ]
          },
          "metadata": {
            "tags": []
          },
          "execution_count": 25
        }
      ]
    },
    {
      "cell_type": "code",
      "metadata": {
        "id": "D9r9wRHsFdjS",
        "colab_type": "code",
        "outputId": "0d88e225-9727-4793-d375-7478f106fd6a",
        "colab": {
          "base_uri": "https://localhost:8080/",
          "height": 34
        }
      },
      "source": [
        "d=(-2)*(result_y[0]-(a*result_x[0]+b))+(-2)*(result_y[1]-(a*result_x[1]+b))+(-2)*(result_y[2]-(a*result_x[2]+b))+(-2)*(result_y[3]-(a*result_x[3]+b))+(-2)*(result_y[4]-(a*result_x[4]+b))+(-2)*(result_y[5]-(a*result_x[5]+b))\n",
        "d"
      ],
      "execution_count": 26,
      "outputs": [
        {
          "output_type": "execute_result",
          "data": {
            "text/plain": [
              "array([0.18972059])"
            ]
          },
          "metadata": {
            "tags": []
          },
          "execution_count": 26
        }
      ]
    },
    {
      "cell_type": "code",
      "metadata": {
        "id": "r_WRZeAkNuaC",
        "colab_type": "code",
        "outputId": "02469f08-71cd-4685-94ec-54c8a8b540ef",
        "colab": {
          "base_uri": "https://localhost:8080/",
          "height": 34
        }
      },
      "source": [
        "a_new = d*l\n",
        "a_new"
      ],
      "execution_count": 27,
      "outputs": [
        {
          "output_type": "execute_result",
          "data": {
            "text/plain": [
              "array([0.00018972])"
            ]
          },
          "metadata": {
            "tags": []
          },
          "execution_count": 27
        }
      ]
    },
    {
      "cell_type": "code",
      "metadata": {
        "id": "aGPF3U6DNvMm",
        "colab_type": "code",
        "outputId": "8de5b769-b246-4fe1-e29a-7af380d74100",
        "colab": {
          "base_uri": "https://localhost:8080/",
          "height": 34
        }
      },
      "source": [
        "a = a-a_new\n",
        "a"
      ],
      "execution_count": 28,
      "outputs": [
        {
          "output_type": "execute_result",
          "data": {
            "text/plain": [
              "array([1.30301366])"
            ]
          },
          "metadata": {
            "tags": []
          },
          "execution_count": 28
        }
      ]
    },
    {
      "cell_type": "code",
      "metadata": {
        "id": "OEO8pMShFfpB",
        "colab_type": "code",
        "outputId": "2febfd5b-854e-4022-a8b6-083290fef242",
        "colab": {
          "base_uri": "https://localhost:8080/",
          "height": 34
        }
      },
      "source": [
        "d=(-2)*(result_y[0]-(a*result_x[0]+b))+(-2)*(result_y[1]-(a*result_x[1]+b))+(-2)*(result_y[2]-(a*result_x[2]+b))+(-2)*(result_y[3]-(a*result_x[3]+b))+(-2)*(result_y[4]-(a*result_x[4]+b))+(-2)*(result_y[5]-(a*result_x[5]+b))\n",
        "d"
      ],
      "execution_count": 29,
      "outputs": [
        {
          "output_type": "execute_result",
          "data": {
            "text/plain": [
              "array([0.04818903])"
            ]
          },
          "metadata": {
            "tags": []
          },
          "execution_count": 29
        }
      ]
    },
    {
      "cell_type": "code",
      "metadata": {
        "id": "gBx2GuIlNx8t",
        "colab_type": "code",
        "outputId": "5a0ff6ae-659c-4f6d-ec35-921549ca38a7",
        "colab": {
          "base_uri": "https://localhost:8080/",
          "height": 34
        }
      },
      "source": [
        "a_new = d*l\n",
        "a_new"
      ],
      "execution_count": 30,
      "outputs": [
        {
          "output_type": "execute_result",
          "data": {
            "text/plain": [
              "array([4.81890298e-05])"
            ]
          },
          "metadata": {
            "tags": []
          },
          "execution_count": 30
        }
      ]
    }
  ]
}