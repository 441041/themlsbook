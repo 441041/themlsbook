{
  "nbformat": 4,
  "nbformat_minor": 0,
  "metadata": {
    "kernelspec": {
      "display_name": "Python 3",
      "language": "python",
      "name": "python3"
    },
    "language_info": {
      "codemirror_mode": {
        "name": "ipython",
        "version": 3
      },
      "file_extension": ".py",
      "mimetype": "text/x-python",
      "name": "python",
      "nbconvert_exporter": "python",
      "pygments_lexer": "ipython3",
      "version": "3.7.4"
    },
    "colab": {
      "name": "cost_function.ipynb",
      "provenance": [],
      "include_colab_link": true
    }
  },
  "cells": [
    {
      "cell_type": "markdown",
      "metadata": {
        "id": "view-in-github",
        "colab_type": "text"
      },
      "source": [
        "<a href=\"https://colab.research.google.com/github/5x12/ml4everyone/blob/master/Chapter%201.%20Basic%20Principles/cost_function.ipynb\" target=\"_parent\"><img src=\"https://colab.research.google.com/assets/colab-badge.svg\" alt=\"Open In Colab\"/></a>"
      ]
    },
    {
      "cell_type": "markdown",
      "metadata": {
        "id": "fy9Pru5BcTDV",
        "colab_type": "text"
      },
      "source": [
        "# COST FUNCTION\n",
        "\n",
        "This Jupyter Notebook is a supplement for Chapter 1. Basic Principles of the [Machine Learning For Everyone](ml4everyonebook.com) book."
      ]
    },
    {
      "cell_type": "markdown",
      "metadata": {
        "id": "8VorHuMIcTDV",
        "colab_type": "text"
      },
      "source": [
        "# 1. Data & Basic Libraries\n",
        "\n",
        "Let's import basic libraries and the data we have in Section 1.4: **Algorithms and How They Work**."
      ]
    },
    {
      "cell_type": "code",
      "metadata": {
        "id": "iM_Rcuu6cTDW",
        "colab_type": "code",
        "colab": {}
      },
      "source": [
        "# Basic libraries\n",
        "\n",
        "import pandas as pd \n",
        "import numpy as np \n",
        "import matplotlib.pyplot as plt\n",
        "%matplotlib inline"
      ],
      "execution_count": 0,
      "outputs": []
    },
    {
      "cell_type": "code",
      "metadata": {
        "id": "Gd4KEUA3cTDY",
        "colab_type": "code",
        "colab": {}
      },
      "source": [
        "# Defined data\n",
        "\n",
        "x = np.array([30, 46, 60, 65, 77, 95])\n",
        "y = np.array([31, 30, 80, 49, 70, 118]) #in 100.000"
      ],
      "execution_count": 0,
      "outputs": []
    },
    {
      "cell_type": "markdown",
      "metadata": {
        "id": "wugDx0xicTDa",
        "colab_type": "text"
      },
      "source": [
        "# 2. Building a Regression Model "
      ]
    },
    {
      "cell_type": "markdown",
      "metadata": {
        "id": "1VYKc3cvYWme",
        "colab_type": "text"
      },
      "source": [
        "Let's now build a simple regression with our data and then visualize it with the graph."
      ]
    },
    {
      "cell_type": "markdown",
      "metadata": {
        "id": "XGKd_3V6cTDb",
        "colab_type": "text"
      },
      "source": [
        "## 2.1. Build & Plot"
      ]
    },
    {
      "cell_type": "markdown",
      "metadata": {
        "id": "PESQ4iaeYE25",
        "colab_type": "text"
      },
      "source": [
        "Building the regression model first:"
      ]
    },
    {
      "cell_type": "code",
      "metadata": {
        "id": "GAN6Tz_gcTDb",
        "colab_type": "code",
        "colab": {}
      },
      "source": [
        "from sklearn.linear_model import LinearRegression #import Linear Regression model from scikit-learn library\n",
        "\n",
        "reg = LinearRegression() #define the model\n",
        "\n",
        "x=x.reshape((-1, 1)) #reshape x\n",
        "reg = LinearRegression().fit(x, y) #train your model with x-values"
      ],
      "execution_count": 0,
      "outputs": []
    },
    {
      "cell_type": "markdown",
      "metadata": {
        "id": "zq_A_pN6ZuaF",
        "colab_type": "text"
      },
      "source": [
        "Checking estimated coefficient and intercept:"
      ]
    },
    {
      "cell_type": "code",
      "metadata": {
        "id": "DOBf-DpYZsfx",
        "colab_type": "code",
        "colab": {
          "base_uri": "https://localhost:8080/",
          "height": 51
        },
        "outputId": "f1ff1599-b45a-45ac-d269-73986f1050cc"
      },
      "source": [
        "print(' coefficient (parameter a) = {} \\n intercept (parameter b) = {}'.format(reg.coef_[0].round(1), reg.intercept_.round(0)))"
      ],
      "execution_count": 6,
      "outputs": [
        {
          "output_type": "stream",
          "text": [
            " coefficient (parameter a) = 1.3 \n",
            " intercept (parameter b) = -18.0\n"
          ],
          "name": "stdout"
        }
      ]
    },
    {
      "cell_type": "markdown",
      "metadata": {
        "id": "gEXbsgf9Zhh-",
        "colab_type": "text"
      },
      "source": [
        "Plotting the regression model:"
      ]
    },
    {
      "cell_type": "code",
      "metadata": {
        "id": "l8AgOvs8cTDe",
        "colab_type": "code",
        "outputId": "11c9d902-bbd5-4119-a27f-e16055fe26ad",
        "colab": {
          "base_uri": "https://localhost:8080/",
          "height": 286
        }
      },
      "source": [
        "fig, ax = plt.subplots() #define the graph\n",
        "ax.plot(x,y, 'o', color='g', label='training data')\n",
        "ax.plot(x, reg.intercept_ + reg.coef_[0]*x, label='y = {} + {} x'.format(reg.intercept_.round(0), reg.coef_[0].round(2))) \n",
        "plt.legend(); #show legend\n",
        "plt.ylim(0, 140) #length of y-axis\n",
        "plt.xlim(0, 110) #length of x-axis"
      ],
      "execution_count": 9,
      "outputs": [
        {
          "output_type": "execute_result",
          "data": {
            "text/plain": [
              "(0.0, 110.0)"
            ]
          },
          "metadata": {
            "tags": []
          },
          "execution_count": 9
        },
        {
          "output_type": "display_data",
          "data": {
            "image/png": "[encoded data removed]",
            "text/plain": [
              "<Figure size 432x288 with 1 Axes>"
            ]
          },
          "metadata": {
            "tags": [],
            "needs_background": "light"
          }
        }
      ]
    },
    {
      "cell_type": "markdown",
      "metadata": {
        "id": "80C8dtsZcTDm",
        "colab_type": "text"
      },
      "source": [
        "## 2.2. Drawing Residuals"
      ]
    },
    {
      "cell_type": "markdown",
      "metadata": {
        "id": "1KADSi81bj-V",
        "colab_type": "text"
      },
      "source": [
        "Let's draw residuals - the difference between data points and the model predictions. "
      ]
    },
    {
      "cell_type": "code",
      "metadata": {
        "id": "1pkjUxEycTDn",
        "colab_type": "code",
        "outputId": "5be28a93-16df-4e42-a23e-96250e698854",
        "colab": {
          "base_uri": "https://localhost:8080/",
          "height": 268
        }
      },
      "source": [
        "fig, ax = plt.subplots()\n",
        "ax.plot(x,y, 'o', color='g', label='training data')\n",
        "ax.plot(x, -18.0  + 1.3*x, label='h(x) = .1 + 1.2*x')\n",
        "for i in range(len(x)):\n",
        "    ax.plot([x[i], x[i]], [-18.0  + 1.3*x[i],y[i]], '-', color='c')\n",
        "plt.legend();"
      ],
      "execution_count": 0,
      "outputs": [
        {
          "output_type": "display_data",
          "data": {
            "image/png": "[encoded data removed]",
            "text/plain": [
              "<Figure size 432x288 with 1 Axes>"
            ]
          },
          "metadata": {
            "tags": [],
            "needs_background": "light"
          }
        }
      ]
    },
    {
      "cell_type": "markdown",
      "metadata": {
        "id": "nPtJqyTPcTDp",
        "colab_type": "text"
      },
      "source": [
        "## 2.3. Calculating Sum of Squared Residuals (SSR)"
      ]
    },
    {
      "cell_type": "markdown",
      "metadata": {
        "id": "8mfGlLfAcJoD",
        "colab_type": "text"
      },
      "source": [
        "Let's calculate SSR. The formula for calculating SSR is:\n",
        "  $$SSR = \\sum (y_i-\\hat{y}_i)^2$$\n",
        "  where\n",
        "  - $y_i$ is a value of an observed target variable $i$\n",
        "  - $\\hat{y}_i$ is a value of $y$ predicted by the model with a specific $x_i$ ($\\hat{y}_i=ax_i+b$)\n"
      ]
    },
    {
      "cell_type": "code",
      "metadata": {
        "id": "6RCPAW37cTDp",
        "colab_type": "code",
        "outputId": "0f1245b1-865f-40be-a587-189cca786d07",
        "colab": {
          "base_uri": "https://localhost:8080/",
          "height": 34
        }
      },
      "source": [
        "# Defining lists\n",
        "\n",
        "y_pred = [] #defined list with predicted values of y\n",
        "r = [] #defined list with residuals\n",
        "\n",
        "#Calculating predicted values of y\n",
        "\n",
        "for i in x:\n",
        "    y_pred.append(-18 + 1.3*i)\n",
        "    \n",
        "#Calculating residuals\n",
        "for i in range(0, len(x)):\n",
        "    r.append((y[i]-y_pred[i])**2)\n",
        "\n",
        "#Summing up the residuals\n",
        "\n",
        "np.sum(r)"
      ],
      "execution_count": 29,
      "outputs": [
        {
          "output_type": "execute_result",
          "data": {
            "text/plain": [
              "1248.1500000000003"
            ]
          },
          "metadata": {
            "tags": []
          },
          "execution_count": 29
        }
      ]
    },
    {
      "cell_type": "markdown",
      "metadata": {
        "id": "-Gc_ADr4cTDr",
        "colab_type": "text"
      },
      "source": [
        "# 3. Building Regressions with Wrong Parameters"
      ]
    },
    {
      "cell_type": "markdown",
      "metadata": {
        "id": "-lHee_vDpRpN",
        "colab_type": "text"
      },
      "source": [
        "Let's now build several regressions with random values for coefficient ($a$) and intercept ($b$), and see how their SSR would differ from the \"true\" regression $y=1.3x -18$ (estimated in Section 2.1.)"
      ]
    },
    {
      "cell_type": "markdown",
      "metadata": {
        "id": "qSMH6GrjcTDs",
        "colab_type": "text"
      },
      "source": [
        "## 3.1. Regression 1"
      ]
    },
    {
      "cell_type": "markdown",
      "metadata": {
        "id": "cPUeKuzupxkR",
        "colab_type": "text"
      },
      "source": [
        "Let's plot regression $y=-10x+780$ and calculate its SSR."
      ]
    },
    {
      "cell_type": "code",
      "metadata": {
        "id": "Sho5z22ccTDt",
        "colab_type": "code",
        "outputId": "c11e5bfc-484a-4737-d7c6-14187130a4c4",
        "colab": {
          "base_uri": "https://localhost:8080/",
          "height": 286
        }
      },
      "source": [
        "#Plotting Regression\n",
        "\n",
        "fig, ax = plt.subplots()\n",
        "ax.plot(x,y, 'o', color='g', label='training data')\n",
        "ax.plot(x, 780 + -10*x, label='y = {} + {} x'.format(reg.intercept_.round(2), reg.coef_[0].round(2)))\n",
        "plt.legend();\n",
        "plt.ylim(0, 140)\n",
        "plt.xlim(0, 110)"
      ],
      "execution_count": 21,
      "outputs": [
        {
          "output_type": "execute_result",
          "data": {
            "text/plain": [
              "(0.0, 110.0)"
            ]
          },
          "metadata": {
            "tags": []
          },
          "execution_count": 21
        },
        {
          "output_type": "display_data",
          "data": {
            "image/png": "[encoded data removed]",
            "text/plain": [
              "<Figure size 432x288 with 1 Axes>"
            ]
          },
          "metadata": {
            "tags": [],
            "needs_background": "light"
          }
        }
      ]
    },
    {
      "cell_type": "code",
      "metadata": {
        "id": "O5VNRBnxcTDv",
        "colab_type": "code",
        "outputId": "a33e16f6-19ee-4644-b251-46a210035083",
        "colab": {
          "base_uri": "https://localhost:8080/",
          "height": 34
        }
      },
      "source": [
        "# Calculating SSR\n",
        "\n",
        "y_pred = []\n",
        "r = []\n",
        "for i in x:\n",
        "    y_pred.append(780 + -10*i)\n",
        "    \n",
        "for i in range(0, len(x)):\n",
        "    r.append((y[i]-y_pred[i])**2)\n",
        "\n",
        "np.sum(r)"
      ],
      "execution_count": 28,
      "outputs": [
        {
          "output_type": "execute_result",
          "data": {
            "text/plain": [
              "388806"
            ]
          },
          "metadata": {
            "tags": []
          },
          "execution_count": 28
        }
      ]
    },
    {
      "cell_type": "markdown",
      "metadata": {
        "id": "F9kzc29pqLNz",
        "colab_type": "text"
      },
      "source": [
        "For the Regression 1, $SSR=388,806$. \n",
        "\n",
        "Let's proceed with another regression, Regression 2, and execute the same tasks!"
      ]
    },
    {
      "cell_type": "markdown",
      "metadata": {
        "id": "6W7AWJXJcTDy",
        "colab_type": "text"
      },
      "source": [
        "## 3.2. Regression 2"
      ]
    },
    {
      "cell_type": "code",
      "metadata": {
        "id": "b0-HN8ZTcTDy",
        "colab_type": "code",
        "outputId": "4b74e8b4-5919-4a5b-ca15-9f30d22ca9fb",
        "colab": {
          "base_uri": "https://localhost:8080/",
          "height": 286
        }
      },
      "source": [
        "#Plotting Regression\n",
        "\n",
        "fig, ax = plt.subplots()\n",
        "ax.plot(x,y, 'o', color='g', label='training data')\n",
        "ax.plot(x, 4*x-190, label='y = {} + {} x'.format(reg.intercept_.round(2), reg.coef_[0].round(2)))\n",
        "plt.legend();\n",
        "plt.ylim(0, 140)\n",
        "plt.xlim(0, 110)"
      ],
      "execution_count": 23,
      "outputs": [
        {
          "output_type": "execute_result",
          "data": {
            "text/plain": [
              "(0.0, 110.0)"
            ]
          },
          "metadata": {
            "tags": []
          },
          "execution_count": 23
        },
        {
          "output_type": "display_data",
          "data": {
            "image/png": "[encoded data removed]",
            "text/plain": [
              "<Figure size 432x288 with 1 Axes>"
            ]
          },
          "metadata": {
            "tags": [],
            "needs_background": "light"
          }
        }
      ]
    },
    {
      "cell_type": "code",
      "metadata": {
        "id": "_n2ZmKEtcTD1",
        "colab_type": "code",
        "outputId": "11b8b109-c916-48e8-dc1a-cc2dc0da444a",
        "colab": {
          "base_uri": "https://localhost:8080/",
          "height": 34
        }
      },
      "source": [
        "# Calculating SSR\n",
        "\n",
        "y_pred = []\n",
        "r = []\n",
        "for i in x:\n",
        "    y_pred.append(-190 + 4*i)\n",
        "    \n",
        "for i in range(0, len(x)):\n",
        "    r.append((y[i]-y_pred[i])**2)\n",
        "\n",
        "np.sum(r)"
      ],
      "execution_count": 27,
      "outputs": [
        {
          "output_type": "execute_result",
          "data": {
            "text/plain": [
              "20326"
            ]
          },
          "metadata": {
            "tags": []
          },
          "execution_count": 27
        }
      ]
    },
    {
      "cell_type": "markdown",
      "metadata": {
        "id": "bUcvU8UOqxqW",
        "colab_type": "text"
      },
      "source": [
        "For the Regression 2, $SSR=20,326$.\n",
        "\n",
        "If you compare Regression 1 and Regression 2, you might notice that, as the line follows the data points, it shrinks the residuals, and lowers the Sum of Squared Residuals."
      ]
    },
    {
      "cell_type": "markdown",
      "metadata": {
        "id": "RLPXq5mncTD7",
        "colab_type": "text"
      },
      "source": [
        "# 4. Cost Function\n",
        "\n",
        "Now is exciting stuff - plotting a Cost Function!"
      ]
    },
    {
      "cell_type": "markdown",
      "metadata": {
        "id": "O9sezqxFcTD7",
        "colab_type": "text"
      },
      "source": [
        "## 4.1. Trying out several values for coefficient"
      ]
    },
    {
      "cell_type": "code",
      "metadata": {
        "id": "9zxsEHQhcTD7",
        "colab_type": "code",
        "outputId": "422af46e-38a8-4df7-d7ad-b5233a124ef8",
        "colab": {
          "base_uri": "https://localhost:8080/",
          "height": 381
        }
      },
      "source": [
        "#Plotting Regression\n",
        "\n",
        "fig, ax = plt.subplots()\n",
        "ax.plot(x,y, 'o', color='g', label='training data')\n",
        "a1 = np.linspace(-1,4,21) #define coefficient range: between -1 and 4\n",
        "for i in range(len(a1)):\n",
        "    ax.plot(x, -18 + a1[i]*x, label='a1 = %.2f' %a1[i] )\n",
        "\n",
        "plt.legend();"
      ],
      "execution_count": 0,
      "outputs": [
        {
          "output_type": "display_data",
          "data": {
            "image/png": "[encoded data removed]",
            "text/plain": [
              "<Figure size 432x288 with 1 Axes>"
            ]
          },
          "metadata": {
            "tags": []
          }
        }
      ]
    },
    {
      "cell_type": "markdown",
      "metadata": {
        "id": "PHCCSvQccTD-",
        "colab_type": "text"
      },
      "source": [
        "## 4.2. Building Cost Function\n"
      ]
    },
    {
      "cell_type": "code",
      "metadata": {
        "id": "V23XbqVccTD-",
        "colab_type": "code",
        "colab": {}
      },
      "source": [
        "# Defined Cost Function J\n",
        "\n",
        "def J(a0, a1, x, y, m):\n",
        "    J = 0\n",
        "    for i in range(m):\n",
        "        J += ((a0 + a1*x[i]) - y[i] )**2\n",
        "    return J"
      ],
      "execution_count": 0,
      "outputs": []
    },
    {
      "cell_type": "code",
      "metadata": {
        "id": "BwPT-O_DcTEA",
        "colab_type": "code",
        "outputId": "6a398bab-30d5-41a5-b8db-a2a41247539f",
        "colab": {
          "base_uri": "https://localhost:8080/",
          "height": 265
        }
      },
      "source": [
        "# Plotting 2-D Cost Function for coefficient\n",
        "\n",
        "fig, ax = plt.subplots()\n",
        "a = np.linspace(-2,4.5,13) ## \n",
        "a1 = np.linspace(-2,4.5,13) \n",
        "\n",
        "ax.plot(a, J(-18,a,x,y,m=len(x)), c='C0')\n",
        "for i in range(len(a1)):\n",
        "    ax.plot(a1[i], J(-18,a1[i],x,y,m=len(x)), 'o', label='J(a0,%.1f)' %a1[i])\n",
        "plt.legend();"
      ],
      "execution_count": 32,
      "outputs": [
        {
          "output_type": "display_data",
          "data": {
            "image/png": "[encoded data removed]",
            "text/plain": [
              "<Figure size 432x288 with 1 Axes>"
            ]
          },
          "metadata": {
            "tags": [],
            "needs_background": "light"
          }
        }
      ]
    },
    {
      "cell_type": "code",
      "metadata": {
        "id": "R_WItky4cTED",
        "colab_type": "code",
        "outputId": "4897d4d7-071a-4b1a-f1ce-804788bf9e37",
        "colab": {
          "base_uri": "https://localhost:8080/",
          "height": 248
        }
      },
      "source": [
        "# Plotting Cost Function for coefficient and intercept \n",
        "\n",
        "from mpl_toolkits.mplot3d.axes3d import Axes3D\n",
        "fig = plt.figure()\n",
        "ax = fig.add_subplot(1,1,1,projection='3d')\n",
        "a0 = np.linspace(-100,100,10)\n",
        "a1 = np.linspace(-1,4,20)\n",
        "aa0, aa1 = np.meshgrid(a0, a1)\n",
        "ax.plot_surface(aa0, aa1, J(aa0,aa1,x,y,m=len(x)))\n",
        "ax.view_init(50,-150)"
      ],
      "execution_count": 37,
      "outputs": [
        {
          "output_type": "display_data",
          "data": {
            "image/png": "[encoded data removed]",
            "text/plain": [
              "<Figure size 432x288 with 1 Axes>"
            ]
          },
          "metadata": {
            "tags": [],
            "needs_background": "light"
          }
        }
      ]
    },
    {
      "cell_type": "markdown",
      "metadata": {
        "id": "7ZbxMRooc540",
        "colab_type": "text"
      },
      "source": [
        "# 5. Gradient Descent "
      ]
    },
    {
      "cell_type": "markdown",
      "metadata": {
        "id": "pMfzROdelnga",
        "colab_type": "text"
      },
      "source": [
        "## 5.1. Original Regression"
      ]
    },
    {
      "cell_type": "code",
      "metadata": {
        "id": "xxQIWccSc3G9",
        "colab_type": "code",
        "outputId": "2784a3c1-d8b9-4de9-e201-03e497bb29f0",
        "colab": {
          "base_uri": "https://localhost:8080/",
          "height": 289
        }
      },
      "source": [
        "fig, ax = plt.subplots()\n",
        "ax.plot(x,y, 'o', color='g', label='training data')\n",
        "ax.plot(x, -18 + 1.3*x, label='y = {} + {} x'.format(-18, 1.3))\n",
        "plt.legend();\n",
        "plt.ylim(0, 140)\n",
        "plt.xlim(0, 110)"
      ],
      "execution_count": 0,
      "outputs": [
        {
          "output_type": "execute_result",
          "data": {
            "text/plain": [
              "(0.0, 110.0)"
            ]
          },
          "metadata": {
            "tags": []
          },
          "execution_count": 14
        },
        {
          "output_type": "display_data",
          "data": {
            "image/png": "[encoded data removed]",
            "text/plain": [
              "<Figure size 432x288 with 1 Axes>"
            ]
          },
          "metadata": {
            "tags": [],
            "needs_background": "light"
          }
        }
      ]
    },
    {
      "cell_type": "code",
      "metadata": {
        "id": "t8DBlSD-dJT7",
        "colab_type": "code",
        "outputId": "fc4d16c4-7585-4c17-f131-f830bcec28c4",
        "colab": {
          "base_uri": "https://localhost:8080/",
          "height": 34
        }
      },
      "source": [
        "# Calculating SSR:\n",
        "\n",
        "y_pred = []\n",
        "r = []\n",
        "for i in x:\n",
        "    y_pred.append(-18 + 1.3*i)\n",
        "    \n",
        "for i in range(0, len(x)):\n",
        "    r.append((y[i]-y_pred[i])**2)\n",
        "\n",
        "np.sum(r)"
      ],
      "execution_count": 39,
      "outputs": [
        {
          "output_type": "execute_result",
          "data": {
            "text/plain": [
              "1248.1500000000003"
            ]
          },
          "metadata": {
            "tags": []
          },
          "execution_count": 39
        }
      ]
    },
    {
      "cell_type": "markdown",
      "metadata": {
        "id": "1VU9Vz84ARFM",
        "colab_type": "text"
      },
      "source": [
        "## 5.2. Gradient Steps"
      ]
    },
    {
      "cell_type": "markdown",
      "metadata": {
        "id": "iB5NAxKTTjSH",
        "colab_type": "text"
      },
      "source": [
        "We know that our cost function $J(a)$ is\n",
        "\n",
        "$\n",
        "\\begin{equation}\n",
        "\\begin{split}\n",
        "    J(a) &= \\sum\\Big(y_i - (ax_i-18)\\Big)^2 \\\\\n",
        "    &= \\Big(31-(a*30-18)\\Big)^2+\\Big(30-(a*46-18)\\Big)^2+\\Big(80-(a*60-18)\\Big)^2+\\\\\n",
        "    &+\\Big(49-(a*65-18)\\Big)^2+\\Big(70-(a*77-18)\\Big)^2+\\Big(118-(a*95-18)\\Big)^2\n",
        "\\end{split}\n",
        "\\end{equation}\n",
        "$"
      ]
    },
    {
      "cell_type": "markdown",
      "metadata": {
        "id": "UzjHObRQT_g3",
        "colab_type": "text"
      },
      "source": [
        "Let's take the derivative of this function with the respect to parameter $a$:\n",
        "\n",
        "\\begin{equation}\n",
        "\\begin{split}\n",
        "    \\underbrace{\\frac{\\partial}{\\partial \\ a} \\ J(a)}_\\text{slope} &=\\underbrace{\\frac{\\partial}{\\partial \\ a}\\Big(31-(a*30-18)\\Big)^2}_\\text{2*(31-(a*30-18))*(-1)}+\\frac{\\partial}{\\partial \\ a}\\Big(30-(a*46-18)\\Big)^2+\\frac{\\partial}{\\partial \\ a}\\Big(80-(a*60-18)\\Big)^2+\\\\\n",
        "    &+\\frac{\\partial}{\\partial \\ a}\\Big(49-(a*65-18)\\Big)^2+\\frac{\\partial}{\\partial \\ a}\\Big(70-(a*77-18)\\Big)^2+\\frac{\\partial}{\\partial \\ a}\\Big(118-(a*95-18)\\Big)^2\n",
        "\\end{split}\n",
        "\\end{equation}\n",
        "\n",
        "Using a chain rule for each term, we will get this equation: \n",
        "\n",
        "\\begin{equation}\n",
        "\\begin{split}\n",
        "    \\frac{\\partial}{\\partial \\ a} \\ J(a) &=(-2)\\Big(31-(a*30-18)\\Big)+(-2)\\Big(30-(a*46-18)\\Big)+(-2)\\Big(80-(a*60-18)\\Big)+\\\\\n",
        "    &+(-2)\\Big(49-(a*65-18)\\Big)+(-2)\\Big(70-(a*77-18)\\Big)+(-2)\\Big(118-(a*95-18)\\Big)\n",
        "\\end{split}\n",
        "\\end{equation}\n",
        "\n",
        "\n"
      ]
    },
    {
      "cell_type": "markdown",
      "metadata": {
        "id": "EhWP6YV0UdEe",
        "colab_type": "text"
      },
      "source": [
        "Now that we have the derivative, gradient descent will use it to find where the Sum of Squared Residuals is the lowest. Our algorithm does not know the true value of $a$ that would minimize $J(a)$ (which is $a=1.3$). Hence, it will start by setting $a=0$. "
      ]
    },
    {
      "cell_type": "code",
      "metadata": {
        "id": "WPAi_npZJMb3",
        "colab_type": "code",
        "colab": {}
      },
      "source": [
        "# Define parameters\n",
        "\n",
        "b=-18 #intercept is known and equal to -18\n",
        "a = 0 #coefficient is not known and randomly assigned to be 0\n",
        "l=0.001 #learning rate is defined to be 0.001"
      ],
      "execution_count": 0,
      "outputs": []
    },
    {
      "cell_type": "markdown",
      "metadata": {
        "id": "sRQQqTii57lK",
        "colab_type": "text"
      },
      "source": [
        "### 5.2.1. Step 1"
      ]
    },
    {
      "cell_type": "markdown",
      "metadata": {
        "id": "dZDdWRk3UnTJ",
        "colab_type": "text"
      },
      "source": [
        "First step is to plug $a=0$ into the derivative:\n",
        "\n",
        "\\begin{equation}\n",
        "\\begin{split}\n",
        "    \\frac{\\partial}{\\partial \\ a} \\ J(a) &=(-2)\\Big(31-(0*30-18)\\Big)+(-2)\\Big(30-(0*46-18)\\Big)+(-2)\\Big(80-(0*60-18)\\Big)+\\\\\n",
        "    &+(-2)\\Big(49-(0*65-18)\\Big)+(-2)\\Big(70-(0*77-18)\\Big)+(-2)\\Big(118-(0*95-18)\\Big) \\\\ = -972\n",
        "\\end{split}\n",
        "\\end{equation}\n"
      ]
    },
    {
      "cell_type": "code",
      "metadata": {
        "id": "_hiBGzEWTbi4",
        "colab_type": "code",
        "colab": {
          "base_uri": "https://localhost:8080/",
          "height": 34
        },
        "outputId": "5e818f71-2198-4b29-b6fd-7f4ef71bb163"
      },
      "source": [
        "# Calculating a derivative\n",
        "\n",
        "d=(-2)*(y[0]-(a*x[0]+b))+(-2)*(y[1]-(a*x[1]+b))+(-2)*(y[2]-(a*x[2]+b))+(-2)*(y[3]-(a*x[3]+b))+(-2)*(y[4]-(a*x[4]+b))+(-2)*(y[5]-(a*x[5]+b))\n",
        "print('Derivative = ', d)"
      ],
      "execution_count": 87,
      "outputs": [
        {
          "output_type": "stream",
          "text": [
            "Derivative =  [-972]\n"
          ],
          "name": "stdout"
        }
      ]
    },
    {
      "cell_type": "markdown",
      "metadata": {
        "id": "lLPHx5fXVRH0",
        "colab_type": "text"
      },
      "source": [
        "Thus, when $a=0$, the slope of the curve = -972. \n",
        "\n",
        "Gradient descent use step size to get to the minimum point. The closer we get to the optimal value for the $a$, the smaller the step sizes. Gradient descent determines the **Step Size** by multiplying the slope $a$ by a small number called the learning rate $l$. \n",
        "\n",
        "For now, let's take $l=0.001$ and calculate the Step Size:\n",
        "\n",
        "\\begin{equation}\n",
        "    \\begin{split}\n",
        "        Step \\ Size &= J(a) * l \\\\\n",
        "        &=(-972)*0.001 \\\\\n",
        "        &=-0.972\n",
        "    \\end{split}\n",
        "\\end{equation}"
      ]
    },
    {
      "cell_type": "code",
      "metadata": {
        "id": "W4-Jrt-7Kar1",
        "colab_type": "code",
        "outputId": "b9d9fa3d-cb9f-492e-93e7-f6ba9ae1c1f9",
        "colab": {
          "base_uri": "https://localhost:8080/",
          "height": 34
        }
      },
      "source": [
        "step_size = d*l\n",
        "print('Step Size = ', step_size)"
      ],
      "execution_count": 88,
      "outputs": [
        {
          "output_type": "stream",
          "text": [
            "Step Size =  [-0.972]\n"
          ],
          "name": "stdout"
        }
      ]
    },
    {
      "cell_type": "markdown",
      "metadata": {
        "id": "6KsJwQ43VsQ5",
        "colab_type": "text"
      },
      "source": [
        "And then we update $a$: \n",
        "\\begin{equation}\n",
        "    \\begin{split}\n",
        "        a_{new} &= a - Step \\ Size \\\\\n",
        "        &=0-(-0.972)=0.972\n",
        "    \\end{split}\n",
        "\\end{equation}\n"
      ]
    },
    {
      "cell_type": "code",
      "metadata": {
        "id": "nq1ouPKhVrqR",
        "colab_type": "code",
        "colab": {
          "base_uri": "https://localhost:8080/",
          "height": 34
        },
        "outputId": "5763b135-331d-4f21-8355-9b3c85e66c45"
      },
      "source": [
        "a = a-step_size\n",
        "print('At Step 1, a = ', a)"
      ],
      "execution_count": 89,
      "outputs": [
        {
          "output_type": "stream",
          "text": [
            "At Step 1, a =  [0.972]\n"
          ],
          "name": "stdout"
        }
      ]
    },
    {
      "cell_type": "markdown",
      "metadata": {
        "id": "2PHqFpeZV8qy",
        "colab_type": "text"
      },
      "source": [
        "### 5.2.2. Step 2"
      ]
    },
    {
      "cell_type": "markdown",
      "metadata": {
        "id": "X5_xJ9w7XE97",
        "colab_type": "text"
      },
      "source": [
        "Following the same logic, we now use the new coefficient $a$ to calculate new  derivative:"
      ]
    },
    {
      "cell_type": "code",
      "metadata": {
        "id": "dIA4Aqf5KqYr",
        "colab_type": "code",
        "outputId": "bb54694c-43b9-4336-9143-d8a992a4fc23",
        "colab": {
          "base_uri": "https://localhost:8080/",
          "height": 34
        }
      },
      "source": [
        "d=(-2)*(y[0]-(a*x[0]+b))+(-2)*(y[1]-(a*x[1]+b))+(-2)*(y[2]-(a*x[2]+b))+(-2)*(y[3]-(a*x[3]+b))+(-2)*(y[4]-(a*x[4]+b))+(-2)*(y[5]-(a*x[5]+b))\n",
        "print('Derivative = ', d)"
      ],
      "execution_count": 90,
      "outputs": [
        {
          "output_type": "stream",
          "text": [
            "Derivative =  [-246.888]\n"
          ],
          "name": "stdout"
        }
      ]
    },
    {
      "cell_type": "code",
      "metadata": {
        "id": "qVuaqC0KKswx",
        "colab_type": "code",
        "outputId": "e8dcfa71-ac0b-415a-8cbe-ab28ee00babc",
        "colab": {
          "base_uri": "https://localhost:8080/",
          "height": 34
        }
      },
      "source": [
        "step_size = d*l\n",
        "print('Step Size = ', step_size)"
      ],
      "execution_count": 91,
      "outputs": [
        {
          "output_type": "stream",
          "text": [
            "Step Size =  [-0.246888]\n"
          ],
          "name": "stdout"
        }
      ]
    },
    {
      "cell_type": "code",
      "metadata": {
        "id": "TgTmNCykXSDm",
        "colab_type": "code",
        "colab": {
          "base_uri": "https://localhost:8080/",
          "height": 34
        },
        "outputId": "180beb67-d025-4b8a-8027-ec3dcdea568e"
      },
      "source": [
        "a = a-step_size\n",
        "print('At Step 2, a = ', a)"
      ],
      "execution_count": 92,
      "outputs": [
        {
          "output_type": "stream",
          "text": [
            "At Step 2, a =  [1.218888]\n"
          ],
          "name": "stdout"
        }
      ]
    },
    {
      "cell_type": "markdown",
      "metadata": {
        "id": "I8T8-8NNXg7-",
        "colab_type": "text"
      },
      "source": [
        "### 5.2.3. Step 3"
      ]
    },
    {
      "cell_type": "code",
      "metadata": {
        "id": "Gc8ahUhzKxwJ",
        "colab_type": "code",
        "colab": {
          "base_uri": "https://localhost:8080/",
          "height": 34
        },
        "outputId": "3c148a85-4b0b-4770-b10a-8bd6e29800a8"
      },
      "source": [
        "d=(-2)*(y[0]-(a*x[0]+b))+(-2)*(y[1]-(a*x[1]+b))+(-2)*(y[2]-(a*x[2]+b))+(-2)*(y[3]-(a*x[3]+b))+(-2)*(y[4]-(a*x[4]+b))+(-2)*(y[5]-(a*x[5]+b))\n",
        "print('Derivative = ', d)"
      ],
      "execution_count": 93,
      "outputs": [
        {
          "output_type": "stream",
          "text": [
            "Derivative =  [-62.709552]\n"
          ],
          "name": "stdout"
        }
      ]
    },
    {
      "cell_type": "code",
      "metadata": {
        "id": "FM6_eE7-KySI",
        "colab_type": "code",
        "outputId": "1644d97b-ae13-44b9-fcbb-b267a22523bd",
        "colab": {
          "base_uri": "https://localhost:8080/",
          "height": 34
        }
      },
      "source": [
        "step_size = d*l\n",
        "print('Step Size = ', step_size)"
      ],
      "execution_count": 94,
      "outputs": [
        {
          "output_type": "stream",
          "text": [
            "Step Size =  [-0.06270955]\n"
          ],
          "name": "stdout"
        }
      ]
    },
    {
      "cell_type": "code",
      "metadata": {
        "id": "qdMmy01wKy9Q",
        "colab_type": "code",
        "colab": {
          "base_uri": "https://localhost:8080/",
          "height": 34
        },
        "outputId": "d7d2079e-1ae0-484d-83a1-0e4b89903042"
      },
      "source": [
        "a = a-step_size\n",
        "print('At Step 3, a = ', a)"
      ],
      "execution_count": 95,
      "outputs": [
        {
          "output_type": "stream",
          "text": [
            "At Step 3, a =  [1.28159755]\n"
          ],
          "name": "stdout"
        }
      ]
    },
    {
      "cell_type": "markdown",
      "metadata": {
        "id": "Yvi3IAJ2Xq9t",
        "colab_type": "text"
      },
      "source": [
        "### 5.2.4. Step 4"
      ]
    },
    {
      "cell_type": "code",
      "metadata": {
        "id": "cjOD4DC1Xo7M",
        "colab_type": "code",
        "colab": {
          "base_uri": "https://localhost:8080/",
          "height": 34
        },
        "outputId": "6f2fa61c-8b8a-4654-bf5f-6c2ae39a030e"
      },
      "source": [
        "d=(-2)*(y[0]-(a*x[0]+b))+(-2)*(y[1]-(a*x[1]+b))+(-2)*(y[2]-(a*x[2]+b))+(-2)*(y[3]-(a*x[3]+b))+(-2)*(y[4]-(a*x[4]+b))+(-2)*(y[5]-(a*x[5]+b))\n",
        "print('Derivative = ', d)"
      ],
      "execution_count": 96,
      "outputs": [
        {
          "output_type": "stream",
          "text": [
            "Derivative =  [-15.92822621]\n"
          ],
          "name": "stdout"
        }
      ]
    },
    {
      "cell_type": "code",
      "metadata": {
        "id": "nLdDqugWKz1n",
        "colab_type": "code",
        "outputId": "562b6319-5a5c-4b1f-ea98-994066f32549",
        "colab": {
          "base_uri": "https://localhost:8080/",
          "height": 34
        }
      },
      "source": [
        "step_size = d*l\n",
        "print('Step Size = ', step_size)"
      ],
      "execution_count": 97,
      "outputs": [
        {
          "output_type": "stream",
          "text": [
            "Step Size =  [-0.01592823]\n"
          ],
          "name": "stdout"
        }
      ]
    },
    {
      "cell_type": "code",
      "metadata": {
        "id": "cqV0NmhCXtvW",
        "colab_type": "code",
        "colab": {
          "base_uri": "https://localhost:8080/",
          "height": 34
        },
        "outputId": "54d69aa5-1834-4e00-96ba-4ac8ffe5f38e"
      },
      "source": [
        "a = a-step_size\n",
        "print('At Step 4, a = ', a)"
      ],
      "execution_count": 98,
      "outputs": [
        {
          "output_type": "stream",
          "text": [
            "At Step 4, a =  [1.29752578]\n"
          ],
          "name": "stdout"
        }
      ]
    },
    {
      "cell_type": "markdown",
      "metadata": {
        "id": "PRNAYV_JXv4O",
        "colab_type": "text"
      },
      "source": [
        "### 5.2.5. Step 5"
      ]
    },
    {
      "cell_type": "code",
      "metadata": {
        "id": "cSEQfvuqK0fw",
        "colab_type": "code",
        "colab": {
          "base_uri": "https://localhost:8080/",
          "height": 34
        },
        "outputId": "f2cc52f7-38c3-487f-f40d-4de57b15523d"
      },
      "source": [
        "d=(-2)*(y[0]-(a*x[0]+b))+(-2)*(y[1]-(a*x[1]+b))+(-2)*(y[2]-(a*x[2]+b))+(-2)*(y[3]-(a*x[3]+b))+(-2)*(y[4]-(a*x[4]+b))+(-2)*(y[5]-(a*x[5]+b))\n",
        "print('Derivative = ', d)"
      ],
      "execution_count": 99,
      "outputs": [
        {
          "output_type": "stream",
          "text": [
            "Derivative =  [-4.04576946]\n"
          ],
          "name": "stdout"
        }
      ]
    },
    {
      "cell_type": "code",
      "metadata": {
        "id": "X5_Gt92AK1Qp",
        "colab_type": "code",
        "outputId": "22b3f072-d823-4ecc-e5be-42ce22659968",
        "colab": {
          "base_uri": "https://localhost:8080/",
          "height": 34
        }
      },
      "source": [
        "step_size = d*l\n",
        "print('Step Size = ', step_size)"
      ],
      "execution_count": 100,
      "outputs": [
        {
          "output_type": "stream",
          "text": [
            "Step Size =  [-0.00404577]\n"
          ],
          "name": "stdout"
        }
      ]
    },
    {
      "cell_type": "code",
      "metadata": {
        "id": "J3b7zeIdK12n",
        "colab_type": "code",
        "colab": {
          "base_uri": "https://localhost:8080/",
          "height": 34
        },
        "outputId": "25669e36-6bb1-4113-fba2-bbd4f3e977bf"
      },
      "source": [
        "a = a-step_size\n",
        "print('At Step 5, a = ', a)"
      ],
      "execution_count": 101,
      "outputs": [
        {
          "output_type": "stream",
          "text": [
            "At Step 5, a =  [1.30157155]\n"
          ],
          "name": "stdout"
        }
      ]
    },
    {
      "cell_type": "markdown",
      "metadata": {
        "id": "qJP1hpYlX2Mx",
        "colab_type": "text"
      },
      "source": [
        "### 5.2.6. Step 6"
      ]
    },
    {
      "cell_type": "code",
      "metadata": {
        "id": "5CozLzwgK9fP",
        "colab_type": "code",
        "outputId": "1418cab2-24d2-4705-b26f-97772071c0ce",
        "colab": {
          "base_uri": "https://localhost:8080/",
          "height": 34
        }
      },
      "source": [
        "d=(-2)*(y[0]-(a*x[0]+b))+(-2)*(y[1]-(a*x[1]+b))+(-2)*(y[2]-(a*x[2]+b))+(-2)*(y[3]-(a*x[3]+b))+(-2)*(y[4]-(a*x[4]+b))+(-2)*(y[5]-(a*x[5]+b))\n",
        "print('Derivative = ', d)"
      ],
      "execution_count": 102,
      "outputs": [
        {
          "output_type": "stream",
          "text": [
            "Derivative =  [-1.02762544]\n"
          ],
          "name": "stdout"
        }
      ]
    },
    {
      "cell_type": "code",
      "metadata": {
        "id": "fj3l2E5eK_-e",
        "colab_type": "code",
        "colab": {
          "base_uri": "https://localhost:8080/",
          "height": 34
        },
        "outputId": "2529d140-33ba-448b-e1ca-91874870be9f"
      },
      "source": [
        "step_size = d*l\n",
        "print('Step Size = ', step_size)"
      ],
      "execution_count": 103,
      "outputs": [
        {
          "output_type": "stream",
          "text": [
            "Step Size =  [-0.00102763]\n"
          ],
          "name": "stdout"
        }
      ]
    },
    {
      "cell_type": "code",
      "metadata": {
        "id": "u2ttqGljLAYe",
        "colab_type": "code",
        "outputId": "b5b8b458-f799-4a9d-a58b-44d6103e1b57",
        "colab": {
          "base_uri": "https://localhost:8080/",
          "height": 34
        }
      },
      "source": [
        "a = a-step_size\n",
        "print('At Step 6, a = ', a)"
      ],
      "execution_count": 104,
      "outputs": [
        {
          "output_type": "stream",
          "text": [
            "At Step 6, a =  [1.30259917]\n"
          ],
          "name": "stdout"
        }
      ]
    },
    {
      "cell_type": "markdown",
      "metadata": {
        "id": "TgAnWjY-X9T1",
        "colab_type": "text"
      },
      "source": [
        "### 5.2.7. Step 7"
      ]
    },
    {
      "cell_type": "code",
      "metadata": {
        "id": "CWkXkIJOLQNO",
        "colab_type": "code",
        "outputId": "17355fb3-403d-4e59-f58e-341f4eebd62b",
        "colab": {
          "base_uri": "https://localhost:8080/",
          "height": 34
        }
      },
      "source": [
        "d=(-2)*(y[0]-(a*x[0]+b))+(-2)*(y[1]-(a*x[1]+b))+(-2)*(y[2]-(a*x[2]+b))+(-2)*(y[3]-(a*x[3]+b))+(-2)*(y[4]-(a*x[4]+b))+(-2)*(y[5]-(a*x[5]+b))\n",
        "print('Derivative = ', d)"
      ],
      "execution_count": 105,
      "outputs": [
        {
          "output_type": "stream",
          "text": [
            "Derivative =  [-0.26101686]\n"
          ],
          "name": "stdout"
        }
      ]
    },
    {
      "cell_type": "code",
      "metadata": {
        "id": "iK0LTqeSLTJL",
        "colab_type": "code",
        "outputId": "d9a3f8ee-bcf7-439d-fe68-84612efec21e",
        "colab": {
          "base_uri": "https://localhost:8080/",
          "height": 34
        }
      },
      "source": [
        "step_size = d*l\n",
        "print('Step Size = ', step_size)"
      ],
      "execution_count": 106,
      "outputs": [
        {
          "output_type": "stream",
          "text": [
            "Step Size =  [-0.00026102]\n"
          ],
          "name": "stdout"
        }
      ]
    },
    {
      "cell_type": "code",
      "metadata": {
        "id": "u_N-Sxv0LThk",
        "colab_type": "code",
        "outputId": "3890bfcd-536f-4864-f502-eeef24b48118",
        "colab": {
          "base_uri": "https://localhost:8080/",
          "height": 34
        }
      },
      "source": [
        "a = a-step_size\n",
        "print('At Step 7, a = ', a)"
      ],
      "execution_count": 107,
      "outputs": [
        {
          "output_type": "stream",
          "text": [
            "At Step 7, a =  [1.30286019]\n"
          ],
          "name": "stdout"
        }
      ]
    },
    {
      "cell_type": "markdown",
      "metadata": {
        "id": "jB-lwgx5X_x9",
        "colab_type": "text"
      },
      "source": [
        "### 5.2.8. Step 8"
      ]
    },
    {
      "cell_type": "code",
      "metadata": {
        "id": "j-X_YGydLT69",
        "colab_type": "code",
        "outputId": "631502bd-9ab3-4fe2-8d1d-ad8a88e411f0",
        "colab": {
          "base_uri": "https://localhost:8080/",
          "height": 34
        }
      },
      "source": [
        "d=(-2)*(y[0]-(a*x[0]+b))+(-2)*(y[1]-(a*x[1]+b))+(-2)*(y[2]-(a*x[2]+b))+(-2)*(y[3]-(a*x[3]+b))+(-2)*(y[4]-(a*x[4]+b))+(-2)*(y[5]-(a*x[5]+b))\n",
        "print('Derivative = ', d)"
      ],
      "execution_count": 108,
      "outputs": [
        {
          "output_type": "stream",
          "text": [
            "Derivative =  [-0.06629828]\n"
          ],
          "name": "stdout"
        }
      ]
    },
    {
      "cell_type": "code",
      "metadata": {
        "id": "su3lMRN6LU48",
        "colab_type": "code",
        "outputId": "3f77b8d5-df7a-45bf-898b-e3e184c655be",
        "colab": {
          "base_uri": "https://localhost:8080/",
          "height": 34
        }
      },
      "source": [
        "step_size = d*l\n",
        "print('Step Size = ', step_size)"
      ],
      "execution_count": 109,
      "outputs": [
        {
          "output_type": "stream",
          "text": [
            "Step Size =  [-6.6298283e-05]\n"
          ],
          "name": "stdout"
        }
      ]
    },
    {
      "cell_type": "code",
      "metadata": {
        "id": "3Z0GL6r2LVwF",
        "colab_type": "code",
        "colab": {
          "base_uri": "https://localhost:8080/",
          "height": 34
        },
        "outputId": "f7179108-a5b8-4164-99e8-5c712e2899cf"
      },
      "source": [
        "a = a-step_size\n",
        "print('At Step 8, a = ', a)"
      ],
      "execution_count": 110,
      "outputs": [
        {
          "output_type": "stream",
          "text": [
            "At Step 8, a =  [1.30292649]\n"
          ],
          "name": "stdout"
        }
      ]
    }
  ]
}