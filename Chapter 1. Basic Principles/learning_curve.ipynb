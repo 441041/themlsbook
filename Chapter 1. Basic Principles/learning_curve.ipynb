{
  "nbformat": 4,
  "nbformat_minor": 0,
  "metadata": {
    "kernelspec": {
      "display_name": "Python 3",
      "language": "python",
      "name": "python3"
    },
    "language_info": {
      "codemirror_mode": {
        "name": "ipython",
        "version": 3
      },
      "file_extension": ".py",
      "mimetype": "text/x-python",
      "name": "python",
      "nbconvert_exporter": "python",
      "pygments_lexer": "ipython3",
      "version": "3.7.4"
    },
    "colab": {
      "name": "learning_curve.ipynb",
      "provenance": []
    }
  },
  "cells": [
    {
      "cell_type": "markdown",
      "metadata": {
        "id": "45VfE9zWOk5T",
        "colab_type": "text"
      },
      "source": [
        "https://datascience.stackexchange.com/questions/62303/difference-between-learning-curve-and-validation-curve\n",
        "\n",
        "A learning curve plots the score over varying numbers of training samples, while a validation curve plots the score over a varying hyper parameter.\n",
        "\n",
        "The learning curve is a tool for finding out if an estimator would benefit from more data, or if the model is too simple (biased)."
      ]
    },
    {
      "cell_type": "code",
      "metadata": {
        "id": "wCUg3gyjOk5W",
        "colab_type": "code",
        "colab": {}
      },
      "source": [
        "import pandas as pd\n",
        "from sklearn.linear_model import LinearRegression\n",
        "from sklearn.model_selection import learning_curve\n",
        "print('hugu')"
      ],
      "execution_count": 0,
      "outputs": []
    },
    {
      "cell_type": "markdown",
      "metadata": {
        "id": "x-TCRl3uOk5Z",
        "colab_type": "text"
      },
      "source": [
        "Let's import the dataset and have a glance overview of it:"
      ]
    },
    {
      "cell_type": "code",
      "metadata": {
        "id": "IiMcWYEYOk5a",
        "colab_type": "code",
        "colab": {},
        "outputId": "89787be7-5dd9-493f-faa4-b6aa9380baaf"
      },
      "source": [
        "df = pd.read_csv('https://raw.githubusercontent.com/5x12/ml4everyone/master/data/car_price.csv', delimiter=',', header=0)\n",
        "df.head(2)"
      ],
      "execution_count": 0,
      "outputs": [
        {
          "output_type": "execute_result",
          "data": {
            "text/html": [
              "<div>\n",
              "<style scoped>\n",
              "    .dataframe tbody tr th:only-of-type {\n",
              "        vertical-align: middle;\n",
              "    }\n",
              "\n",
              "    .dataframe tbody tr th {\n",
              "        vertical-align: top;\n",
              "    }\n",
              "\n",
              "    .dataframe thead th {\n",
              "        text-align: right;\n",
              "    }\n",
              "</style>\n",
              "<table border=\"1\" class=\"dataframe\">\n",
              "  <thead>\n",
              "    <tr style=\"text-align: right;\">\n",
              "      <th></th>\n",
              "      <th>car_ID</th>\n",
              "      <th>symboling</th>\n",
              "      <th>CarName</th>\n",
              "      <th>fueltype</th>\n",
              "      <th>aspiration</th>\n",
              "      <th>doornumber</th>\n",
              "      <th>carbody</th>\n",
              "      <th>drivewheel</th>\n",
              "      <th>enginelocation</th>\n",
              "      <th>wheelbase</th>\n",
              "      <th>...</th>\n",
              "      <th>enginesize</th>\n",
              "      <th>fuelsystem</th>\n",
              "      <th>boreratio</th>\n",
              "      <th>stroke</th>\n",
              "      <th>compressionratio</th>\n",
              "      <th>horsepower</th>\n",
              "      <th>peakrpm</th>\n",
              "      <th>citympg</th>\n",
              "      <th>highwaympg</th>\n",
              "      <th>price</th>\n",
              "    </tr>\n",
              "  </thead>\n",
              "  <tbody>\n",
              "    <tr>\n",
              "      <td>0</td>\n",
              "      <td>1</td>\n",
              "      <td>3</td>\n",
              "      <td>alfa-romero giulia</td>\n",
              "      <td>gas</td>\n",
              "      <td>std</td>\n",
              "      <td>two</td>\n",
              "      <td>convertible</td>\n",
              "      <td>rwd</td>\n",
              "      <td>front</td>\n",
              "      <td>88.6</td>\n",
              "      <td>...</td>\n",
              "      <td>130</td>\n",
              "      <td>mpfi</td>\n",
              "      <td>3.47</td>\n",
              "      <td>2.68</td>\n",
              "      <td>9.0</td>\n",
              "      <td>111</td>\n",
              "      <td>5000</td>\n",
              "      <td>21</td>\n",
              "      <td>27</td>\n",
              "      <td>13495.0</td>\n",
              "    </tr>\n",
              "    <tr>\n",
              "      <td>1</td>\n",
              "      <td>2</td>\n",
              "      <td>3</td>\n",
              "      <td>alfa-romero stelvio</td>\n",
              "      <td>gas</td>\n",
              "      <td>std</td>\n",
              "      <td>two</td>\n",
              "      <td>convertible</td>\n",
              "      <td>rwd</td>\n",
              "      <td>front</td>\n",
              "      <td>88.6</td>\n",
              "      <td>...</td>\n",
              "      <td>130</td>\n",
              "      <td>mpfi</td>\n",
              "      <td>3.47</td>\n",
              "      <td>2.68</td>\n",
              "      <td>9.0</td>\n",
              "      <td>111</td>\n",
              "      <td>5000</td>\n",
              "      <td>21</td>\n",
              "      <td>27</td>\n",
              "      <td>16500.0</td>\n",
              "    </tr>\n",
              "  </tbody>\n",
              "</table>\n",
              "<p>2 rows × 26 columns</p>\n",
              "</div>"
            ],
            "text/plain": [
              "   car_ID  symboling              CarName fueltype aspiration doornumber  \\\n",
              "0       1          3   alfa-romero giulia      gas        std        two   \n",
              "1       2          3  alfa-romero stelvio      gas        std        two   \n",
              "\n",
              "       carbody drivewheel enginelocation  wheelbase  ...  enginesize  \\\n",
              "0  convertible        rwd          front       88.6  ...         130   \n",
              "1  convertible        rwd          front       88.6  ...         130   \n",
              "\n",
              "   fuelsystem  boreratio  stroke compressionratio horsepower  peakrpm citympg  \\\n",
              "0        mpfi       3.47    2.68              9.0        111     5000      21   \n",
              "1        mpfi       3.47    2.68              9.0        111     5000      21   \n",
              "\n",
              "   highwaympg    price  \n",
              "0          27  13495.0  \n",
              "1          27  16500.0  \n",
              "\n",
              "[2 rows x 26 columns]"
            ]
          },
          "metadata": {
            "tags": []
          },
          "execution_count": 61
        }
      ]
    },
    {
      "cell_type": "markdown",
      "metadata": {
        "id": "3E4KY9dkOk5e",
        "colab_type": "text"
      },
      "source": [
        "Let's define $X$ and $y$ variables for our model."
      ]
    },
    {
      "cell_type": "code",
      "metadata": {
        "id": "SJQYJVKuOk5e",
        "colab_type": "code",
        "colab": {}
      },
      "source": [
        "df_X = df[['enginesize', 'boreratio', 'stroke', 'horsepower', 'peakrpm', 'citympg', 'highwaympg']]\n",
        "df_y = df['price']"
      ],
      "execution_count": 0,
      "outputs": []
    },
    {
      "cell_type": "markdown",
      "metadata": {
        "id": "Dom4LL96Ok5h",
        "colab_type": "text"
      },
      "source": [
        "Let’s decide what training set sizes we want to use for generating the learning curves (also known as validation curves). The minimum value is 1. The maximum is given by the number of instances in the training set."
      ]
    },
    {
      "cell_type": "code",
      "metadata": {
        "id": "vzKka__SOk5i",
        "colab_type": "code",
        "colab": {},
        "outputId": "0b43d5b4-8b31-4c62-b66c-46527904180a"
      },
      "source": [
        "len(y)"
      ],
      "execution_count": 0,
      "outputs": [
        {
          "output_type": "execute_result",
          "data": {
            "text/plain": [
              "205"
            ]
          },
          "metadata": {
            "tags": []
          },
          "execution_count": 34
        }
      ]
    },
    {
      "cell_type": "markdown",
      "metadata": {
        "id": "x9HkPlHAOk5k",
        "colab_type": "text"
      },
      "source": [
        "Our training set has 205 instances, so the maximum value is 205. However, we haven’t yet put aside a validation set. We’ll do that using an 80:20 ratio, ending up with a training set of 164 instances (80%), and a validation set of 41 instances (20%). Given that our training set will have 164 instances, the maximum value we can use to generate our learning curves is 164. For our case, here, we use these six sizes:"
      ]
    },
    {
      "cell_type": "code",
      "metadata": {
        "id": "UItGz3o7Ok5l",
        "colab_type": "code",
        "colab": {}
      },
      "source": [
        "train_sizes = [1, 32, 65, 97, 130, 164]"
      ],
      "execution_count": 0,
      "outputs": []
    },
    {
      "cell_type": "markdown",
      "metadata": {
        "id": "0Y9wZdzDOk5n",
        "colab_type": "text"
      },
      "source": [
        "Now let's create a function learning_curve() to generate the data needed to plot a learning curve. The function returns a tuple containing three elements: the training set sizes, and the error scores on both the validation sets and the training sets. Inside the function, we use the following parameters:\n",
        "estimator — indicates the learning algorithm we use to estimate the true model;\n",
        "X — the data containing the features;\n",
        "y — the data containing the target;\n",
        "train_sizes — specifies the training set sizes to be used;\n",
        "cv — determines the cross-validation splitting strategy (we’ll discuss this immediately);\n",
        "scoring — indicates the error metric to use; the intention is to use the mean squared error (MSE) metric, but that’s not a possible parameter for scoring; we’ll use the nearest proxy, negative MSE, and we’ll just have to flip signs later on."
      ]
    },
    {
      "cell_type": "code",
      "metadata": {
        "id": "tYleOoaOOk5o",
        "colab_type": "code",
        "colab": {}
      },
      "source": [
        "#learning curve\n",
        "train_sizes, train_scores, validation_scores = learning_curve(estimator = LinearRegression(),\n",
        "                                                              X = df_X,\n",
        "                                                              y = df_y, \n",
        "                                                              train_sizes = train_sizes, \n",
        "                                                              cv = 5,\n",
        "                                                              scoring = 'neg_mean_squared_error'\n",
        "                                                             )"
      ],
      "execution_count": 0,
      "outputs": []
    },
    {
      "cell_type": "markdown",
      "metadata": {
        "id": "w4QOHXyTOk5r",
        "colab_type": "text"
      },
      "source": [
        "We create a learning_curve() to generate the data needed to plot a learning curve. The function returns a tuple containing three elements: the training set sizes, and the error scores on both the validation sets and the training sets. \n",
        "\n",
        "Inside the function, we use the following parameters:\n",
        "- estimator — indicates the learning algorithm we use to estimate the true model;\n",
        "- X — the data containing the features;\n",
        "- y — the data containing the target;\n",
        "- train_sizes — specifies the training set sizes to be used;\n",
        "- cv — determines the cross-validation splitting strategy (we’ll discuss this immediately);\n",
        "- scoring — indicates the error metric to use; the intention is to use the mean squared error (MSE) metric, but that’s not a possible parameter for scoring; we’ll use the nearest proxy, negative MSE, and we’ll just have to flip signs, as follows:"
      ]
    },
    {
      "cell_type": "code",
      "metadata": {
        "id": "upAqPEkbOk5r",
        "colab_type": "code",
        "colab": {}
      },
      "source": [
        "#flipping the signs\n",
        "\n",
        "train_scores_mean = -train_scores.mean(axis = 1)\n",
        "validation_scores_mean = -validation_scores.mean(axis = 1)"
      ],
      "execution_count": 0,
      "outputs": []
    },
    {
      "cell_type": "markdown",
      "metadata": {
        "id": "Xd-17remOk5t",
        "colab_type": "text"
      },
      "source": [
        "We already know what’s in train_sizes. Let’s inspect the other two variables to see what learning_curve() returned:"
      ]
    },
    {
      "cell_type": "code",
      "metadata": {
        "id": "5KHz-MC_Ok5u",
        "colab_type": "code",
        "colab": {},
        "outputId": "572cc0cd-a74b-441b-81ba-e7c2cd3df24d"
      },
      "source": [
        "print('Training scores:\\n\\n', train_scores)\n",
        "print('\\n', '-' * 70) # separator to make the output easy to read\n",
        "print('\\nValidation scores:\\n\\n', validation_scores)"
      ],
      "execution_count": 0,
      "outputs": [
        {
          "output_type": "stream",
          "text": [
            "Training scores:\n",
            "\n",
            " [[       -0.                -0.                -0.\n",
            "         -0.                -0.        ]\n",
            " [-11055848.58410226  -7128286.29681717  -7128286.29681717\n",
            "   -7128286.29681717  -7128286.29681717]\n",
            " [-12045493.00505402 -13166448.90534141  -9793598.69446058\n",
            "   -9793598.69446058  -9793598.69446058]\n",
            " [-12935105.79323151 -10866500.24920696 -12208383.41307802\n",
            "  -12083451.54227036 -12083451.54227036]\n",
            " [-12552631.71936984 -10207194.80088571 -11999211.03302304\n",
            "  -13580412.94329146 -13749152.54688732]\n",
            " [-12066511.69084682 -10595950.86039568 -12069288.31207311\n",
            "  -12627044.43130113 -12253938.95415191]]\n",
            "\n",
            " ----------------------------------------------------------------------\n",
            "\n",
            "Validation scores:\n",
            "\n",
            " [[-7.31268975e+07 -1.37937530e+08 -2.29883244e+07 -6.57270234e+07\n",
            "  -1.82910260e+07]\n",
            " [-1.55635078e+07 -6.32417213e+07 -2.92354553e+07 -1.25905339e+07\n",
            "  -2.93342258e+07]\n",
            " [-2.45926006e+07 -2.54512582e+07 -2.27271167e+07 -1.75490219e+07\n",
            "  -2.51397152e+07]\n",
            " [-1.77626824e+07 -2.31313213e+07 -1.96315444e+07 -1.78000751e+07\n",
            "  -1.72768328e+07]\n",
            " [-1.45516461e+07 -2.56960468e+07 -1.77121005e+07 -1.77774471e+07\n",
            "  -1.65794687e+07]\n",
            " [-1.49257838e+07 -2.28076840e+07 -1.57429174e+07 -1.99478884e+07\n",
            "  -1.40343167e+07]]\n"
          ],
          "name": "stdout"
        }
      ]
    },
    {
      "cell_type": "markdown",
      "metadata": {
        "id": "bXCLu_XDOk5w",
        "colab_type": "text"
      },
      "source": [
        "Since we specified six training set sizes, you might have expected six values for each kind of score. Instead, we got six rows for each, and every row has five error scores. This happens because learning_curve() runs a k-fold cross-validation under the hood, where the value of k is given by what we specify for the cv parameter. In our case, cv = 5, so there will be five splits. For each split, an estimator is trained for every training set size specified. Each column in the two arrays above designates a split, and each row corresponds to a test size.\n",
        "\n",
        "\n",
        "To plot the learning curves, we need only a single error score per training set size, not 5. For this reason, in the next code cell we take the mean value of each row and also flip the signs of the error scores (as discussed above)."
      ]
    },
    {
      "cell_type": "code",
      "metadata": {
        "id": "fL0ywQuYOk5x",
        "colab_type": "code",
        "colab": {},
        "outputId": "d68f5a2e-5dc0-4d06-a345-62d904be8b69"
      },
      "source": [
        "train_scores_mean = -train_scores.mean(axis = 1)\n",
        "validation_scores_mean = -validation_scores.mean(axis = 1)\n",
        "print('Mean training scores\\n\\n', pd.Series(train_scores_mean, index = train_sizes))\n",
        "print('\\n', '-' * 20) # separator\n",
        "print('\\nMean validation scores\\n\\n',pd.Series(validation_scores_mean, index = train_sizes))"
      ],
      "execution_count": 0,
      "outputs": [
        {
          "output_type": "stream",
          "text": [
            "Mean training scores\n",
            "\n",
            " 1     -0.000000e+00\n",
            "32     7.913799e+06\n",
            "65     1.091855e+07\n",
            "97     1.203538e+07\n",
            "130    1.241772e+07\n",
            "164    1.192255e+07\n",
            "dtype: float64\n",
            "\n",
            " --------------------\n",
            "\n",
            "Mean validation scores\n",
            "\n",
            " 1      6.361416e+07\n",
            "32     2.999309e+07\n",
            "65     2.309194e+07\n",
            "97     1.912049e+07\n",
            "130    1.846334e+07\n",
            "164    1.749172e+07\n",
            "dtype: float64\n"
          ],
          "name": "stdout"
        }
      ]
    },
    {
      "cell_type": "markdown",
      "metadata": {
        "id": "KXjx8vAnOk5z",
        "colab_type": "text"
      },
      "source": [
        "Now we have all the data we need to plot the learning curves. Before doing the plotting, however, we need to stop and make an important observation. You might have noticed that some error scores on the training sets are the same. For the row corresponding to training set size of 1, this is expected, but what about other rows? With the exception of the last row, we have a lot of identical values. For instance, take the second row where we have identical values from the second split onward. Why is that so? This is caused by not randomizing the training data for each split. Let’s walk through a single example with the aid of the diagram below. When the training size is 500 the first 500 instances in the training set are selected.\n",
        "\n",
        "For the first split, these 500 instances will be taken from the second chunk. From the second split onward, these 500 instances will be taken from the first chunk. Because we don’t randomize the training set, the 500 instances used for training are the same for the second split onward. This explains the identical values from the second split onward for the 500 training instances case. An identical reasoning applies to the 100 instances case, and a similar reasoning applies to the other cases. "
      ]
    },
    {
      "cell_type": "code",
      "metadata": {
        "id": "4hm4AC7BOk50",
        "colab_type": "code",
        "colab": {}
      },
      "source": [
        "![title](img/cv.png)"
      ],
      "execution_count": 0,
      "outputs": []
    },
    {
      "cell_type": "markdown",
      "metadata": {
        "id": "dISG5LU6Ok52",
        "colab_type": "text"
      },
      "source": [
        "To stop this behavior, we need to set the shuffle parameter to True in the learning_curve() function. This will randomize the indices for the training data for each split:"
      ]
    },
    {
      "cell_type": "code",
      "metadata": {
        "id": "4fa4GxhSOk55",
        "colab_type": "code",
        "colab": {}
      },
      "source": [
        "train_sizes, train_scores, validation_scores = learning_curve(estimator = LinearRegression(),\n",
        "                                                              X = df_X,\n",
        "                                                              y = df_y, \n",
        "                                                              train_sizes = train_sizes, \n",
        "                                                              cv = 5,\n",
        "                                                              shuffle=True, ### set shuffle to true\n",
        "                                                              scoring = 'neg_mean_squared_error'\n",
        "                                                             )"
      ],
      "execution_count": 0,
      "outputs": []
    },
    {
      "cell_type": "code",
      "metadata": {
        "id": "8xi3PThoOk57",
        "colab_type": "code",
        "colab": {},
        "outputId": "9113a1a2-2743-4c53-e093-0572525bd522"
      },
      "source": [
        "import matplotlib.pyplot as plt\n",
        "\n",
        "plt.style.use('seaborn')\n",
        "plt.plot(train_sizes, train_scores_mean, label = 'Training error')\n",
        "plt.plot(train_sizes, validation_scores_mean, label = 'Validation error')\n",
        "plt.ylabel('MSE', fontsize = 14)\n",
        "plt.xlabel('Training set size', fontsize = 14)\n",
        "plt.title('Learning curves for a linear regression model', fontsize = 18, y = 1.03)\n",
        "plt.legend()\n",
        "plt.ylim()"
      ],
      "execution_count": 0,
      "outputs": [
        {
          "output_type": "execute_result",
          "data": {
            "text/plain": [
              "(-3180708.0126960706, 66794868.266617484)"
            ]
          },
          "metadata": {
            "tags": []
          },
          "execution_count": 56
        },
        {
          "output_type": "display_data",
          "data": {
            "image/png": "[encoded data removed]",
            "text/plain": [
              "<Figure size 576x396 with 1 Axes>"
            ]
          },
          "metadata": {
            "tags": []
          }
        }
      ]
    },
    {
      "cell_type": "markdown",
      "metadata": {
        "id": "bhHVGLiNOk5-",
        "colab_type": "text"
      },
      "source": [
        "There’s a lot of information we can extract from this plot. Let’s proceed granularly. When the training set size is 1, we can see that the MSE for the training set is 0. This is normal behavior, since the model has no problem fitting perfectly a single data point. So when tested upon the same data point, the prediction is perfect. But when tested on the validation set (which has 1914 instances), the MSE rockets up to roughly 423.4. This relatively high value is the reason we restrict the y-axis range between 0 and 40. This enables us to read most MSE values with precision. Such a high value is expected, since it’s extremely unlikely that a model trained on a single data point can generalize accurately to 1914 new instances it hasn’t seen in training. When the training set size increases to 100, the training MSE increases sharply, while the validation MSE decreases likewise.\n",
        "\n",
        "The linear regression model doesn’t predict all 100 training points perfectly, so the training MSE is greater than 0. However, the model performs much better now on the validation set because it’s estimated with more data. From 500 training data points onward, the validation MSE stays roughly the same. This tells us something extremely important: adding more training data points won’t lead to significantly better models. So instead of wasting time (and possibly money) with collecting more data, we need to try something else, like switching to an algorithm that can build more complex models. \n",
        "    \n",
        "    \n",
        "    https://www.dataquest.io/blog/learning-curves-machine-learning/"
      ]
    },
    {
      "cell_type": "markdown",
      "metadata": {
        "id": "XkGVVgeMOk5-",
        "colab_type": "text"
      },
      "source": [
        "https://towardsdatascience.com/understanding-the-bias-variance-tradeoff-and-visualizing-it-with-example-and-python-code-7af2681a10a7"
      ]
    }
  ]
}