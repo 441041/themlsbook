{
 "cells": [
  {
   "cell_type": "markdown",
   "metadata": {
    "colab_type": "text",
    "id": "fy9Pru5BcTDV"
   },
   "source": [
    "# Chapter 3: Linear Regression\n",
    "\n",
    "- This Jupyter Notebook is a supplement for the [Machine Learning Simplified](themlsbook.com) book. Note that all detailed explanations are written in the book. This notebook just shed light on Python implementations of the topics discussed.\n",
    "- I also assume you know Python syntax and how it works. If you don't, I highly recommend you to take a break and get introduced to the language before going forward with my notebooks. "
   ]
  },
  {
   "cell_type": "markdown",
   "metadata": {
    "colab_type": "text",
    "id": "8VorHuMIcTDV"
   },
   "source": [
    "# 1. Data & Variables\n",
    "\n",
    "Firstly, let's generate the sample data for X and y."
   ]
  },
  {
   "cell_type": "code",
   "execution_count": 1,
   "metadata": {
    "colab": {},
    "colab_type": "code",
    "id": "Gd4KEUA3cTDY"
   },
   "outputs": [],
   "source": [
    "import numpy as np \n",
    "\n",
    "x = np.array([30, 46, 60, 65, 77, 95])\n",
    "y = np.array([31, 30, 80, 49, 70, 118])"
   ]
  },
  {
   "cell_type": "markdown",
   "metadata": {
    "colab_type": "text",
    "id": "wugDx0xicTDa"
   },
   "source": [
    "# 2. Building a Regression Model "
   ]
  },
  {
   "cell_type": "markdown",
   "metadata": {
    "colab_type": "text",
    "id": "1VYKc3cvYWme"
   },
   "source": [
    "Let's now build a simple regression with our data and then visualize it with the graph."
   ]
  },
  {
   "cell_type": "markdown",
   "metadata": {
    "colab_type": "text",
    "id": "XGKd_3V6cTDb"
   },
   "source": [
    "## 2.1. Build & Plot"
   ]
  },
  {
   "cell_type": "markdown",
   "metadata": {
    "colab_type": "text",
    "id": "PESQ4iaeYE25"
   },
   "source": [
    "Building the regression model first:"
   ]
  },
  {
   "cell_type": "code",
   "execution_count": 2,
   "metadata": {
    "colab": {},
    "colab_type": "code",
    "id": "GAN6Tz_gcTDb"
   },
   "outputs": [],
   "source": [
    "from sklearn.linear_model import LinearRegression #import Linear Regression model\n",
    "\n",
    "reg = LinearRegression() #define the model\n",
    "\n",
    "x=x.reshape((-1, 1)) #reshape x\n",
    "reg = LinearRegression().fit(x, y) #train your model with x-values"
   ]
  },
  {
   "cell_type": "markdown",
   "metadata": {
    "colab_type": "text",
    "id": "zq_A_pN6ZuaF"
   },
   "source": [
    "Checking estimated coefficient and intercept:"
   ]
  },
  {
   "cell_type": "code",
   "execution_count": 3,
   "metadata": {
    "colab": {
     "base_uri": "https://localhost:8080/",
     "height": 51
    },
    "colab_type": "code",
    "id": "DOBf-DpYZsfx",
    "outputId": "f1ff1599-b45a-45ac-d269-73986f1050cc"
   },
   "outputs": [
    {
     "name": "stdout",
     "output_type": "stream",
     "text": [
      " coefficient (parameter a) = 1.3 \n",
      " intercept (parameter b) = -18.0\n"
     ]
    }
   ],
   "source": [
    "print(' coefficient (parameter a) = {} \\n intercept (parameter b) = {}'.format(reg.coef_[0].round(1), reg.intercept_.round(0)))"
   ]
  },
  {
   "cell_type": "markdown",
   "metadata": {
    "colab_type": "text",
    "id": "gEXbsgf9Zhh-"
   },
   "source": [
    "Plotting the regression model:"
   ]
  },
  {
   "cell_type": "code",
   "execution_count": 4,
   "metadata": {
    "colab": {
     "base_uri": "https://localhost:8080/",
     "height": 286
    },
    "colab_type": "code",
    "id": "l8AgOvs8cTDe",
    "outputId": "11c9d902-bbd5-4119-a27f-e16055fe26ad"
   },
   "outputs": [
    {
     "data": {
      "text/plain": [
       "(0.0, 110.0)"
      ]
     },
     "execution_count": 4,
     "metadata": {},
     "output_type": "execute_result"
    },
    {
     "data": {
      "image/png": "[encoded data removed]",
      "text/plain": [
       "<Figure size 432x288 with 1 Axes>"
      ]
     },
     "metadata": {
      "needs_background": "light"
     },
     "output_type": "display_data"
    }
   ],
   "source": [
    "import matplotlib.pyplot as plt #import library for visualization\n",
    "\n",
    "fig, ax = plt.subplots() #define the graph\n",
    "ax.plot(x,y, 'o', color='g', label='training data')\n",
    "ax.plot(x, reg.intercept_ + reg.coef_[0]*x, label='y = {} + {} x'.format(reg.intercept_.round(0), reg.coef_[0].round(2))) \n",
    "plt.legend(); #show legend\n",
    "plt.ylim(0, 140) #length of y-axis\n",
    "plt.xlim(0, 110) #length of x-axis"
   ]
  },
  {
   "cell_type": "markdown",
   "metadata": {
    "colab_type": "text",
    "id": "80C8dtsZcTDm"
   },
   "source": [
    "## 2.2. Drawing Residuals"
   ]
  },
  {
   "cell_type": "markdown",
   "metadata": {
    "colab_type": "text",
    "id": "1KADSi81bj-V"
   },
   "source": [
    "Let's draw residuals - the difference between data points and the model predictions. "
   ]
  },
  {
   "cell_type": "code",
   "execution_count": 5,
   "metadata": {
    "colab": {
     "base_uri": "https://localhost:8080/",
     "height": 268
    },
    "colab_type": "code",
    "id": "1pkjUxEycTDn",
    "outputId": "5be28a93-16df-4e42-a23e-96250e698854"
   },
   "outputs": [
    {
     "name": "stderr",
     "output_type": "stream",
     "text": [
      "/Users/andrewwolf/opt/anaconda3/lib/python3.8/site-packages/numpy/core/_asarray.py:171: VisibleDeprecationWarning: Creating an ndarray from ragged nested sequences (which is a list-or-tuple of lists-or-tuples-or ndarrays with different lengths or shapes) is deprecated. If you meant to do this, you must specify 'dtype=object' when creating the ndarray.\n",
      "  return array(a, dtype, copy=False, order=order, subok=True)\n"
     ]
    },
    {
     "data": {
      "image/png": "[encoded data removed]",
      "text/plain": [
       "<Figure size 432x288 with 1 Axes>"
      ]
     },
     "metadata": {
      "needs_background": "light"
     },
     "output_type": "display_data"
    }
   ],
   "source": [
    "fig, ax = plt.subplots()\n",
    "ax.plot(x,y, 'o', color='g', label='training data')\n",
    "ax.plot(x, -18.0  + 1.3*x, label='h(x) = .1 + 1.2*x')\n",
    "for i in range(len(x)):\n",
    "    ax.plot([x[i], x[i]], [-18.0  + 1.3*x[i],y[i]], '-', color='c')\n",
    "plt.legend();"
   ]
  },
  {
   "cell_type": "markdown",
   "metadata": {
    "colab_type": "text",
    "id": "nPtJqyTPcTDp"
   },
   "source": [
    "## 2.3. Calculating Sum of Squared Residuals (SSR)"
   ]
  },
  {
   "cell_type": "markdown",
   "metadata": {
    "colab_type": "text",
    "id": "8mfGlLfAcJoD"
   },
   "source": [
    "Let's calculate SSR. The formula for calculating SSR is:\n",
    "  $$SSR = \\sum (y_i-\\hat{y}_i)^2$$\n",
    "  where\n",
    "  - $y_i$ is a value of an observed target variable $i$\n",
    "  - $\\hat{y}_i$ is a value of $y$ predicted by the model with a specific $x_i$ ($\\hat{y}_i=ax_i+b$)\n"
   ]
  },
  {
   "cell_type": "code",
   "execution_count": 6,
   "metadata": {
    "colab": {
     "base_uri": "https://localhost:8080/",
     "height": 34
    },
    "colab_type": "code",
    "id": "6RCPAW37cTDp",
    "outputId": "0f1245b1-865f-40be-a587-189cca786d07"
   },
   "outputs": [
    {
     "data": {
      "text/plain": [
       "1248.1500000000003"
      ]
     },
     "execution_count": 6,
     "metadata": {},
     "output_type": "execute_result"
    }
   ],
   "source": [
    "# Defining lists\n",
    "y_pred = [] #set empty list for predicted values of y\n",
    "r = [] #set empty list for residuals\n",
    "\n",
    "# Calculating predicted values of y\n",
    "for i in x:\n",
    "    y_pred.append(-18 + 1.3*i)\n",
    "    \n",
    "# Calculating residuals\n",
    "for i in range(0, len(x)):\n",
    "    r.append((y[i]-y_pred[i])**2)\n",
    "\n",
    "# Summing up the residuals\n",
    "np.sum(r)"
   ]
  },
  {
   "cell_type": "markdown",
   "metadata": {
    "colab_type": "text",
    "id": "-Gc_ADr4cTDr"
   },
   "source": [
    "# 3. Building Regressions with Wrong Parameters"
   ]
  },
  {
   "cell_type": "markdown",
   "metadata": {
    "colab_type": "text",
    "id": "-lHee_vDpRpN"
   },
   "source": [
    "Let's now build several regressions with random values for coefficient ($a$) and intercept ($b$), and see how their SSR would differ from the \"true\" regression $y=1.3x -18$ (estimated in Section 2.1.)"
   ]
  },
  {
   "cell_type": "markdown",
   "metadata": {
    "colab_type": "text",
    "id": "qSMH6GrjcTDs"
   },
   "source": [
    "## 3.1. Regression 1"
   ]
  },
  {
   "cell_type": "markdown",
   "metadata": {
    "colab_type": "text",
    "id": "cPUeKuzupxkR"
   },
   "source": [
    "Let's plot regression $y=-10x+780$ and calculate its SSR."
   ]
  },
  {
   "cell_type": "code",
   "execution_count": 7,
   "metadata": {
    "colab": {
     "base_uri": "https://localhost:8080/",
     "height": 286
    },
    "colab_type": "code",
    "id": "Sho5z22ccTDt",
    "outputId": "c11e5bfc-484a-4737-d7c6-14187130a4c4"
   },
   "outputs": [
    {
     "data": {
      "text/plain": [
       "(0, 110)"
      ]
     },
     "execution_count": 7,
     "metadata": {},
     "output_type": "execute_result"
    },
    {
     "data": {
      "image/png": "[encoded data removed]",
      "text/plain": [
       "<Figure size 432x288 with 1 Axes>"
      ]
     },
     "metadata": {
      "needs_background": "light"
     },
     "output_type": "display_data"
    }
   ],
   "source": [
    "# Plotting Regression\n",
    "\n",
    "fig, ax = plt.subplots()\n",
    "ax.plot(x,y, 'o', color='g', label='training data')\n",
    "ax.plot(x, 780 + -10*x, label='y = {} + {} x'.format(reg.intercept_.round(2), reg.coef_[0].round(2)))\n",
    "plt.legend();\n",
    "plt.ylim(0, 140)\n",
    "plt.xlim(0, 110)"
   ]
  },
  {
   "cell_type": "code",
   "execution_count": 8,
   "metadata": {
    "colab": {
     "base_uri": "https://localhost:8080/",
     "height": 34
    },
    "colab_type": "code",
    "id": "O5VNRBnxcTDv",
    "outputId": "a33e16f6-19ee-4644-b251-46a210035083"
   },
   "outputs": [
    {
     "data": {
      "text/plain": [
       "388806"
      ]
     },
     "execution_count": 8,
     "metadata": {},
     "output_type": "execute_result"
    }
   ],
   "source": [
    "# Calculating SSR\n",
    "\n",
    "y_pred = []\n",
    "r = []\n",
    "for i in x:\n",
    "    y_pred.append(780 + -10*i)\n",
    "    \n",
    "for i in range(0, len(x)):\n",
    "    r.append((y[i]-y_pred[i])**2)\n",
    "\n",
    "np.sum(r)"
   ]
  },
  {
   "cell_type": "markdown",
   "metadata": {
    "colab_type": "text",
    "id": "F9kzc29pqLNz"
   },
   "source": [
    "For the Regression 1, $SSR=388,806$. \n",
    "\n",
    "Let's proceed with another regression, Regression 2, and execute the same tasks!"
   ]
  },
  {
   "cell_type": "markdown",
   "metadata": {
    "colab_type": "text",
    "id": "6W7AWJXJcTDy"
   },
   "source": [
    "## 3.2. Regression 2"
   ]
  },
  {
   "cell_type": "code",
   "execution_count": 9,
   "metadata": {
    "colab": {
     "base_uri": "https://localhost:8080/",
     "height": 286
    },
    "colab_type": "code",
    "id": "b0-HN8ZTcTDy",
    "outputId": "4b74e8b4-5919-4a5b-ca15-9f30d22ca9fb"
   },
   "outputs": [
    {
     "data": {
      "text/plain": [
       "(0, 110)"
      ]
     },
     "execution_count": 9,
     "metadata": {},
     "output_type": "execute_result"
    },
    {
     "data": {
      "image/png": "[encoded data removed]",
      "text/plain": [
       "<Figure size 432x288 with 1 Axes>"
      ]
     },
     "metadata": {
      "needs_background": "light"
     },
     "output_type": "display_data"
    }
   ],
   "source": [
    "# Plotting Regression\n",
    "\n",
    "fig, ax = plt.subplots()\n",
    "ax.plot(x,y, 'o', color='g', label='training data')\n",
    "ax.plot(x, 4*x-190, label='y = {} + {} x'.format(reg.intercept_.round(2), reg.coef_[0].round(2)))\n",
    "plt.legend();\n",
    "plt.ylim(0, 140)\n",
    "plt.xlim(0, 110)"
   ]
  },
  {
   "cell_type": "code",
   "execution_count": 10,
   "metadata": {
    "colab": {
     "base_uri": "https://localhost:8080/",
     "height": 34
    },
    "colab_type": "code",
    "id": "_n2ZmKEtcTD1",
    "outputId": "11b8b109-c916-48e8-dc1a-cc2dc0da444a"
   },
   "outputs": [
    {
     "data": {
      "text/plain": [
       "20326"
      ]
     },
     "execution_count": 10,
     "metadata": {},
     "output_type": "execute_result"
    }
   ],
   "source": [
    "# Calculating SSR\n",
    "\n",
    "y_pred = []\n",
    "r = []\n",
    "for i in x:\n",
    "    y_pred.append(-190 + 4*i)\n",
    "    \n",
    "for i in range(0, len(x)):\n",
    "    r.append((y[i]-y_pred[i])**2)\n",
    "\n",
    "np.sum(r)"
   ]
  },
  {
   "cell_type": "markdown",
   "metadata": {
    "colab_type": "text",
    "id": "bUcvU8UOqxqW"
   },
   "source": [
    "For the Regression 2, $SSR=20,326$.\n",
    "\n",
    "If you compare Regression 1 and Regression 2, you might notice that, as the line follows the data points, it shrinks the residuals, and lowers the Sum of Squared Residuals."
   ]
  },
  {
   "cell_type": "markdown",
   "metadata": {
    "colab_type": "text",
    "id": "RLPXq5mncTD7"
   },
   "source": [
    "# 4. Cost Function\n",
    "\n",
    "Now is exciting stuff - plotting a Cost Function!"
   ]
  },
  {
   "cell_type": "markdown",
   "metadata": {
    "colab_type": "text",
    "id": "O9sezqxFcTD7"
   },
   "source": [
    "## 4.1. Trying out several values for coefficient"
   ]
  },
  {
   "cell_type": "code",
   "execution_count": 16,
   "metadata": {
    "colab": {
     "base_uri": "https://localhost:8080/",
     "height": 381
    },
    "colab_type": "code",
    "id": "9zxsEHQhcTD7",
    "outputId": "422af46e-38a8-4df7-d7ad-b5233a124ef8"
   },
   "outputs": [
    {
     "data": {
      "image/png": "[encoded data removed]",
      "text/plain": [
       "<Figure size 432x288 with 1 Axes>"
      ]
     },
     "metadata": {
      "needs_background": "light"
     },
     "output_type": "display_data"
    }
   ],
   "source": [
    "# Plotting Regression\n",
    "\n",
    "fig, ax = plt.subplots()\n",
    "ax.plot(x,y, 'o', color='g', label='training data')\n",
    "a1 = np.linspace(-1,4,21) #define coefficient range: between -1 and 4\n",
    "for i in range(len(a1)):\n",
    "    ax.plot(x, -18 + a1[i]*x, label='a1 = %.2f' %a1[i] )\n",
    "\n",
    "plt.legend();"
   ]
  },
  {
   "cell_type": "markdown",
   "metadata": {
    "colab_type": "text",
    "id": "PHCCSvQccTD-"
   },
   "source": [
    "## 4.2. Building Cost Function\n"
   ]
  },
  {
   "cell_type": "code",
   "execution_count": 17,
   "metadata": {
    "colab": {},
    "colab_type": "code",
    "id": "V23XbqVccTD-"
   },
   "outputs": [],
   "source": [
    "# Defined Cost Function J\n",
    "\n",
    "def J(a0, a1, x, y, m):\n",
    "    J = 0\n",
    "    for i in range(m):\n",
    "        J += ((a0 + a1*x[i]) - y[i] )**2\n",
    "    return J"
   ]
  },
  {
   "cell_type": "code",
   "execution_count": 18,
   "metadata": {
    "colab": {
     "base_uri": "https://localhost:8080/",
     "height": 265
    },
    "colab_type": "code",
    "id": "BwPT-O_DcTEA",
    "outputId": "6a398bab-30d5-41a5-b8db-a2a41247539f"
   },
   "outputs": [
    {
     "data": {
      "image/png": "[encoded data removed]",
      "text/plain": [
       "<Figure size 432x288 with 1 Axes>"
      ]
     },
     "metadata": {
      "needs_background": "light"
     },
     "output_type": "display_data"
    }
   ],
   "source": [
    "# Plotting 2-D Cost Function for coefficient\n",
    "\n",
    "fig, ax = plt.subplots()\n",
    "a = np.linspace(-2,4.5,13) ## \n",
    "a1 = np.linspace(-2,4.5,13) \n",
    "\n",
    "ax.plot(a, J(-18,a,x,y,m=len(x)), c='C0')\n",
    "for i in range(len(a1)):\n",
    "    ax.plot(a1[i], J(-18,a1[i],x,y,m=len(x)), 'o', label='J(a0,%.1f)' %a1[i])\n",
    "plt.legend();"
   ]
  },
  {
   "cell_type": "code",
   "execution_count": 19,
   "metadata": {
    "colab": {
     "base_uri": "https://localhost:8080/",
     "height": 248
    },
    "colab_type": "code",
    "id": "R_WItky4cTED",
    "outputId": "4897d4d7-071a-4b1a-f1ce-804788bf9e37"
   },
   "outputs": [
    {
     "data": {
      "image/png": "[encoded data removed]",
      "text/plain": [
       "<Figure size 432x288 with 1 Axes>"
      ]
     },
     "metadata": {
      "needs_background": "light"
     },
     "output_type": "display_data"
    }
   ],
   "source": [
    "# Plotting Cost Function for coefficient and intercept \n",
    "\n",
    "from mpl_toolkits.mplot3d.axes3d import Axes3D\n",
    "fig = plt.figure()\n",
    "ax = fig.add_subplot(1,1,1,projection='3d')\n",
    "a0 = np.linspace(-100,100,10)\n",
    "a1 = np.linspace(-1,4,20)\n",
    "aa0, aa1 = np.meshgrid(a0, a1)\n",
    "ax.plot_surface(aa0, aa1, J(aa0,aa1,x,y,m=len(x)))\n",
    "ax.view_init(50,-150)"
   ]
  },
  {
   "cell_type": "markdown",
   "metadata": {
    "colab_type": "text",
    "id": "7ZbxMRooc540"
   },
   "source": [
    "# 5. Gradient Descent "
   ]
  },
  {
   "cell_type": "markdown",
   "metadata": {},
   "source": [
    "Let's see the gradient descent is action."
   ]
  },
  {
   "cell_type": "markdown",
   "metadata": {
    "colab_type": "text",
    "id": "pMfzROdelnga"
   },
   "source": [
    "## 5.1. Original Regression"
   ]
  },
  {
   "cell_type": "code",
   "execution_count": 0,
   "metadata": {
    "colab": {
     "base_uri": "https://localhost:8080/",
     "height": 289
    },
    "colab_type": "code",
    "id": "xxQIWccSc3G9",
    "outputId": "2784a3c1-d8b9-4de9-e201-03e497bb29f0"
   },
   "outputs": [
    {
     "data": {
      "text/plain": [
       "(0.0, 110.0)"
      ]
     },
     "execution_count": 14,
     "metadata": {
      "tags": []
     },
     "output_type": "execute_result"
    },
    {
     "data": {
      "image/png": "[encoded data removed]",
      "text/plain": [
       "<Figure size 432x288 with 1 Axes>"
      ]
     },
     "metadata": {
      "needs_background": "light",
      "tags": []
     },
     "output_type": "display_data"
    }
   ],
   "source": [
    "fig, ax = plt.subplots()\n",
    "ax.plot(x,y, 'o', color='g', label='training data')\n",
    "ax.plot(x, -18 + 1.3*x, label='y = {} + {} x'.format(-18, 1.3))\n",
    "plt.legend();\n",
    "plt.ylim(0, 140)\n",
    "plt.xlim(0, 110)"
   ]
  },
  {
   "cell_type": "code",
   "execution_count": 39,
   "metadata": {
    "colab": {
     "base_uri": "https://localhost:8080/",
     "height": 34
    },
    "colab_type": "code",
    "id": "t8DBlSD-dJT7",
    "outputId": "fc4d16c4-7585-4c17-f131-f830bcec28c4"
   },
   "outputs": [
    {
     "data": {
      "text/plain": [
       "1248.1500000000003"
      ]
     },
     "execution_count": 39,
     "metadata": {
      "tags": []
     },
     "output_type": "execute_result"
    }
   ],
   "source": [
    "# Calculating SSR\n",
    "\n",
    "y_pred = []\n",
    "r = []\n",
    "for i in x:\n",
    "    y_pred.append(-18 + 1.3*i)\n",
    "    \n",
    "for i in range(0, len(x)):\n",
    "    r.append((y[i]-y_pred[i])**2)\n",
    "\n",
    "np.sum(r)"
   ]
  },
  {
   "cell_type": "markdown",
   "metadata": {
    "colab_type": "text",
    "id": "1VU9Vz84ARFM"
   },
   "source": [
    "## 5.2. Gradient Steps"
   ]
  },
  {
   "cell_type": "markdown",
   "metadata": {
    "colab_type": "text",
    "id": "iB5NAxKTTjSH"
   },
   "source": [
    "We know that our cost function $J(a)$ is\n",
    "\n",
    "$\n",
    "\\begin{equation}\n",
    "\\begin{split}\n",
    "    J(a) &= \\sum\\Big(y_i - (ax_i-18)\\Big)^2 \\\\\n",
    "    &= \\Big(31-(a*30-18)\\Big)^2+\\Big(30-(a*46-18)\\Big)^2+\\Big(80-(a*60-18)\\Big)^2+\\\\\n",
    "    &+\\Big(49-(a*65-18)\\Big)^2+\\Big(70-(a*77-18)\\Big)^2+\\Big(118-(a*95-18)\\Big)^2\n",
    "\\end{split}\n",
    "\\end{equation}\n",
    "$"
   ]
  },
  {
   "cell_type": "markdown",
   "metadata": {
    "colab_type": "text",
    "id": "UzjHObRQT_g3"
   },
   "source": [
    "Let's take the derivative of this function with the respect to parameter $a$:\n",
    "\n",
    "\\begin{equation}\n",
    "\\begin{split}\n",
    "    \\underbrace{\\frac{\\partial}{\\partial \\ a} \\ J(a)}_\\text{slope} &=\\underbrace{\\frac{\\partial}{\\partial \\ a}\\Big(31-(a*30-18)\\Big)^2}_\\text{2*(31-(a*30-18))*(-1)}+\\frac{\\partial}{\\partial \\ a}\\Big(30-(a*46-18)\\Big)^2+\\frac{\\partial}{\\partial \\ a}\\Big(80-(a*60-18)\\Big)^2+\\\\\n",
    "    &+\\frac{\\partial}{\\partial \\ a}\\Big(49-(a*65-18)\\Big)^2+\\frac{\\partial}{\\partial \\ a}\\Big(70-(a*77-18)\\Big)^2+\\frac{\\partial}{\\partial \\ a}\\Big(118-(a*95-18)\\Big)^2\n",
    "\\end{split}\n",
    "\\end{equation}\n",
    "\n",
    "Using a chain rule for each term, we will get this equation: \n",
    "\n",
    "\\begin{equation}\n",
    "\\begin{split}\n",
    "    \\frac{\\partial}{\\partial \\ a} \\ J(a) &=(-2)\\Big(31-(a*30-18)\\Big)+(-2)\\Big(30-(a*46-18)\\Big)+(-2)\\Big(80-(a*60-18)\\Big)+\\\\\n",
    "    &+(-2)\\Big(49-(a*65-18)\\Big)+(-2)\\Big(70-(a*77-18)\\Big)+(-2)\\Big(118-(a*95-18)\\Big)\n",
    "\\end{split}\n",
    "\\end{equation}\n",
    "\n",
    "\n"
   ]
  },
  {
   "cell_type": "markdown",
   "metadata": {
    "colab_type": "text",
    "id": "EhWP6YV0UdEe"
   },
   "source": [
    "Now that we have the derivative, gradient descent will use it to find where the Sum of Squared Residuals is the lowest. Our algorithm does not know the true value of $a$ that would minimize $J(a)$ (which is $a=1.3$). Hence, it will start by setting $a=0$. "
   ]
  },
  {
   "cell_type": "code",
   "execution_count": 20,
   "metadata": {
    "colab": {},
    "colab_type": "code",
    "id": "WPAi_npZJMb3"
   },
   "outputs": [],
   "source": [
    "# Define parameters\n",
    "\n",
    "b=-18   #intercept is known and equal to -18\n",
    "a = 0   #coefficient is not known and randomly assigned to be 0\n",
    "l=0.001 #learning rate is defined to be 0.001"
   ]
  },
  {
   "cell_type": "markdown",
   "metadata": {
    "colab_type": "text",
    "id": "sRQQqTii57lK"
   },
   "source": [
    "### 5.2.1. Step 1"
   ]
  },
  {
   "cell_type": "markdown",
   "metadata": {
    "colab_type": "text",
    "id": "dZDdWRk3UnTJ"
   },
   "source": [
    "First step is to plug $a=0$ into the derivative:\n",
    "\n",
    "\\begin{equation}\n",
    "\\begin{split}\n",
    "    \\frac{\\partial}{\\partial \\ a} \\ J(a) &=(-2)\\Big(31-(0*30-18)\\Big)+(-2)\\Big(30-(0*46-18)\\Big)+(-2)\\Big(80-(0*60-18)\\Big)+\\\\\n",
    "    &+(-2)\\Big(49-(0*65-18)\\Big)+(-2)\\Big(70-(0*77-18)\\Big)+(-2)\\Big(118-(0*95-18)\\Big) \\\\ = -972\n",
    "\\end{split}\n",
    "\\end{equation}\n"
   ]
  },
  {
   "cell_type": "code",
   "execution_count": 24,
   "metadata": {
    "colab": {
     "base_uri": "https://localhost:8080/",
     "height": 34
    },
    "colab_type": "code",
    "id": "_hiBGzEWTbi4",
    "outputId": "5e818f71-2198-4b29-b6fd-7f4ef71bb163"
   },
   "outputs": [
    {
     "name": "stdout",
     "output_type": "stream",
     "text": [
      "Derivative =  [-972]\n"
     ]
    }
   ],
   "source": [
    "# Calculating a derivative\n",
    "\n",
    "d=(-2)*(y[0]-(a*x[0]+b))+(-2)*(y[1]-(a*x[1]+b))+(-2)*(y[2]-(a*x[2]+b))+(-2)*(y[3]-(a*x[3]+b))+(-2)*(y[4]-(a*x[4]+b))+(-2)*(y[5]-(a*x[5]+b))\n",
    "print('Derivative = ', d)"
   ]
  },
  {
   "cell_type": "markdown",
   "metadata": {
    "colab_type": "text",
    "id": "lLPHx5fXVRH0"
   },
   "source": [
    "Thus, when $a=0$, the slope of the curve = -972. \n",
    "\n",
    "Gradient descent use step size to get to the minimum point. The closer we get to the optimal value for the $a$, the smaller the step sizes. Gradient descent determines the **Step Size** by multiplying the slope $a$ by a small number called the learning rate $l$. \n",
    "\n",
    "For now, let's take $l=0.001$ and calculate the Step Size:\n",
    "\n",
    "\\begin{equation}\n",
    "    \\begin{split}\n",
    "        Step \\ Size &= J(a) * l \\\\\n",
    "        &=(-972)*0.001 \\\\\n",
    "        &=-0.972\n",
    "    \\end{split}\n",
    "\\end{equation}"
   ]
  },
  {
   "cell_type": "code",
   "execution_count": 25,
   "metadata": {
    "colab": {
     "base_uri": "https://localhost:8080/",
     "height": 34
    },
    "colab_type": "code",
    "id": "W4-Jrt-7Kar1",
    "outputId": "b9d9fa3d-cb9f-492e-93e7-f6ba9ae1c1f9"
   },
   "outputs": [
    {
     "name": "stdout",
     "output_type": "stream",
     "text": [
      "Step Size =  [-0.972]\n"
     ]
    }
   ],
   "source": [
    "step_size = d*l\n",
    "print('Step Size = ', step_size)"
   ]
  },
  {
   "cell_type": "markdown",
   "metadata": {
    "colab_type": "text",
    "id": "6KsJwQ43VsQ5"
   },
   "source": [
    "And then we update $a$: \n",
    "\\begin{equation}\n",
    "    \\begin{split}\n",
    "        a_{new} &= a - Step \\ Size \\\\\n",
    "        &=0-(-0.972)=0.972\n",
    "    \\end{split}\n",
    "\\end{equation}\n"
   ]
  },
  {
   "cell_type": "code",
   "execution_count": 26,
   "metadata": {
    "colab": {
     "base_uri": "https://localhost:8080/",
     "height": 34
    },
    "colab_type": "code",
    "id": "nq1ouPKhVrqR",
    "outputId": "5763b135-331d-4f21-8355-9b3c85e66c45"
   },
   "outputs": [
    {
     "name": "stdout",
     "output_type": "stream",
     "text": [
      "At Step 1, a =  [0.972]\n"
     ]
    }
   ],
   "source": [
    "a = a-step_size\n",
    "print('At Step 1, a = ', a)"
   ]
  },
  {
   "cell_type": "markdown",
   "metadata": {
    "colab_type": "text",
    "id": "2PHqFpeZV8qy"
   },
   "source": [
    "### 5.2.2. Step 2"
   ]
  },
  {
   "cell_type": "markdown",
   "metadata": {
    "colab_type": "text",
    "id": "X5_xJ9w7XE97"
   },
   "source": [
    "Following the same logic, we now use the new coefficient $a$ to calculate new  derivative:"
   ]
  },
  {
   "cell_type": "code",
   "execution_count": 27,
   "metadata": {
    "colab": {
     "base_uri": "https://localhost:8080/",
     "height": 34
    },
    "colab_type": "code",
    "id": "dIA4Aqf5KqYr",
    "outputId": "bb54694c-43b9-4336-9143-d8a992a4fc23"
   },
   "outputs": [
    {
     "name": "stdout",
     "output_type": "stream",
     "text": [
      "Derivative =  [-246.888]\n"
     ]
    }
   ],
   "source": [
    "d=(-2)*(y[0]-(a*x[0]+b))+(-2)*(y[1]-(a*x[1]+b))+(-2)*(y[2]-(a*x[2]+b))+(-2)*(y[3]-(a*x[3]+b))+(-2)*(y[4]-(a*x[4]+b))+(-2)*(y[5]-(a*x[5]+b))\n",
    "print('Derivative = ', d)"
   ]
  },
  {
   "cell_type": "code",
   "execution_count": 28,
   "metadata": {
    "colab": {
     "base_uri": "https://localhost:8080/",
     "height": 34
    },
    "colab_type": "code",
    "id": "qVuaqC0KKswx",
    "outputId": "e8dcfa71-ac0b-415a-8cbe-ab28ee00babc"
   },
   "outputs": [
    {
     "name": "stdout",
     "output_type": "stream",
     "text": [
      "Step Size =  [-0.246888]\n"
     ]
    }
   ],
   "source": [
    "step_size = d*l\n",
    "print('Step Size = ', step_size)"
   ]
  },
  {
   "cell_type": "code",
   "execution_count": 29,
   "metadata": {
    "colab": {
     "base_uri": "https://localhost:8080/",
     "height": 34
    },
    "colab_type": "code",
    "id": "TgTmNCykXSDm",
    "outputId": "180beb67-d025-4b8a-8027-ec3dcdea568e"
   },
   "outputs": [
    {
     "name": "stdout",
     "output_type": "stream",
     "text": [
      "At Step 2, a =  [1.218888]\n"
     ]
    }
   ],
   "source": [
    "a = a-step_size\n",
    "print('At Step 2, a = ', a)"
   ]
  },
  {
   "cell_type": "markdown",
   "metadata": {
    "colab_type": "text",
    "id": "I8T8-8NNXg7-"
   },
   "source": [
    "### 5.2.3. Step 3"
   ]
  },
  {
   "cell_type": "code",
   "execution_count": 30,
   "metadata": {
    "colab": {
     "base_uri": "https://localhost:8080/",
     "height": 34
    },
    "colab_type": "code",
    "id": "Gc8ahUhzKxwJ",
    "outputId": "3c148a85-4b0b-4770-b10a-8bd6e29800a8"
   },
   "outputs": [
    {
     "name": "stdout",
     "output_type": "stream",
     "text": [
      "Derivative =  [-62.709552]\n"
     ]
    }
   ],
   "source": [
    "d=(-2)*(y[0]-(a*x[0]+b))+(-2)*(y[1]-(a*x[1]+b))+(-2)*(y[2]-(a*x[2]+b))+(-2)*(y[3]-(a*x[3]+b))+(-2)*(y[4]-(a*x[4]+b))+(-2)*(y[5]-(a*x[5]+b))\n",
    "print('Derivative = ', d)"
   ]
  },
  {
   "cell_type": "code",
   "execution_count": 31,
   "metadata": {
    "colab": {
     "base_uri": "https://localhost:8080/",
     "height": 34
    },
    "colab_type": "code",
    "id": "FM6_eE7-KySI",
    "outputId": "1644d97b-ae13-44b9-fcbb-b267a22523bd"
   },
   "outputs": [
    {
     "name": "stdout",
     "output_type": "stream",
     "text": [
      "Step Size =  [-0.06270955]\n"
     ]
    }
   ],
   "source": [
    "step_size = d*l\n",
    "print('Step Size = ', step_size)"
   ]
  },
  {
   "cell_type": "code",
   "execution_count": 32,
   "metadata": {
    "colab": {
     "base_uri": "https://localhost:8080/",
     "height": 34
    },
    "colab_type": "code",
    "id": "qdMmy01wKy9Q",
    "outputId": "d7d2079e-1ae0-484d-83a1-0e4b89903042"
   },
   "outputs": [
    {
     "name": "stdout",
     "output_type": "stream",
     "text": [
      "At Step 3, a =  [1.28159755]\n"
     ]
    }
   ],
   "source": [
    "a = a-step_size\n",
    "print('At Step 3, a = ', a)"
   ]
  },
  {
   "cell_type": "markdown",
   "metadata": {
    "colab_type": "text",
    "id": "Yvi3IAJ2Xq9t"
   },
   "source": [
    "### 5.2.4. Step 4"
   ]
  },
  {
   "cell_type": "code",
   "execution_count": 33,
   "metadata": {
    "colab": {
     "base_uri": "https://localhost:8080/",
     "height": 34
    },
    "colab_type": "code",
    "id": "cjOD4DC1Xo7M",
    "outputId": "6f2fa61c-8b8a-4654-bf5f-6c2ae39a030e"
   },
   "outputs": [
    {
     "name": "stdout",
     "output_type": "stream",
     "text": [
      "Derivative =  [-15.92822621]\n"
     ]
    }
   ],
   "source": [
    "d=(-2)*(y[0]-(a*x[0]+b))+(-2)*(y[1]-(a*x[1]+b))+(-2)*(y[2]-(a*x[2]+b))+(-2)*(y[3]-(a*x[3]+b))+(-2)*(y[4]-(a*x[4]+b))+(-2)*(y[5]-(a*x[5]+b))\n",
    "print('Derivative = ', d)"
   ]
  },
  {
   "cell_type": "code",
   "execution_count": 34,
   "metadata": {
    "colab": {
     "base_uri": "https://localhost:8080/",
     "height": 34
    },
    "colab_type": "code",
    "id": "nLdDqugWKz1n",
    "outputId": "562b6319-5a5c-4b1f-ea98-994066f32549"
   },
   "outputs": [
    {
     "name": "stdout",
     "output_type": "stream",
     "text": [
      "Step Size =  [-0.01592823]\n"
     ]
    }
   ],
   "source": [
    "step_size = d*l\n",
    "print('Step Size = ', step_size)"
   ]
  },
  {
   "cell_type": "code",
   "execution_count": 35,
   "metadata": {
    "colab": {
     "base_uri": "https://localhost:8080/",
     "height": 34
    },
    "colab_type": "code",
    "id": "cqV0NmhCXtvW",
    "outputId": "54d69aa5-1834-4e00-96ba-4ac8ffe5f38e"
   },
   "outputs": [
    {
     "name": "stdout",
     "output_type": "stream",
     "text": [
      "At Step 4, a =  [1.29752578]\n"
     ]
    }
   ],
   "source": [
    "a = a-step_size\n",
    "print('At Step 4, a = ', a)"
   ]
  },
  {
   "cell_type": "markdown",
   "metadata": {
    "colab_type": "text",
    "id": "PRNAYV_JXv4O"
   },
   "source": [
    "### 5.2.5. Step 5"
   ]
  },
  {
   "cell_type": "code",
   "execution_count": 36,
   "metadata": {
    "colab": {
     "base_uri": "https://localhost:8080/",
     "height": 34
    },
    "colab_type": "code",
    "id": "cSEQfvuqK0fw",
    "outputId": "f2cc52f7-38c3-487f-f40d-4de57b15523d"
   },
   "outputs": [
    {
     "name": "stdout",
     "output_type": "stream",
     "text": [
      "Derivative =  [-4.04576946]\n"
     ]
    }
   ],
   "source": [
    "d=(-2)*(y[0]-(a*x[0]+b))+(-2)*(y[1]-(a*x[1]+b))+(-2)*(y[2]-(a*x[2]+b))+(-2)*(y[3]-(a*x[3]+b))+(-2)*(y[4]-(a*x[4]+b))+(-2)*(y[5]-(a*x[5]+b))\n",
    "print('Derivative = ', d)"
   ]
  },
  {
   "cell_type": "code",
   "execution_count": 37,
   "metadata": {
    "colab": {
     "base_uri": "https://localhost:8080/",
     "height": 34
    },
    "colab_type": "code",
    "id": "X5_Gt92AK1Qp",
    "outputId": "22b3f072-d823-4ecc-e5be-42ce22659968"
   },
   "outputs": [
    {
     "name": "stdout",
     "output_type": "stream",
     "text": [
      "Step Size =  [-0.00404577]\n"
     ]
    }
   ],
   "source": [
    "step_size = d*l\n",
    "print('Step Size = ', step_size)"
   ]
  },
  {
   "cell_type": "code",
   "execution_count": 38,
   "metadata": {
    "colab": {
     "base_uri": "https://localhost:8080/",
     "height": 34
    },
    "colab_type": "code",
    "id": "J3b7zeIdK12n",
    "outputId": "25669e36-6bb1-4113-fba2-bbd4f3e977bf"
   },
   "outputs": [
    {
     "name": "stdout",
     "output_type": "stream",
     "text": [
      "At Step 5, a =  [1.30157155]\n"
     ]
    }
   ],
   "source": [
    "a = a-step_size\n",
    "print('At Step 5, a = ', a)"
   ]
  },
  {
   "cell_type": "markdown",
   "metadata": {
    "colab_type": "text",
    "id": "qJP1hpYlX2Mx"
   },
   "source": [
    "### 5.2.6. Step 6"
   ]
  },
  {
   "cell_type": "code",
   "execution_count": 39,
   "metadata": {
    "colab": {
     "base_uri": "https://localhost:8080/",
     "height": 34
    },
    "colab_type": "code",
    "id": "5CozLzwgK9fP",
    "outputId": "1418cab2-24d2-4705-b26f-97772071c0ce"
   },
   "outputs": [
    {
     "name": "stdout",
     "output_type": "stream",
     "text": [
      "Derivative =  [-1.02762544]\n"
     ]
    }
   ],
   "source": [
    "d=(-2)*(y[0]-(a*x[0]+b))+(-2)*(y[1]-(a*x[1]+b))+(-2)*(y[2]-(a*x[2]+b))+(-2)*(y[3]-(a*x[3]+b))+(-2)*(y[4]-(a*x[4]+b))+(-2)*(y[5]-(a*x[5]+b))\n",
    "print('Derivative = ', d)"
   ]
  },
  {
   "cell_type": "code",
   "execution_count": 40,
   "metadata": {
    "colab": {
     "base_uri": "https://localhost:8080/",
     "height": 34
    },
    "colab_type": "code",
    "id": "fj3l2E5eK_-e",
    "outputId": "2529d140-33ba-448b-e1ca-91874870be9f"
   },
   "outputs": [
    {
     "name": "stdout",
     "output_type": "stream",
     "text": [
      "Step Size =  [-0.00102763]\n"
     ]
    }
   ],
   "source": [
    "step_size = d*l\n",
    "print('Step Size = ', step_size)"
   ]
  },
  {
   "cell_type": "code",
   "execution_count": 41,
   "metadata": {
    "colab": {
     "base_uri": "https://localhost:8080/",
     "height": 34
    },
    "colab_type": "code",
    "id": "u2ttqGljLAYe",
    "outputId": "b5b8b458-f799-4a9d-a58b-44d6103e1b57"
   },
   "outputs": [
    {
     "name": "stdout",
     "output_type": "stream",
     "text": [
      "At Step 6, a =  [1.30259917]\n"
     ]
    }
   ],
   "source": [
    "a = a-step_size\n",
    "print('At Step 6, a = ', a)"
   ]
  },
  {
   "cell_type": "markdown",
   "metadata": {
    "colab_type": "text",
    "id": "TgAnWjY-X9T1"
   },
   "source": [
    "### 5.2.7. Step 7"
   ]
  },
  {
   "cell_type": "code",
   "execution_count": 42,
   "metadata": {
    "colab": {
     "base_uri": "https://localhost:8080/",
     "height": 34
    },
    "colab_type": "code",
    "id": "CWkXkIJOLQNO",
    "outputId": "17355fb3-403d-4e59-f58e-341f4eebd62b"
   },
   "outputs": [
    {
     "name": "stdout",
     "output_type": "stream",
     "text": [
      "Derivative =  [-0.26101686]\n"
     ]
    }
   ],
   "source": [
    "d=(-2)*(y[0]-(a*x[0]+b))+(-2)*(y[1]-(a*x[1]+b))+(-2)*(y[2]-(a*x[2]+b))+(-2)*(y[3]-(a*x[3]+b))+(-2)*(y[4]-(a*x[4]+b))+(-2)*(y[5]-(a*x[5]+b))\n",
    "print('Derivative = ', d)"
   ]
  },
  {
   "cell_type": "code",
   "execution_count": 43,
   "metadata": {
    "colab": {
     "base_uri": "https://localhost:8080/",
     "height": 34
    },
    "colab_type": "code",
    "id": "iK0LTqeSLTJL",
    "outputId": "d9a3f8ee-bcf7-439d-fe68-84612efec21e"
   },
   "outputs": [
    {
     "name": "stdout",
     "output_type": "stream",
     "text": [
      "Step Size =  [-0.00026102]\n"
     ]
    }
   ],
   "source": [
    "step_size = d*l\n",
    "print('Step Size = ', step_size)"
   ]
  },
  {
   "cell_type": "code",
   "execution_count": 44,
   "metadata": {
    "colab": {
     "base_uri": "https://localhost:8080/",
     "height": 34
    },
    "colab_type": "code",
    "id": "u_N-Sxv0LThk",
    "outputId": "3890bfcd-536f-4864-f502-eeef24b48118"
   },
   "outputs": [
    {
     "name": "stdout",
     "output_type": "stream",
     "text": [
      "At Step 7, a =  [1.30286019]\n"
     ]
    }
   ],
   "source": [
    "a = a-step_size\n",
    "print('At Step 7, a = ', a)"
   ]
  },
  {
   "cell_type": "markdown",
   "metadata": {
    "colab_type": "text",
    "id": "jB-lwgx5X_x9"
   },
   "source": [
    "### 5.2.8. Step 8"
   ]
  },
  {
   "cell_type": "code",
   "execution_count": 45,
   "metadata": {
    "colab": {
     "base_uri": "https://localhost:8080/",
     "height": 34
    },
    "colab_type": "code",
    "id": "j-X_YGydLT69",
    "outputId": "631502bd-9ab3-4fe2-8d1d-ad8a88e411f0"
   },
   "outputs": [
    {
     "name": "stdout",
     "output_type": "stream",
     "text": [
      "Derivative =  [-0.06629828]\n"
     ]
    }
   ],
   "source": [
    "d=(-2)*(y[0]-(a*x[0]+b))+(-2)*(y[1]-(a*x[1]+b))+(-2)*(y[2]-(a*x[2]+b))+(-2)*(y[3]-(a*x[3]+b))+(-2)*(y[4]-(a*x[4]+b))+(-2)*(y[5]-(a*x[5]+b))\n",
    "print('Derivative = ', d)"
   ]
  },
  {
   "cell_type": "code",
   "execution_count": 46,
   "metadata": {
    "colab": {
     "base_uri": "https://localhost:8080/",
     "height": 34
    },
    "colab_type": "code",
    "id": "su3lMRN6LU48",
    "outputId": "3f77b8d5-df7a-45bf-898b-e3e184c655be"
   },
   "outputs": [
    {
     "name": "stdout",
     "output_type": "stream",
     "text": [
      "Step Size =  [-6.6298283e-05]\n"
     ]
    }
   ],
   "source": [
    "step_size = d*l\n",
    "print('Step Size = ', step_size)"
   ]
  },
  {
   "cell_type": "code",
   "execution_count": 47,
   "metadata": {
    "colab": {
     "base_uri": "https://localhost:8080/",
     "height": 34
    },
    "colab_type": "code",
    "id": "3Z0GL6r2LVwF",
    "outputId": "f7179108-a5b8-4164-99e8-5c712e2899cf"
   },
   "outputs": [
    {
     "name": "stdout",
     "output_type": "stream",
     "text": [
      "At Step 8, a =  [1.30292649]\n"
     ]
    }
   ],
   "source": [
    "a = a-step_size\n",
    "print('At Step 8, a = ', a)"
   ]
  }
 ],
 "metadata": {
  "colab": {
   "include_colab_link": true,
   "name": "cost_function.ipynb",
   "provenance": []
  },
  "kernelspec": {
   "display_name": "Python 3",
   "language": "python",
   "name": "python3"
  },
  "language_info": {
   "codemirror_mode": {
    "name": "ipython",
    "version": 3
   },
   "file_extension": ".py",
   "mimetype": "text/x-python",
   "name": "python",
   "nbconvert_exporter": "python",
   "pygments_lexer": "ipython3",
   "version": "3.8.3"
  }
 },
 "nbformat": 4,
 "nbformat_minor": 1
}
