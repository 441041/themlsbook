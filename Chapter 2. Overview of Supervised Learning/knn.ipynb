{
 "cells": [
  {
   "cell_type": "markdown",
   "metadata": {},
   "source": [
    "# Chapter 2 | K-nearest neighbors (KNN)\n",
    "\n",
    "This Jupyter Notebook is a supplement for the [Machine Learning For Everyone](ml4everyonebook.com) book."
   ]
  },
  {
   "cell_type": "markdown",
   "metadata": {},
   "source": [
    "> Let's recall what we covered in Chapter 2. We have a hypothetical data table containing 20 fruits that are a mix of `apples`, `mandarins`, and `lemons` For each fruit, we have measured it’s `height` and `width` and recorded them as the first two columns of the table. For each fruit we know its `type`, or class label, and this is represented by the last column:"
   ]
  },
  {
   "cell_type": "markdown",
   "metadata": {},
   "source": [
    "| height | width | fruit |\n",
    "| ----------- | ----------- | ----------- |\n",
    "| 3.91 | 5.76 | Mandarin |\n",
    "| 7.09 | 7.69 | Apple |\n",
    "| 10.48 | 7.32 | Lemon |\n",
    "| 9.21 | 7.20 | Lemon |\n",
    "| 7.95 | 5.90 | Lemon |\n",
    "| 4.30 | 5.88 | Mandarin |\n",
    "| 7.62 | 7.51 | Apple |\n",
    "| 8.42 | 5.99 | Lemon |\n",
    "| 7.15 | 7.43 | Apple |\n",
    "| 4.69 | 6.19 | Mandarin |\n",
    "| 7.50 | 5.99 | Lemon |\n",
    "| 7.11 | 7.02 | Apple |\n",
    "| 4.15 | 5.60 | Mandarin |\n",
    "| 7.29 | 8.38 | Apple |\n",
    "| 8.49 | 6.52 | Lemon |\n",
    "| 7.44 | 7.89 | Apple |\n",
    "| 7.86 | 7.60 | Apple |\n",
    "| 4.40 | 5.90 | Mandarin |\n",
    "| 8.10 | 6.15 | Lemon |\n",
    "| 8.69 | 5.82 | Lemon |"
   ]
  },
  // {
  //  "cell_type": "markdown",
  //  "metadata": {},
  //  "source": [
  //   "> The structure of this notebook is identical to the structure of Chapter 2: Overview of Supervised Learning. That means, we will sequentially:\n",
  //   "\n",
  //   "> 1. re-create a hypothetical data table with fruits measurements in Python\n",
  //   "> 2. visualize the dataset in the graph\n",
  //   "> 2. build a KNN classifier by training it with the dataset\n",
  //   "> 4. predict new values with classifier\n",
  //   "> 5. visualize decision boundaries of KNN classifier\n",
  //   "> 6. "
  //  ]
  // },
  // {
  //  "cell_type": "markdown",
  //  "metadata": {},
  //  "source": [
  //   "# 1. Load libraries and functions that we will need"
  //  ]
  // },
  // {
  //  "cell_type": "code",
  //  "execution_count": 79,
  //  "metadata": {},
  //  "outputs": [],
  //  "source": [
  //   "import matplotlib.pyplot as plt # Load matplotlib library for visualization\n",
  //   "from matplotlib.colors import ListedColormap\n",
  //   "import pandas as pd  #import pandas for data manipulations\n",
  //   "import numpy as np\n",
  //   "import seaborn as sns\n",
  //   "\n",
  //   "def plotFruitFigure():\n",
  //   "    # Define variables for graph\n",
  //   "    apple_height, apple_width = df.height[df.fruit == 'Apple'], df.width[df.fruit == 'Apple']\n",
  //   "    mandarin_height, mandarin_width = df.height[df.fruit == 'Mandarin'], df.width[df.fruit == 'Mandarin']\n",
  //   "    lemon_height, lemon_width = df.height[df.fruit == 'Lemon'], df.width[df.fruit == 'Lemon']\n",
  //   "\n",
  //   "    # Initialize the graph\n",
  //   "    fig, ax = plt.subplots()\n",
  //   "    plt.gca().set_aspect('equal', adjustable='box')\n",
  //   "\n",
  //   "    # Plot defined variables on it\n",
  //   "    ax.plot(apple_height, apple_width, 'o', color='r', label='apple')\n",
  //   "    ax.plot(mandarin_height, mandarin_width, 'o', color='g', label='mandarin')\n",
  //   "    ax.plot(lemon_height, lemon_width, 'o', color='b', label='lemon')\n",
  //   "\n",
  //   "    # Show legend and configure graph's size\n",
  //   "    plt.legend()\n",
  //   "    plt.ylim(3, 10) \n",
  //   "    plt.xlim(3, 11)\n",
  //   "    \n",
  //   "# Create a function to plot KNN's decision regions\n",
  //   "def plotKNN(\n",
  //   "    n_neighbors=int, \n",
  //   "            plot_data=True,\n",
  //   "            plot_height=None,\n",
  //   "            plot_width=None,\n",
  //   "            plot_labels=None):\n",
  //   "    \n",
  //   "    # Turn categorical target variable into numerical to make a graph\n",
  //   "    X = df[['height', 'width']].values\n",
  //   "    y_encoded = df[\"fruit\"].astype('category').cat.codes #encoded y\n",
  //   "\n",
  //   "\n",
  //   "    # Create color maps for graph\n",
  //   "    cmap_light = ListedColormap(['pink', 'lightblue', 'lightgreen'])\n",
  //   "    cmap_bold = ['green', 'red', 'blue']\n",
  //   "\n",
  //   "    # We want to visualize KNN with 1 nearest neighbor.\n",
  //   "    # Let's initialize the model and train it with the dataset\n",
  //   "    clf = KNeighborsClassifier(n_neighbors = n_neighbors)\n",
  //   "    clf.fit(X, y_encoded)\n",
  //   "\n",
  //   "    # Plot the decision boundary. For that, we will assign a color to each point in the mesh\n",
  //   "    x_min, x_max = X[:, 0].min() - 3, X[:, 0].max() + 3\n",
  //   "    y_min, y_max = X[:, 1].min() - 3, X[:, 1].max() + 3\n",
  //   "\n",
  //   "    h = .02  # step size in the mesh\n",
  //   "    xx, yy = np.meshgrid(np.arange(x_min, x_max, h),\n",
  //   "                         np.arange(y_min, y_max, h))\n",
  //   "\n",
  //   "    Z = clf.predict(np.c_[xx.ravel(), yy.ravel()])\n",
  //   "\n",
  //   "    # Put the result into a color plot\n",
  //   "    Z = Z.reshape(xx.shape)\n",
  //   "    plt.contourf(xx, yy, Z, cmap=cmap_light)\n",
  //   "    \n",
  //   "    if plot_data==True:\n",
  //   "        # Plot also the dataset observations\n",
  //   "        sns.scatterplot(x=plot_height, \n",
  //   "                        y=plot_width,#y=X[:, 1], \n",
  //   "                        hue=plot_labels,#df.fruit.values,\n",
  //   "                        palette=cmap_bold, \n",
  //   "                        alpha=1.0, \n",
  //   "                        edgecolor=\"black\")\n",
  //   "\n",
  //   "    # Configure the graph\n",
  //   "    plt.ylim(3, 10) \n",
  //   "    plt.xlim(3, 11)\n",
  //   "    plt.gca().set_aspect('equal', adjustable='box')\n",
  //   "\n",
  //   "    plt.title(f'KNN Fruits Classifier, n={n_neighbors}')\n",
  //   "    plt.xlabel(\"height\")\n",
  //   "    plt.ylabel(\"width\")  "
  //  ]
  // },
  // {
  //  "cell_type": "markdown",
  //  "metadata": {},
  //  "source": [
  //   "# 2. Probelm Representation"
  //  ]
  // },
  // {
  //  "cell_type": "markdown",
  //  "metadata": {},
  //  "source": [
  //   "## 2.1. Create Hypothetical Dataset"
  //  ]
  // },
  // {
  //  "cell_type": "markdown",
  //  "metadata": {},
  //  "source": [
  //   "> To create a table, we use `pandas` library - a library that manages **PAN**el **DA**ta **S**ets."
  //  ]
  // },
  // {
  //  "cell_type": "code",
  //  "execution_count": 60,
  //  "metadata": {},
  //  "outputs": [
  //   {
  //    "data": {
  //     "text/html": [
  //      "<div>\n",
  //      "<style scoped>\n",
  //      "    .dataframe tbody tr th:only-of-type {\n",
  //      "        vertical-align: middle;\n",
  //      "    }\n",
  //      "\n",
  //      "    .dataframe tbody tr th {\n",
  //      "        vertical-align: top;\n",
  //      "    }\n",
  //      "\n",
  //      "    .dataframe thead th {\n",
  //      "        text-align: right;\n",
  //      "    }\n",
  //      "</style>\n",
  //      "<table border=\"1\" class=\"dataframe\">\n",
  //      "  <thead>\n",
  //      "    <tr style=\"text-align: right;\">\n",
  //      "      <th></th>\n",
  //      "      <th>height</th>\n",
  //      "      <th>width</th>\n",
  //      "      <th>fruit</th>\n",
  //      "    </tr>\n",
  //      "  </thead>\n",
  //      "  <tbody>\n",
  //      "    <tr>\n",
  //      "      <th>0</th>\n",
  //      "      <td>3.91</td>\n",
  //      "      <td>5.76</td>\n",
  //      "      <td>Mandarin</td>\n",
  //      "    </tr>\n",
  //      "    <tr>\n",
  //      "      <th>1</th>\n",
  //      "      <td>7.09</td>\n",
  //      "      <td>7.69</td>\n",
  //      "      <td>Apple</td>\n",
  //      "    </tr>\n",
  //      "    <tr>\n",
  //      "      <th>2</th>\n",
  //      "      <td>10.48</td>\n",
  //      "      <td>7.32</td>\n",
  //      "      <td>Lemon</td>\n",
  //      "    </tr>\n",
  //      "    <tr>\n",
  //      "      <th>3</th>\n",
  //      "      <td>9.21</td>\n",
  //      "      <td>7.20</td>\n",
  //      "      <td>Lemon</td>\n",
  //      "    </tr>\n",
  //      "    <tr>\n",
  //      "      <th>4</th>\n",
  //      "      <td>7.95</td>\n",
  //      "      <td>5.90</td>\n",
  //      "      <td>Lemon</td>\n",
  //      "    </tr>\n",
  //      "    <tr>\n",
  //      "      <th>5</th>\n",
  //      "      <td>4.30</td>\n",
  //      "      <td>5.88</td>\n",
  //      "      <td>Mandarin</td>\n",
  //      "    </tr>\n",
  //      "    <tr>\n",
  //      "      <th>6</th>\n",
  //      "      <td>7.62</td>\n",
  //      "      <td>7.51</td>\n",
  //      "      <td>Apple</td>\n",
  //      "    </tr>\n",
  //      "    <tr>\n",
  //      "      <th>7</th>\n",
  //      "      <td>8.42</td>\n",
  //      "      <td>5.99</td>\n",
  //      "      <td>Lemon</td>\n",
  //      "    </tr>\n",
  //      "    <tr>\n",
  //      "      <th>8</th>\n",
  //      "      <td>7.15</td>\n",
  //      "      <td>7.43</td>\n",
  //      "      <td>Apple</td>\n",
  //      "    </tr>\n",
  //      "    <tr>\n",
  //      "      <th>9</th>\n",
  //      "      <td>4.69</td>\n",
  //      "      <td>6.19</td>\n",
  //      "      <td>Mandarin</td>\n",
  //      "    </tr>\n",
  //      "    <tr>\n",
  //      "      <th>10</th>\n",
  //      "      <td>7.50</td>\n",
  //      "      <td>5.99</td>\n",
  //      "      <td>Lemon</td>\n",
  //      "    </tr>\n",
  //      "    <tr>\n",
  //      "      <th>11</th>\n",
  //      "      <td>7.11</td>\n",
  //      "      <td>7.02</td>\n",
  //      "      <td>Apple</td>\n",
  //      "    </tr>\n",
  //      "    <tr>\n",
  //      "      <th>12</th>\n",
  //      "      <td>4.15</td>\n",
  //      "      <td>5.60</td>\n",
  //      "      <td>Mandarin</td>\n",
  //      "    </tr>\n",
  //      "    <tr>\n",
  //      "      <th>13</th>\n",
  //      "      <td>7.29</td>\n",
  //      "      <td>8.38</td>\n",
  //      "      <td>Apple</td>\n",
  //      "    </tr>\n",
  //      "    <tr>\n",
  //      "      <th>14</th>\n",
  //      "      <td>8.49</td>\n",
  //      "      <td>6.52</td>\n",
  //      "      <td>Lemon</td>\n",
  //      "    </tr>\n",
  //      "    <tr>\n",
  //      "      <th>15</th>\n",
  //      "      <td>7.44</td>\n",
  //      "      <td>7.89</td>\n",
  //      "      <td>Apple</td>\n",
  //      "    </tr>\n",
  //      "    <tr>\n",
  //      "      <th>16</th>\n",
  //      "      <td>7.86</td>\n",
  //      "      <td>7.60</td>\n",
  //      "      <td>Apple</td>\n",
  //      "    </tr>\n",
  //      "    <tr>\n",
  //      "      <th>17</th>\n",
  //      "      <td>4.40</td>\n",
  //      "      <td>5.90</td>\n",
  //      "      <td>Mandarin</td>\n",
  //      "    </tr>\n",
  //      "    <tr>\n",
  //      "      <th>18</th>\n",
  //      "      <td>8.10</td>\n",
  //      "      <td>6.15</td>\n",
  //      "      <td>Lemon</td>\n",
  //      "    </tr>\n",
  //      "    <tr>\n",
  //      "      <th>19</th>\n",
  //      "      <td>8.69</td>\n",
  //      "      <td>5.82</td>\n",
  //      "      <td>Lemon</td>\n",
  //      "    </tr>\n",
  //      "  </tbody>\n",
  //      "</table>\n",
  //      "</div>"
  //     ],
  //     "text/plain": [
  //      "    height  width     fruit\n",
  //      "0     3.91   5.76  Mandarin\n",
  //      "1     7.09   7.69     Apple\n",
  //      "2    10.48   7.32     Lemon\n",
  //      "3     9.21   7.20     Lemon\n",
  //      "4     7.95   5.90     Lemon\n",
  //      "5     4.30   5.88  Mandarin\n",
  //      "6     7.62   7.51     Apple\n",
  //      "7     8.42   5.99     Lemon\n",
  //      "8     7.15   7.43     Apple\n",
  //      "9     4.69   6.19  Mandarin\n",
  //      "10    7.50   5.99     Lemon\n",
  //      "11    7.11   7.02     Apple\n",
  //      "12    4.15   5.60  Mandarin\n",
  //      "13    7.29   8.38     Apple\n",
  //      "14    8.49   6.52     Lemon\n",
  //      "15    7.44   7.89     Apple\n",
  //      "16    7.86   7.60     Apple\n",
  //      "17    4.40   5.90  Mandarin\n",
  //      "18    8.10   6.15     Lemon\n",
  //      "19    8.69   5.82     Lemon"
  //     ]
  //    },
  //    "execution_count": 60,
  //    "metadata": {},
  //    "output_type": "execute_result"
  //   }
  //  ],
  //  "source": [
  //   "# Create a hypothetical dataset from the MLS book\n",
  //   "data = {'height': [3.91, 7.09, 10.48, 9.21, 7.95, 7.62, 7.95, 4.69, 7.50, 7.11, 4.15, 7.29, 8.49, 7.44, 7.86, 3.93, 4.40, 5.5, 8.10, 8.69], \n",
  //   "        'width': [5.76, 7.69, 7.32, 7.20, 5.90, 7.51, 5.32, 6.19, 5.99, 7.02, 5.60, 8.38, 6.52, 7.89, 7.60, 6.12, 5.90, 4.5, 6.15, 5.82],\n",
  //   "        'fruit': ['Mandarin', 'Apple', 'Lemon', 'Lemon', 'Lemon', 'Apple', 'Mandarin', 'Mandarin', 'Lemon', 'Apple', 'Mandarin', 'Apple', 'Lemon', 'Apple', 'Apple', 'Apple', 'Mandarin', 'Lemon', 'Lemon', 'Lemon']\n",
  //   "       }  \n",
  //   "\n",
  //   "# Create DataFrame df using pandas library\n",
  //   "df = pd.DataFrame(data)  \n",
  //   "  \n",
  //   "# Print the output\n",
  //   "df"
  //  ]
  // },
  // {
  //  "cell_type": "markdown",
  //  "metadata": {},
  //  "source": [
  //   "## 2.2. Visualize the Dataset"
  //  ]
  // },
  // {
  //  "cell_type": "markdown",
  //  "metadata": {},
  //  "source": [
  //   "> Let's now make the same graph that we had in the book. We can do so by simply calling the funtion we wrote in the beginning."
  //  ]
  // },
  // {
  //  "cell_type": "code",
  //  "execution_count": 4,
  //  "metadata": {},
  //  "outputs": [
  //   {
  //    "data": {
  //     "image/png": "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\n",
  //     "text/plain": [
  //      "<Figure size 432x288 with 1 Axes>"
  //     ]
  //    },
  //    "metadata": {
  //     "needs_background": "light"
  //    },
  //    "output_type": "display_data"
  //   }
  //  ],
  //  "source": [
  //   "plotFruitFigure()"
  //  ]
  // },
  // {
  //  "cell_type": "markdown",
  //  "metadata": {},
  //  "source": [
  //   "## 3. Building KNN Classifier"
  //  ]
  // },
  // {
  //  "cell_type": "markdown",
  //  "metadata": {},
  //  "source": [
  //   "> Let's build a classifier and use it to predict some values. Firstly, we define `X` and `y`:"
  //  ]
  // },
  // {
  //  "cell_type": "code",
  //  "execution_count": 5,
  //  "metadata": {},
  //  "outputs": [],
  //  "source": [
  //   "# Define X and y using the dataset\n",
  //   "\n",
  //   "X = df[['height', 'width']].values\n",
  //   "y = df.fruit.values\n"
  //  ]
  // },
  // {
  //  "cell_type": "code",
  //  "execution_count": 64,
  //  "metadata": {},
  //  "outputs": [
  //   {
  //    "data": {
  //     "text/html": [
  //      "<div>\n",
  //      "<style scoped>\n",
  //      "    .dataframe tbody tr th:only-of-type {\n",
  //      "        vertical-align: middle;\n",
  //      "    }\n",
  //      "\n",
  //      "    .dataframe tbody tr th {\n",
  //      "        vertical-align: top;\n",
  //      "    }\n",
  //      "\n",
  //      "    .dataframe thead th {\n",
  //      "        text-align: right;\n",
  //      "    }\n",
  //      "</style>\n",
  //      "<table border=\"1\" class=\"dataframe\">\n",
  //      "  <thead>\n",
  //      "    <tr style=\"text-align: right;\">\n",
  //      "      <th></th>\n",
  //      "      <th>height</th>\n",
  //      "      <th>width</th>\n",
  //      "      <th>fruit</th>\n",
  //      "    </tr>\n",
  //      "  </thead>\n",
  //      "  <tbody>\n",
  //      "    <tr>\n",
  //      "      <th>0</th>\n",
  //      "      <td>3.91</td>\n",
  //      "      <td>5.76</td>\n",
  //      "      <td>Mandarin</td>\n",
  //      "    </tr>\n",
  //      "    <tr>\n",
  //      "      <th>1</th>\n",
  //      "      <td>7.09</td>\n",
  //      "      <td>7.69</td>\n",
  //      "      <td>Apple</td>\n",
  //      "    </tr>\n",
  //      "    <tr>\n",
  //      "      <th>2</th>\n",
  //      "      <td>10.48</td>\n",
  //      "      <td>7.32</td>\n",
  //      "      <td>Lemon</td>\n",
  //      "    </tr>\n",
  //      "    <tr>\n",
  //      "      <th>3</th>\n",
  //      "      <td>9.21</td>\n",
  //      "      <td>7.20</td>\n",
  //      "      <td>Lemon</td>\n",
  //      "    </tr>\n",
  //      "    <tr>\n",
  //      "      <th>4</th>\n",
  //      "      <td>7.95</td>\n",
  //      "      <td>5.90</td>\n",
  //      "      <td>Lemon</td>\n",
  //      "    </tr>\n",
  //      "    <tr>\n",
  //      "      <th>5</th>\n",
  //      "      <td>4.30</td>\n",
  //      "      <td>5.88</td>\n",
  //      "      <td>Mandarin</td>\n",
  //      "    </tr>\n",
  //      "    <tr>\n",
  //      "      <th>6</th>\n",
  //      "      <td>7.62</td>\n",
  //      "      <td>7.51</td>\n",
  //      "      <td>Apple</td>\n",
  //      "    </tr>\n",
  //      "    <tr>\n",
  //      "      <th>7</th>\n",
  //      "      <td>8.42</td>\n",
  //      "      <td>5.99</td>\n",
  //      "      <td>Lemon</td>\n",
  //      "    </tr>\n",
  //      "    <tr>\n",
  //      "      <th>8</th>\n",
  //      "      <td>7.15</td>\n",
  //      "      <td>7.43</td>\n",
  //      "      <td>Apple</td>\n",
  //      "    </tr>\n",
  //      "    <tr>\n",
  //      "      <th>9</th>\n",
  //      "      <td>4.69</td>\n",
  //      "      <td>6.19</td>\n",
  //      "      <td>Mandarin</td>\n",
  //      "    </tr>\n",
  //      "    <tr>\n",
  //      "      <th>10</th>\n",
  //      "      <td>7.50</td>\n",
  //      "      <td>5.99</td>\n",
  //      "      <td>Lemon</td>\n",
  //      "    </tr>\n",
  //      "    <tr>\n",
  //      "      <th>11</th>\n",
  //      "      <td>7.11</td>\n",
  //      "      <td>7.02</td>\n",
  //      "      <td>Apple</td>\n",
  //      "    </tr>\n",
  //      "    <tr>\n",
  //      "      <th>12</th>\n",
  //      "      <td>4.15</td>\n",
  //      "      <td>5.60</td>\n",
  //      "      <td>Mandarin</td>\n",
  //      "    </tr>\n",
  //      "    <tr>\n",
  //      "      <th>13</th>\n",
  //      "      <td>7.29</td>\n",
  //      "      <td>8.38</td>\n",
  //      "      <td>Apple</td>\n",
  //      "    </tr>\n",
  //      "    <tr>\n",
  //      "      <th>14</th>\n",
  //      "      <td>8.49</td>\n",
  //      "      <td>6.52</td>\n",
  //      "      <td>Lemon</td>\n",
  //      "    </tr>\n",
  //      "    <tr>\n",
  //      "      <th>15</th>\n",
  //      "      <td>7.44</td>\n",
  //      "      <td>7.89</td>\n",
  //      "      <td>Apple</td>\n",
  //      "    </tr>\n",
  //      "    <tr>\n",
  //      "      <th>16</th>\n",
  //      "      <td>7.86</td>\n",
  //      "      <td>7.60</td>\n",
  //      "      <td>Apple</td>\n",
  //      "    </tr>\n",
  //      "    <tr>\n",
  //      "      <th>17</th>\n",
  //      "      <td>4.40</td>\n",
  //      "      <td>5.90</td>\n",
  //      "      <td>Mandarin</td>\n",
  //      "    </tr>\n",
  //      "    <tr>\n",
  //      "      <th>18</th>\n",
  //      "      <td>8.10</td>\n",
  //      "      <td>6.15</td>\n",
  //      "      <td>Lemon</td>\n",
  //      "    </tr>\n",
  //      "    <tr>\n",
  //      "      <th>19</th>\n",
  //      "      <td>8.69</td>\n",
  //      "      <td>5.82</td>\n",
  //      "      <td>Lemon</td>\n",
  //      "    </tr>\n",
  //      "  </tbody>\n",
  //      "</table>\n",
  //      "</div>"
  //     ],
  //     "text/plain": [
  //      "    height  width     fruit\n",
  //      "0     3.91   5.76  Mandarin\n",
  //      "1     7.09   7.69     Apple\n",
  //      "2    10.48   7.32     Lemon\n",
  //      "3     9.21   7.20     Lemon\n",
  //      "4     7.95   5.90     Lemon\n",
  //      "5     4.30   5.88  Mandarin\n",
  //      "6     7.62   7.51     Apple\n",
  //      "7     8.42   5.99     Lemon\n",
  //      "8     7.15   7.43     Apple\n",
  //      "9     4.69   6.19  Mandarin\n",
  //      "10    7.50   5.99     Lemon\n",
  //      "11    7.11   7.02     Apple\n",
  //      "12    4.15   5.60  Mandarin\n",
  //      "13    7.29   8.38     Apple\n",
  //      "14    8.49   6.52     Lemon\n",
  //      "15    7.44   7.89     Apple\n",
  //      "16    7.86   7.60     Apple\n",
  //      "17    4.40   5.90  Mandarin\n",
  //      "18    8.10   6.15     Lemon\n",
  //      "19    8.69   5.82     Lemon"
  //     ]
  //    },
  //    "execution_count": 64,
  //    "metadata": {},
  //    "output_type": "execute_result"
  //   }
  //  ],
  //  "source": [
  //   "df"
  //  ]
  // },
//   {
//    "cell_type": "markdown",
//    "metadata": {},
//    "source": [
//     "> Second, we **initialize** our `KNN` algorithm and **train** it with X and y."
//    ]
//   },
//   {
//    "cell_type": "code",
//    "execution_count": 6,
//    "metadata": {},
//    "outputs": [
//     {
//      "data": {
//       "text/plain": [
//        "KNeighborsClassifier(n_neighbors=1)"
//       ]
//      },
//      "execution_count": 6,
//      "metadata": {},
//      "output_type": "execute_result"
//     }
//    ],
//    "source": [
//     "# Import a KNN library\n",
//     "from sklearn.neighbors import KNeighborsClassifier\n",
//     "\n",
//     "# Initialize the KNN model with 1 nearest neighbor\n",
//     "clf = KNeighborsClassifier(n_neighbors = 1)\n",
//     "\n",
//     "# Feed the dataset into the model to train\n",
//     "clf.fit(X, y)"
//    ]
//   },
//   {
//    "cell_type": "markdown",
//    "metadata": {},
//    "source": [
//     "## 4. Predicting unknown values"
//    ]
//   },
//   {
//    "cell_type": "markdown",
//    "metadata": {},
//    "source": [
//     "> Let's predict unknown fruits using our trained classifier:"
//    ]
//   },
//   {
//    "cell_type": "code",
// <<<<<<< HEAD
//    "execution_count": 7,
//    "metadata": {},
// =======
//    "execution_count": 55,
//    "metadata": {
//     "scrolled": true
//    },
// >>>>>>> parent of b0f9239... finishing v0.4 CH2
//    "outputs": [
//     {
//      "data": {
//       "text/plain": [
//        "array(['Lemon'], dtype=object)"
//       ]
//      },
//      "execution_count": 55,
//      "metadata": {},
//      "output_type": "execute_result"
//     }
//    ],
//    "source": [
// <<<<<<< HEAD
//     "plotKNN(n_neighbors=1, \n",
//     "        plot_height= df['height'], \n",
//     "        plot_width = df['width'], \n",
//     "        plot_labels=df.fruit.values)"
// <<<<<<< HEAD
// =======
// =======
//     "# Let's try to predict the label for an unknown fruit with width of 9cm and height of 3cm\n",
//     "clf.predict([[9, 3]])"
//    ]
//   },
//   {
//    "cell_type": "code",
//    "execution_count": 56,
//    "metadata": {},
//    "outputs": [
//     {
//      "data": {
//       "text/plain": [
//        "array(['Lemon', 'Mandarin', 'Mandarin', 'Apple', 'Mandarin'], dtype=object)"
//       ]
//      },
//      "execution_count": 56,
//      "metadata": {},
//      "output_type": "execute_result"
//     }
//    ],
//    "source": [
//     "# We can predict values for a whole bunch of them!\n",
//     "clf.predict([[9, 3], [4, 5], [2, 5], [8, 9], [5, 7]])"
//    ]
//   },
//   {
//    "cell_type": "markdown",
//    "metadata": {},
//    "source": [
//     "## 5. Vizualizing KNN decision boundaries"
//    ]
//   },
//   {
//    "cell_type": "markdown",
//    "metadata": {},
//    "source": [
//     "> Let's visualize the decision boundaries of KNN in a graph, like we did in the book."
//    ]
//   },
//   {
//    "cell_type": "code",
//    "execution_count": 65,
//    "metadata": {},
//    "outputs": [
//     {
//      "data": {
//       "image/png": "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\n",
//       "text/plain": [
//        "<Figure size 432x288 with 1 Axes>"
//       ]
//      },
//      "metadata": {
//       "needs_background": "light"
//      },
//      "output_type": "display_data"
//     }
//    ],
//    "source": [
//     "plotKNN(1)"
// >>>>>>> parent of b0f9239... finishing v0.4 CH2
//    ]
//   },
//   {
//    "cell_type": "markdown",
//    "metadata": {},
//    "source": [
//     "## 6. Missclassifications"
//    ]
//   },
//   {
//    "cell_type": "markdown",
//    "metadata": {},
//    "source": [
//     "> Imagine we have new fuits with the following properties:\n",
//     "\n",
//     "| height | width | fruit |\n",
//     "| ----------- | ----------- | ----------- |\n",
//     "| 6 | 7 | Apple |\n",
//     "| 7 | 6.5 | Lemon |\n",
//     "| 4 | 6 | Mandarin |"
//    ]
//   },
//   {
// <<<<<<< HEAD
//    "cell_type": "code",
//    "execution_count": 26,
//    "metadata": {
//     "scrolled": true
//    },
//    "outputs": [
//     {
//      "data": {
//       "text/plain": [
//        "array(['Mandarin'], dtype=object)"
//       ]
//      },
//      "execution_count": 26,
//      "metadata": {},
//      "output_type": "execute_result"
//     }
//    ],
// =======
//    "cell_type": "markdown",
//    "metadata": {},
// >>>>>>> parent of b0f9239... finishing v0.4 CH2
//    "source": [
//     "> Let's see if our model would correctly predict the fruit label by showing fruits' measurements and not revealing their labels. Let's pick 6 nearest neighbors:"
//    ]
//   },
//   {
//    "cell_type": "code",
// <<<<<<< HEAD
//    "execution_count": 25,
//    "metadata": {},
//    "outputs": [
//     {
//      "data": {
//       "text/plain": [
//        "array(['Mandarin', 'Mandarin', 'Mandarin', 'Apple', 'Mandarin'],\n",
//        "      dtype=object)"
//       ]
//      },
//      "execution_count": 25,
//      "metadata": {},
//      "output_type": "execute_result"
// =======
//    "execution_count": 66,
//    "metadata": {},
//    "outputs": [
//     {
//      "name": "stdout",
//      "output_type": "stream",
//      "text": [
//       "first actual observation is Apple. The model predicted ['Apple'] \n",
//       " second actual observation is Lemon. The model predicted ['Apple'] \n",
//       " third actual observation is Mandarin. The model predicted ['Mandarin']\n"
//      ]
// >>>>>>> parent of b0f9239... finishing v0.4 CH2
//     }
//    ],
//    "source": [
//     "# Again, let's initialize the model\n",
//     "clf = KNeighborsClassifier(n_neighbors = 1)\n",
//     "clf.fit(X, y)\n",
//     "\n",
//     "# Predict observations\n",
//     "pred1 = clf.predict([[6, 7]]) \n",
//     "pred2 = clf.predict([[7, 6.5]])\n",
//     "pred3 = clf.predict([[4, 6]])\n",
//     "\n",
//     "# Print the results\n",
//     "print(f'first actual observation is Apple. The model predicted {pred1}', \n",
//     "     f'\\n second actual observation is Lemon. The model predicted {pred2}',\n",
//     "     f'\\n third actual observation is Mandarin. The model predicted {pred3}')"
//    ]
//   },
//   {
//    "cell_type": "code",
//    "execution_count": null,
//    "metadata": {},
//    "outputs": [],
//    "source": []
//   },
//   {
//    "cell_type": "code",
//    "execution_count": null,
//    "metadata": {},
//    "outputs": [],
//    "source": []
//   },
//   {
//    "cell_type": "markdown",
//    "metadata": {},
//    "source": [
// <<<<<<< HEAD
//     "# 4. How Good is our Prediction Function?"
// >>>>>>> e336ae1d91d323104bbf04d3b1e3c0ed2ec99ad0
// =======
//     "> The model incorrectly predicted the second observation. This is called misclassification - the model predicted the label that was actually incorrect. That reminds me to go further and explain how do we test our model after it was trained. "
// >>>>>>> parent of b0f9239... finishing v0.4 CH2
//    ]
//   },
//   {
//    "cell_type": "markdown",
//    "metadata": {},
//    "source": [
// <<<<<<< HEAD
// <<<<<<< HEAD
//     "> Let's plot the trained model, so just remove the datapoints (as after the learning is done, we don't need them anymore)"
// =======
//     "Training and Test error curves as we vary the hyper-parameter K, the number of neighbors. The left shows an under-fit model which uses too large of a neighborhood K = n. The right of the plot shows an over-fit model which uses too small of a neighborhood K = 1."
// =======
//     "## Testing the Model"
// >>>>>>> parent of b0f9239... finishing v0.4 CH2
//    ]
//   },
//   {
//    "cell_type": "code",
//    "execution_count": 13,
//    "metadata": {},
//    "outputs": [],
//    "source": [
//     "# # Create a hypothetical dataset from the book\n",
//     "# data = {'height': [3.91, 7.09, 10.48, 9.21, 7.95, 4.30, 7.62, 8.42, 7.15, 4.69, 7.50, 7.11, 4.15, 7.29, 8.49, 7.44, 7.86, 4.40, 8.10, 8.69], \n",
//     "#         'width': [5.76, 7.69, 7.32, 7.20, 5.90, 5.88, 7.51, 5.99, 7.43, 6.19, 5.99, 7.02, 5.60, 8.38, 6.52, 7.89, 7.60, 5.90, 6.15, 5.82],\n",
//     "#         'fruit': ['Mandarin', 'Apple', 'Lemon', 'Lemon', 'Lemon', 'Mandarin', 'Apple', 'Lemon', 'Apple', 'Mandarin', 'Lemon', 'Apple', 'Mandarin', 'Apple', 'Lemon', 'Apple', 'Apple', 'Mandarin', 'Lemon', 'Lemon']\n",
//     "#        }  \n",
//     "# df = pd.DataFrame(data) \n",
//     "\n",
//     "# new_data = {'height': [7.95, 3.93, 5.5],\n",
//     "#             'width': [5.32, 6.12, 4.5],\n",
//     "#             'fruit': ['Mandarin', 'Apple', 'Lemon']\n",
//     "#            }\n",
//     "\n",
//     "# # Create DataFrame df using pandas library\n",
//     "# new_points = pd.DataFrame(new_data)  \n",
//     "  \n",
//     "# # Print the output\n",
//     "# df = pd.concat([df, new_points])"
//    ]
//   },
//   {
//    "cell_type": "code",
//    "execution_count": 17,
//    "metadata": {},
//    "outputs": [],
//    "source": [
// <<<<<<< HEAD
//     "## TEST TEST NEW DATASET\n",
//     "\n",
//     "\n",
//     "# Create a hypothetical dataset from the book\n",
//     "# data = {'height': [3.91, 7.09, 10.48, 9.21, 7.95, 7.62, 7.95, 4.69, 7.50, 7.11, 4.15, 7.29, 8.49, 7.44, 7.86, 3.93, 4.40, 5.5, 8.10, 8.69], \n",
//     "#         'width': [5.76, 7.69, 7.32, 7.20, 5.90, 7.51, 5.32, 6.19, 5.99, 7.02, 5.60, 8.38, 6.52, 7.89, 7.60, 6.12, 5.90, 4.5, 6.15, 5.82],\n",
//     "#         'fruit': ['Mandarin', 'Apple', 'Lemon', 'Lemon', 'Lemon', 'Apple', 'Mandarin', 'Mandarin', 'Lemon', 'Apple', 'Mandarin', 'Apple', 'Lemon', 'Apple', 'Apple', 'Apple', 'Mandarin', 'Lemon', 'Lemon', 'Lemon']\n",
//     "#        }  \n",
//     "# df = pd.DataFrame(data) "
// =======
//     "> Testing the model is just a procedure to evaluate model's accuracy. It's done by comparing model's predicted values with actual results. "
//    ]
//   },
//   {
//    "cell_type": "code",
//    "execution_count": null,
//    "metadata": {},
//    "outputs": [],
//    "source": [
//     "# First, we predict labels for X\n",
//     "y_pred = clf.predict(X)\n",
//     "print(f'predicted labels: \\n\\n {y_pred}')"
// >>>>>>> parent of b0f9239... finishing v0.4 CH2
//    ]
//   },
//   {
//    "cell_type": "markdown",
//    "metadata": {},
//    "source": [
// <<<<<<< HEAD
//     "> Visualize"
// >>>>>>> e336ae1d91d323104bbf04d3b1e3c0ed2ec99ad0
// =======
//     "> `y_pred` is predicted by the model fruit labels. Because we also know actual labels `y`:"
// >>>>>>> parent of b0f9239... finishing v0.4 CH2
//    ]
//   },
//   {
//    "cell_type": "code",
// <<<<<<< HEAD
// <<<<<<< HEAD
//    "execution_count": 8,
//    "metadata": {
//     "scrolled": false
//    },
//    "outputs": [
//     {
//      "data": {
//       "image/png": "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\n",
// =======
//    "execution_count": 27,
//    "metadata": {},
//    "outputs": [
//     {
//      "data": {
//       "image/png": "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\n",
// >>>>>>> e336ae1d91d323104bbf04d3b1e3c0ed2ec99ad0
//       "text/plain": [
//        "<Figure size 432x288 with 1 Axes>"
//       ]
//      },
//      "metadata": {
//       "needs_background": "light"
//      },
//      "output_type": "display_data"
//     }
//    ],
//    "source": [
// <<<<<<< HEAD
//     "plotKNN(n_neighbors=1, plot_data=False)"
// =======
//     "plotFruitFigure()"
// >>>>>>> e336ae1d91d323104bbf04d3b1e3c0ed2ec99ad0
// =======
//    "execution_count": null,
//    "metadata": {},
//    "outputs": [],
//    "source": [
//     "print(f'actual labels: \\n\\n {y}')"
//    ]
//   },
//   {
//    "cell_type": "markdown",
//    "metadata": {},
//    "source": [
//     "> We can easily calculate the difference between predicted and actual values. The more the difference between these two, the worse the model is at correct predictions. We can use a ready-to-use library from sklearn called `metrics`"
//    ]
//   },
//   {
//    "cell_type": "code",
//    "execution_count": null,
//    "metadata": {},
//    "outputs": [],
//    "source": [
//     "# Load metrics\n",
//     "from sklearn import metrics\n",
//     "\n",
//     "# Give y and y_pred\n",
//     "print(metrics.accuracy_score(y, y_pred))"
// >>>>>>> parent of b0f9239... finishing v0.4 CH2
//    ]
//   },
//   {
//    "cell_type": "markdown",
//    "metadata": {},
//    "source": [
// <<<<<<< HEAD
// <<<<<<< HEAD
//     "## 3.3. Predict unknown values"
// =======
//     "## 4.2. Train KNN"
// >>>>>>> e336ae1d91d323104bbf04d3b1e3c0ed2ec99ad0
// =======
//     "> 1 means 100% accuracy. Hold on.. That's because we tested the model with the same dataset `X` that we used to train it! In other words, we tried to predict the values (that's `y_pred = clf.predict(X)`) that we used to train the model (`clf.fit(X, y)`). \n",
//     "\n",
//     "> The model is always tested on the observations it has not seen before, i.e. observations that did not participate in model training. One of the ways is to split the dataset into **two chunks** of data, and then use one chunk to train the model, and another one to test it. "
// >>>>>>> parent of b0f9239... finishing v0.4 CH2
//    ]
//   },
//   {
//    "cell_type": "code",
// <<<<<<< HEAD
//    "execution_count": 8,
// =======
//    "execution_count": null,
//    "metadata": {},
//    "outputs": [],
//    "source": [
//     "# STEP 1: Split X and y into training and testing sets\n",
//     "from sklearn.model_selection import train_test_split\n",
//     "X_train, X_test, y_train, y_test = train_test_split(X,       # specifying X\n",
//     "                                                    y_encoded,  # specifying y\n",
//     "                                                    test_size=0.4 #split dataset into 60% training and 40% testing\n",
//     "                                                   )"
//    ]
//   },
//   {
//    "cell_type": "markdown",
//    "metadata": {},
//    "source": [
//     "> let's train our classifier"
//    ]
//   },
//   {
//    "cell_type": "code",
//    "execution_count": 162,
// >>>>>>> parent of b0f9239... finishing v0.4 CH2
//    "metadata": {},
//    "outputs": [
//     {
//      "data": {
//       "text/plain": [
//        "KNeighborsClassifier(n_neighbors=1)"
//       ]
//      },
// <<<<<<< HEAD
//      "execution_count": 8,
// =======
//      "execution_count": 162,
// >>>>>>> parent of b0f9239... finishing v0.4 CH2
//      "metadata": {},
//      "output_type": "execute_result"
//     }
//    ],
//    "source": [
// <<<<<<< HEAD
// <<<<<<< HEAD
//     "> Let's predict unknown fruits using our trained classifier:"
// =======
//     "# Import a KNN library\n",
//     "from sklearn.neighbors import KNeighborsClassifier\n",
//     "\n",
//     "# Initialize the KNN model with 1 nearest neighbor\n",
//     "clf = KNeighborsClassifier(n_neighbors = 1)\n",
//     "\n",
//     "# Define X and y using the dataset\n",
//     "\n",
//     "X = df[['height', 'width']].values\n",
//     "y = df.fruit.values\n",
//     "\n",
//     "# Feed the dataset into the model to train\n",
//     "clf.fit(X, y)"
// >>>>>>> e336ae1d91d323104bbf04d3b1e3c0ed2ec99ad0
// =======
//     "# # STEP 2: Again, initialize the model\n",
//     "clf = KNeighborsClassifier(n_neighbors = 1)\n",
//     "clf.fit(X_train, y_train)"
//    ]
//   },
//   {
//    "cell_type": "code",
//    "execution_count": 163,
//    "metadata": {},
//    "outputs": [],
//    "source": [
//     "# STEP 3: make predictions on the testing set\n",
//     "y_pred = clf.predict(X_test)"
// >>>>>>> parent of b0f9239... finishing v0.4 CH2
//    ]
//   },
//   {
//    "cell_type": "code",
// <<<<<<< HEAD
//    "execution_count": 9,
// <<<<<<< HEAD
//    "metadata": {
//     "scrolled": true
//    },
//    "outputs": [
//     {
//      "data": {
//       "text/plain": [
//        "array(['Mandarin'], dtype=object)"
//       ]
//      },
//      "execution_count": 9,
//      "metadata": {},
//      "output_type": "execute_result"
//     }
//    ],
//    "source": [
//     "# Let's try to predict the label for an unknown fruit with width of 9cm and height of 3cm\n",
//     "clf.predict([[9, 3]])"
// =======
// =======
//    "execution_count": 164,
//    "metadata": {},
//    "outputs": [
//     {
//      "name": "stdout",
//      "output_type": "stream",
//      "text": [
//       "0.0\n"
//      ]
//     }
//    ],
//    "source": [
//     "# STEP 4: compare actual response values (y_test) with predicted response values (y_pred)\n",
//     "print(metrics.accuracy_score(y_test, y_pred))"
//    ]
//   },
//   {
//    "cell_type": "markdown",
//    "metadata": {},
//    "source": [
//     "## Overfitting and Underfitting"
//    ]
//   },
//   {
//    "cell_type": "markdown",
//    "metadata": {},
//    "source": [
//     "Training and Test error curves as we vary the hyper-parameter K, the number of neighbors. The left shows an under-fit model which uses too large of a neighborhood K = n. The right of the plot shows an over-fit model which uses too small of a neighborhood K = 1."
//    ]
//   },
//   {
//    "cell_type": "code",
//    "execution_count": null,
//    "metadata": {},
//    "outputs": [],
//    "source": []
//   },
//   {
//    "cell_type": "code",
//    "execution_count": null,
//    "metadata": {},
//    "outputs": [],
//    "source": []
//   },
//   {
//    "cell_type": "code",
//    "execution_count": null,
//    "metadata": {},
//    "outputs": [],
//    "source": []
//   },
//   {
//    "cell_type": "code",
//    "execution_count": null,
//    "metadata": {},
//    "outputs": [],
//    "source": []
//   },
//   {
//    "cell_type": "code",
//    "execution_count": null,
//    "metadata": {},
//    "outputs": [],
//    "source": [
//     "# Load required libraries\n",
//     "import numpy as np\n",
//     "import matplotlib.pyplot as plt\n",
//     "import seaborn as sns\n",
//     "from matplotlib.colors import ListedColormap\n",
//     "\n",
//     "\n",
//     "# Create color maps for graph\n",
//     "cmap_light = ListedColormap(['pink', 'lightblue', 'lightgreen'])\n",
//     "cmap_bold = ['red', 'blue', 'green']\n",
//     "\n",
//     "# We want to visualize KNN with 1 nearest neighbor.\n",
//     "# Let's initialize the model and train it with the dataset\n",
//     "clf = KNeighborsClassifier(n_neighbors = 1)\n",
//     "clf.fit(X_train, y_train)\n",
//     "\n",
//     "# Plot the decision boundary. For that, we will assign a color to each point in the mesh\n",
//     "x_min, x_max = X_train[:, 0].min() - 3, X_train[:, 0].max() + 3\n",
//     "y_min, y_max = X_train[:, 1].min() - 3, X_train[:, 1].max() + 3\n",
//     "\n",
//     "h = .02  # step size in the mesh\n",
//     "xx, yy = np.meshgrid(np.arange(x_min, x_max, h),\n",
//     "                     np.arange(y_min, y_max, h))\n",
//     "\n",
//     "Z = clf.predict(np.c_[xx.ravel(), yy.ravel()])\n",
//     "\n",
//     "# Put the result into a color plot\n",
//     "Z = Z.reshape(xx.shape)\n",
//     "plt.contourf(xx, yy, Z, cmap=cmap_light)\n",
//     "\n",
//     "# Plot also the dataset observations\n",
//     "sns.scatterplot(x=X_train[:, 0], y=X_train[:, 1], hue=y_train,\n",
//     "                palette=cmap_bold, alpha=1.0, edgecolor=\"black\")\n",
//     "\n",
//     "# Configure the graph\n",
//     "plt.ylim(3, 10) \n",
//     "plt.xlim(3, 11)\n",
//     "plt.gca().set_aspect('equal', adjustable='box')\n",
//     "\n",
//     "plt.title(\"KNN Fruits Classifier, n=1\")\n",
//     "plt.xlabel(\"height\")\n",
//     "plt.ylabel(\"width\")"
//    ]
//   },
//   {
//    "cell_type": "code",
//    "execution_count": null,
//    "metadata": {},
//    "outputs": [],
//    "source": []
//   },
//   {
//    "cell_type": "code",
//    "execution_count": null,
//    "metadata": {},
//    "outputs": [],
//    "source": []
//   },
//   {
//    "cell_type": "code",
//    "execution_count": null,
//    "metadata": {},
//    "outputs": [],
//    "source": []
//   },
//   {
//    "cell_type": "code",
//    "execution_count": null,
//    "metadata": {},
//    "outputs": [],
//    "source": []
//   },
//   {
//    "cell_type": "code",
//    "execution_count": null,
//    "metadata": {},
//    "outputs": [],
//    "source": []
//   },
//   {
//    "cell_type": "code",
//    "execution_count": null,
//    "metadata": {},
//    "outputs": [],
//    "source": []
//   },
//   {
//    "cell_type": "code",
//    "execution_count": null,
//    "metadata": {},
//    "outputs": [],
//    "source": []
//   },
//   {
//    "cell_type": "code",
//    "execution_count": null,
//    "metadata": {},
//    "outputs": [],
//    "source": []
//   },
//   {
//    "cell_type": "code",
//    "execution_count": null,
//    "metadata": {},
//    "outputs": [],
//    "source": []
//   },
//   {
//    "cell_type": "code",
//    "execution_count": null,
//    "metadata": {},
//    "outputs": [],
//    "source": []
//   },
//   {
//    "cell_type": "code",
//    "execution_count": null,
//    "metadata": {},
//    "outputs": [],
//    "source": []
//   },
//   {
//    "cell_type": "code",
//    "execution_count": null,
//    "metadata": {},
//    "outputs": [],
//    "source": []
//   },
//   {
//    "cell_type": "code",
//    "execution_count": null,
//    "metadata": {},
//    "outputs": [],
//    "source": []
//   },
//   {
//    "cell_type": "code",
//    "execution_count": null,
//    "metadata": {},
//    "outputs": [],
//    "source": []
//   },
//   {
//    "cell_type": "code",
//    "execution_count": null,
//    "metadata": {},
//    "outputs": [],
//    "source": []
//   },
//   {
//    "cell_type": "code",
//    "execution_count": null,
//    "metadata": {},
//    "outputs": [],
//    "source": []
//   },
//   {
//    "cell_type": "code",
//    "execution_count": null,
//    "metadata": {},
//    "outputs": [],
//    "source": [
//     "# # Load required libraries\n",
//     "# import numpy as np\n",
//     "# import matplotlib.pyplot as plt\n",
//     "# import seaborn as sns\n",
//     "# from matplotlib.colors import ListedColormap\n",
//     "\n",
//     "\n",
//     "# # Turn categorical target variable into numerical to make a graph\n",
//     "# y_encoded = df[\"fruit\"].astype('category').cat.codes #encoded\n",
//     "\n",
//     "# # Create color maps for graph\n",
//     "# cmap_light = ListedColormap(['pink', 'lightblue', 'lightgreen'])\n",
//     "# cmap_bold = ['green', 'red', 'blue']\n",
//     "\n",
//     "# # We want to visualize KNN with 1 nearest neighbor.\n",
//     "# # Let's initialize the model and train it with the dataset\n",
//     "# clf = KNeighborsClassifier(n_neighbors = 1)\n",
//     "# clf.fit(X, y_encoded)\n",
//     "\n",
//     "# # Plot the decision boundary. For that, we will assign a color to each point in the mesh\n",
//     "# x_min, x_max = X[:, 0].min() - 3, X[:, 0].max() + 3\n",
//     "# y_min, y_max = X[:, 1].min() - 3, X[:, 1].max() + 3\n",
//     "\n",
//     "# h = .02  # step size in the mesh\n",
//     "# xx, yy = np.meshgrid(np.arange(x_min, x_max, h),\n",
//     "#                      np.arange(y_min, y_max, h))\n",
//     "\n",
//     "# Z = clf.predict(np.c_[xx.ravel(), yy.ravel()])\n",
//     "\n",
//     "# # Put the result into a color plot\n",
//     "# Z = Z.reshape(xx.shape)\n",
//     "# plt.contourf(xx, yy, Z, cmap=cmap_light)\n",
//     "\n",
//     "# # Plot also the dataset observations\n",
//     "# sns.scatterplot(x=X[:, 0], y=X[:, 1], hue=df.fruit.values,\n",
//     "#                 palette=cmap_bold, alpha=1.0, edgecolor=\"black\")\n",
//     "\n",
//     "# # Configure the graph\n",
//     "# plt.ylim(3, 10) \n",
//     "# plt.xlim(3, 11)\n",
//     "# plt.gca().set_aspect('equal', adjustable='box')\n",
//     "\n",
//     "# plt.title(\"KNN Fruits Classifier, n=1\")\n",
//     "# plt.xlabel(\"height\")\n",
//     "# plt.ylabel(\"width\")"
//    ]
//   },
//   {
//    "cell_type": "code",
//    "execution_count": null,
//    "metadata": {},
//    "outputs": [],
//    "source": []
//   },
//   {
//    "cell_type": "code",
//    "execution_count": null,
//    "metadata": {},
//    "outputs": [],
//    "source": []
//   },
//   {
//    "cell_type": "code",
//    "execution_count": null,
//    "metadata": {},
//    "outputs": [],
//    "source": []
//   },
//   {
//    "cell_type": "code",
//    "execution_count": null,
//    "metadata": {},
//    "outputs": [],
//    "source": []
//   },
//   {
//    "cell_type": "code",
//    "execution_count": 72,
//    "metadata": {},
//    "outputs": [],
//    "source": [
//     "\n",
//     "# Import pandas \n",
//     "import pandas as pd  \n",
//     "\n",
//     "# Create a hypothetical dataset from the book\n",
//     "data = {'height': [3.91, 7.09, 10.48, 9.21, 7.95, 4.30, 7.62, 8.42, 7.15, 4.69, 7.50, 7.11, 4.15, 7.29, 8.49, 7.44, 7.86, 4.40, 8.10, 8.69], \n",
//     "        'width': [5.76, 7.69, 7.32, 7.20, 5.90, 5.88, 7.51, 5.99, 7.43, 6.19, 5.99, 7.02, 5.60, 8.38, 6.52, 7.89, 7.60, 5.90, 6.15, 5.82],\n",
//     "        'fruit': ['Mandarin', 'Apple', 'Lemon', 'Lemon', 'Lemon', 'Mandarin', 'Apple', 'Lemon', 'Apple', 'Mandarin', 'Lemon', 'Apple', 'Mandarin', 'Apple', 'Lemon', 'Apple', 'Apple', 'Mandarin', 'Lemon', 'Lemon']\n",
//     "       }  \n",
//     "df = pd.DataFrame(data) \n",
//     "\n",
//     "new_data = {'height': [7.95, 3.93, 5.5],\n",
//     "            'width': [5.32, 6.12, 4.5],\n",
//     "            'fruit': ['Mandarin', 'Apple', 'Lemon']\n",
//     "           }\n",
//     "\n",
//     "# Create DataFrame df using pandas library\n",
//     "new_points = pd.DataFrame(new_data)  \n",
//     "  \n",
//     "# Print the output\n",
//     "df = pd.concat([df, new_points])"
//    ]
//   },
//   {
//    "cell_type": "code",
//    "execution_count": 74,
// >>>>>>> parent of b0f9239... finishing v0.4 CH2
//    "metadata": {},
//    "outputs": [
//     {
//      "data": {
// <<<<<<< HEAD
//       "image/png": "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\n",
// =======
//       "image/png": "iVBORw0KGgoAAAANSUhEUgAAASAAAAD8CAYAAADXCHlgAAAAOXRFWHRTb2Z0d2FyZQBNYXRwbG90bGliIHZlcnNpb24zLjQuMiwgaHR0cHM6Ly9tYXRwbG90bGliLm9yZy8rg+JYAAAACXBIWXMAAAsTAAALEwEAmpwYAAAYL0lEQVR4nO3dfXBU9b3H8fc3QIkbLFWIjhWT0KnPgAaCgqiNxlosPg2dXnSiY2tr2hlRav9wdJgW/COdPjhTL53bh219mmG1rVjb0jvXIljstFOloeUKipbbmsSohRiv4WpEA/neP3aTkrAhyZ6z5+zD5zWzs9mT3fP7JYaPv/N7OubuiIjEoSLuCohI+VIAiUhsFEAiEhsFkIjERgEkIrFRAIlIbMYMIDN7wMz2mdmuw44db2ZPmdmezPNx+a2miJSi8bSAHgKWjjh2F7DF3U8FtmRei4hMiI1nIqKZ1QG/cfc5mdcvA43u/oaZnQRsdffT81pTESk5k3P83Inu/kbm638CJ472RjNrAVoAqqqqFpxxxhk5FikihWz79u1vunv1RD6TawANcXc3s1GbUe6eBJIADQ0N3tbWFrRIESlAZtYx0c/kOgq2N3PpReZ5X47nEZEylmsA/Rq4KfP1TcCvwqmOiJST8QzDPwr8CTjdzLrM7AvAN4FPmtke4LLMaxGRCRmzD8jdrx/lW00h10Ukb/r7++nq6uLAgQNxV6XoVVZWMmvWLKZMmRL4XIE7oUWKQVdXF8ceeyx1dXWYWdzVKVruTk9PD11dXcyePTvw+bQUQ8rCgQMHmDFjhsInIDNjxowZobUkFUBSNhQ+4Qjz96gAEpHYKIBEisxDDz3EypUr465GKBRAItmkUlBXBxUV6edUKu4alSQFkMhIqRS0tEBHB7inn1taQgmha6+9lgULFnD22WeTTCYBmDZtGnfccQdnn302TU1NdHd3A9DY2MiqVas499xzmTNnDtu2bTvifN3d3XzmM59h4cKFLFy4kD/+8Y+B6xglBZDISKtXQ1/f8GN9fenjAT3wwANs376dtrY21q1bR09PD++++y4NDQ288MILfOITn+Cee+45rNg+duzYwfe//31uvvnmI863atUq7rjjDv785z/z+OOP88UvfjFwHaOkeUAiI3V2Tuz4BKxbt44nnngCgFdffZU9e/ZQUVHBihUrALjhhhtYvnz50Puvvz49D/jiiy9m//79vP3228POt3nzZl588cWh1/v37+edd95h2rRpgesaBQWQyEg1NenLrmzHA9i6dSubN2/mT3/6E4lEgsbGxqzzaQ4f5h455D3y9cDAAM8++yyVlZWB6hYXXYKJjNTaConE8GOJRPp4AL29vRx33HEkEgleeuklnn32WSAdIhs2bADgkUce4cILLxz6zM9+9jMA/vCHPzB9+nSmT58+7JyXX3453/ve94Ze79ixI1Ado6YAEhmpuRmSSaitBbP0czKZPh7A0qVLOXjwIGeeeSZ33XUXixYtAqCqqopt27YxZ84cnn76ab7+9a8PfaayspL6+nq+/OUvc//99x9xznXr1tHW1sa8efM466yz+OEPfxiojlEb15asYdGGZBKX3bt3c+aZZ8ZdjaymTZvGO++8c8TxxsZG7r33XhoaGmKo1dFl+32a2XZ3n1Bl1QISkdioE1okZtlaP5DutC51agGJSGwUQCISGwWQiMRGASQisVEAiZSQXLbqaGtr4/bbb89TjY5OASSSRWpnirr76qi4p4K6++pI7SzN7TgOHjxIQ0MD69ati6V8BZDICKmdKVo2ttDR24HjdPR20LKxJXAItbe3c8YZZ/C5z32O0047jebmZjZv3sySJUs49dRT2bZtG9u2bWPx4sXU19dzwQUX8PLLLwPpls3y5ctZunQpp556KnfeeefQeR988EFOO+00zjvvvGHbcWzcuJHzzz+f+vp6LrvsMvbu3QvA2rVrufHGG1myZAk33ngjW7du5corrxz63s0330xjYyMf+9jH8h9M7p7zA1gF7AJeAL4y1vsXLFjgInF48cUXx/3e2u/WOms54lH73dpAdXjllVd80qRJ/vzzz/uhQ4d8/vz5/vnPf94HBgb8l7/8pV9zzTXe29vr/f397u7+1FNP+fLly93d/cEHH/TZs2f722+/7e+9957X1NR4Z2env/76637KKaf4vn37/P333/cLLrjAb731Vnd3f+utt3xgYMDd3X/84x/7V7/6VXd3X7Nmjc+fP9/7+vrc3f13v/udL1u2bOh7ixcv9gMHDnh3d7cff/zx/sEHHxzxs2T7fQJtPsEMyXkiopnNAW4BzgM+AJ40s9+4+/8Ej0WR+HT2Zt92Y7TjEzF79mzmzp0LMLQBmZkxd+5c2tvb6e3t5aabbmLPnj2YGf39/UOfbWpqGlqMetZZZ9HR0cGbb75JY2Mj1dXVAKxYsYK//e1vQPpWRCtWrOCNN97ggw8+GHYbnauvvppjjjkmax2XLVvG1KlTmTp1KieccAJ79+5l1qxZgX/2bIJcgp0JPOfufe5+EHgGWD7GZ0QKXs307NtujHZ8IqZOnTr0dUVFxdDriooKDh48yNe+9jUuueQSdu3axcaNG4dt13H4ZydNmsTBgwePWtZtt93GypUr2blzJz/60Y+GnauqqmpcdRxPOUEECaBdwEVmNsPMEsCngVNGvsnMWsyszczaBreaFClkrU2tJKYM344jMSVBa1Ow7TjGo7e3l5NPPhlI9/uM5fzzz+eZZ56hp6eH/v5+Hnvssaznevjhh/NS36ByDiB33w18C9gEPAnsAA5leV/S3RvcvWGwmShSyJrnNpO8Kknt9FoMo3Z6LcmrkjTPDbYdx3jceeed3H333dTX14+r5XHSSSexdu1aFi9ezJIlS4atUF+7di2f/exnWbBgATNnzsxntXMW2nYcZvYNoMvdvz/ae7Qdh8SlkLfjKEZhbccRaDW8mZ3g7vvMrIZ0/8+iIOcTkfISdDuOx81sBtAP3OrubwevkoiUi0AB5O4XhVURESk/mgktIrFRAIlIbBRAIhIbBZBIRIrlbqVRUgCJZJFKQV0dVFSkn1OluRtH7BRAIiOkUtDSkr47s3v6uaUl3BD6zne+w8KFC5k3bx5r1qwBxrddB8Bbb73Ftddey7x581i0aBHPP/88EMNWGmGY6PL5IA9txyFxmdB2HLXu6egZ/qitDVaHqqoqd3f/7W9/67fccosPDAz4oUOHfNmyZf7MM8+Ma7sOd/eVK1f62rVr3d19y5Ytfs4557j7+LfSCEPs23GIlKrOUXbdGO34RG3atIlNmzZRX18PpO8LtmfPHmpqasbcrgPS94l//PHHAbj00kvp6elh//79QLRbaYRBASQyQk1N+rIr2/EwuDt33303X/rSl4Ydb29vH3O7jrFEuZVGGNQHJDJCayskhu/GQSKRPh6GT33qUzzwwANDd0R97bXX2Ldv37g/f9FFF5HKdEht3bqVmTNn8uEPfzicykVMLSCREZozu26sXp2+7KqpSYdPc0i7cVx++eXs3r2bxYsXA+nh+fXr1zNp0qRxfX6ws3nevHkkEomC3etnPELbjmM8tB2HDEml8vcvPAttxxGugtiOQyQng+PcfX3p14Pj3JDXEJLCoz4gid7q1f8Kn0F9fenjUlYUQBK9fI9zjyLK7oZSFubvUQEk0RttPDusce4sKisr6enpUQgF5O709PRQWVkZyvnUByTRa20d3gcE4Y5zZzFr1iy6urrQnVmCq6ysDG1yowJIopfvce4spkyZMuzGfFIYFEASj+ZmjXiJ+oBEJD4KIBGJjQJIRGITKIDM7A4ze8HMdpnZo2YWzticiJSFnAPIzE4Gbgca3H0OMAm4LqyKiUjpC3oJNhk4xswmAwng9eBVEpFykXMAuftrwL1AJ/AG0Ovum0a+z8xazKzNzNo0CUxEDhfkEuw44BpgNvBRoMrMbhj5PndPunuDuzdUV1fnXlMpfboVRdkJcgl2GfCKu3e7ez/wC+CCcKolZSeKW1FIwQkSQJ3AIjNLmJkBTcDucKolZUdbdJSlIH1AzwEbgL8AOzPnSoZULyk3MW3RIfEKtBbM3dcAa0Kqi5SzfN+KQgqSZkJLYcj3rSikICmAJL/GO7LV3AzJJNTWgln6OZnUivkSp+04JH8muvm8tugoO2oBSf5oZEvGoACS/IliZEuTF4uaAkjyJ9+bz2vyYtFTAEn+5HtkS5d4RU8BJPkTxsjW0S6xNHmx6GkUTPIryMjWWKNomrxY9NQCkmjk0lk81iWWJi8WPQWQ5F+uncVjXWJp8mLRsyhvVdvQ0OBtbW2RlScFoq4u+6VSbS20t4f/OYmFmW1394aJfEYtIMm/XDuLdYlV8hRAkn+5zgfSJVYk4pzLqQCS/AvSkmluTl9uDQyknxU+oYp7LqcCSPJPLZmCFfdcTgWQRKPMWzKFumQt7rmcCiCRPIv7Mudo8r1cbywKIJE8i/sy52jiHmhUAInkWdyXOUcTd/ec1oKJ5FmhL1mLcyNKtYBE8izuy5xCFuTWzKeb2Y7DHvvN7Csh1k1KQaEO/0Qo7sucQhbKWjAzmwS8Bpzv7lkam2laC1ZmRm6nAen/9etfX0mKcy1YE/D3o4WPlKFCHv6RghBWAF0HPBrSuaRUFPLwjxSEwAFkZh8CrgYeG+X7LWbWZmZt3d3dQYuTYhL3LDcpeGG0gK4A/uLue7N9092T7t7g7g3V1dUhFCdFQ8M/MoYwAuh6dPkl2Wj4R8YQaBTMzKqATuBj7t471vs1CiZSunIZBQs0E9rd3wVmBDmHiJQvzYQWkdgogEQkNgogEYmNAkhEYqMAEpHYKIBEJDYKIJEM7RwSPe2IKMKRO4cMbhwPmridT2oBiaCdQ+KiABJBO4fERQEkgnYOiYsCSATtHBIXBZAI2jkkLhoFE8mI8/5Y5UotIBGJjQJIRGKjABKR2CiAcpDamaLuvjoq7qmg7r46Ujs1Z18kFwqgCUrtTNGysYWO3g4cp6O3g5aNLQqhAqS1XYWvdAMoT399q7espq9/+Jz9vv4+Vm/RnP1CMri2q6MD3P+1tkshVFhKM4Dy+NfX2Zt9bv5oxyUeWttVHEozgPL411czPfvc/NGOSzy0tqs4BAogM/uImW0ws5fMbLeZLQ6rYoHk8a+vtamVxJThc/YTUxK0NmnOfiHR2q7iELQF9O/Ak+5+BnAOsDt4lUKQx7++5rnNJK9KUju9FsOonV5L8qokzXM1hTYsYXTfTWRtlzqrY+TuOT2A6cArZO6uOp7HggULPBLr17snEu7pHqD0I5FIH5eCFuZ/uvXr3Wtr3c3Sz9nOoT+V8ABtPsEcyfnWzGZ2LpAEXiTd+tkOrPL03VKzivTWzKlUus+nszPd8mlt1UKfIlBXlx4zGKm2Ftrbi7+8UpbLrZmDXIJNBuYDP3D3euBd4K4slWoxszYza+vu7g5Q3AQ1N6f/ggYG0s9HCZ/DJxbO/PZMZn57piYZxiRI910ul1LqrI5XkADqArrc/bnM6w2kA2kYd0+6e4O7N1RXVwcoLj9GTizsea+Hnvd6NMkwJrl23+U680Kd1fHKOYDc/Z/Aq2Z2euZQE+nLsaKSbWLh4TTJMFq5bgyW68yL8Zanjur8CDoKdhuQMrPngXOBbwSuUcTGM4FQkwyjk+vGYLleSo2nPM2qzp+cO6FzEVUndGpnitVbVtPZ20nN9Bpam1pHHSavu6+Ojt4svZCHqZ1eS/tX2vNQUwlLPjuT1VE9PlF3QhekiS4WzTax8HCaZFgc8rmnszqq86fkAmiii0VHTiycccwMZhwzQ5MMi0w+93RWR3X+lNwlWMU9FThH/kyGMbBmIK9lS2kaeddUSLeutGn9cLoEQ4tFJXy6Y0b+lFwAjWexqHY0lImawLxWmYCSC6CxFotqR0ORwlFyfUBjGW3YXUPtIsGoD2gctKOhSOEouwBSJ7VI4Si7ANKOhiKFo+wCSDsaihSOsuuEFpH8UCe0iBQVBZCUDE0wLT6T466ASBgGJ5gOLkQenGAKqH+vgKkFJCVBt8wuTgogKQmaYFqcFEBSEjTBtDgpgKQkaIJpcVIASUnQBNPipImIIhIKTUQUkaKiABKR2ASaiGhm7cD/AYeAgxNtfolIeQtjJvQl7v5mCOcRkTKjSzARiU3QAHJgk5ltN7OWbG8wsxYzazOztu7u7oDFiUgpCRpAF7r7fOAK4FYzu3jkG9w96e4N7t5QXV0dsDgRKSWBAsjdX8s87wOeAM4Lo1IiUh5yDiAzqzKzYwe/Bi4HdoVVMREpfUFGwU4EnjCzwfM84u5PhlIrESkLOQeQu/8DOCfEuohImdEwvIjERgEkIrFRAIlIbBRAIhIbBZCIxEYBJCKxUQAVqFQK6uqgoiL9nNI99qQE6caEBSiVgpYW6Mvc5qqjI/0aoFlbHEsJUQuoAK1e/a/wGdTXlz4uUkoUQAWoc5R76Y12XKRYKYAKUM0o99Ib7bhIsVIAFaDWVkgMv8ceiUT6uEgpUQAVoOZmSCahthbM0s/JpDqgpfRoFKxANTcrcKT0qQUkIrFRAIlIbBRAIhIbBZCIxEYBJCKxUQCJSGwUQCISGwWQiMQmcACZ2SQz+6uZ/SaMColI+QijBbQK2B3CeUSkzAQKIDObBSwDfhJOdUSknARtAd0H3AkMjPYGM2sxszYza+vu7g5YnIiUkpwDyMyuBPa5+/ajvc/dk+7e4O4N1dXVuRYnIiUoSAtoCXC1mbUDPwUuNbP1odRKRMpCzgHk7ne7+yx3rwOuA5529xtCq5mIlDzNAxKR2ISyIZm7bwW2hnEuESkfagGJSGwUQCISGwWQiMRGASQisVEAiUhsFEAiEhsFkIjERgEkIrFRAIlIbBRAIhIbBZCIxEYBJCKxUQCJSGwUQCISGwWQiMRGASQisVEAiUhsFEAiEhsFkIjERgEkIrFRAIlIbBRAIhKbILdmrjSzbWb232b2gpndE2bFRKT0Bbkv2PvApe7+jplNAf5gZv/l7s+GVDcRKXE5B5C7O/BO5uWUzMPDqJSIlIdAd0Y1s0nAduDjwH+4+3NZ3tMCtGRevm9mu4KUGcBM4E2VrbJVdt6cPtEPWLohE4yZfQR4ArjN3UcNGDNrc/eGwAXmQGWrbJVdeGWHMgrm7m8DvwOWhnE+ESkPQUbBqjMtH8zsGOCTwEsh1UtEykCQPqCTgIcz/UAVwM/d/TdjfCYZoLygVLbKVtkFVnYofUAiIrnQTGgRiY0CSERik/cAKoQlG2Y2ycz+amZj9VHlo+x2M9tpZjvMrC3isj9iZhvM7CUz221miyMq9/TMzzv42G9mX4mi7Ez5d2T+1naZ2aNmVhlh2asy5b6Q75/ZzB4ws32Hz60zs+PN7Ckz25N5Pi7Csj+b+bkHzGxcw/FRtIAGl2ycA5wLLDWzRRGUe7hVwO6IyzzcJe5+bgzzM/4deNLdzwDOIaLfgbu/nPl5zwUWAH2k54nlnZmdDNwONLj7HGAScF1EZc8BbgHOI/37vtLMPp7HIh/iyKkvdwFb3P1UYEvmdVRl7wKWA78f70nyHkCeFtuSDTObBSwDfhJVmYXAzKYDFwP3A7j7B5n5WlFrAv7u7h0RljkZOMbMJgMJ4PWIyj0TeM7d+9z9IPAM6X+QeeHuvwfeGnH4GuDhzNcPA9dGVba773b3lydynkj6gDKXQDuAfcBT2ZZs5NF9wJ3AQIRlHs6BTWa2PbMsJSqzgW7gwczl50/MrCrC8gddBzwaVWHu/hpwL9AJvAH0uvumiIrfBVxkZjPMLAF8GjglorIHnejub2S+/idwYsTlT0gkAeTuhzLN8VnAeZmmat6Z2ZXAPnffHkV5o7jQ3ecDVwC3mtnFEZU7GZgP/MDd64F3yV9zPCsz+xBwNfBYhGUeR7oVMBv4KFBlZjdEUba77wa+BWwCngR2AIeiKHuU+jgFvkA80lGwGJZsLAGuNrN24KfApWa2PqKygaH/I+Pu+0j3g5wXUdFdQNdhrc0NpAMpSlcAf3H3vRGWeRnwirt3u3s/8AvggqgKd/f73X2Bu18M/C/wt6jKzthrZicBZJ73RVz+hEQxChbbkg13v9vdZ7l7HelLgafdPZL/GwKYWZWZHTv4NXA56WZ63rn7P4FXzWxwhXIT8GIUZR/meiK8/MroBBaZWcLMjPTPHdkAhJmdkHmuId3/80hUZWf8Grgp8/VNwK8iLn9CAm3HMU65LNkoFScCT6T/HTAZeMTdn4yw/NuAVOZS6B/A56MqOBO4nwS+FFWZAO7+nJltAP4CHAT+SrTLEx43sxlAP3BrPjv+zexRoBGYaWZdwBrgm8DPzewLQAfwbxGW/RbwPaAa+E8z2+HunzrqebQUQ0TiopnQIhIbBZCIxEYBJCKxUQCJSGwUQCISGwWQiMRGASQisfl/+fIrgkyP364AAAAASUVORK5CYII=\n",
// >>>>>>> parent of b0f9239... finishing v0.4 CH2
//       "text/plain": [
//        "<Figure size 432x288 with 1 Axes>"
//       ]
//      },
//      "metadata": {
//       "needs_background": "light"
//      },
//      "output_type": "display_data"
//     }
//    ],
//    "source": [
// <<<<<<< HEAD
//     "plotKNN(n_neighbors=1, \n",
//     "        plot_height= df['height'], \n",
//     "        plot_width = df['width'], \n",
//     "        plot_labels=df.fruc it.values)"
// =======
//     "plotFruitFigure()"
//    ]
//   },
//   {
//    "cell_type": "code",
//    "execution_count": 75,
//    "metadata": {},
//    "outputs": [],
//    "source": [
//     "# # Load matplotlib library for visualization\n",
//     "# import matplotlib.pyplot as plt\n",
//     "\n",
//     "\n",
//     "# # Define variables for graph\n",
//     "# apple_height, apple_width = df.height[df.fruit == 'Apple'], df.width[df.fruit == 'Apple']\n",
//     "# mandarin_height, mandarin_width = df.height[df.fruit == 'Mandarin'], df.width[df.fruit == 'Mandarin']\n",
//     "# lemon_height, lemon_width = df.height[df.fruit == 'Lemon'], df.width[df.fruit == 'Lemon']\n",
//     "\n",
//     "# # Initialize the graph\n",
//     "# fig, ax = plt.subplots()\n",
//     "# plt.gca().set_aspect('equal', adjustable='box')\n",
//     "\n",
//     "# # Plot defined variables on it\n",
//     "# ax.plot(apple_height, apple_width, 'o', color='r', label='apple')\n",
//     "# ax.plot(mandarin_height, mandarin_width, 'o', color='g', label='mandarin')\n",
//     "# ax.plot(lemon_height, lemon_width, 'o', color='b', label='lemon')\n",
//     "\n",
//     "# # Show legend and configure graph's size\n",
//     "# plt.legend()\n",
//     "# plt.ylim(3, 10) \n",
//     "# plt.xlim(3, 11)"
// >>>>>>> parent of b0f9239... finishing v0.4 CH2
//    ]
//   },
//   {
//    "cell_type": "code",
//    "execution_count": 76,
//    "metadata": {},
//    "outputs": [],
//    "source": [
// <<<<<<< HEAD
//     "> Visualize decision boundaries"
// =======
//     "# Define X and y using the dataset\n",
//     "# X = df[['height', 'width']].values\n",
//     "# y = df.fruit.values"
// >>>>>>> parent of b0f9239... finishing v0.4 CH2
//    ]
//   },
//   {
//    "cell_type": "code",
// <<<<<<< HEAD
//    "execution_count": 48,
// =======
//    "execution_count": 80,
// >>>>>>> parent of b0f9239... finishing v0.4 CH2
//    "metadata": {},
//    "outputs": [
//     {
//      "data": {
//       "image/png": "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\n",
//       "text/plain": [
//        "<Figure size 432x288 with 1 Axes>"
//       ]
//      },
//      "metadata": {
//       "needs_background": "light"
//      },
//      "output_type": "display_data"
//     }
//    ],
//    "source": [
// <<<<<<< HEAD
//     "plotKNN(n_neighbors=1, \n",
//     "        plot_height= df['height'], \n",
//     "        plot_width = df['width'], \n",
//     "        plot_labels=df.fruit.values)"
// =======
//     "plotKNN(1)"
// >>>>>>> parent of b0f9239... finishing v0.4 CH2
//    ]
//   },
//   {
//    "cell_type": "code",
//    "execution_count": 81,
//    "metadata": {},
//    "outputs": [
//     {
//      "data": {
//       "image/png": "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\n",
//       "text/plain": [
//        "<Figure size 432x288 with 1 Axes>"
//       ]
//      },
//      "metadata": {
//       "needs_background": "light"
//      },
//      "output_type": "display_data"
//     }
//    ],
//    "source": [
// <<<<<<< HEAD
//     "> Plot the model"
// >>>>>>> e336ae1d91d323104bbf04d3b1e3c0ed2ec99ad0
// =======
//     "plotKNN(1, plot_data=False)"
// >>>>>>> parent of b0f9239... finishing v0.4 CH2
//    ]
//   },
//   {
//    "cell_type": "code",
// <<<<<<< HEAD
// <<<<<<< HEAD
//    "execution_count": 10,
// =======
//    "execution_count": 30,
// >>>>>>> parent of b0f9239... finishing v0.4 CH2
//    "metadata": {},
//    "outputs": [
//     {
//      "data": {
//       "text/plain": [
//        "array(['Mandarin', 'Mandarin', 'Mandarin', 'Apple', 'Mandarin'],\n",
//        "      dtype=object)"
//       ]
//      },
//      "execution_count": 10,
//      "metadata": {},
//      "output_type": "execute_result"
//     }
//    ],
//    "source": [
// <<<<<<< HEAD
//     "# We can predict values for a whole bunch of them!\n",
//     "clf.predict([[9, 3], [4, 5], [2, 5], [8, 9], [5, 7]])"
// =======
//    "execution_count": 21,
//    "metadata": {
//     "scrolled": true
//    },
//    "outputs": [
//     {
//      "data": {
//       "image/png": "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\n",
// =======
//     "import numpy as np\n",
//     "height_test = np.array([6.5, 7.5, 4])\n",
//     "width_test = np.array([7, 5, 6.5])\n",
//     "fruit_test = np.array([\"Apple\", \"Lemon\", \"Mandarin\"])\n",
//     "\n",
//     "\n"
//    ]
//   },
//   {
//    "cell_type": "code",
//    "execution_count": 82,
//    "metadata": {},
//    "outputs": [
//     {
//      "data": {
//       "image/png": "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\n",
// >>>>>>> parent of b0f9239... finishing v0.4 CH2
//       "text/plain": [
//        "<Figure size 432x288 with 1 Axes>"
//       ]
//      },
//      "metadata": {
//       "needs_background": "light"
//      },
//      "output_type": "display_data"
//     }
//    ],
//    "source": [
// <<<<<<< HEAD
//     "plotKNN(n_neighbors=1, plot_data=False)"
// >>>>>>> e336ae1d91d323104bbf04d3b1e3c0ed2ec99ad0
// =======
//     "plotKNN(n_neighbors=1, \n",
//     "        plot_height=height_test,\n",
//     "        plot_width=width_test,\n",
//     "        plot_labels=fruit_test)\n",
//     "\n",
//     "\n",
//     "# # Load required libraries\n",
//     "# import numpy as np\n",
//     "# import matplotlib.pyplot as plt\n",
//     "# import seaborn as sns\n",
//     "# from matplotlib.colors import ListedColormap\n",
//     "\n",
//     "# # Turn categorical target variable into numerical to make a graph\n",
//     "# y_encoded = df[\"fruit\"].astype('category').cat.codes #encoded\n",
//     "\n",
//     "# # Create color maps for graph\n",
//     "# cmap_light = ListedColormap(['pink', 'lightblue', 'lightgreen'])\n",
//     "# cmap_bold = ['green', 'red', 'blue']\n",
//     "\n",
//     "# # We want to visualize KNN with 1 nearest neighbor.\n",
//     "# # Let's initialize the model and train it with the dataset\n",
//     "\n",
//     "# # Import a KNN library\n",
//     "# from sklearn.neighbors import KNeighborsClassifier\n",
//     "# clf = KNeighborsClassifier(n_neighbors = 1)\n",
//     "# clf.fit(X, y_encoded)\n",
//     "\n",
//     "# # Plot the decision boundary. For that, we will assign a color to each point in the mesh\n",
//     "# x_min, x_max = X[:, 0].min() - 3, X[:, 0].max() + 3\n",
//     "# y_min, y_max = X[:, 1].min() - 3, X[:, 1].max() + 3\n",
//     "\n",
//     "# h = .02  # step size in the mesh\n",
//     "# xx, yy = np.meshgrid(np.arange(x_min, x_max, h),\n",
//     "#                      np.arange(y_min, y_max, h))\n",
//     "\n",
//     "# Z = clf.predict(np.c_[xx.ravel(), yy.ravel()])\n",
//     "\n",
//     "# # Put the result into a color plot\n",
//     "# Z = Z.reshape(xx.shape)\n",
//     "# plt.contourf(xx, yy, Z, cmap=cmap_light)\n",
//     "\n",
//     "\n",
//     "\n",
//     "\n",
//     "# # Plot also the dataset observations\n",
//     "# sns.scatterplot(x=height_test, y=width_test, hue=fruit_test,\n",
//     "#                 palette=cmap_bold, alpha=1.0, edgecolor=\"black\")\n",
//     "\n",
//     "# # Configure the graph\n",
//     "# plt.ylim(3, 10) \n",
//     "# plt.xlim(3, 11)\n",
//     "# plt.gca().set_aspect('equal', adjustable='box')\n",
//     "\n",
//     "# plt.title(\"KNN Fruits Classifier, n=1\")\n",
//     "# plt.xlabel(\"height\")\n",
//     "# plt.ylabel(\"width\")"
// >>>>>>> parent of b0f9239... finishing v0.4 CH2
//    ]
//   },
//   {
//    "cell_type": "code",
//    "execution_count": null,
//    "metadata": {},
// <<<<<<< HEAD
//    "source": [
// <<<<<<< HEAD
//     "# 4. How Good is our Prediction Function?"
// =======
//     "## 4.3. Test the model"
//    ]
//   },
//   {
//    "cell_type": "markdown",
//    "metadata": {},
//    "source": [
//     "### 4.2.1. Evaluate on Train Set"
// >>>>>>> e336ae1d91d323104bbf04d3b1e3c0ed2ec99ad0
//    ]
//   },
//   {
//    "cell_type": "code",
//    "execution_count": 73,
//    "metadata": {},
//    "outputs": [
//     {
//      "data": {
//       "image/png": "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\n",
//       "text/plain": [
//        "<Figure size 432x288 with 1 Axes>"
//       ]
//      },
//      "metadata": {
//       "needs_background": "light"
//      },
//      "output_type": "display_data"
//     }
//    ],
//    "source": [
// <<<<<<< HEAD
//     "Training and Test error curves as we vary the hyper-parameter K, the number of neighbors. The left shows an under-fit model which uses too large of a neighborhood K = n. The right of the plot shows an over-fit model which uses too small of a neighborhood K = 1."
//    ]
// =======
//     "plotKNN(n_neighbors=1, \n",
//     "        plot_height= df['height'], \n",
//     "        plot_width = df['width'], \n",
//     "        plot_labels=df.fruit.values)"
//    ]
//   },
//   {
//    "cell_type": "code",
//    "execution_count": null,
//    "metadata": {},
//    "outputs": [],
//    "source": []
// >>>>>>> e336ae1d91d323104bbf04d3b1e3c0ed2ec99ad0
//   },
//   {
//    "cell_type": "markdown",
//    "metadata": {},
//    "source": [
// <<<<<<< HEAD
//     "## 4.1. Evaluate on Train Set"
// =======
//     "### 4.2.2. Evaluate on Test Set"
//    ]
//   },
//   {
//    "cell_type": "markdown",
//    "metadata": {},
//    "source": [
//     "> Imagine we have new fuits with the following properties:\n",
//     "\n",
//     "| height | width | fruit |\n",
//     "| ----------- | ----------- | ----------- |\n",
//     "| 6.5 | 7 | Apple |\n",
//     "| 7.5 | 5 | Lemon |\n",
//     "| 4 | 6.5 | Mandarin |"
// >>>>>>> e336ae1d91d323104bbf04d3b1e3c0ed2ec99ad0
//    ]
//   },
//   {
//    "cell_type": "markdown",
//    "metadata": {},
//    "source": [
// <<<<<<< HEAD
//     "> Let's first evaluate the score of the model on the training dataset. Remember, as we explained in the MLS book, this should be 0 in this example. \n",
//     "> The first step is to \"predict\" the training set, that is, we pretend that we don't know its labels and see if the trained model manages to guess them correctly."
// =======
//     "> Let's see if our model would correctly predict the fruit label by showing fruits' measurements and not revealing their labels. Let's pick 6 nearest neighbors:"
// >>>>>>> e336ae1d91d323104bbf04d3b1e3c0ed2ec99ad0
//    ]
//   },
//   {
//    "cell_type": "code",
// <<<<<<< HEAD
//    "execution_count": 13,
// =======
//    "execution_count": 4,
// >>>>>>> e336ae1d91d323104bbf04d3b1e3c0ed2ec99ad0
//    "metadata": {},
//    "outputs": [],
//    "source": [
//     "# test_data = pd.DataFrame({'height': [4, 6.5, 7.5],\n",
//     "#             'width': [6.5, 7, 5],\n",
//     "#             'fruit': ['Mandarin', 'Apple', 'Lemon']\n",
//     "#            })\n",
//     "\n",
//     "test_data = pd.DataFrame({'height': [4, \n",
//     "                                     4.47,\n",
//     "                                     6.49, \n",
//     "                                     7.51, \n",
//     "                                     8.34, \n",
//     "#                                      6,\n",
//     "#                                      9.23,\n",
//     "#                                      7.76\n",
//     "                                    ],\n",
//     "            'width': [6.5, \n",
//     "                      7.13,\n",
//     "                      7, \n",
//     "                      5.01,\n",
//     "                      4.23, \n",
//     "#                       7.5, \n",
//     "#                       5.89,\n",
//     "#                       7.11\n",
//     "                     ],\n",
//     "            'fruit': ['Mandarin', \n",
//     "                      'Mandarin',\n",
//     "                      'Apple', \n",
//     "                      'Lemon', \n",
//     "                      'Lemon', \n",
//     "#                       'Mandarin',\n",
//     "#                       'Lemon',\n",
//     "#                       'Apple'\n",
//     "                     ]\n",
//     "           })\n"
//    ]
//   },
//   {
//    "cell_type": "code",
//    "execution_count": 5,
//    "metadata": {
//     "scrolled": true
//    },
//    "outputs": [
//     {
//      "data": {
//       "image/png": "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\n",
//       "text/plain": [
// <<<<<<< HEAD
//        "array(['Mandarin', 'Apple', 'Lemon', 'Lemon', 'Lemon', 'Apple',\n",
//        "       'Mandarin', 'Mandarin', 'Lemon', 'Apple', 'Mandarin', 'Apple',\n",
//        "       'Lemon', 'Apple', 'Apple', 'Apple', 'Mandarin', 'Lemon', 'Lemon',\n",
//        "       'Lemon'], dtype=object)"
//       ]
//      },
//      "execution_count": 13,
//      "metadata": {},
//      "output_type": "execute_result"
//     }
//    ],
//    "source": [
//     "# Predict values for the training set\n",
//     "y_pred_train = clf.predict(X)\n",
//     "\n",
//     "# Output of predicted labels\n",
//     "y_pred_train"
// =======
//        "<Figure size 432x288 with 1 Axes>"
//       ]
//      },
//      "metadata": {
//       "needs_background": "light"
//      },
//      "output_type": "display_data"
//     }
//    ],
//    "source": [
//     "plotKNN(n_neighbors=1, \n",
//     "        plot_height=test_data.height,\n",
//     "        plot_width=test_data.width,\n",
//     "        plot_labels=test_data.fruit)"
// >>>>>>> e336ae1d91d323104bbf04d3b1e3c0ed2ec99ad0
//    ]
//   },
//   {
//    "cell_type": "markdown",
//    "metadata": {},
//    "source": [
// <<<<<<< HEAD
//     "> Let's recall the actual labels for our fruits:"
// =======
//     "> You can see that the model failed to.."
// >>>>>>> e336ae1d91d323104bbf04d3b1e3c0ed2ec99ad0
//    ]
//   },
//   {
//    "cell_type": "code",
// <<<<<<< HEAD
//    "execution_count": 16,
//    "metadata": {},
//    "outputs": [
//     {
//      "data": {
//       "text/plain": [
//        "array(['Mandarin', 'Apple', 'Lemon', 'Lemon', 'Lemon', 'Apple',\n",
//        "       'Mandarin', 'Mandarin', 'Lemon', 'Apple', 'Mandarin', 'Apple',\n",
//        "       'Lemon', 'Apple', 'Apple', 'Apple', 'Mandarin', 'Lemon', 'Lemon',\n",
//        "       'Lemon'], dtype=object)"
//       ]
//      },
//      "execution_count": 16,
//      "metadata": {},
//      "output_type": "execute_result"
//     }
//    ],
//    "source": [
//     "# Output of actual labels\n",
//     "y"
// =======
//    "execution_count": 6,
//    "metadata": {},
//    "outputs": [
//     {
//      "name": "stdout",
//      "output_type": "stream",
//      "text": [
//       "[WRONG!] - actual observation is Mandarin, but the model predicted ['Apple']\n",
//       "[CORRECT!] - actual observation is Mandarin, and the model predicted ['Mandarin']\n",
//       "[CORRECT!] - actual observation is Apple, and the model predicted ['Apple']\n",
//       "[WRONG!] - actual observation is Lemon, but the model predicted ['Mandarin']\n",
//       "[WRONG!] - actual observation is Lemon, but the model predicted ['Mandarin']\n"
//      ]
//     }
//    ],
//    "source": [
//     "# Predict observations\n",
//     "for i in range(len(test_data)):\n",
//     "    \n",
//     "    # Initialize the KNN model with 1 nearest neighbor\n",
//     "    clf = KNeighborsClassifier(n_neighbors = 1)\n",
//     "\n",
//     "    # Define X and y using the dataset\n",
//     "    X = df[['height', 'width']].values\n",
//     "    y = df.fruit.values\n",
//     "\n",
//     "    # Feed the dataset into the model to train\n",
//     "    clf.fit(X, y)\n",
//     "    \n",
//     "    pred = clf.predict([test_data.iloc[i, :-1]])\n",
//     "    \n",
//     "    if pred == test_data.fruit[i]:\n",
//     "        print(f'[CORRECT!] - actual observation is {test_data.fruit[i]}, and the model predicted {pred}')\n",
//     "    else:\n",
//     "        print(f'[WRONG!] - actual observation is {test_data.fruit[i]}, but the model predicted {pred}')"
// >>>>>>> e336ae1d91d323104bbf04d3b1e3c0ed2ec99ad0
//    ]
// =======
//    "outputs": [],
//    "source": []
//   },
//   {
//    "cell_type": "code",
//    "execution_count": null,
//    "metadata": {},
//    "outputs": [],
//    "source": []
// >>>>>>> parent of b0f9239... finishing v0.4 CH2
//   },
//   {
//    "cell_type": "code",
//    "execution_count": null,
//    "metadata": {},
// <<<<<<< HEAD
//    "source": [
// <<<<<<< HEAD
//     "> Let's now calculate the difference between actual and predicted labels:"
// =======
//     "> The model incorrectly predicted the second observation. This is called misclassification - the model predicted the label that was actually incorrect. That reminds me to go further and explain how do we test our model after it was trained. "
// >>>>>>> e336ae1d91d323104bbf04d3b1e3c0ed2ec99ad0
//    ]
//   },
//   {
//    "cell_type": "code",
//    "execution_count": 21,
//    "metadata": {},
// <<<<<<< HEAD
//    "outputs": [
//     {
//      "data": {
//       "text/plain": [
//        "1.0"
//       ]
//      },
//      "execution_count": 21,
//      "metadata": {},
//      "output_type": "execute_result"
//     }
//    ],
//    "source": [
//     "# Calculate the difference between actual values y and predicted values y_pred_train\n",
//     "train_score = metrics.accuracy_score(y, y_pred_train)\n",
//     "\n",
//     "# Output\n",
//     "train_score"
// =======
// =======
//    "outputs": [],
//    "source": []
//   },
//   {
//    "cell_type": "code",
//    "execution_count": null,
//    "metadata": {},
// >>>>>>> parent of b0f9239... finishing v0.4 CH2
//    "outputs": [],
//    "source": []
//   },
//   {
//    "cell_type": "code",
//    "execution_count": null,
//    "metadata": {},
//    "outputs": [],
//    "source": []
// <<<<<<< HEAD
//   },
//   {
//    "cell_type": "code",
//    "execution_count": null,
//    "metadata": {},
//    "outputs": [],
//    "source": []
// =======
// >>>>>>> parent of b0f9239... finishing v0.4 CH2
//   },
//   {
//    "cell_type": "markdown",
//    "metadata": {},
//    "source": [
// <<<<<<< HEAD
//     "# 5. Model Complexity"
// >>>>>>> e336ae1d91d323104bbf04d3b1e3c0ed2ec99ad0
// =======
//     "## Model Complexity"
// >>>>>>> parent of b0f9239... finishing v0.4 CH2
//    ]
//   },
//   {
//    "cell_type": "markdown",
//    "metadata": {},
//    "source": [
// <<<<<<< HEAD
// <<<<<<< HEAD
//     "> 1.0 means the model correctly predicted all (100%) data points from the training set. We can calculate the misclassification error rate simply as:"
// =======
//     "## K = 1"
// >>>>>>> e336ae1d91d323104bbf04d3b1e3c0ed2ec99ad0
// =======
//     "## K = 1"
// >>>>>>> parent of b0f9239... finishing v0.4 CH2
//    ]
//   },
//   {
//    "cell_type": "code",
// <<<<<<< HEAD
// <<<<<<< HEAD
//    "execution_count": 22,
// =======
//    "execution_count": 137,
// >>>>>>> e336ae1d91d323104bbf04d3b1e3c0ed2ec99ad0
// =======
//    "execution_count": 83,
// >>>>>>> parent of b0f9239... finishing v0.4 CH2
//    "metadata": {},
//    "outputs": [
//     {
//      "data": {
// <<<<<<< HEAD
// =======
//       "image/png": "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\n",
// >>>>>>> e336ae1d91d323104bbf04d3b1e3c0ed2ec99ad0
//       "text/plain": [
//        "0.0"
//       ]
//      },
//      "execution_count": 22,
//      "metadata": {},
//      "output_type": "execute_result"
//     }
//    ],
//    "source": [
// <<<<<<< HEAD
// <<<<<<< HEAD
//     "train_error = 1-train_score\n",
//     "\n",
//     "# Output\n",
//     "1-train_score"
// =======
//     "plotKNN(n_neighbors=1, \n",
//     "        plot_height= df['height'], \n",
//     "        plot_width = df['width'], \n",
//     "        plot_labels=df.fruit.values)"
// >>>>>>> e336ae1d91d323104bbf04d3b1e3c0ed2ec99ad0
//    ]
//   },
//   {
//    "cell_type": "markdown",
//    "metadata": {},
//    "source": [
// <<<<<<< HEAD
//     "## 4.2. Evaluate on Test Set"
//    ]
//   },
//   {
//    "cell_type": "markdown",
//    "metadata": {},
//    "source": [
//     "> Imagine we have new fuits with the following properties:\n",
//     "\n",
//     "| height | width | fruit |\n",
//     "| ----------- | ----------- | ----------- |\n",
//     "| 4.0 | 6.5 | Mandarin |\n",
//     "| 4.47 | 7.13 | Mandarin |\n",
//     "| 6.49 | 7.0 | Apple |\n",
//     "| 7.51 | 5.01 | Lemon |\n",
//     "| 8.34 | 4.23 | Lemon |"
//    ]
//   },
//   {
//    "cell_type": "markdown",
//    "metadata": {},
//    "source": [
//     "> Let's see if our model would correctly predict the fruit label from this dataset (test set). Again, we do so by showing fruits' measurements and not revealing their labels."
// =======
//     "plotKNN(n_neighbors=1)"
// >>>>>>> parent of b0f9239... finishing v0.4 CH2
//    ]
//   },
//   {
//    "cell_type": "code",
// <<<<<<< HEAD
//    "execution_count": 23,
// =======
//     "## Test data"
//    ]
//   },
//   {
//    "cell_type": "code",
//    "execution_count": 138,
// =======
//    "execution_count": 66,
// >>>>>>> parent of b0f9239... finishing v0.4 CH2
//    "metadata": {},
//    "outputs": [
//     {
//      "data": {
// <<<<<<< HEAD
//       "image/png": "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\n",
// =======
//       "text/plain": [
//        "Text(0, 0.5, 'width')"
//       ]
//      },
//      "execution_count": 66,
//      "metadata": {},
//      "output_type": "execute_result"
//     },
//     {
//      "data": {
//       "image/png": "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\n",
// >>>>>>> parent of b0f9239... finishing v0.4 CH2
//       "text/plain": [
//        "<Figure size 432x288 with 1 Axes>"
//       ]
//      },
//      "metadata": {
//       "needs_background": "light"
//      },
//      "output_type": "display_data"
//     }
//    ],
//    "source": [
//     "\n",
//     "# # Load required libraries\n",
//     "# import numpy as np\n",
//     "# import matplotlib.pyplot as plt\n",
//     "# import seaborn as sns\n",
//     "# from matplotlib.colors import ListedColormap\n",
//     "\n",
//     "# # Turn categorical target variable into numerical to make a graph\n",
//     "# y_encoded = df[\"fruit\"].astype('category').cat.codes #encoded\n",
//     "\n",
//     "# # Create color maps for graph\n",
//     "# cmap_light = ListedColormap(['pink', 'lightblue', 'lightgreen'])\n",
//     "# cmap_bold = ['green', 'red', 'blue']\n",
//     "\n",
//     "# # We want to visualize KNN with 1 nearest neighbor.\n",
//     "# # Let's initialize the model and train it with the dataset\n",
//     "\n",
//     "# # Import a KNN library\n",
//     "# from sklearn.neighbors import KNeighborsClassifier\n",
//     "# clf = KNeighborsClassifier(n_neighbors = 1)\n",
//     "# clf.fit(X, y_encoded)\n",
//     "\n",
//     "# # Plot the decision boundary. For that, we will assign a color to each point in the mesh\n",
//     "# x_min, x_max = X[:, 0].min() - 3, X[:, 0].max() + 3\n",
//     "# y_min, y_max = X[:, 1].min() - 3, X[:, 1].max() + 3\n",
//     "\n",
//     "# h = .02  # step size in the mesh\n",
//     "# xx, yy = np.meshgrid(np.arange(x_min, x_max, h),\n",
//     "#                      np.arange(y_min, y_max, h))\n",
//     "\n",
//     "# Z = clf.predict(np.c_[xx.ravel(), yy.ravel()])\n",
//     "\n",
//     "# # Put the result into a color plot\n",
//     "# Z = Z.reshape(xx.shape)\n",
//     "# plt.contourf(xx, yy, Z, cmap=cmap_light)\n",
//     "\n",
//     "# # Plot also the dataset observations\n",
//     "# sns.scatterplot(x=X[:, 0], y=X[:, 1], hue=df.fruit.values,\n",
//     "#                 palette=cmap_bold, alpha=1.0, edgecolor=\"black\")\n",
//     "\n",
//     "# # Configure the graph\n",
//     "# plt.ylim(3, 10) \n",
//     "# plt.xlim(3, 11)\n",
//     "# plt.gca().set_aspect('equal', adjustable='box')\n",
//     "\n",
//     "# plt.title(\"KNN Fruits Classifier, n=1\")\n",
//     "# plt.xlabel(\"height\")\n",
//     "# plt.ylabel(\"width\")"
//    ]
//   },
//   {
//    "cell_type": "code",
//    "execution_count": null,
//    "metadata": {},
// <<<<<<< HEAD
// =======
//    "outputs": [],
//    "source": []
//   },
//   {
//    "cell_type": "markdown",
//    "metadata": {},
// >>>>>>> parent of b0f9239... finishing v0.4 CH2
//    "source": [
//     "## K = 2"
//    ]
//   },
//   {
//    "cell_type": "code",
// <<<<<<< HEAD
//    "execution_count": 25,
// =======
//    "execution_count": 33,
// >>>>>>> parent of b0f9239... finishing v0.4 CH2
//    "metadata": {},
//    "outputs": [
//     {
//      "data": {
//       "image/png": "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\n",
//       "text/plain": [
//        "<Figure size 432x288 with 1 Axes>"
//       ]
//      },
//      "metadata": {
//       "needs_background": "light"
//      },
//      "output_type": "display_data"
//     }
//    ],
//    "source": [
// <<<<<<< HEAD
//     "plotKNN(n_neighbors=2, \n",
//     "        plot_height= df['height'], \n",
//     "        plot_width = df['width'], \n",
//     "        plot_labels=df.fruit.values)"
//    ]
//   },
//   {
//    "cell_type": "markdown",
// >>>>>>> e336ae1d91d323104bbf04d3b1e3c0ed2ec99ad0
//    "metadata": {},
//    "source": [
// <<<<<<< HEAD
//     "# Compose the Test set\n",
//     "test_data = pd.DataFrame({'height': [4, 4.47, 6.49, 7.51, 8.34],\n",
//     "                            'width': [6.5, 7.13, 7, 5.01, 4.23],\n",
//     "                            'fruit': ['Mandarin', 'Mandarin', 'Apple', 'Lemon', 'Lemon']})"
// =======
//     "## Test Data"
// >>>>>>> e336ae1d91d323104bbf04d3b1e3c0ed2ec99ad0
// =======
//     "plotKNN(n_neighbors=2)"
// >>>>>>> parent of b0f9239... finishing v0.4 CH2
//    ]
//   },
//   {
//    "cell_type": "code",
// <<<<<<< HEAD
// <<<<<<< HEAD
//    "execution_count": 24,
//    "metadata": {
//     "scrolled": true
//    },
//    "outputs": [
//     {
//      "data": {
//       "image/png": "iVBORw0KGgoAAAANSUhEUgAAAS4AAAEWCAYAAADYaXqDAAAAOXRFWHRTb2Z0d2FyZQBNYXRwbG90bGliIHZlcnNpb24zLjQuMiwgaHR0cHM6Ly9tYXRwbG90bGliLm9yZy8rg+JYAAAACXBIWXMAAAsTAAALEwEAmpwYAAAoPUlEQVR4nO3dd3hUZfr/8fdNQu9VQUp0UUBZakBEwA4i2EARZdeVVdEVWdT9WnEVC2vZXRVXXRcbuqJLaGL/YaUqCIhIERCkqSG00FvI/fvjnIQhpMwkM+fMmblf15UrM2fOnOeeSc5nntOeEVXFGGOCpJzfBRhjTKQsuIwxgWPBZYwJHAsuY0zgWHAZYwLHgssYEzgWXKZEIrJbRE7yoJ2zRWRjDJf/ooj8NeT+n0Rkk/v66nr1Ok3ZWXB5QETWisj5IfcHish2ETlLRNJEREXkwwLPeVNERrq3z3bneaHAPLNE5Loi2hwpIofclTHv567S1K+q1VR1jbvcsSLyaGmW4z6/s4h8KCLZIrJNROaJyODSLi8Sqnqzqj7i1lEeeAro6b6+raGvM16JyCMi8r2I5OT9fyQjCy6PicgfgOeBPqo6PeSh00WkazFP3QP8XkTSImhuvLsy5v08WUg9KREsr0xE5Azgc2A60ByoC/wJ6O1VDSGOAyoBS8u6IBFJLXs5YfsRuAv4wMM2444Fl4dE5Cbgn0AvVZ1T4OEngVHFPD0bGAs8WMYaxorIv91ezx7gHBH5UkRuCJnnOhGZFXJfRaS5iAwBBgF3uT2499zH7xaRn0Vkl4isEJHzimj+78DrqvqEqm5RxwJVHVBErfeIyGp3uctE5PKQx5qLyHQR2SEiW0RkvDtdRORpEckSkZ1u76R1yGt/VEROAVa4i8oWkc9DX6d7u6KI/ENE1rubky+KSGX3sbNFZKP7ujOB18J8358XkQ/c1zNXRH5T0vMKUtXXVfUjYFekz00kFlze+RPwMHCeqs4v5PEXgFNCNykLMQroLyItyljLNe6yqgOzSpg3n6qOAcYBT7o9uIvdWm4FOqlqdaAXsLbgc0WkCnAGMDGCOlcD3YGawEPAmyLS0H3sEWAaUBtoDPzLnd4T6AGc4j5vALC1wOtYCZzm3q2lqucW0vbj7jLa4fQOTwAeCHn8eKAO0AwYEubrGei+jto4Paf8DyoRWexuPhf280JRC0xWFlzeuQD4Gvi+iMf34fwjF7n/SFUzgRdxAjAcAwqsAI3c6VNVdbaq5qrq/jCXVZTDQEXgVBEpr6prVXV1IfPVxvl/+zXcBavqBFX9xa1zPLAK6Ow+fAgnNBqp6n5VnRUyvTrQEhBVXa6qYbcJTq8NJ4xuV9VtqroL+BtO8OTJBR5U1QOqui/MRU9R1XmqmoPzAdAu5LW2UdVaRfzcEkn9ycCCyzt/wvkEf9ldMQrzMnCciFxczHKeAHqJSNsw2swosAL84k7fEH7ZxVPVH4HbgJFAloj8LyQgQ23HWdkbFvJYoUTkWhFZlBe8QGugnvvwXYAA80RkqYj80a3nc+A5nP2IWSIyRkRqRPiy6gNVgAUhbX/sTs+zuRShnxlyey9QLcLnG5cFl3c2AefhbPoU2vVX1YM4mxKP4KyUhc2zFXjGnae0Cg4JsgdnRc1zfATPRVXfUtVuOD0gxQnXgvPsBb4C+odToIg0A17C2Qytq6q1gCW474uqZqrqjaraCLgJeCFv/5SqPquqHYFTcT4s7gynzRBbcHrAp4WEfk1VDQ2aqA6r4obv7iJ+XoxmW4nAgstDbo/nPOBCEXm6iNn+i3O068JiFvUU0BVoFaXSFgH9RKSKu/JfX8y8m4D8c51EpIWInCsiFYH9OCt8bhHPvQu4TkTuFJG67vPbisj/Cpm3Kk44bHbnG4zT48pr90oRaeze3e7OmysinUTkdHFOd9jj1lRUPYVS1Vyc0HxaRBq47Z0gIr2Ke567c//sSNoKafO0AkeAQ39uDmmjvIhUwll3U0Wkknh4ZDheWHB5TFXXA+cCV4jIY4U8fhhnJ3CdYpaxE+coZJHzROhp4CBOKL2Os/+lKK/g7M/KFpF3cPZvPY7TS8kEGgD3FlH3HJzXfi6wRkS2AWOADwuZdxnOEdiv3Lp+C8wOmaUTMFdEdgPvAsPdc7Bq4ITOdmAdzo75v5f4Dhzrbpwd6F+LyE7gU6DIgyIi0gTnSF9R+zCj5SWcD4ergRHu7d/HuM24IzaQoDFlJyK/w9m0LDS0TXRZcBljAidmm4oi8qp7EuCSkGl1ROQTEVnl/q4dq/aNMYkrlvu4xnLsDuZ7gM9U9WTgM/e+McZEJKabiuJcV/e+quZdcrECOFtVf3XPgP5SVct6FrgxJsl4eXEowHEhZzFn4lzoWihxrosbAlC1UuWOLZumxb46YxJAdvnyfpcQkdVLF29R1folz3mE18GVT1VVRIrs7rnXxY0BSG9xqs4f84ZntRkTZJOPP8HvEiLSv2WjdZE+x+vzuDblXSTr/s7yuH1jElrQQqu0vA6ud4E/uLf/AEz1uH1jTAKI5ekQb+Oc9dzCHbvoepwzrC8QkVXA+e59Y0wUJEtvC2K4j0tVry7ioaIGmTMmLh0S2Fglhf0pRQ3q4b+9Kak0O7C15Bl9dEBSyEqtTm65sl9a6dvOeWOCYmOVFKof14C0mjUpekQif22P8yOJqsrO7dth63YyK9Qq8/LsImtjSrA/RahroVUmIkKN2rWpqIejsjwLLmPCEK+hFSTRfA8tuIwJsCD0tmLBgsuYgHj23y/QKr0Dg67/IxBeaA247BJ2ZGezIzubV/6TOAOpWnAVY3Sb2YxuM7vkGY3xwAsvv8QnU99j3Cuv5k/Lyckp9jkZ77xLzVq12LEjm1fG/CfWJXrGgisMFl7Gbzff9mfWrF1L7/6XU7NxI666aQgXnnM2N/9xMG/99w3uum14/rwD+13GrBnOdw23bXEKW7ds4aH772ftmjX0OL0TD9wb/EFZLLjCZOFl/PTiM8/SqGFDvvjgQ26/ZSgrfljOlA8/4uU3/hvW8x989FHSTjqJGXO/4eHHgn/etwVXBJLpzGQTv/alpHBhn75UrlzZ71J8Y8EVgQ0NMvwuwSS57FRnh3yVKke+TS41NZVcPfJFRgf2l/U7fuOfBVeEbJPRxJumTZvx/XeLyc3NZeOGDSyYP/+YeapVq87uXbt9qC42LLhKwcLL+CG38O8I5vSuXWmWlsYZ7dty71/uoG279sfMU6duXU4/4wy6dmyfEDvnA/EtP34NJFhSQA1ffKZHlRg/La+RSqvmJ/taQ6KcaLpm5UrWVax71LT+LRstUNX0SJZjPa5ilBRMtrPeGH9YcJXBhgYZFl4m5hKltxVNFlxlZOFljPcsuKLATpMwsWK9rcJZcEWJHWk00WahVTQLriiy8DLGGxZcUWbhZaKhYG+rTuWK3DT4uvz7OTk5nNzkBAb2uywq7RW8UDsc3y5YwD133B6V9iNlwVWC0pyrZTvrTbRVrVqV5cuWsm/fPgC++OxTGjZq5Fs9OTk5tO/YkcefetqX9i24YsB21ie3ccvHk/ZSK8o9VZ20l1oxbvn4iJ5f1L6tC3pdyLSPPgJgckYG/a+8Kv+xBd98Q8+zenBWl870OvssVq1cATg9qWuvGsAVl/QlvfWpPHjfvUfqfON1Ov32NM7vdiZzv/oqf/rHH7zP+d27cVaXzlx+0YVkbdoEwOOPPsLNfxycP5zOrBnT83t8jz/6CLfeNISLe15A+1Yt+M/zz0X0miPlS3CJyHARWSIiS0XkNj9qiDXbZExO45aPZ8gnt7Ju1wYUZd2uDQz55Naww6u4HfL9rhzA5AkZ7N+/n6VLvqdj5075j53cogUffvY507+ex70PPMAjDzyQ/9j3i7/j1f+OY9b8hUyZOJGNGzaQ+euvPP7II3z0+Zd8+PkXrFi+PH/+Ll3P5JMZM5n+9Twuv3IAzz71z/zHihtOZ9WKFUx8730+nTmbJ/82ikOHDoX1mkvD868nE5HWwI1AZ+Ag8LGIvK+qP3pdS6yNbjPbLgtKMiNmjWRvzr6jpu3N2ceIWSMZ1OqqIp4VntN++1s2rF/HpIzxXNDrwqMe27ljB0NvuJ7Vq39ERMgJCY0e55xLjZo1AWjRqiUb169n69YtdOvRg3r16wNw+RVXsHrVKgB++fln/vj7QWzKzOTQwYM0TUvLX1Zxw+n07N2bihUrUrFiRerVr0/Wpk2c0LhxmV5zUfzocbUC5qrqXlXNAaYD/XyowxPW80ou63dtjGh6qHBOf7iwT18euPce+g84OgQfe/ghup11FnMWfMvbkyazf/+B/McqVqiQfzslJYWcw8UP93z3Hbdz481/Yvb8hTz13PMcCFlW6HA6BVUo0M7hEtopCz+CawnQXUTqikgV4CKgScGZRGSIiMwXkfmbd2z3vMhosvBKHk2rF97DKGp6pAZd+wfuum8Ep7ZufdT0nTt20LCRc1Dorf+WPCpqx06dmT1zJtu2buXQoUNMnTz5yLJ2HlnW22++GZW6o83z4FLV5cATwDTgY2ARcMy3RKrqGFVNV9X0+jVre1tkDFh4JYdR3UZSJfXoTakqqZUZ1W1kVJZ/QuPG3DT01mOmD7vjLzzywP2c1aUzh0v4Ag2A4xs25O7776fX2T3ofc7ZnNKyRf5jd4+4n8GDruacrl2oW7du0Qvxke/D2ojI34CNqvpCUfP4NaxNnmiGju3zCp5Ih7UZt3w8I2aNZP2ujTSt3phR3Urev5UsZ8lHa1gbz3fOA4hIA1XNEpGmOPu3uvhRhzGxMKjVVWXeEW+K59d5XJNEZBnwHjBUVbN9qsNztsloTNn5Elyq2l1VT1XVtqr6mR81+MnCy5iysTPnfWLhZfIky/6taLLgMsYEjgVXGGJ1JNB6XcaUjgWXzyy8klskm4kfvDuVOpUrsnLFD6Vub+iNNxx1smlQWXDFAQsvE45JGRl06XomkzJs9BELLmOiLWM8nNYKalZ3fmdENqxNYXbv3s3cOXN49sUXmTLBCa5ZM6bT5/zzuOryS+ncpjV3DBtKbm4uAE3q1eG+O/+PMzq047LevdiyefMxy1y0cCF9Lzifc7p2of/Ffcj89dcy1+kVC644Yb2uBJExHobdChs2gKrze9itZQ6vj957j3N79qT5yadQu05dFi1cCMDC+d/wxFNP89W33/HTmjW89847AOzZs4f2HTry1cJFdO3egydHPXrU8g4dOsTdd9zO2Lfe5os5XzPo2ut4dOSDZarRSxZcccRGTk0AD42EfUcPa8O+fc70AiLZvzVpwnj6XXklAP2uvJJJbhB2SO9E2oknkZKSQv8BV/H1HOcDsFy5clzuzj/g6qv5+qs5Ry1v1cqVLF+2lH59L6LH6Z345xOP8cvPJY9gES98ueTHFG5DgwzItGsZA21jESt/UdPDsH3bNmZ++SXLlixFRDh8+DAiQs/evRGRo+YteL/I6aq0bHUq06bPKHVdfrIeV5iaZA3wpB3bZAy4ogbOK8OAelOnTGbANdeweOUqvluxkiU/rqZZWhpfzZ7NwvnfsG7tT+Tm5jJl4gS6dHU++HJzc/OPHk4cP54uZ3Q9apnNTzmFrVs2M+/rrwFn03H5smWlrtFrFlzGRNODI6HgCKGVKzvTQ0SymTg5I4M+l1x61LSLL7uMSRnjad8xnbtuv40u7drQLC2Nvpc681WtWpWF87+ha8f2zPzyS+68b8RRz69QoQJj3/ofD90/gu6d0+lxeifmff0VQeH7sDbh8HtYG3D2P3n5JRg2/E38iHRYGzLGO/u0Nm50eloPjoQCI5ZG4zKfWTOm89wzT/O/ye8c81iTenXYsGVbmduItmgNa2M9rjhlm4wBNuAqWLocduxyfg+wIW6izXbOG+OxaF1U3a3HWXTrcVahj8VjbyuarMcVx6zXZUzhLLjC1C/zZ1/atXO7jDmWBVecs2/FNuZYFlwBYJuMicMGDYwOCy5jAqBJvTp+lxBXLLgCwnpdwWe9reix4AoQ21EfDOMyUkg7rTLlalYh7bTKjMtIiUk7P61ZzRWX9OWcrl246Lxz8wcYHHrjDfzlz7dyQY/utG/VglkzpnPrTUM4vV0bht54Q/7zJ40fz5npHejasT0jR9yXP71JvTo8+uADdO+czgU9upO1aVNM6i8LC64AsR318W9cRgpDhlVk3YZyqArrNpRjyLCKMQmv24fewhNPPc0Xc77m4cce587hw/Mfy96ezbTpMxj15N+55or+3DLsz3y1cBHLli7h++++49dffmHk/SOY+tH/Y8bcb/h2wQI+eHcq4AyJk965MzPnzadrt2688dqrUa+9rHwJLhG5XUSWisgSEXlbRCr5UUekvLrQuji2yRjfRjxUgb37jh6JYe8+YcRDFaLazu7du5n39dcMHnQNPU7vxB3DhpKZeWQgwAsv6oOIcGrr1jRo0IBTW7emXLlytGx1KuvXreXbBfPp1qMH9erXJzU1lSsGDmTOrFmAcx1jr4v6ANC2fQfWr1sX1dqjwfMz50XkBODPwKmquk9EMoCBwFiva4lUv8yfGd3A7ypMPFu/sfBhZYqaXlq5ubnUrFWLGXO/KfTxChUrAs64XHm38+7n5BymfPmiV/3y5cvnD4OTkpLC4ZycKFYeHX5tKqYClUUkFagC/OJTHYFkva741bRx4YMWnFD6UW0KVaNGDZo2S+OdSZMAUFWWLF4c9vM7pHdi9syZbN2yhcOHDzM5Yzxndu8e3SJjyPPgUtWfgX8A64FfgR2qOq3gfCIyRETmi8j8zTu2e11m3LPwik+jHjxIlcpHh1eVyspfHz5cpuXu3buX035zUv7P86OfYczYsbz5+mt075zOGR3a8eH774W9vOMbNuTBRx7lkgt70r1zOm3bd+Ciiy8pU41e8nxYGxGpDUwCrgKygQnARFV9s6jnxMOwNnniKTCaZA3w7VKkZBLpsDbjMlIY8VAF1m8UmjZWRj14kIsG2XEwCPawNucDP6nqZlU9BEwGupbwHFMIO8oYnwYNOMzapfvI3bGXtUv3WWjFgB/v6Hqgi4hUEWcP4HnAch/qSAh2bpdJRn7s45oLTAQWAt+7NYzxuo5EYb0ubwRhpOB4F8330Jc+rKo+qKotVbW1qv5eVQ/4UUeiiKf9bomo0mFl644dpVrx7DIfh6qyc/t2Dkh0TsS1EVATxOg2s22c+hhpvPcwGzdlsXnLsd8GXZK9KbaK5TkgKWSlVo/KsuxdNaYE5RVO3FO60xkmH39clKsxYNcqJhTbZIwvduAkdiy4EoytLCYZWHAlGDvKaJKBBVeEgrAD3DYZ/Wc939iy4DLGBI4FV4KyXpdJZBZcCczCyyQqCy5josz2b8WeBVeCs16XSUQWXEnAegAm0VhwlUIQTokIZed2mURjwZUkbJPRG9a79YYFlzEmcCy4koj1ukyisOAyJkpsM9E7FlxJxlYukwhsIMEoWzNvDe8+8S47t+ykVoNaXHrPpTTr2MzvsvJtaJABmcE6Khrv7MPAe9bjiqLVc1fzyh2vsLbNWrb138aaU9cw5s9jWLdgnd+lmRix0PKHBVcUvfv4u+zpuQdquxPqwp7z9zD1iam+1lWQrWxlN/n4E+x99JFtKkbRzq07oVaBiXUhe1O2D9UUzTYXS8/CKj543uMSkRYisijkZ6eI3OZ1HbFQvXZ12FFg4jaoWb+mL/UUJxYr4JQvPqXPjb+jxzWXc9ffR7E5e3vU2/CL9bDiix9fCLtCVdupajugI7AXmOJ1HbFwyd2XUHVa1SPhtR2qflqVS+++1Ne6ChPty4CeGzeW9/8xirGrVvDlLxs568OpXHbLYHbv3RvVdvxggRV//N7HdR6wWlUTYu91867NGfzkYJouaErtSbVptqgZ1z91PWmd0vwuLaYOHDzIuMnjeWnPburj/FP1UeXazVn894N3fK6u9KyXFb/83sc1EHjb5xpKZfjiMws9E735Gc254507fKjIP79s3cwpubnHfAr2OHSI0d99C1de40tdZWGBFd9863GJSAXgEmBCEY8PEZH5IjJ/847E2VcST6J1CdDxderyowgFv6B+fkoqp5zSMipteMV6WcHg56Zib2Chqm4q7EFVHaOq6aqaXr9m7cJmMXGicsVK9Dq/FyMqV2GfO20B8Hydulx32RV+lhY2C6xg8XNT8WoCuplojvXXP93Gi3Xr02vqJPTQIU488STevv1u6tSIvyOqBVlgBY+oFuzge9CoSFVgPXCSqhY8geAY6S1O1flj3oh9YRFKlNEWgjYwYjRZaPmvf8tGC1Q1PZLn+NLjUtU9QF0/2jYmj4VWcIUVXCJyCnAn0Cz0Oap6bozqMh6afPwJ9Mv82e8yPGOBFXzh9rgmAC8CLwGHY1dOsDTJGmDjuQeMhVZiCDe4clT13zGtxPgmWa5dtNBKHMUGl4jUcW++JyK34FyacyDvcVXdFsPajIkaC63EUlKPawGggLj37wx5TIGTYlGU8d7oNrOT+uiiCZZig0tVTwQQkUqquj/0MRGpFMvCjIkW620lnnD3cc0BOoQxLWHsO7CfOUsWU6VSJU5v1Zpy5fy+Ht1EwsIqsZW0j+t44ASgsoi058gmYw2gSoxr882EmZ8y/LV/sjdtPykHy1FzUzU+uP8ZWjU70e/SYioRNhctsJJDST2uXsB1QGPgqZDpu4D7YlSTrzK3buHWsU+SNXA7VHCmbdu+k4tH3cGq/0xGRPLn7Zf5M6Mb+FSoyWdhlXxK2sf1OvC6iPRX1Uke1eSrN7/4iC1ts/NDC4DasKPuLhau/IGOLVr5VZongnIyqoVVcitpU/GOwm7nUdWnCk4Lun0HD5Cbeuz1m7mpyoFDB32oyFvxfk6XBZaBkjcVq7u/WwCdgHfd+xcD82JVlJ8G9ujJs38bz5aW2UcG/dkPlX+uRKeWp/lZWtKysDIFlbSp+BCAiMwAOqjqLvf+SOCDmFfng5MbN2VY96t4bsJ4trTaQeqhFOosqcFrQ/9K+VS/B4z1RrzspLfAMkUJd008DgjdTjroTktID1x9A78/uzeT53xBtUpVGDDkfGpXr+F3WUnBwsqEI9zgegOYJyJ538ZzGTA2FgXFixMbnsBf+v/O7zKSgoWViVRYZ1Wq6ihgMLDd/Rmsqo/FsrCgiIdNqljwIkxsuGRTWiUdVayhqjvdi63Xuj95j9Wxi6wTV6yOLlpQmWgoaVPxLaAvRy62hiNnz9tF1iTO8M2xZoFloqmko4p93ZuzgenATFX9IeZVBUSir4xlPbqY6O+P8U+4O+dfAboD/xKR3wALcUJsdMwqCwAb/fRoFlTGK2EFl6p+4Z7L1Qk4B7gZaA0kbXDZSno0ez+Ml8L9sozPgKrAV8BMoJOqZsWysHiX7L0tCyrjp3AHmVqMc9Jpa6AN0FpEKpe2URGpJSITReQHEVkuImeUdlkmtgoefLBTGEw8CHdT8XYAEamOM8zNa8DxQMVStjsa+FhVrxCRCgRsbK9kO5JoQWXiTVg9LhG5VUTGA98ClwKvAr1L06CI1AR64OzwR1UPqmp2aZblh2RciZN9s9jEn3CPKlbCGUhwgarmlLHNE4HNwGsi0hbnHLHh7rdbFyq7fPlCA8OPcaNsJTbGf+FuKv4jym12AIap6lwRGQ3cA/w1dCYRGQIMAajduHahgRHp6KOJenlOrDXJGuB3CcYcxY9xWjYCG1V1rnt/Ik5wHUVVxwBjAJq2b3rsyH6lkGz7poxJVJ5/dY2qZgIbRKSFO+k8YJnXdRhjgsuvkfGGAePcI4prcEaeMMaYsPgSXKq6CEj3o21jTPDZt5waYwLHgssUy44omniUHN/+YCJiYWXinfW4zFEstEwQWI/LABZYJlgsuJKcBZYJIguuJJUsgRWra0uT5f2LVxZcSSTZVrZYXhC/oUFG0r2f8cSCKwkk4wpmo3gkNguuBGaBFfu2kvE9jgd2OkQCapI1IClXKD96Wdaz84f1uBJIMoYVWHgkIwuuBGCB5S/bZPSebSoGWLJuEkL8hFaeeKsn0VlwBVAyBxbEb0jEa12JyDYVAySZwwosGMwR1uMKiGQOrQ0NMgITWkGpM+gsuAIg2UPLmIIsuOKchVbwBLXuILHgimPJGlpB2jQsStDrj3cWXHEqmUMrUSTSa4k3dlQxDiVjaEVrJVd1vjtYRKKyPBOfLLjiTLKFVrQCK/vnbMbdMo3MFXuBHJp3PY6rRl9ApeqVorL80rKz6mPDl+ASkbXALuAwkKOq9h2LWGiVVs7BHP51cQZb176O83WdynfvTyb71ycZ/tE1UWnDxBc/93Gdo6rtLLQcFlqlt+SjZezafAVHvmNYyM3pz+bVjchckRm1dkrL9nVFn+2cjwPJFFqxOGKYtXoHB/e0O2b6of1t2L5xe1TbKi0Lr+jyK7gUmCYiC0RkSGEziMgQEZkvIvN3b9ntcXneSbbQioWTuzWmSu0pBaYq5St/QuM2jWPSZmlYeEWPX8HVTVU7AL2BoSLSo+AMqjpGVdNVNb1avWreV2gCI61TGo3b/Ej5yg8DW4ENVKpxAx361aN6/ep+l2diwJfgUtWf3d9ZwBSgsx91+C2ZelsQu9crItw04QoufXgFTdpeyImdBzDwWeHyv50bk/bKwnpd0eH5UUURqQqUU9Vd7u2ewMNe1+G3ZAutWEtJTaHb9Z3pdn38fwbaKRJl58fpEMcBU9wTBFOBt1T1Yx/qMMYElOebiqq6RlXbuj+nqeoor2vwWzJ/2ibzaw9lm4xlY6dDeMxWXGPKzoLLQxZaDnsfHNbrKj0LLo/YymoKY+FVOhZcHrDQMsWx8IqcBVeMWWgZE30WXMYXFuhHs15XZCy4YshWTmNiw4IrRiy0TKSs1xU+C64YsNAKj71Px7LwCo8FV5TZymjKysKrZBZcUWShZYw3LLiixEKrdOx9K5z1uopnwWVMnLLwKpoFVxRYr8HEioVX4ex7FcvIQqvsmmQNCMwKunvLbj56fA4rp2+gxnHV6H1vOs3P/I3fZSUd63EZE6a92Xt56vy3mP3aEDav/pbVc97k1WtX8s34xTFtNyih7iULrjKw3lb0BOG9nP7v+WT/chfopUAKcBJ7t0/hw1FzUVW/y0sqFlylFIQVzUTXqlmbyM3pWWBqZXIOHcf+Xftj2rb1uo5mwVUKFlrJqWGrWsB3BaYeppxsomLVijFv38LrCAuuCFloJa/zhnekeoO7gTXulANUrPYXTv9dS8qleLMqWXg5LLgiYKEVW/H+/tZpUoebMnrStMNAahzfgTpN0un5l030vreb36UlHTsdIkzxvlIZbzRu05g7Ph3kaw32vYw+9rhEJEVEvhWR9/2qwRgTTH5uKg4HlvvYftiS/dPNS/ZehyfZ93X5Elwi0hjoA7zsR/uRsBXJxKtkDi+/elzPAHcBuUXNICJDRGS+iMzfvWW3Z4WFstAyJj55Hlwi0hfIUtUFxc2nqmNUNV1V06vVq+ZRdSYe2AdG+JK11+VHj+tM4BIRWQv8DzhXRN70oY5i2cpjgiIZw8vz4FLVe1W1saqmAQOBz1X1d17XURwLLRM0yRZedgJqARZa8cH+DqY4vgaXqn6pqn39rCGUrSwmyJKp12U9LpeFVvyxv4kpigWXMQkkWXpdFlzYJ7tJLMkQXkkfXBZaJhElengldXBZaMU/+xuZwiRtcNkKYRJdIve6kjK4LLSMCbakDC4TLPZBU3qJ2utKuuCylcAkm0QMr6QKLgut4LK/XdkkWnglTXDZP74xiSNpgsuYZJdIva6kCC7rbSUG+zuWXaKEV8IHl/2zG5N4Ejq4LLSMOVYi9LoSNrgstBKT/V2jI+jhlZDBZf/cxiS2hAwuY0zJgtzrSrjgst5W4rO/cfQENbwSKrjsH9qY5JAwwWWhZUzpBLHXlTDBZYwpvaCFl+fBJSKVRGSeiHwnIktF5KGyLtN6W8nH/ubJzY8e1wHgXFVtC7QDLhSRLqVdmP0DGxMdQep1eR5c6tjt3i3v/mhplmWhldzs7x99QQkvUS1VZpStUZEUYAHQHHheVe8uZJ4hwBD3bmtgiXcVHqUesMXatrat7ZhpoarVI3mCL8GV37hILWAKMExViwwmEZmvqumeFWZtW9vWdly37etRRVXNBr4ALvSzDmNMsPhxVLG+29NCRCoDFwA/eF2HMSa4Un1osyHwurufqxyQoarvl/CcMbEvy9q2tq3toLTt6z4uY4wpDTtz3hgTOBZcxpjAidvgisWlQaWoIUVEvhWRkvbBxaLttSLyvYgsEpH5HrddS0QmisgPIrJcRM7wqN0W7uvN+9kpIrd50bbb/u3u/9oSEXlbRCp52PZwt92lsX7NIvKqiGSJyJKQaXVE5BMRWeX+ru1h21e6rztXRMI6LSJug4soXxpUSsOB5R63GeocVW3nw/k1o4GPVbUl0BaP3gNVXeG+3nZAR2Avznl+MSciJwB/BtJVtTWQAgz0qO3WwI1AZ5z3u6+INI9hk2M59hSke4DPVPVk4DP3vldtLwH6ATPCXUjcBlc0Lw0qDRFpDPQBXvaqzXggIjWBHsArAKp60D3fzmvnAatVdZ2HbaYClUUkFagC/OJRu62Auaq6V1VzgOk4K3JMqOoMYFuByZcCr7u3Xwcu86ptVV2uqisiWU7cBhfkb6otArKAT1R1rofNPwPcBeR62GYoBaaJyAL38ievnAhsBl5zN5NfFpGqHrafZyDwtleNqerPwD+A9cCvwA5VneZR80uA7iJSV0SqABcBTTxqO89xqvqrezsTOM7j9iMS18GlqofdzYbGQGe3Sx1zItIXyFLVBV60V4RuqtoB6A0MFZEeHrWbCnQA/q2q7YE9xG6zoVAiUgG4BJjgYZu1cXodJwKNgKoi8jsv2lbV5cATwDTgY2ARcNiLtouoR/Fw66Y04jq48vhwadCZwCUishb4H3CuiLzpUdtAfg8AVc3C2c/T2aOmNwIbQ3q3E3GCzEu9gYWqusnDNs8HflLVzap6CJgMdPWqcVV9RVU7qmoPYDuw0qu2XZtEpCGA+zvL4/YjErfB5eelQap6r6o2VtU0nE2Wz1XVk09fABGpKiLV824DPfFodAxVzQQ2iEgLd9J5wDIv2g5xNR5uJrrWA11EpIqICM7r9uzAjIg0cH83xdm/9ZZXbbveBf7g3v4DMNXj9iPixyU/4SrNpUGJ4jhgirP+kAq8paofe9j+MGCcu8m2BhjsVcNuUF8A3ORVmwCqOldEJgILgRzgW7y9DGaSiNQFDgFDY3lARETeBs4G6onIRuBB4HEgQ0SuB9YBMRnsrIi2twH/AuoDH4jIIlXtVexy7JIfY0zQxO2mojHGFMWCyxgTOBZcxpjAseAyxgSOBZcxJnAsuExMiEha6AgAYcx/s4hcW8I814nIc0U8dl+kNZrgsuAycUFVX1TVN8qwCAuuJGLBZWIpRURecsdamiYilUXkNyLysXvx+EwRaQkgIiNF5P/c251EZLE7JtffC/TcGrnPXyUiT7rzP44zqsMiERnn/cs0XrPgMrF0Ms4X/p4GZAP9cc5GH6aqHYH/A14o5HmvATe5F9gXvNi4HXAV8FvgKhFpoqr3APvcsbwGxeKFmPgSz5f8mOD7SVUXubcXAGk4Fy5PcC9nAqgY+gT3+tTqqvqVO+ktoG/ILJ+p6g533mVAM2BDDGo3ccyCy8TSgZDbh3Guwcx2e1LRWqb9Dych21Q0XtoJ/CQiVwKIo23oDO7FxbtE5HR3UrjDJx8SkfJRq9TENQsu47VBwPUi8h2wFGfwvoKuB15yR7+tCuwIY7ljgMW2cz452OgQJu6ISLW87xsQkXuAhqo63OeyTByx/QMmHvURkXtx/j/XAdf5W46JN9bjMsYEju3jMsYEjgWXMSZwLLiMMYFjwWWMCRwLLmNM4Px/DNu+0o/G0/QAAAAASUVORK5CYII=\n",
// =======
//    "execution_count": 139,
//    "metadata": {},
//    "outputs": [
//     {
//      "data": {
//       "image/png": "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\n",
// >>>>>>> e336ae1d91d323104bbf04d3b1e3c0ed2ec99ad0
// =======
//    "execution_count": 70,
//    "metadata": {},
//    "outputs": [
//     {
//      "data": {
//       "text/plain": [
//        "Text(0, 0.5, 'width')"
//       ]
//      },
//      "execution_count": 70,
//      "metadata": {},
//      "output_type": "execute_result"
//     },
//     {
//      "data": {
//       "image/png": "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\n",
// >>>>>>> parent of b0f9239... finishing v0.4 CH2
//       "text/plain": [
//        "<Figure size 432x288 with 1 Axes>"
//       ]
//      },
//      "metadata": {
//       "needs_background": "light"
//      },
//      "output_type": "display_data"
//     }
//    ],
//    "source": [
// <<<<<<< HEAD
// <<<<<<< HEAD
//     "# Visualize the Test set on the trained model\n",
//     "\n",
//     "plotKNN(n_neighbors=1, \n",
// =======
//     "plotKNN(n_neighbors=2, \n",
// >>>>>>> e336ae1d91d323104bbf04d3b1e3c0ed2ec99ad0
//     "        plot_height=test_data.height,\n",
//     "        plot_width=test_data.width,\n",
//     "        plot_labels=test_data.fruit)"
//    ]
//   },
//   {
//    "cell_type": "markdown",
// <<<<<<< HEAD
//    "metadata": {},
//    "source": [
//     "> Just by eyeballing this graph, we can already see that the model made few prediction errors - some data points do not land at decision regions of the same color (this was explained in the book). Let's verify it:"
//    ]
//   },
//   {
//    "cell_type": "code",
//    "execution_count": 6,
//    "metadata": {},
//    "outputs": [
//     {
//      "name": "stdout",
//      "output_type": "stream",
//      "text": [
//       "[WRONG!] - actual observation is Mandarin, but the model predicted ['Apple']\n",
//       "[CORRECT!] - actual observation is Mandarin, and the model predicted ['Mandarin']\n",
//       "[CORRECT!] - actual observation is Apple, and the model predicted ['Apple']\n",
//       "[WRONG!] - actual observation is Lemon, but the model predicted ['Mandarin']\n",
//       "[WRONG!] - actual observation is Lemon, but the model predicted ['Mandarin']\n"
//      ]
//     }
//    ],
//    "source": [
//     "# Predict observations\n",
//     "for i in range(len(test_data)):\n",
//     "    \n",
//     "    # Initialize the KNN model with 1 nearest neighbor\n",
//     "    clf = KNeighborsClassifier(n_neighbors = 1)\n",
//     "\n",
//     "    # Define X and y using the dataset\n",
//     "    X = df[['height', 'width']].values\n",
//     "    y = df.fruit.values\n",
//     "\n",
//     "    # Feed the dataset into the model to train\n",
//     "    clf.fit(X, y)\n",
//     "    \n",
//     "    pred = clf.predict([test_data.iloc[i, :-1]])\n",
//     "    \n",
//     "    if pred == test_data.fruit[i]:\n",
//     "        print(f'[CORRECT!] - actual observation is {test_data.fruit[i]}, and the model predicted {pred}')\n",
//     "    else:\n",
//     "        print(f'[WRONG!] - actual observation is {test_data.fruit[i]}, but the model predicted {pred}')"
// =======
//     "# # Load required libraries\n",
//     "# import numpy as np\n",
//     "# import matplotlib.pyplot as plt\n",
//     "# import seaborn as sns\n",
//     "# from matplotlib.colors import ListedColormap\n",
//     "\n",
//     "# # Turn categorical target variable into numerical to make a graph\n",
//     "# y_encoded = df[\"fruit\"].astype('category').cat.codes #encoded\n",
//     "\n",
//     "# # Create color maps for graph\n",
//     "# cmap_light = ListedColormap(['pink', 'lightblue', 'lightgreen'])\n",
//     "# cmap_bold = ['green', 'red', 'blue']\n",
//     "\n",
//     "# # We want to visualize KNN with 1 nearest neighbor.\n",
//     "# # Let's initialize the model and train it with the dataset\n",
//     "\n",
//     "# # Import a KNN library\n",
//     "# from sklearn.neighbors import KNeighborsClassifier\n",
//     "# clf = KNeighborsClassifier(n_neighbors = 2)\n",
//     "# clf.fit(X, y_encoded)\n",
//     "\n",
//     "# # Plot the decision boundary. For that, we will assign a color to each point in the mesh\n",
//     "# x_min, x_max = X[:, 0].min() - 3, X[:, 0].max() + 3\n",
//     "# y_min, y_max = X[:, 1].min() - 3, X[:, 1].max() + 3\n",
//     "\n",
//     "# h = .02  # step size in the mesh\n",
//     "# xx, yy = np.meshgrid(np.arange(x_min, x_max, h),\n",
//     "#                      np.arange(y_min, y_max, h))\n",
//     "\n",
//     "# Z = clf.predict(np.c_[xx.ravel(), yy.ravel()])\n",
//     "\n",
//     "# # Put the result into a color plot\n",
//     "# Z = Z.reshape(xx.shape)\n",
//     "# plt.contourf(xx, yy, Z, cmap=cmap_light)\n",
//     "\n",
//     "# # Plot also the dataset observations\n",
//     "# sns.scatterplot(x=X[:, 0], y=X[:, 1], hue=df.fruit.values,\n",
//     "#                 palette=cmap_bold, alpha=1.0, edgecolor=\"black\")\n",
//     "\n",
//     "# # Configure the graph\n",
//     "# plt.ylim(3, 10) \n",
//     "# plt.xlim(3, 11)\n",
//     "# plt.gca().set_aspect('equal', adjustable='box')\n",
//     "\n",
//     "# plt.title(\"KNN Fruits Classifier, n=2\")\n",
//     "# plt.xlabel(\"height\")\n",
//     "# plt.ylabel(\"width\")"
// >>>>>>> parent of b0f9239... finishing v0.4 CH2
//    ]
//   },
//   {
//    "cell_type": "markdown",
//    "metadata": {},
//    "source": [
// <<<<<<< HEAD
//     "> The model incorrectly predicted 3 observations out of 5. As we discussed in the MLS book, when the error is low on the training set (0%), but much higher on an unseen test set (3/5=60%), the model is overfitted. Another problem is underfitting - when test and train errors are equally high. To get a balance between these two, we tune hyperparameters of the model to pick the right model complexity (not too simple, not too complicated)."
//    ]
//   },
//   {
//    "cell_type": "markdown",
//    "metadata": {},
//    "source": [
//     "# 5. Model Complexity"
//    ]
//   },
//   {
//    "cell_type": "markdown",
//    "metadata": {},
//    "source": [
//     "## 5.1. View Different Scenarios"
//    ]
//   },
//   {
//    "cell_type": "markdown",
// =======
//    "metadata": {},
//    "source": [
// =======
// >>>>>>> parent of b0f9239... finishing v0.4 CH2
//     "## K = 5"
//    ]
//   },
//   {
//    "cell_type": "code",
// <<<<<<< HEAD
//    "execution_count": 26,
// >>>>>>> e336ae1d91d323104bbf04d3b1e3c0ed2ec99ad0
// =======
//    "execution_count": 34,
// >>>>>>> parent of b0f9239... finishing v0.4 CH2
//    "metadata": {},
//    "outputs": [
//     {
//      "data": {
//       "image/png": "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\n",
//       "text/plain": [
//        "<Figure size 432x288 with 1 Axes>"
//       ]
//      },
//      "metadata": {
//       "needs_background": "light"
//      },
//      "output_type": "display_data"
//     }
//    ],
//    "source": [
// <<<<<<< HEAD
// <<<<<<< HEAD
//     "> Let's try different values of k (k=1, k=2, k-5, k=20) and visually see what happens."
// =======
//     "plotKNN(n_neighbors=5, \n",
//     "        plot_height= df['height'], \n",
//     "        plot_width = df['width'], \n",
//     "        plot_labels=df.fruit.values)"
// >>>>>>> e336ae1d91d323104bbf04d3b1e3c0ed2ec99ad0
//    ]
//   },
//   {
//    "cell_type": "markdown",
//    "metadata": {},
//    "source": [
// <<<<<<< HEAD
//     "## 5.1.1. K = 1"
// =======
//     "## Test Data"
// >>>>>>> e336ae1d91d323104bbf04d3b1e3c0ed2ec99ad0
// =======
//     "plotKNN(n_neighbors=5)"
// >>>>>>> parent of b0f9239... finishing v0.4 CH2
//    ]
//   },
//   {
//    "cell_type": "code",
// <<<<<<< HEAD
// <<<<<<< HEAD
//    "execution_count": 137,
// =======
//    "execution_count": 140,
// >>>>>>> e336ae1d91d323104bbf04d3b1e3c0ed2ec99ad0
// =======
//    "execution_count": 71,
// >>>>>>> parent of b0f9239... finishing v0.4 CH2
//    "metadata": {},
//    "outputs": [
//     {
//      "data": {
// <<<<<<< HEAD
//       "image/png": "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\n",
// =======
//       "text/plain": [
//        "Text(0, 0.5, 'width')"
//       ]
//      },
//      "execution_count": 71,
//      "metadata": {},
//      "output_type": "execute_result"
//     },
//     {
//      "data": {
//       "image/png": "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\n",
// >>>>>>> parent of b0f9239... finishing v0.4 CH2
//       "text/plain": [
//        "<Figure size 432x288 with 1 Axes>"
//       ]
//      },
//      "metadata": {
//       "needs_background": "light"
//      },
//      "output_type": "display_data"
//     }
//    ],
//    "source": [
// <<<<<<< HEAD
// <<<<<<< HEAD
//     "plotKNN(n_neighbors=1, #selecting k=1\n",
//     "        plot_height= df['height'], \n",
//     "        plot_width = df['width'], \n",
//     "        plot_labels=df.fruit.values)"
// =======
//     "plotKNN(n_neighbors=5, \n",
//     "        plot_height=test_data.height,\n",
//     "        plot_width=test_data.width,\n",
//     "        plot_labels=test_data.fruit)"
// >>>>>>> e336ae1d91d323104bbf04d3b1e3c0ed2ec99ad0
// =======
//     "# # Load required libraries\n",
//     "# import numpy as np\n",
//     "# import matplotlib.pyplot as plt\n",
//     "# import seaborn as sns\n",
//     "# from matplotlib.colors import ListedColormap\n",
//     "\n",
//     "# # Turn categorical target variable into numerical to make a graph\n",
//     "# y_encoded = df[\"fruit\"].astype('category').cat.codes #encoded\n",
//     "\n",
//     "# # Create color maps for graph\n",
//     "# cmap_light = ListedColormap(['pink', 'lightblue', 'lightgreen'])\n",
//     "# cmap_bold = ['green', 'red', 'blue']\n",
//     "\n",
//     "# # We want to visualize KNN with 1 nearest neighbor.\n",
//     "# # Let's initialize the model and train it with the dataset\n",
//     "\n",
//     "# # Import a KNN library\n",
//     "# from sklearn.neighbors import KNeighborsClassifier\n",
//     "# clf = KNeighborsClassifier(n_neighbors = 5)\n",
//     "# clf.fit(X, y_encoded)\n",
//     "\n",
//     "# # Plot the decision boundary. For that, we will assign a color to each point in the mesh\n",
//     "# x_min, x_max = X[:, 0].min() - 3, X[:, 0].max() + 3\n",
//     "# y_min, y_max = X[:, 1].min() - 3, X[:, 1].max() + 3\n",
//     "\n",
//     "# h = .02  # step size in the mesh\n",
//     "# xx, yy = np.meshgrid(np.arange(x_min, x_max, h),\n",
//     "#                      np.arange(y_min, y_max, h))\n",
//     "\n",
//     "# Z = clf.predict(np.c_[xx.ravel(), yy.ravel()])\n",
//     "\n",
//     "# # Put the result into a color plot\n",
//     "# Z = Z.reshape(xx.shape)\n",
//     "# plt.contourf(xx, yy, Z, cmap=cmap_light)\n",
//     "\n",
//     "# # Plot also the dataset observations\n",
//     "# sns.scatterplot(x=X[:, 0], y=X[:, 1], hue=df.fruit.values,\n",
//     "#                 palette=cmap_bold, alpha=1.0, edgecolor=\"black\")\n",
//     "\n",
//     "# # Configure the graph\n",
//     "# plt.ylim(3, 10) \n",
//     "# plt.xlim(3, 11)\n",
//     "# plt.gca().set_aspect('equal', adjustable='box')\n",
//     "\n",
//     "# plt.title(\"KNN Fruits Classifier, n=5\")\n",
//     "# plt.xlabel(\"height\")\n",
//     "# plt.ylabel(\"width\")"
// >>>>>>> parent of b0f9239... finishing v0.4 CH2
//    ]
//   },
//   {
//    "cell_type": "markdown",
//    "metadata": {},
//    "source": [
// <<<<<<< HEAD
// <<<<<<< HEAD
//     "> Let's check predictions of test data once again:"
// =======
//     "## K = N"
// >>>>>>> e336ae1d91d323104bbf04d3b1e3c0ed2ec99ad0
// =======
//     "## K = N"
// >>>>>>> parent of b0f9239... finishing v0.4 CH2
//    ]
//   },
//   {
//    "cell_type": "code",
// <<<<<<< HEAD
// <<<<<<< HEAD
//    "execution_count": 26,
// =======
//    "execution_count": 101,
// >>>>>>> e336ae1d91d323104bbf04d3b1e3c0ed2ec99ad0
// =======
//    "execution_count": 36,
// >>>>>>> parent of b0f9239... finishing v0.4 CH2
//    "metadata": {},
//    "outputs": [
//     {
//      "data": {
// <<<<<<< HEAD
// <<<<<<< HEAD
//       "image/png": "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\n",
// =======
//       "image/png": "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\n",
// >>>>>>> e336ae1d91d323104bbf04d3b1e3c0ed2ec99ad0
// =======
//       "image/png": "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\n",
// >>>>>>> parent of b0f9239... finishing v0.4 CH2
//       "text/plain": [
//        "<Figure size 432x288 with 1 Axes>"
//       ]
//      },
//      "metadata": {
//       "needs_background": "light"
//      },
//      "output_type": "display_data"
//     }
//    ],
//    "source": [
// <<<<<<< HEAD
// <<<<<<< HEAD
//     "plotKNN(n_neighbors=1, \n",
//     "        plot_height=test_data.height,\n",
//     "        plot_width=test_data.width,\n",
//     "        plot_labels=test_data.fruit)"
// =======
//     "n = len(X)\n",
//     "\n",
//     "plotKNN(n_neighbors=n, \n",
//     "        plot_height= df['height'], \n",
//     "        plot_width = df['width'], \n",
//     "        plot_labels=df.fruit.values)"
// >>>>>>> e336ae1d91d323104bbf04d3b1e3c0ed2ec99ad0
//    ]
//   },
//   {
//    "cell_type": "markdown",
//    "metadata": {},
//    "source": [
//     "> Misclassifications on test set: 3 (3 data points do not have the same color as their decision region)"
//    ]
//   },
//   {
//    "cell_type": "markdown",
//    "metadata": {},
//    "source": [
// <<<<<<< HEAD
//     "## 5.1.2. K = 2"
// =======
//     "# 6. Building Model Complexity Graph"
// =======
//     "plotKNN(n_neighbors=len(X))"
// >>>>>>> parent of b0f9239... finishing v0.4 CH2
//    ]
//   },
//   {
//    "cell_type": "code",
// <<<<<<< HEAD
//    "execution_count": 300,
//    "metadata": {},
//    "outputs": [],
//    "source": [
//     "# test_data = pd.DataFrame({'height': [4, 6.5, 7.5, 6],\n",
//     "#             'width': [6.5, 7, 5, 7.5],\n",
//     "#             'fruit': ['Mandarin', 'Apple', 'Lemon', 'Mandarin']\n",
//     "#            })\n"
// >>>>>>> e336ae1d91d323104bbf04d3b1e3c0ed2ec99ad0
//    ]
//   },
//   {
//    "cell_type": "code",
// <<<<<<< HEAD
//    "execution_count": 27,
// =======
//    "execution_count": 13,
// >>>>>>> e336ae1d91d323104bbf04d3b1e3c0ed2ec99ad0
// =======
//    "execution_count": 8,
// >>>>>>> parent of b0f9239... finishing v0.4 CH2
//    "metadata": {},
//    "outputs": [
//     {
//      "data": {
// <<<<<<< HEAD
// <<<<<<< HEAD
//       "image/png": "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\n",
// =======
// >>>>>>> e336ae1d91d323104bbf04d3b1e3c0ed2ec99ad0
// =======
//       "text/plain": [
//        "Text(0, 0.5, 'width')"
//       ]
//      },
//      "execution_count": 8,
//      "metadata": {},
//      "output_type": "execute_result"
//     },
//     {
//      "data": {
//       "image/png": "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\n",
// >>>>>>> parent of b0f9239... finishing v0.4 CH2
//       "text/plain": [
//        "20"
//       ]
//      },
//      "execution_count": 13,
//      "metadata": {},
//      "output_type": "execute_result"
//     }
//    ],
//    "source": [
// <<<<<<< HEAD
// <<<<<<< HEAD
//     "plotKNN(n_neighbors=2, #selecting k=2\n",
//     "        plot_height= df['height'], \n",
//     "        plot_width = df['width'], \n",
//     "        plot_labels=df.fruit.values)"
// =======
//     "# # Load required libraries\n",
//     "# import numpy as np\n",
//     "# import matplotlib.pyplot as plt\n",
//     "# import seaborn as sns\n",
//     "# from matplotlib.colors import ListedColormap\n",
//     "\n",
//     "# # Turn categorical target variable into numerical to make a graph\n",
//     "# y_encoded = df[\"fruit\"].astype('category').cat.codes #encoded\n",
//     "\n",
//     "# # Create color maps for graph\n",
//     "# cmap_light = ListedColormap(['pink', 'lightblue', 'lightgreen'])\n",
//     "# cmap_bold = ['green', 'red', 'blue']\n",
//     "\n",
//     "# # We want to visualize KNN with 1 nearest neighbor.\n",
//     "# # Let's initialize the model and train it with the dataset\n",
//     "\n",
//     "# # Import a KNN library\n",
//     "# from sklearn.neighbors import KNeighborsClassifier\n",
//     "# clf = KNeighborsClassifier(n_neighbors = len(X))\n",
//     "# clf.fit(X, y_encoded)\n",
//     "\n",
//     "# # Plot the decision boundary. For that, we will assign a color to each point in the mesh\n",
//     "# x_min, x_max = X[:, 0].min() - 3, X[:, 0].max() + 3\n",
//     "# y_min, y_max = X[:, 1].min() - 3, X[:, 1].max() + 3\n",
//     "\n",
//     "# h = .02  # step size in the mesh\n",
//     "# xx, yy = np.meshgrid(np.arange(x_min, x_max, h),\n",
//     "#                      np.arange(y_min, y_max, h))\n",
//     "\n",
//     "# Z = clf.predict(np.c_[xx.ravel(), yy.ravel()])\n",
//     "\n",
//     "# # Put the result into a color plot\n",
//     "# Z = Z.reshape(xx.shape)\n",
//     "# plt.contourf(xx, yy, Z, cmap=cmap_light)\n",
//     "\n",
//     "# # Plot also the dataset observations\n",
//     "# sns.scatterplot(x=X[:, 0], y=X[:, 1], hue=df.fruit.values,\n",
//     "#                 palette=cmap_bold, alpha=1.0, edgecolor=\"black\")\n",
//     "\n",
//     "# # Configure the graph\n",
//     "# plt.ylim(3, 10) \n",
//     "# plt.xlim(3, 11)\n",
//     "# plt.gca().set_aspect('equal', adjustable='box')\n",
//     "\n",
//     "# plt.title(\"KNN Fruits Classifier, n=23\")\n",
//     "# plt.xlabel(\"height\")\n",
//     "# plt.ylabel(\"width\")"
// >>>>>>> parent of b0f9239... finishing v0.4 CH2
//    ]
//   },
//   {
//    "cell_type": "code",
//    "execution_count": 72,
//    "metadata": {},
//    "outputs": [
//     {
//      "data": {
//       "text/plain": [
//        "23"
//       ]
//      },
//      "execution_count": 72,
//      "metadata": {},
//      "output_type": "execute_result"
//     }
//    ],
//    "source": [
// <<<<<<< HEAD
//     "> Let's check predictions of test data when $k=2$:"
// =======
//     "# clf = KNeighborsClassifier(n_neighbors = 2)\n",
//     "# clf.fit(X, y)\n",
//     "# y_pred_test = clf.predict(test_data[['height', 'width']])\n",
//     "len(df)"
// >>>>>>> e336ae1d91d323104bbf04d3b1e3c0ed2ec99ad0
// =======
//     "len(X)"
// >>>>>>> parent of b0f9239... finishing v0.4 CH2
//    ]
//   },
//   {
//    "cell_type": "code",
// <<<<<<< HEAD
//    "execution_count": 28,
//    "metadata": {},
//    "outputs": [
//     {
//      "data": {
//       "image/png": "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\n",
//       "text/plain": [
//        "<Figure size 432x288 with 1 Axes>"
//       ]
//      },
//      "metadata": {
//       "needs_background": "light"
//      },
//      "output_type": "display_data"
//     }
//    ],
//    "source": [
// <<<<<<< HEAD
//     "plotKNN(n_neighbors=2, \n",
//     "        plot_height=test_data.height,\n",
//     "        plot_width=test_data.width,\n",
//     "        plot_labels=test_data.fruit)"
// =======
//     "## Train Test Error Curve"
// >>>>>>> parent of b0f9239... finishing v0.4 CH2
//    ]
//   },
//   {
//    "cell_type": "code",
//    "execution_count": 125,
//    "metadata": {},
//    "outputs": [],
//    "source": [
// <<<<<<< HEAD
//     "> Misclassifications on test set: 2 (2 data points (both mandarins) do not have the same color as their decision region)"
//    ]
//   },
//   {
//    "cell_type": "markdown",
//    "metadata": {},
//    "source": [
//     "## 5.1.3. K = 5"
// =======
//    "execution_count": 14,
//    "metadata": {},
//    "outputs": [
//     {
//      "name": "stdout",
//      "output_type": "stream",
//      "text": [
//       "k=1 | test misclassifications: 3.0 | train misclassifications: 0 | train error: 0.0 | test error: 0.6\n",
//       "k=2 | test misclassifications: 2.0 | train misclassifications: 1 | train error: 0.050000000000000044 | test error: 0.4\n",
//       "k=3 | test misclassifications: 0.0 | train misclassifications: 3 | train error: 0.15000000000000002 | test error: 0.0\n",
//       "k=4 | test misclassifications: 0.0 | train misclassifications: 3 | train error: 0.15000000000000002 | test error: 0.0\n",
//       "k=5 | test misclassifications: 0.0 | train misclassifications: 3 | train error: 0.15000000000000002 | test error: 0.0\n",
//       "k=6 | test misclassifications: 0.0 | train misclassifications: 3 | train error: 0.15000000000000002 | test error: 0.0\n",
//       "k=7 | test misclassifications: 0.0 | train misclassifications: 3 | train error: 0.15000000000000002 | test error: 0.0\n",
//       "k=8 | test misclassifications: 0.0 | train misclassifications: 3 | train error: 0.15000000000000002 | test error: 0.0\n",
//       "k=9 | test misclassifications: 1.0 | train misclassifications: 3 | train error: 0.15000000000000002 | test error: 0.19999999999999996\n",
//       "k=10 | test misclassifications: 2.0 | train misclassifications: 3 | train error: 0.15000000000000002 | test error: 0.4\n",
//       "k=11 | test misclassifications: 2.0 | train misclassifications: 4 | train error: 0.19999999999999996 | test error: 0.4\n",
//       "k=12 | test misclassifications: 2.0 | train misclassifications: 2 | train error: 0.09999999999999998 | test error: 0.4\n",
//       "k=13 | test misclassifications: 2.0 | train misclassifications: 7 | train error: 0.35 | test error: 0.4\n",
//       "k=14 | test misclassifications: 2.0 | train misclassifications: 9 | train error: 0.44999999999999996 | test error: 0.4\n",
//       "k=15 | test misclassifications: 2.0 | train misclassifications: 9 | train error: 0.44999999999999996 | test error: 0.4\n",
//       "k=16 | test misclassifications: 2.0 | train misclassifications: 11 | train error: 0.55 | test error: 0.4\n",
//       "k=17 | test misclassifications: 2.0 | train misclassifications: 10 | train error: 0.5 | test error: 0.4\n",
//       "k=18 | test misclassifications: 2.0 | train misclassifications: 10 | train error: 0.5 | test error: 0.4\n",
//       "k=19 | test misclassifications: 3.0 | train misclassifications: 12 | train error: 0.6 | test error: 0.6\n",
//       "k=20 | test misclassifications: 3.0 | train misclassifications: 12 | train error: 0.6 | test error: 0.6\n"
//      ]
//     }
//    ],
//    "source": [
//     "# Define X and y using the dataset\n",
//     "\n",
//     "# ACTUAL \n",
//     "\n",
//     "X = df[['height', 'width']].values\n",
//     "y = df.fruit.values\n",
//     "test_n=len(test_data)\n",
//     "train_n=len(df)\n",
//     "\n",
//     "train_scores = []\n",
//     "test_scores = []\n",
//     "\n",
//     "train_errors = []\n",
//     "test_errors = []\n",
// =======
//     "from sklearn import metrics\n"
//    ]
//   },
//   {
//    "cell_type": "code",
//    "execution_count": null,
//    "metadata": {},
//    "outputs": [],
//    "source": []
//   },
//   {
//    "cell_type": "code",
//    "execution_count": 180,
//    "metadata": {},
//    "outputs": [],
//    "source": [
//     "import numpy as np\n",
//     "X_test = np.array([[6.5, 7.5, 4],\n",
//     "                 [7, 5, 6.5]])\n",
// >>>>>>> parent of b0f9239... finishing v0.4 CH2
//     "\n",
//     "\n",
// <<<<<<< HEAD
//     "for i in range(len(X)):\n",
//     "    _k = i+1\n",
//     "    # # STEP 2: Again, initialize the model\n",
//     "    clf = KNeighborsClassifier(n_neighbors = _k)\n",
//     "    clf.fit(X, y)\n",
//     "\n",
//     "    # STEP 3: make predictions on the testing set\n",
//     "    y_pred_train = clf.predict(X)\n",
//     "    y_pred_test = clf.predict(test_data[['height', 'width']])\n",
//     "\n",
//     "    # STEP 4: compare actual response values (y_test) with predicted response values (y_pred)\n",
//     "    k.append(i)\n",
//     "    \n",
//     "    train_score = round(metrics.accuracy_score(y, y_pred_train), 2)\n",
//     "    test_score = round(metrics.accuracy_score(test_data[['fruit']], y_pred_test), 2)\n",
//     "    \n",
//     "    train_scores.append(train_score)\n",
//     "    test_scores.append(test_score)\n",
//     "    \n",
//     "    test_misclassifications.append(test_n-test_scores[i]*test_n)\n",
//     "    train_misclassifications.append(int(train_n-train_scores[i]*train_n))\n",
//     "    \n",
//     "    _train_error = 1-train_score\n",
//     "    _test_error = 1-test_score\n",
//     "    \n",
//     "    \n",
//     "#     _train_error = (train_n-train_scores[i]*train_n)/train_n\n",
//     "#     _test_error = (test_n-test_scores[i]*test_n)/test_n\n",
//     "    \n",
//     "    train_errors.append(_train_error)\n",
//     "    test_errors.append(_test_error)\n",
//     "    \n",
//     "    print(f'k={_k} | test misclassifications: {test_misclassifications[i]} | train misclassifications: {train_misclassifications[i]} | train error: {train_errors[i]} | test error: {test_errors[i]}')\n",
//     "    \n",
//     "    "
// >>>>>>> e336ae1d91d323104bbf04d3b1e3c0ed2ec99ad0
// =======
//     "# Create a hypothetical dataset from the book\n",
//     "data_test = {'height': [6.5, 7.5, 4],\n",
//     "        'width': [7, 5, 6.5],\n",
//     "        'fruit': [\"Apple\", \"Lemon\", \"Mandarin\"]\n",
//     "       }  \n",
//     "\n",
//     "df_test = pd.DataFrame(data_test)\n",
//     "\n",
//     "\n",
//     "X_test = df_test.iloc[:, :2]\n",
//     "\n",
//     "# y_encoded = df[\"fruit\"].astype('category').cat.codes #encoded\n",
//     "y_test = df_test.iloc[:, 2]#.astype('category').cat.codes #encoded\n"
// >>>>>>> parent of b0f9239... finishing v0.4 CH2
//    ]
//   },
//   {
//    "cell_type": "code",
// <<<<<<< HEAD
// <<<<<<< HEAD
//    "execution_count": 26,
// =======
//    "execution_count": 17,
// >>>>>>> e336ae1d91d323104bbf04d3b1e3c0ed2ec99ad0
// =======
//    "execution_count": 182,
// >>>>>>> parent of b0f9239... finishing v0.4 CH2
//    "metadata": {},
//    "outputs": [
//     {
//      "data": {
//       "text/plain": [
// <<<<<<< HEAD
//        "[0.6,\n",
//        " 0.4,\n",
//        " 0.0,\n",
//        " 0.0,\n",
//        " 0.0,\n",
//        " 0.0,\n",
//        " 0.0,\n",
//        " 0.0,\n",
//        " 0.19999999999999996,\n",
//        " 0.4,\n",
//        " 0.4,\n",
//        " 0.4,\n",
//        " 0.4,\n",
//        " 0.4,\n",
//        " 0.4,\n",
//        " 0.4,\n",
//        " 0.4,\n",
//        " 0.4,\n",
//        " 0.6,\n",
//        " 0.6]"
//       ]
//      },
//      "execution_count": 17,
// =======
//        "KNeighborsClassifier(n_neighbors=1)"
//       ]
//      },
//      "execution_count": 182,
// >>>>>>> parent of b0f9239... finishing v0.4 CH2
//      "metadata": {},
//      "output_type": "execute_result"
//     }
//    ],
//    "source": [
// <<<<<<< HEAD
// <<<<<<< HEAD
//     "plotKNN(n_neighbors=5, #selecting k=5\n",
//     "        plot_height= df['height'], \n",
//     "        plot_width = df['width'], \n",
//     "        plot_labels=df.fruit.values)"
// =======
//     "clf = KNeighborsClassifier(n_neighbors = 1)\n",
//     "clf.fit(X, y)\n"
// >>>>>>> parent of b0f9239... finishing v0.4 CH2
//    ]
//   },
//   {
//    "cell_type": "code",
//    "execution_count": 185,
//    "metadata": {},
//    "outputs": [
//     {
//      "data": {
//       "text/plain": [
//        "array(['Apple', 'Mandarin', 'Apple'], dtype=object)"
//       ]
//      },
//      "execution_count": 185,
//      "metadata": {},
//      "output_type": "execute_result"
//     }
//    ],
//    "source": [
// <<<<<<< HEAD
//     "> Let's check predictions of test data when $k=5$:"
// =======
//     "test_errors"
// >>>>>>> e336ae1d91d323104bbf04d3b1e3c0ed2ec99ad0
// =======
//     "y_pred_test = clf.predict(X_test)\n",
//     "y_pred_test"
// >>>>>>> parent of b0f9239... finishing v0.4 CH2
//    ]
//   },
//   {
//    "cell_type": "code",
// <<<<<<< HEAD
// <<<<<<< HEAD
//    "execution_count": 29,
// =======
//    "execution_count": 18,
// >>>>>>> e336ae1d91d323104bbf04d3b1e3c0ed2ec99ad0
// =======
//    "execution_count": 197,
//    "metadata": {},
//    "outputs": [],
//    "source": [
//     "train_scores = []\n",
//     "test_scores = []\n",
//     "k = []\n",
//     "\n",
//     "for i in range(1, len(X)+1):\n",
//     "    \n",
//     "    # # STEP 2: Again, initialize the model\n",
//     "    clf = KNeighborsClassifier(n_neighbors = i)\n",
//     "    clf.fit(X, y)\n",
//     "\n",
//     "    # STEP 3: make predictions on the testing set\n",
//     "    y_pred_train = clf.predict(X)\n",
//     "    y_pred_test = clf.predict(X_test)\n",
//     "\n",
//     "    # STEP 4: compare actual response values (y_test) with predicted response values (y_pred)\n",
//     "    k.append(i)\n",
//     "    train_scores.append(metrics.accuracy_score(y, y_pred_train))\n",
//     "    test_scores.append(metrics.accuracy_score(y_test, y_pred_test))"
//    ]
//   },
//   {
//    "cell_type": "code",
//    "execution_count": 203,
// >>>>>>> parent of b0f9239... finishing v0.4 CH2
//    "metadata": {},
//    "outputs": [
//     {
//      "data": {
// <<<<<<< HEAD
// <<<<<<< HEAD
//       "image/png": "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\n",
// =======
// =======
//       "text/plain": [
//        "(0.0, 25.0)"
//       ]
//      },
//      "execution_count": 203,
//      "metadata": {},
//      "output_type": "execute_result"
//     },
//     {
//      "data": {
//       "image/png": "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\n",
// >>>>>>> parent of b0f9239... finishing v0.4 CH2
//       "text/plain": [
//        "[0.0,\n",
//        " 0.050000000000000044,\n",
//        " 0.15000000000000002,\n",
//        " 0.15000000000000002,\n",
//        " 0.15000000000000002,\n",
//        " 0.15000000000000002,\n",
//        " 0.15000000000000002,\n",
//        " 0.15000000000000002,\n",
//        " 0.15000000000000002,\n",
//        " 0.15000000000000002,\n",
//        " 0.19999999999999996,\n",
//        " 0.09999999999999998,\n",
//        " 0.35,\n",
//        " 0.44999999999999996,\n",
//        " 0.44999999999999996,\n",
//        " 0.55,\n",
//        " 0.5,\n",
//        " 0.5,\n",
//        " 0.6,\n",
//        " 0.6]"
//       ]
//      },
//      "execution_count": 18,
//      "metadata": {},
//      "output_type": "execute_result"
//     }
//    ],
//    "source": [
// <<<<<<< HEAD
//     "train_errors"
//    ]
//   },
//   {
//    "cell_type": "code",
//    "execution_count": 16,
//    "metadata": {},
//    "outputs": [
//     {
//      "data": {
//       "image/png": "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\n",
// >>>>>>> e336ae1d91d323104bbf04d3b1e3c0ed2ec99ad0
//       "text/plain": [
//        "<Figure size 432x288 with 1 Axes>"
//       ]
//      },
//      "metadata": {
//       "needs_background": "light"
//      },
//      "output_type": "display_data"
//     }
//    ],
//    "source": [
// <<<<<<< HEAD
//     "plotKNN(n_neighbors=5,\n",
//     "        plot_height=test_data.height,\n",
//     "        plot_width=test_data.width,\n",
//     "        plot_labels=test_data.fruit)"
//    ]
//   },
//   {
//    "cell_type": "markdown",
//    "metadata": {},
//    "source": [
//     "> Misclassifications on test set: 0 (all data points have the same color as their decision region)"
// =======
//     "#original data\n",
//     "import numpy as np\n",
//     "\n",
//     "# x = np.array(k)\n",
//     "# y = np.array(test_scores)\n",
//     "\n",
//     "# degrees = 3\n",
//     "# p1 = np.poly1d(np.polyfit(k, test_misclassifications, degrees))\n",
//     "# p2 = np.poly1d(np.polyfit(k, train_misclassifications, degrees))\n",
//     "\n",
//     "# t = np.linspace(0, 20, 20)\n",
//     "\n",
//     "plt.scatter(k, test_errors)\n",
//     "plt.plot(k, test_errors, '-', label='test')\n",
//     "\n",
//     "plt.scatter(k, train_errors)\n",
//     "plt.plot(k, train_errors, '-', label='train')\n",
//     "\n",
//     "\n",
//     "plt.axis([max(k),min(k)+1, 0, 1])\n",
//     "plt.xlabel('number of nearest neighbours (k)', size = 13)\n",
//     "plt.ylabel('misclassification (error) rate', size = 13)\n",
//     "plt.title('Model Performance vs Complexity', size = 20)\n",
//     "plt.legend()\n",
//     "\n",
//     "plt.show()"
// >>>>>>> e336ae1d91d323104bbf04d3b1e3c0ed2ec99ad0
//    ]
//   },
//   {
//    "cell_type": "code",
//    "execution_count": null,
//    "metadata": {},
// <<<<<<< HEAD
//    "source": [
//     "## 5.1.4. K = N"
//    ]
//   },
//   {
//    "cell_type": "code",
//    "execution_count": 31,
//    "metadata": {},
//    "outputs": [
//     {
//      "data": {
//       "image/png": "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\n",
//       "text/plain": [
//        "<Figure size 432x288 with 1 Axes>"
//       ]
//      },
//      "metadata": {
//       "needs_background": "light"
//      },
//      "output_type": "display_data"
//     }
//    ],
//    "source": [
//     "n = len(X)\n",
//     "\n",
//     "plotKNN(n_neighbors=n, #selecting k=n=20\n",
//     "        plot_height= df['height'], \n",
//     "        plot_width = df['width'], \n",
//     "        plot_labels=df.fruit.values)"
//    ]
//   },
//   {
//    "cell_type": "markdown",
//    "metadata": {},
//    "source": [
//     "> Let's check predictions of test data when $k=n=20$:"
//    ]
//   },
//   {
//    "cell_type": "code",
//    "execution_count": 32,
//    "metadata": {},
//    "outputs": [
//     {
//      "data": {
//       "image/png": "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\n",
// =======
//    "outputs": [],
//    "source": []
//   },
//   {
//    "cell_type": "code",
//    "execution_count": null,
//    "metadata": {},
//    "outputs": [],
//    "source": []
//   },
//   {
//    "cell_type": "code",
//    "execution_count": 121,
//    "metadata": {
//     "scrolled": true
//    },
//    "outputs": [
//     {
//      "data": {
//       "image/png": "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\n",
// >>>>>>> e336ae1d91d323104bbf04d3b1e3c0ed2ec99ad0
//       "text/plain": [
//        "<Figure size 432x288 with 1 Axes>"
//       ]
//      },
//      "metadata": {
//       "needs_background": "light"
//      },
//      "output_type": "display_data"
//     }
//    ],
//    "source": [
// <<<<<<< HEAD
//     "plotKNN(n_neighbors=n,\n",
//     "        plot_height=test_data.height,\n",
//     "        plot_width=test_data.width,\n",
//     "        plot_labels=test_data.fruit)"
//    ]
//   },
//   {
//    "cell_type": "markdown",
//    "metadata": {},
//    "source": [
//     "> Misclassifications on test set: 4 (only one dataapoint (apple) has the same color as its decision region)"
// =======
//     "#original data\n",
//     "import numpy as np\n",
//     "\n",
//     "# x = np.array(k)\n",
//     "# y = np.array(test_scores)\n",
//     "\n",
//     "# degrees = 3\n",
//     "# p1 = np.poly1d(np.polyfit(k, test_misclassifications, degrees))\n",
//     "# p2 = np.poly1d(np.polyfit(k, train_misclassifications, degrees))\n",
//     "\n",
//     "# t = np.linspace(0, 20, 20)\n",
//     "\n",
//     "plt.scatter(k, test_misclassifications)\n",
//     "plt.plot(k, test_misclassifications, '-', label='test')\n",
//     "\n",
//     "plt.scatter(k, train_misclassifications)\n",
//     "plt.plot(k, train_misclassifications, '-', label='train')\n",
//     "\n",
//     "\n",
//     "plt.axis([max(k),min(k)+1, 0, 10])\n",
//     "plt.xlabel('number of nearest neighbours (k)', size = 13)\n",
//     "plt.ylabel('number of misclassifications', size = 13)\n",
//     "plt.title('Model Performance vs Complexity', size = 20)\n",
//     "plt.legend()\n",
//     "\n",
//     "plt.show()"
//    ]
//   },
//   {
//    "cell_type": "code",
//    "execution_count": null,
//    "metadata": {},
//    "outputs": [],
//    "source": [
//     "#original data\n",
//     "import numpy as np\n",
//     "\n",
//     "# x = np.array(k)\n",
//     "# y = np.array(test_scores)\n",
//     "\n",
//     "# degrees = 3\n",
//     "# p1 = np.poly1d(np.polyfit(k, test_misclassifications, degrees))\n",
//     "# p2 = np.poly1d(np.polyfit(k, train_misclassifications, degrees))\n",
//     "\n",
//     "# t = np.linspace(0, 20, 20)\n",
//     "\n",
//     "plt.scatter(k, test_misclassifications)\n",
//     "plt.plot(k, test_misclassifications, '-', label='test')\n",
//     "\n",
//     "plt.scatter(k, train_misclassifications)\n",
//     "plt.plot(k, train_misclassifications, '-', label='train')\n",
//     "\n",
//     "\n",
//     "plt.axis([max(k),min(k)+1, 0, 10])\n",
//     "plt.xlabel('number of nearest neighbours (k)', size = 13)\n",
//     "plt.ylabel('number of misclassifications', size = 13)\n",
//     "plt.title('Model Performance vs Complexity', size = 20)\n",
//     "plt.legend()\n",
//     "\n",
//     "plt.show()"
//    ]
//   },
//   {
//    "cell_type": "code",
//    "execution_count": 91,
//    "metadata": {},
//    "outputs": [
//     {
//      "data": {
//       "image/png": "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\n",
//       "text/plain": [
//        "<Figure size 432x288 with 1 Axes>"
//       ]
//      },
//      "metadata": {
//       "needs_background": "light"
//      },
//      "output_type": "display_data"
//     }
//    ],
//    "source": [
//     "plotKNN(n_neighbors=13, \n",
//     "        plot_height=test_data.height,\n",
//     "        plot_width=test_data.width,\n",
//     "        plot_labels=test_data.fruit)"
// >>>>>>> e336ae1d91d323104bbf04d3b1e3c0ed2ec99ad0
//    ]
//   },
//   {
//    "cell_type": "code",
//    "execution_count": 82,
//    "metadata": {},
//    "outputs": [
//     {
//      "data": {
//       "image/png": "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\n",
//       "text/plain": [
//        "<Figure size 432x288 with 1 Axes>"
//       ]
//      },
//      "metadata": {
//       "needs_background": "light"
//      },
//      "output_type": "display_data"
//     }
//    ],
//    "source": [
// <<<<<<< HEAD
//     "## 5.2. Tune Hyperparameters"
//    ]
//   },
//   {
//    "cell_type": "markdown",
//    "metadata": {},
//    "source": [
//     "> Now, for each `k` let's calculate train_error and test_error."
// =======
//     "plotKNN(n_neighbors=2, \n",
//     "        plot_height=test_data.height,\n",
//     "        plot_width=test_data.width,\n",
//     "        plot_labels=test_data.fruit)"
//    ]
//   },
//   {
//    "cell_type": "code",
//    "execution_count": 74,
//    "metadata": {},
//    "outputs": [
//     {
//      "data": {
//       "image/png": "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\n",
//       "text/plain": [
//        "<Figure size 432x288 with 1 Axes>"
//       ]
//      },
//      "metadata": {
//       "needs_background": "light"
//      },
//      "output_type": "display_data"
//     }
//    ],
//    "source": [
//     "plotKNN(n_neighbors=5, \n",
//     "        plot_height=test_data.height,\n",
//     "        plot_width=test_data.width,\n",
//     "        plot_labels=test_data.fruit)"
// >>>>>>> e336ae1d91d323104bbf04d3b1e3c0ed2ec99ad0
//    ]
//   },
//   {
//    "cell_type": "code",
// <<<<<<< HEAD
//    "execution_count": 40,
// =======
//    "execution_count": 86,
//    "metadata": {},
//    "outputs": [],
//    "source": [
//     "#original data ACTUAL!!!!\n",
//     "\n",
//     "# test_data = pd.DataFrame({'height': [4, 6.5, 7.5],\n",
//     "#             'width': [6.5, 7, 5],\n",
//     "#             'fruit': ['Mandarin', 'Apple', 'Lemon']\n",
//     "#            })\n",
//     "\n",
//     "test_data = pd.DataFrame({'height': [4, 6.49, 7.51, 8.34, 4.47\n",
//     "#                                     9.23,\n",
//     "#                                      7.76\n",
//     "                                    ],\n",
//     "            'width': [6.5, 7, 5.01, 4.23, 7.13\n",
//     "#                      5.89,\n",
//     "#                       7.11\n",
//     "                     ],\n",
//     "            'fruit': ['Mandarin', 'Apple', 'Lemon', 'Lemon', 'Mandarin']\n",
//     "           })\n"
//    ]
//   },
//   {
//    "cell_type": "code",
//    "execution_count": 87,
// >>>>>>> e336ae1d91d323104bbf04d3b1e3c0ed2ec99ad0
//    "metadata": {},
//    "outputs": [
//     {
//      "name": "stdout",
//      "output_type": "stream",
//      "text": [
// <<<<<<< HEAD
//       "k=1 | train error: 0.0 | test error: 0.6 | train misclassifications: 0.0 | test misclassifications: 3.0\n",
//       "k=2 | train error: 0.05 | test error: 0.4 | train misclassifications: 1.0 | test misclassifications: 2.0\n",
//       "k=3 | train error: 0.15 | test error: 0.0 | train misclassifications: 3.0 | test misclassifications: 0.0\n",
//       "k=4 | train error: 0.15 | test error: 0.0 | train misclassifications: 3.0 | test misclassifications: 0.0\n",
//       "k=5 | train error: 0.15 | test error: 0.0 | train misclassifications: 3.0 | test misclassifications: 0.0\n",
//       "k=6 | train error: 0.15 | test error: 0.0 | train misclassifications: 3.0 | test misclassifications: 0.0\n",
//       "k=7 | train error: 0.15 | test error: 0.0 | train misclassifications: 3.0 | test misclassifications: 0.0\n",
//       "k=8 | train error: 0.15 | test error: 0.0 | train misclassifications: 3.0 | test misclassifications: 0.0\n",
//       "k=9 | train error: 0.15 | test error: 0.2 | train misclassifications: 3.0 | test misclassifications: 1.0\n",
//       "k=10 | train error: 0.15 | test error: 0.4 | train misclassifications: 3.0 | test misclassifications: 2.0\n",
//       "k=11 | train error: 0.2 | test error: 0.4 | train misclassifications: 4.0 | test misclassifications: 2.0\n",
//       "k=12 | train error: 0.1 | test error: 0.4 | train misclassifications: 2.0 | test misclassifications: 2.0\n",
//       "k=13 | train error: 0.35 | test error: 0.4 | train misclassifications: 7.0 | test misclassifications: 2.0\n",
//       "k=14 | train error: 0.45 | test error: 0.4 | train misclassifications: 9.0 | test misclassifications: 2.0\n",
//       "k=15 | train error: 0.45 | test error: 0.4 | train misclassifications: 9.0 | test misclassifications: 2.0\n",
//       "k=16 | train error: 0.55 | test error: 0.4 | train misclassifications: 11.0 | test misclassifications: 2.0\n",
//       "k=17 | train error: 0.5 | test error: 0.4 | train misclassifications: 10.0 | test misclassifications: 2.0\n",
//       "k=18 | train error: 0.5 | test error: 0.4 | train misclassifications: 10.0 | test misclassifications: 2.0\n",
//       "k=19 | train error: 0.6 | test error: 0.6 | train misclassifications: 12.0 | test misclassifications: 3.0\n",
//       "k=20 | train error: 0.6 | test error: 0.6 | train misclassifications: 12.0 | test misclassifications: 3.0\n"
// =======
//       "k=1 | test misclassifications: 3.0 | train misclassifications: 0 | train score: 1.0 | test score: 0.4\n",
//       "k=2 | test misclassifications: 2.0 | train misclassifications: 1 | train score: 0.95 | test score: 0.6\n",
//       "k=3 | test misclassifications: 0.0 | train misclassifications: 3 | train score: 0.85 | test score: 1.0\n",
//       "k=4 | test misclassifications: 0.0 | train misclassifications: 3 | train score: 0.85 | test score: 1.0\n",
//       "k=5 | test misclassifications: 0.0 | train misclassifications: 3 | train score: 0.85 | test score: 1.0\n",
//       "k=6 | test misclassifications: 0.0 | train misclassifications: 3 | train score: 0.85 | test score: 1.0\n",
//       "k=7 | test misclassifications: 0.0 | train misclassifications: 3 | train score: 0.85 | test score: 1.0\n",
//       "k=8 | test misclassifications: 0.0 | train misclassifications: 3 | train score: 0.85 | test score: 1.0\n",
//       "k=9 | test misclassifications: 1.0 | train misclassifications: 3 | train score: 0.85 | test score: 0.8\n",
//       "k=10 | test misclassifications: 2.0 | train misclassifications: 3 | train score: 0.85 | test score: 0.6\n",
//       "k=11 | test misclassifications: 2.0 | train misclassifications: 4 | train score: 0.8 | test score: 0.6\n",
//       "k=12 | test misclassifications: 2.0 | train misclassifications: 2 | train score: 0.9 | test score: 0.6\n",
//       "k=13 | test misclassifications: 2.0 | train misclassifications: 7 | train score: 0.65 | test score: 0.6\n",
//       "k=14 | test misclassifications: 2.0 | train misclassifications: 9 | train score: 0.55 | test score: 0.6\n",
//       "k=15 | test misclassifications: 2.0 | train misclassifications: 9 | train score: 0.55 | test score: 0.6\n",
//       "k=16 | test misclassifications: 2.0 | train misclassifications: 11 | train score: 0.45 | test score: 0.6\n",
//       "k=17 | test misclassifications: 2.0 | train misclassifications: 10 | train score: 0.5 | test score: 0.6\n",
//       "k=18 | test misclassifications: 2.0 | train misclassifications: 10 | train score: 0.5 | test score: 0.6\n",
//       "k=19 | test misclassifications: 3.0 | train misclassifications: 12 | train score: 0.4 | test score: 0.4\n",
//       "k=20 | test misclassifications: 3.0 | train misclassifications: 12 | train score: 0.4 | test score: 0.4\n"
// >>>>>>> e336ae1d91d323104bbf04d3b1e3c0ed2ec99ad0
//      ]
//     }
//    ],
//    "source": [
//     "# Define X and y using the dataset\n",
//     "X = df[['height', 'width']].values\n",
//     "y = df.fruit.values\n",
//     "\n",
//     "train_errors = []\n",
//     "test_errors = []\n",
//     "\n",
//     "k = []\n",
//     "test_misclassifications = []\n",
//     "train_misclassifications = []\n",
//     "\n",
//     "for i in range(len(X)):\n",
//     "    _k = i+1\n",
//     "    \n",
//     "    # STEP 1: Again, initialize the model\n",
//     "    clf = KNeighborsClassifier(n_neighbors = _k)\n",
//     "    clf.fit(X, y)\n",
//     "\n",
//     "    # STEP 2: make predictions on the test and train sets\n",
//     "    y_pred_train = clf.predict(X)\n",
//     "    y_pred_test = clf.predict(test_data[['height', 'width']])\n",
//     "\n",
//     "    # STEP 4: Compare actual response values (y_train and y_test) with predicted response values (y_pred_train, y_pred_test)\n",
//     "    train_score = metrics.accuracy_score(y, y_pred_train)\n",
//     "    test_score = metrics.accuracy_score(test_data[['fruit']], y_pred_test)\n",
//     "    \n",
//     "    # STEP 5: Calculate train error and test error\n",
//     "    _train_error = round(1-train_score,2)\n",
//     "    _test_error = round(1-test_score,2)\n",
//     "\n",
//     "\n",
//     "    k.append(_k)\n",
//     "    train_errors.append(_train_error)\n",
//     "    test_errors.append(_test_error)\n",
//     "    \n",
//     "    print(f'k={_k} | train error: {train_errors[i]} | test error: {test_errors[i]} | train misclassifications: {_train_error*len(X)} | test misclassifications: {_test_error*len(test_data)}')\n",
//     "    \n",
//     "    "
//    ]
//   },
//   {
//    "cell_type": "markdown",
//    "metadata": {},
//    "source": [
//     "## 5.3. Plot Misclassification Error Rates "
//    ]
//   },
//   {
//    "cell_type": "markdown",
//    "metadata": {},
//    "source": [
//     "> Now, let's plot a graph that shows misclassification error rate for training and test sets as we vary $k$, the number of neighbors in our KNN model.\n"
//    ]
//   },
//   {
//    "cell_type": "code",
//    "execution_count": 43,
//    "metadata": {
//     "scrolled": true
//    },
//    "outputs": [
//     {
//      "data": {
//       "image/png": "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\n",
//       "text/plain": [
//        "<Figure size 432x288 with 1 Axes>"
//       ]
//      },
//      "metadata": {
//       "needs_background": "light"
//      },
//      "output_type": "display_data"
//     }
//    ],
//    "source": [
//     "# Plot train error rates\n",
//     "plt.scatter(k, train_errors) #function\n",
//     "plt.plot(k, train_errors, '-', label='train') #data points\n",
//     "\n",
//     "# Plot test error rates\n",
//     "plt.scatter(k, test_errors) #function\n",
//     "plt.plot(k, test_errors, '-', label='test') #data points\n",
//     "\n",
//     "# Plot configurations\n",
//     "plt.axis([max(k),min(k)+1, 0, 1])\n",
//     "plt.xlabel('number of nearest neighbours (k)', size = 13)\n",
//     "plt.ylabel('misclassification (error) rate', size = 13)\n",
//     "plt.title('Model Performance vs Complexity', size = 20)\n",
//     "plt.legend()\n",
//     "\n",
//     "# Output\n",
//     "plt.show()"
//    ]
//   },
  {
   "cell_type": "code",
   "execution_count": null,
   "metadata": {},
   "outputs": [],
   "source": []
  }
 ],
 "metadata": {
  "kernelspec": {
   "display_name": "Python 3",
   "language": "python",
   "name": "python3"
  },
  "language_info": {
   "codemirror_mode": {
    "name": "ipython",
    "version": 3
   },
   "file_extension": ".py",
   "mimetype": "text/x-python",
   "name": "python",
   "nbconvert_exporter": "python",
   "pygments_lexer": "ipython3",
   "version": "3.8.3"
  }
 },
 "nbformat": 4,
 "nbformat_minor": 4
}
