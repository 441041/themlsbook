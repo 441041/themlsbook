{
 "cells": [
  {
   "cell_type": "markdown",
   "metadata": {},
   "source": [
    "# Chapter 2: K-Nearest Neighbors (KNN) Classifier\n",
    "\n",
    "- This Jupyter Notebook is a supplement for the [Machine Learning Simplified](themlsbook.com) book. Note that all detailed explanations are written in the book. This notebook just shed light on Python implementations of the topics discussed.\n",
    "- I also assume you know Python syntax and how it works. If you don't, I highly recommend you to take a break and get introduced to the language before going forward with my notebooks. "
   ]
  },
  {
   "cell_type": "markdown",
   "metadata": {},
   "source": [
    "> Let's recall Chapter 2. We have a hypothetical dataset (Table 2.1) containing 20 fruits that are a mix of `apples`, `mandarins`, and `lemons` For each fruit, we have measured it’s `height` and `width` and recorded them as the first two columns of the table. For each fruit we know its `type`, or class label, and this is represented by the last column."
   ]
  },
  {
   "cell_type": "markdown",
   "metadata": {},
   "source": [
    "| height | width | fruit |\n",
    "| ----------- | ----------- | ----------- |\n",
    "| 3.91 | 5.76 | Mandarin |\n",
    "| 7.09 | 7.69 | Apple |\n",
    "| 10.48 | 7.32 | Lemon |\n",
    "| 9.21 | 7.20 | Lemon |\n",
    "| 7.95 | 5.90 | Lemon |\n",
    "| 7.62 | 7.51 | Apple |\n",
    "| 7.95 | 7.51 | Apple |\n",
    "| 8.42 | 5.32 | Mandarin |\n",
    "| 4.69 | 6.19 | Mandarin |\n",
    "| 7.50 | 5.99 | Lemon |\n",
    "| 7.11 | 7.02 | Apple |\n",
    "| 4.15 | 5.60 | Mandarin |\n",
    "| 7.29 | 8.38 | Apple |\n",
    "| 8.49 | 6.52 | Lemon |\n",
    "| 7.44 | 7.89 | Apple |\n",
    "| 7.86 | 7.60 | Apple |\n",
    "| 3.93 | 6.12 | Apple |\n",
    "| 4.40 | 5.90 | Mandarin |\n",
    "| 8.10 | 6.15 | Lemon |\n",
    "| 8.69 | 5.82 | Lemon |"
   ]
  },
  {
   "cell_type": "markdown",
   "metadata": {},
   "source": [
    "> The structure of this notebook is identical to the structure of Chapter 2: Overview of Supervised Learning. That means, we will sequentially:\n",
    "\n",
    "> 1. **Create a hypothetical dataset** (Table 2.1 in section 2.1.2) with fruits measurements\n",
    "> 2. **Visualize the dataset** in the scatter plot\n",
    "> 3. **Build a KNN classifier** by training it with the dataset\n",
    "> 4. **Predict new values with classifier**\n",
    "> 5. **Visualize decision boundaries** of KNN classifier"
   ]
  },
  {
   "cell_type": "markdown",
   "metadata": {},
   "source": [
    "# 0. Load Required Libraries & Functions"
   ]
  },
  {
   "cell_type": "code",
   "execution_count": 2,
   "metadata": {},
   "outputs": [],
   "source": [
    "# Libraries\n",
    "import matplotlib.pyplot as plt\n",
    "from matplotlib.colors import ListedColormap\n",
    "import pandas as pd\n",
    "import numpy as np\n",
    "import seaborn as sns\n",
    "from sklearn import metrics\n",
    "from sklearn.neighbors import KNeighborsClassifier\n",
    "\n",
    "# Create a function to plot scatter graph\n",
    "def plotFruitFigure():\n",
    "    # Define variables for graph\n",
    "    apple_height, apple_width = df.height[df.fruit == 'Apple'], df.width[df.fruit == 'Apple']\n",
    "    mandarin_height, mandarin_width = df.height[df.fruit == 'Mandarin'], df.width[df.fruit == 'Mandarin']\n",
    "    lemon_height, lemon_width = df.height[df.fruit == 'Lemon'], df.width[df.fruit == 'Lemon']\n",
    "\n",
    "    # Initialize the graph\n",
    "    fig, ax = plt.subplots()\n",
    "    plt.gca().set_aspect('equal', adjustable='box')\n",
    "\n",
    "    # Plot defined variables on it\n",
    "    ax.plot(apple_height, apple_width, 'o', color='r', label='apple')\n",
    "    ax.plot(mandarin_height, mandarin_width, 'o', color='g', label='mandarin')\n",
    "    ax.plot(lemon_height, lemon_width, 'o', color='b', label='lemon')\n",
    "\n",
    "    # Show legend and configure graph's size\n",
    "    plt.legend()\n",
    "    plt.ylim(3, 10) \n",
    "    plt.xlim(3, 11)\n",
    "    plt.title('KNN Fruits Scatter Plot')\n",
    "    plt.xlabel(\"height\")\n",
    "    plt.ylabel(\"width\") \n",
    "    \n",
    "# Create a function to plot KNN's decision regions\n",
    "def plotKNN(\n",
    "    n_neighbors=int, \n",
    "            plot_data=True,\n",
    "            plot_height=None,\n",
    "            plot_width=None,\n",
    "            plot_labels=None):\n",
    "    \n",
    "    # Turn categorical target variable into numerical to make a graph\n",
    "    X = df[['height', 'width']].values\n",
    "    y_encoded = df[\"fruit\"].astype('category').cat.codes #encoded y\n",
    "\n",
    "    # Create color maps for graph\n",
    "    cmap_light = ListedColormap(['pink', 'lightblue', 'lightgreen'])\n",
    "    cmap_bold = ['green', 'red', 'blue']\n",
    "\n",
    "    # We want to visualize KNN with 1 nearest neighbor.\n",
    "    # Let's initialize the model and train it with the dataset\n",
    "    clf = KNeighborsClassifier(n_neighbors = n_neighbors)\n",
    "    clf.fit(X, y_encoded)\n",
    "\n",
    "    # Plot the decision boundary. For that, we will assign a color to each point in the mesh\n",
    "    x_min, x_max = X[:, 0].min() - 3, X[:, 0].max() + 3\n",
    "    y_min, y_max = X[:, 1].min() - 3, X[:, 1].max() + 3\n",
    "\n",
    "    h = .02  # step size in the mesh\n",
    "    xx, yy = np.meshgrid(np.arange(x_min, x_max, h),\n",
    "                         np.arange(y_min, y_max, h))\n",
    "\n",
    "    Z = clf.predict(np.c_[xx.ravel(), yy.ravel()])\n",
    "\n",
    "    # Put the result into a color plot\n",
    "    Z = Z.reshape(xx.shape)\n",
    "    plt.contourf(xx, yy, Z, cmap=cmap_light)\n",
    "    \n",
    "    if plot_data==True:\n",
    "        # Plot also the dataset observations\n",
    "        sns.scatterplot(x=plot_height, \n",
    "                        y=plot_width,#y=X[:, 1], \n",
    "                        hue=plot_labels,#df.fruit.values,\n",
    "                        palette=cmap_bold, \n",
    "                        alpha=1.0, \n",
    "                        edgecolor=\"black\")\n",
    "\n",
    "    # Configure the graph\n",
    "    plt.ylim(3, 10) \n",
    "    plt.xlim(3, 11)\n",
    "    plt.gca().set_aspect('equal', adjustable='box')\n",
    "\n",
    "    plt.title(f'KNN Fruits Classifier, n={n_neighbors}')\n",
    "    plt.xlabel(\"height\")\n",
    "    plt.ylabel(\"width\")  "
   ]
  },
  {
   "cell_type": "markdown",
   "metadata": {},
   "source": [
    "# 2. Probelm Representation"
   ]
  },
  {
   "cell_type": "markdown",
   "metadata": {},
   "source": [
    "## 2.1. Create Hypothetical Dataset"
   ]
  },
  {
   "cell_type": "markdown",
   "metadata": {},
   "source": [
    "> To create a table, we use `pandas` library - a library that manages **PAN**el **DA**ta **S**ets. We have already loaded it in the beginning of this notebook."
   ]
  },
  {
   "cell_type": "code",
   "execution_count": 3,
   "metadata": {},
   "outputs": [
    {
     "data": {
      "text/html": [
       "<div>\n",
       "<style scoped>\n",
       "    .dataframe tbody tr th:only-of-type {\n",
       "        vertical-align: middle;\n",
       "    }\n",
       "\n",
       "    .dataframe tbody tr th {\n",
       "        vertical-align: top;\n",
       "    }\n",
       "\n",
       "    .dataframe thead th {\n",
       "        text-align: right;\n",
       "    }\n",
       "</style>\n",
       "<table border=\"1\" class=\"dataframe\">\n",
       "  <thead>\n",
       "    <tr style=\"text-align: right;\">\n",
       "      <th></th>\n",
       "      <th>height</th>\n",
       "      <th>width</th>\n",
       "      <th>fruit</th>\n",
       "    </tr>\n",
       "  </thead>\n",
       "  <tbody>\n",
       "    <tr>\n",
       "      <th>0</th>\n",
       "      <td>3.91</td>\n",
       "      <td>5.76</td>\n",
       "      <td>Mandarin</td>\n",
       "    </tr>\n",
       "    <tr>\n",
       "      <th>1</th>\n",
       "      <td>7.09</td>\n",
       "      <td>7.69</td>\n",
       "      <td>Apple</td>\n",
       "    </tr>\n",
       "    <tr>\n",
       "      <th>2</th>\n",
       "      <td>10.48</td>\n",
       "      <td>7.32</td>\n",
       "      <td>Lemon</td>\n",
       "    </tr>\n",
       "    <tr>\n",
       "      <th>3</th>\n",
       "      <td>9.21</td>\n",
       "      <td>7.20</td>\n",
       "      <td>Lemon</td>\n",
       "    </tr>\n",
       "    <tr>\n",
       "      <th>4</th>\n",
       "      <td>7.95</td>\n",
       "      <td>5.90</td>\n",
       "      <td>Lemon</td>\n",
       "    </tr>\n",
       "    <tr>\n",
       "      <th>5</th>\n",
       "      <td>7.62</td>\n",
       "      <td>7.51</td>\n",
       "      <td>Apple</td>\n",
       "    </tr>\n",
       "    <tr>\n",
       "      <th>6</th>\n",
       "      <td>7.95</td>\n",
       "      <td>5.32</td>\n",
       "      <td>Mandarin</td>\n",
       "    </tr>\n",
       "    <tr>\n",
       "      <th>7</th>\n",
       "      <td>4.69</td>\n",
       "      <td>6.19</td>\n",
       "      <td>Mandarin</td>\n",
       "    </tr>\n",
       "    <tr>\n",
       "      <th>8</th>\n",
       "      <td>7.50</td>\n",
       "      <td>5.99</td>\n",
       "      <td>Lemon</td>\n",
       "    </tr>\n",
       "    <tr>\n",
       "      <th>9</th>\n",
       "      <td>7.11</td>\n",
       "      <td>7.02</td>\n",
       "      <td>Apple</td>\n",
       "    </tr>\n",
       "    <tr>\n",
       "      <th>10</th>\n",
       "      <td>4.15</td>\n",
       "      <td>5.60</td>\n",
       "      <td>Mandarin</td>\n",
       "    </tr>\n",
       "    <tr>\n",
       "      <th>11</th>\n",
       "      <td>7.29</td>\n",
       "      <td>8.38</td>\n",
       "      <td>Apple</td>\n",
       "    </tr>\n",
       "    <tr>\n",
       "      <th>12</th>\n",
       "      <td>8.49</td>\n",
       "      <td>6.52</td>\n",
       "      <td>Lemon</td>\n",
       "    </tr>\n",
       "    <tr>\n",
       "      <th>13</th>\n",
       "      <td>7.44</td>\n",
       "      <td>7.89</td>\n",
       "      <td>Apple</td>\n",
       "    </tr>\n",
       "    <tr>\n",
       "      <th>14</th>\n",
       "      <td>7.86</td>\n",
       "      <td>7.60</td>\n",
       "      <td>Apple</td>\n",
       "    </tr>\n",
       "    <tr>\n",
       "      <th>15</th>\n",
       "      <td>3.93</td>\n",
       "      <td>6.12</td>\n",
       "      <td>Apple</td>\n",
       "    </tr>\n",
       "    <tr>\n",
       "      <th>16</th>\n",
       "      <td>4.40</td>\n",
       "      <td>5.90</td>\n",
       "      <td>Mandarin</td>\n",
       "    </tr>\n",
       "    <tr>\n",
       "      <th>17</th>\n",
       "      <td>5.50</td>\n",
       "      <td>4.50</td>\n",
       "      <td>Lemon</td>\n",
       "    </tr>\n",
       "    <tr>\n",
       "      <th>18</th>\n",
       "      <td>8.10</td>\n",
       "      <td>6.15</td>\n",
       "      <td>Lemon</td>\n",
       "    </tr>\n",
       "    <tr>\n",
       "      <th>19</th>\n",
       "      <td>8.69</td>\n",
       "      <td>5.82</td>\n",
       "      <td>Lemon</td>\n",
       "    </tr>\n",
       "  </tbody>\n",
       "</table>\n",
       "</div>"
      ],
      "text/plain": [
       "    height  width     fruit\n",
       "0     3.91   5.76  Mandarin\n",
       "1     7.09   7.69     Apple\n",
       "2    10.48   7.32     Lemon\n",
       "3     9.21   7.20     Lemon\n",
       "4     7.95   5.90     Lemon\n",
       "5     7.62   7.51     Apple\n",
       "6     7.95   5.32  Mandarin\n",
       "7     4.69   6.19  Mandarin\n",
       "8     7.50   5.99     Lemon\n",
       "9     7.11   7.02     Apple\n",
       "10    4.15   5.60  Mandarin\n",
       "11    7.29   8.38     Apple\n",
       "12    8.49   6.52     Lemon\n",
       "13    7.44   7.89     Apple\n",
       "14    7.86   7.60     Apple\n",
       "15    3.93   6.12     Apple\n",
       "16    4.40   5.90  Mandarin\n",
       "17    5.50   4.50     Lemon\n",
       "18    8.10   6.15     Lemon\n",
       "19    8.69   5.82     Lemon"
      ]
     },
     "execution_count": 3,
     "metadata": {},
     "output_type": "execute_result"
    }
   ],
   "source": [
    "# Create a hypothetical dataset from the MLS book\n",
    "data = {'height': [3.91, 7.09, 10.48, 9.21, 7.95, 7.62, 7.95, 4.69, 7.50, 7.11, 4.15, 7.29, 8.49, 7.44, 7.86, 3.93, 4.40, 5.5, 8.10, 8.69], \n",
    "        'width': [5.76, 7.69, 7.32, 7.20, 5.90, 7.51, 5.32, 6.19, 5.99, 7.02, 5.60, 8.38, 6.52, 7.89, 7.60, 6.12, 5.90, 4.5, 6.15, 5.82],\n",
    "        'fruit': ['Mandarin', 'Apple', 'Lemon', 'Lemon', 'Lemon', 'Apple', 'Mandarin', 'Mandarin', 'Lemon', 'Apple', 'Mandarin', 'Apple', 'Lemon', 'Apple', 'Apple', 'Apple', 'Mandarin', 'Lemon', 'Lemon', 'Lemon']\n",
    "       }  \n",
    "\n",
    "# Create DataFrame df using pandas library\n",
    "df = pd.DataFrame(data)  \n",
    "  \n",
    "# Print the output\n",
    "df\n"
   ]
  },
  {
   "cell_type": "markdown",
   "metadata": {},
   "source": [
    "## 2.2. Visualize the Dataset"
   ]
  },
  {
   "cell_type": "markdown",
   "metadata": {},
   "source": [
    "> Let's now make the same graph that we had in the book. We can do so by simply calling the funtion we wrote in the beginning."
   ]
  },
  {
   "cell_type": "code",
   "execution_count": 4,
   "metadata": {},
   "outputs": [
    {
     "data": {
      "image/png": "[encoded data removed]",
      "text/plain": [
       "<Figure size 432x288 with 1 Axes>"
      ]
     },
     "metadata": {
      "needs_background": "light"
     },
     "output_type": "display_data"
    }
   ],
   "source": [
    "plotFruitFigure()"
   ]
  },
  {
   "cell_type": "markdown",
   "metadata": {},
   "source": [
    "# 3. Learning a Prediction Function"
   ]
  },
  {
   "cell_type": "markdown",
   "metadata": {},
   "source": [
    "## 3.1. Build a KNN Classifier"
   ]
  },
  {
   "cell_type": "markdown",
   "metadata": {},
   "source": [
    "> Let's build a classifier and use it to predict some values. Firstly, we define `X` and `y`:"
   ]
  },
  {
   "cell_type": "code",
   "execution_count": 5,
   "metadata": {},
   "outputs": [],
   "source": [
    "# Define X and y using the dataset\n",
    "\n",
    "X = df[['height', 'width']].values\n",
    "y = df.fruit.values\n"
   ]
  },
  {
   "cell_type": "markdown",
   "metadata": {},
   "source": [
    "> Second, we **initialize** our `KNN` algorithm and **train** it with X and y."
   ]
  },
  {
   "cell_type": "code",
   "execution_count": 6,
   "metadata": {},
   "outputs": [
    {
     "data": {
      "text/plain": [
       "KNeighborsClassifier(n_neighbors=1)"
      ]
     },
     "execution_count": 6,
     "metadata": {},
     "output_type": "execute_result"
    }
   ],
   "source": [
    "# Import a KNN library\n",
    "from sklearn.neighbors import KNeighborsClassifier\n",
    "\n",
    "# Initialize the KNN model with 1 nearest neighbor\n",
    "clf = KNeighborsClassifier(n_neighbors = 1)\n",
    "\n",
    "# Feed the dataset into the model to train\n",
    "clf.fit(X, y)"
   ]
  },
  {
   "cell_type": "markdown",
   "metadata": {},
   "source": [
    "## 3.2. Vizualize KNN decision boundaries"
   ]
  },
  {
   "cell_type": "markdown",
   "metadata": {},
   "source": [
    "> Let's visualize the decision boundaries of KNN in a graph, like we did in the book."
   ]
  },
  {
   "cell_type": "code",
   "execution_count": 7,
   "metadata": {},
   "outputs": [
    {
     "data": {
      "image/png": "[encoded data removed]",
      "text/plain": [
       "<Figure size 432x288 with 1 Axes>"
      ]
     },
     "metadata": {
      "needs_background": "light"
     },
     "output_type": "display_data"
    }
   ],
   "source": [
    "plotKNN(n_neighbors=1, \n",
    "        plot_height= df['height'], \n",
    "        plot_width = df['width'], \n",
    "        plot_labels=df.fruit.values)"
   ]
  },
  {
   "cell_type": "markdown",
   "metadata": {},
   "source": [
    "> Let's plot the trained model, so just remove the datapoints (as after the learning is done, we don't need them anymore)"
   ]
  },
  {
   "cell_type": "code",
   "execution_count": 8,
   "metadata": {
    "scrolled": false
   },
   "outputs": [
    {
     "data": {
      "image/png": "[encoded data removed]",
      "text/plain": [
       "<Figure size 432x288 with 1 Axes>"
      ]
     },
     "metadata": {
      "needs_background": "light"
     },
     "output_type": "display_data"
    }
   ],
   "source": [
    "plotKNN(n_neighbors=1, plot_data=False)"
   ]
  },
  {
   "cell_type": "markdown",
   "metadata": {},
   "source": [
    "## 3.3. Predict unknown values"
   ]
  },
  {
   "cell_type": "markdown",
   "metadata": {},
   "source": [
    "> Let's predict unknown fruits using our trained classifier:"
   ]
  },
  {
   "cell_type": "code",
   "execution_count": 9,
   "metadata": {
    "scrolled": true
   },
   "outputs": [
    {
     "data": {
      "text/plain": [
       "array(['Mandarin'], dtype=object)"
      ]
     },
     "execution_count": 9,
     "metadata": {},
     "output_type": "execute_result"
    }
   ],
   "source": [
    "# Let's try to predict the label for an unknown fruit with width of 9cm and height of 3cm\n",
    "clf.predict([[9, 3]])"
   ]
  },
  {
   "cell_type": "code",
   "execution_count": 10,
   "metadata": {},
   "outputs": [
    {
     "data": {
      "text/plain": [
       "array(['Mandarin', 'Mandarin', 'Mandarin', 'Apple', 'Mandarin'],\n",
       "      dtype=object)"
      ]
     },
     "execution_count": 10,
     "metadata": {},
     "output_type": "execute_result"
    }
   ],
   "source": [
    "# We can predict values for a whole bunch of them!\n",
    "clf.predict([[9, 3], [4, 5], [2, 5], [8, 9], [5, 7]])"
   ]
  },
  {
   "cell_type": "markdown",
   "metadata": {},
   "source": [
    "# 4. How Good is our Prediction Function?"
   ]
  },
  {
   "cell_type": "markdown",
   "metadata": {},
   "source": [
    "Training and Test error curves as we vary the hyper-parameter K, the number of neighbors. The left shows an under-fit model which uses too large of a neighborhood K = n. The right of the plot shows an over-fit model which uses too small of a neighborhood K = 1."
   ]
  },
  {
   "cell_type": "markdown",
   "metadata": {},
   "source": [
    "## 4.1. Evaluate on Train Set"
   ]
  },
  {
   "cell_type": "markdown",
   "metadata": {},
   "source": [
    "> Let's first evaluate the score of the model on the training dataset. Remember, as we explained in the MLS book, this should be 0 in this example. \n",
    "> The first step is to \"predict\" the training set, that is, we pretend that we don't know its labels and see if the trained model manages to guess them correctly."
   ]
  },
  {
   "cell_type": "code",
   "execution_count": 13,
   "metadata": {},
   "outputs": [
    {
     "data": {
      "text/plain": [
       "array(['Mandarin', 'Apple', 'Lemon', 'Lemon', 'Lemon', 'Apple',\n",
       "       'Mandarin', 'Mandarin', 'Lemon', 'Apple', 'Mandarin', 'Apple',\n",
       "       'Lemon', 'Apple', 'Apple', 'Apple', 'Mandarin', 'Lemon', 'Lemon',\n",
       "       'Lemon'], dtype=object)"
      ]
     },
     "execution_count": 13,
     "metadata": {},
     "output_type": "execute_result"
    }
   ],
   "source": [
    "# Predict values for the training set\n",
    "y_pred_train = clf.predict(X)\n",
    "\n",
    "# Output of predicted labels\n",
    "y_pred_train"
   ]
  },
  {
   "cell_type": "markdown",
   "metadata": {},
   "source": [
    "> Let's recall the actual labels for our fruits:"
   ]
  },
  {
   "cell_type": "code",
   "execution_count": 16,
   "metadata": {},
   "outputs": [
    {
     "data": {
      "text/plain": [
       "array(['Mandarin', 'Apple', 'Lemon', 'Lemon', 'Lemon', 'Apple',\n",
       "       'Mandarin', 'Mandarin', 'Lemon', 'Apple', 'Mandarin', 'Apple',\n",
       "       'Lemon', 'Apple', 'Apple', 'Apple', 'Mandarin', 'Lemon', 'Lemon',\n",
       "       'Lemon'], dtype=object)"
      ]
     },
     "execution_count": 16,
     "metadata": {},
     "output_type": "execute_result"
    }
   ],
   "source": [
    "# Output of actual labels\n",
    "y"
   ]
  },
  {
   "cell_type": "markdown",
   "metadata": {},
   "source": [
    "> Let's now calculate the difference between actual and predicted labels:"
   ]
  },
  {
   "cell_type": "code",
   "execution_count": 21,
   "metadata": {},
   "outputs": [
    {
     "data": {
      "text/plain": [
       "1.0"
      ]
     },
     "execution_count": 21,
     "metadata": {},
     "output_type": "execute_result"
    }
   ],
   "source": [
    "# Calculate the difference between actual values y and predicted values y_pred_train\n",
    "train_score = metrics.accuracy_score(y, y_pred_train)\n",
    "\n",
    "# Output\n",
    "train_score"
   ]
  },
  {
   "cell_type": "markdown",
   "metadata": {},
   "source": [
    "> 1.0 means the model correctly predicted all (100%) data points from the training set. We can calculate the misclassification error rate simply as:"
   ]
  },
  {
   "cell_type": "code",
   "execution_count": 22,
   "metadata": {},
   "outputs": [
    {
     "data": {
      "text/plain": [
       "0.0"
      ]
     },
     "execution_count": 22,
     "metadata": {},
     "output_type": "execute_result"
    }
   ],
   "source": [
    "train_error = 1-train_score\n",
    "\n",
    "# Output\n",
    "1-train_score"
   ]
  },
  {
   "cell_type": "markdown",
   "metadata": {},
   "source": [
    "## 4.2. Evaluate on Test Set"
   ]
  },
  {
   "cell_type": "markdown",
   "metadata": {},
   "source": [
    "> Imagine we have new fuits with the following properties:\n",
    "\n",
    "| height | width | fruit |\n",
    "| ----------- | ----------- | ----------- |\n",
    "| 4.0 | 6.5 | Mandarin |\n",
    "| 4.47 | 7.13 | Mandarin |\n",
    "| 6.49 | 7.0 | Apple |\n",
    "| 7.51 | 5.01 | Lemon |\n",
    "| 8.34 | 4.23 | Lemon |"
   ]
  },
  {
   "cell_type": "markdown",
   "metadata": {},
   "source": [
    "> Let's see if our model would correctly predict the fruit label from this dataset (test set). Again, we do so by showing fruits' measurements and not revealing their labels."
   ]
  },
  {
   "cell_type": "code",
   "execution_count": 23,
   "metadata": {},
   "outputs": [],
   "source": [
    "# Compose the Test set\n",
    "test_data = pd.DataFrame({'height': [4, 4.47, 6.49, 7.51, 8.34],\n",
    "                            'width': [6.5, 7.13, 7, 5.01, 4.23],\n",
    "                            'fruit': ['Mandarin', 'Mandarin', 'Apple', 'Lemon', 'Lemon']})"
   ]
  },
  {
   "cell_type": "code",
   "execution_count": 24,
   "metadata": {
    "scrolled": true
   },
   "outputs": [
    {
     "data": {
      "image/png": "[encoded data removed]",
      "text/plain": [
       "<Figure size 432x288 with 1 Axes>"
      ]
     },
     "metadata": {
      "needs_background": "light"
     },
     "output_type": "display_data"
    }
   ],
   "source": [
    "# Visualize the Test set on the trained model\n",
    "\n",
    "plotKNN(n_neighbors=1, \n",
    "        plot_height=test_data.height,\n",
    "        plot_width=test_data.width,\n",
    "        plot_labels=test_data.fruit)"
   ]
  },
  {
   "cell_type": "markdown",
   "metadata": {},
   "source": [
    "> Just by eyeballing this graph, we can already see that the model made few prediction errors - some data points do not land at decision regions of the same color (this was explained in the book). Let's verify it:"
   ]
  },
  {
   "cell_type": "code",
   "execution_count": 6,
   "metadata": {},
   "outputs": [
    {
     "name": "stdout",
     "output_type": "stream",
     "text": [
      "[WRONG!] - actual observation is Mandarin, but the model predicted ['Apple']\n",
      "[CORRECT!] - actual observation is Mandarin, and the model predicted ['Mandarin']\n",
      "[CORRECT!] - actual observation is Apple, and the model predicted ['Apple']\n",
      "[WRONG!] - actual observation is Lemon, but the model predicted ['Mandarin']\n",
      "[WRONG!] - actual observation is Lemon, but the model predicted ['Mandarin']\n"
     ]
    }
   ],
   "source": [
    "# Predict observations\n",
    "for i in range(len(test_data)):\n",
    "    \n",
    "    # Initialize the KNN model with 1 nearest neighbor\n",
    "    clf = KNeighborsClassifier(n_neighbors = 1)\n",
    "\n",
    "    # Define X and y using the dataset\n",
    "    X = df[['height', 'width']].values\n",
    "    y = df.fruit.values\n",
    "\n",
    "    # Feed the dataset into the model to train\n",
    "    clf.fit(X, y)\n",
    "    \n",
    "    pred = clf.predict([test_data.iloc[i, :-1]])\n",
    "    \n",
    "    if pred == test_data.fruit[i]:\n",
    "        print(f'[CORRECT!] - actual observation is {test_data.fruit[i]}, and the model predicted {pred}')\n",
    "    else:\n",
    "        print(f'[WRONG!] - actual observation is {test_data.fruit[i]}, but the model predicted {pred}')"
   ]
  },
  {
   "cell_type": "markdown",
   "metadata": {},
   "source": [
    "> The model incorrectly predicted 3 observations out of 5. As we discussed in the MLS book, when the error is low on the training set (0%), but much higher on an unseen test set (3/5=60%), the model is overfitted. Another problem is underfitting - when test and train errors are equally high. To get a balance between these two, we tune hyperparameters of the model to pick the right model complexity (not too simple, not too complicated)."
   ]
  },
  {
   "cell_type": "markdown",
   "metadata": {},
   "source": [
    "# 5. Model Complexity"
   ]
  },
  {
   "cell_type": "markdown",
   "metadata": {},
   "source": [
    "## 5.1. View Different Scenarios"
   ]
  },
  {
   "cell_type": "markdown",
   "metadata": {},
   "source": [
    "> Let's try different values of k (k=1, k=2, k-5, k=20) and visually see what happens."
   ]
  },
  {
   "cell_type": "markdown",
   "metadata": {},
   "source": [
    "## 5.1.1. K = 1"
   ]
  },
  {
   "cell_type": "code",
   "execution_count": 137,
   "metadata": {},
   "outputs": [
    {
     "data": {
      "image/png": "[encoded data removed]",
      "text/plain": [
       "<Figure size 432x288 with 1 Axes>"
      ]
     },
     "metadata": {
      "needs_background": "light"
     },
     "output_type": "display_data"
    }
   ],
   "source": [
    "plotKNN(n_neighbors=1, #selecting k=1\n",
    "        plot_height= df['height'], \n",
    "        plot_width = df['width'], \n",
    "        plot_labels=df.fruit.values)"
   ]
  },
  {
   "cell_type": "markdown",
   "metadata": {},
   "source": [
    "> Let's check predictions of test data once again:"
   ]
  },
  {
   "cell_type": "code",
   "execution_count": 26,
   "metadata": {},
   "outputs": [
    {
     "data": {
      "image/png": "[encoded data removed]",
      "text/plain": [
       "<Figure size 432x288 with 1 Axes>"
      ]
     },
     "metadata": {
      "needs_background": "light"
     },
     "output_type": "display_data"
    }
   ],
   "source": [
    "plotKNN(n_neighbors=1, \n",
    "        plot_height=test_data.height,\n",
    "        plot_width=test_data.width,\n",
    "        plot_labels=test_data.fruit)"
   ]
  },
  {
   "cell_type": "markdown",
   "metadata": {},
   "source": [
    "> Misclassifications on test set: 3 (3 data points do not have the same color as their decision region)"
   ]
  },
  {
   "cell_type": "markdown",
   "metadata": {},
   "source": [
    "## 5.1.2. K = 2"
   ]
  },
  {
   "cell_type": "code",
   "execution_count": 27,
   "metadata": {},
   "outputs": [
    {
     "data": {
      "image/png": "[encoded data removed]",
      "text/plain": [
       "<Figure size 432x288 with 1 Axes>"
      ]
     },
     "metadata": {
      "needs_background": "light"
     },
     "output_type": "display_data"
    }
   ],
   "source": [
    "plotKNN(n_neighbors=2, #selecting k=2\n",
    "        plot_height= df['height'], \n",
    "        plot_width = df['width'], \n",
    "        plot_labels=df.fruit.values)"
   ]
  },
  {
   "cell_type": "markdown",
   "metadata": {},
   "source": [
    "> Let's check predictions of test data when $k=2$:"
   ]
  },
  {
   "cell_type": "code",
   "execution_count": 28,
   "metadata": {},
   "outputs": [
    {
     "data": {
      "image/png": "[encoded data removed]",
      "text/plain": [
       "<Figure size 432x288 with 1 Axes>"
      ]
     },
     "metadata": {
      "needs_background": "light"
     },
     "output_type": "display_data"
    }
   ],
   "source": [
    "plotKNN(n_neighbors=2, \n",
    "        plot_height=test_data.height,\n",
    "        plot_width=test_data.width,\n",
    "        plot_labels=test_data.fruit)"
   ]
  },
  {
   "cell_type": "markdown",
   "metadata": {},
   "source": [
    "> Misclassifications on test set: 2 (2 data points (both mandarins) do not have the same color as their decision region)"
   ]
  },
  {
   "cell_type": "markdown",
   "metadata": {},
   "source": [
    "## 5.1.3. K = 5"
   ]
  },
  {
   "cell_type": "code",
   "execution_count": 26,
   "metadata": {},
   "outputs": [
    {
     "data": {
      "image/png": "[encoded data removed]",
      "text/plain": [
       "<Figure size 432x288 with 1 Axes>"
      ]
     },
     "metadata": {
      "needs_background": "light"
     },
     "output_type": "display_data"
    }
   ],
   "source": [
    "plotKNN(n_neighbors=5, #selecting k=5\n",
    "        plot_height= df['height'], \n",
    "        plot_width = df['width'], \n",
    "        plot_labels=df.fruit.values)"
   ]
  },
  {
   "cell_type": "markdown",
   "metadata": {},
   "source": [
    "> Let's check predictions of test data when $k=5$:"
   ]
  },
  {
   "cell_type": "code",
   "execution_count": 29,
   "metadata": {},
   "outputs": [
    {
     "data": {
      "image/png": "[encoded data removed]",
      "text/plain": [
       "<Figure size 432x288 with 1 Axes>"
      ]
     },
     "metadata": {
      "needs_background": "light"
     },
     "output_type": "display_data"
    }
   ],
   "source": [
    "plotKNN(n_neighbors=5,\n",
    "        plot_height=test_data.height,\n",
    "        plot_width=test_data.width,\n",
    "        plot_labels=test_data.fruit)"
   ]
  },
  {
   "cell_type": "markdown",
   "metadata": {},
   "source": [
    "> Misclassifications on test set: 0 (all data points have the same color as their decision region)"
   ]
  },
  {
   "cell_type": "markdown",
   "metadata": {},
   "source": [
    "## 5.1.4. K = N"
   ]
  },
  {
   "cell_type": "code",
   "execution_count": 31,
   "metadata": {},
   "outputs": [
    {
     "data": {
      "image/png": "[encoded data removed]",
      "text/plain": [
       "<Figure size 432x288 with 1 Axes>"
      ]
     },
     "metadata": {
      "needs_background": "light"
     },
     "output_type": "display_data"
    }
   ],
   "source": [
    "n = len(X)\n",
    "\n",
    "plotKNN(n_neighbors=n, #selecting k=n=20\n",
    "        plot_height= df['height'], \n",
    "        plot_width = df['width'], \n",
    "        plot_labels=df.fruit.values)"
   ]
  },
  {
   "cell_type": "markdown",
   "metadata": {},
   "source": [
    "> Let's check predictions of test data when $k=n=20$:"
   ]
  },
  {
   "cell_type": "code",
   "execution_count": 32,
   "metadata": {},
   "outputs": [
    {
     "data": {
      "image/png": "[encoded data removed]",
      "text/plain": [
       "<Figure size 432x288 with 1 Axes>"
      ]
     },
     "metadata": {
      "needs_background": "light"
     },
     "output_type": "display_data"
    }
   ],
   "source": [
    "plotKNN(n_neighbors=n,\n",
    "        plot_height=test_data.height,\n",
    "        plot_width=test_data.width,\n",
    "        plot_labels=test_data.fruit)"
   ]
  },
  {
   "cell_type": "markdown",
   "metadata": {},
   "source": [
    "> Misclassifications on test set: 4 (only one dataapoint (apple) has the same color as its decision region)"
   ]
  },
  {
   "cell_type": "markdown",
   "metadata": {},
   "source": [
    "## 5.2. Tune Hyperparameters"
   ]
  },
  {
   "cell_type": "markdown",
   "metadata": {},
   "source": [
    "> Now, for each `k` let's calculate train_error and test_error."
   ]
  },
  {
   "cell_type": "code",
   "execution_count": 40,
   "metadata": {},
   "outputs": [
    {
     "name": "stdout",
     "output_type": "stream",
     "text": [
      "k=1 | train error: 0.0 | test error: 0.6 | train misclassifications: 0.0 | test misclassifications: 3.0\n",
      "k=2 | train error: 0.05 | test error: 0.4 | train misclassifications: 1.0 | test misclassifications: 2.0\n",
      "k=3 | train error: 0.15 | test error: 0.0 | train misclassifications: 3.0 | test misclassifications: 0.0\n",
      "k=4 | train error: 0.15 | test error: 0.0 | train misclassifications: 3.0 | test misclassifications: 0.0\n",
      "k=5 | train error: 0.15 | test error: 0.0 | train misclassifications: 3.0 | test misclassifications: 0.0\n",
      "k=6 | train error: 0.15 | test error: 0.0 | train misclassifications: 3.0 | test misclassifications: 0.0\n",
      "k=7 | train error: 0.15 | test error: 0.0 | train misclassifications: 3.0 | test misclassifications: 0.0\n",
      "k=8 | train error: 0.15 | test error: 0.0 | train misclassifications: 3.0 | test misclassifications: 0.0\n",
      "k=9 | train error: 0.15 | test error: 0.2 | train misclassifications: 3.0 | test misclassifications: 1.0\n",
      "k=10 | train error: 0.15 | test error: 0.4 | train misclassifications: 3.0 | test misclassifications: 2.0\n",
      "k=11 | train error: 0.2 | test error: 0.4 | train misclassifications: 4.0 | test misclassifications: 2.0\n",
      "k=12 | train error: 0.1 | test error: 0.4 | train misclassifications: 2.0 | test misclassifications: 2.0\n",
      "k=13 | train error: 0.35 | test error: 0.4 | train misclassifications: 7.0 | test misclassifications: 2.0\n",
      "k=14 | train error: 0.45 | test error: 0.4 | train misclassifications: 9.0 | test misclassifications: 2.0\n",
      "k=15 | train error: 0.45 | test error: 0.4 | train misclassifications: 9.0 | test misclassifications: 2.0\n",
      "k=16 | train error: 0.55 | test error: 0.4 | train misclassifications: 11.0 | test misclassifications: 2.0\n",
      "k=17 | train error: 0.5 | test error: 0.4 | train misclassifications: 10.0 | test misclassifications: 2.0\n",
      "k=18 | train error: 0.5 | test error: 0.4 | train misclassifications: 10.0 | test misclassifications: 2.0\n",
      "k=19 | train error: 0.6 | test error: 0.6 | train misclassifications: 12.0 | test misclassifications: 3.0\n",
      "k=20 | train error: 0.6 | test error: 0.6 | train misclassifications: 12.0 | test misclassifications: 3.0\n"
     ]
    }
   ],
   "source": [
    "# Define X and y using the dataset\n",
    "X = df[['height', 'width']].values\n",
    "y = df.fruit.values\n",
    "\n",
    "train_errors = []\n",
    "test_errors = []\n",
    "\n",
    "k = []\n",
    "test_misclassifications = []\n",
    "train_misclassifications = []\n",
    "\n",
    "for i in range(len(X)):\n",
    "    _k = i+1\n",
    "    \n",
    "    # STEP 1: Again, initialize the model\n",
    "    clf = KNeighborsClassifier(n_neighbors = _k)\n",
    "    clf.fit(X, y)\n",
    "\n",
    "    # STEP 2: make predictions on the test and train sets\n",
    "    y_pred_train = clf.predict(X)\n",
    "    y_pred_test = clf.predict(test_data[['height', 'width']])\n",
    "\n",
    "    # STEP 4: Compare actual response values (y_train and y_test) with predicted response values (y_pred_train, y_pred_test)\n",
    "    train_score = metrics.accuracy_score(y, y_pred_train)\n",
    "    test_score = metrics.accuracy_score(test_data[['fruit']], y_pred_test)\n",
    "    \n",
    "    # STEP 5: Calculate train error and test error\n",
    "    _train_error = round(1-train_score,2)\n",
    "    _test_error = round(1-test_score,2)\n",
    "\n",
    "\n",
    "    k.append(_k)\n",
    "    train_errors.append(_train_error)\n",
    "    test_errors.append(_test_error)\n",
    "    \n",
    "    print(f'k={_k} | train error: {train_errors[i]} | test error: {test_errors[i]} | train misclassifications: {_train_error*len(X)} | test misclassifications: {_test_error*len(test_data)}')\n",
    "    \n",
    "    "
   ]
  },
  {
   "cell_type": "markdown",
   "metadata": {},
   "source": [
    "## 5.3. Plot Misclassification Error Rates "
   ]
  },
  {
   "cell_type": "markdown",
   "metadata": {},
   "source": [
    "> Now, let's plot a graph that shows misclassification error rate for training and test sets as we vary $k$, the number of neighbors in our KNN model.\n"
   ]
  },
  {
   "cell_type": "code",
   "execution_count": 43,
   "metadata": {
    "scrolled": true
   },
   "outputs": [
    {
     "data": {
      "image/png": "[encoded data removed]",
      "text/plain": [
       "<Figure size 432x288 with 1 Axes>"
      ]
     },
     "metadata": {
      "needs_background": "light"
     },
     "output_type": "display_data"
    }
   ],
   "source": [
    "# Plot train error rates\n",
    "plt.scatter(k, train_errors) #function\n",
    "plt.plot(k, train_errors, '-', label='train') #data points\n",
    "\n",
    "# Plot test error rates\n",
    "plt.scatter(k, test_errors) #function\n",
    "plt.plot(k, test_errors, '-', label='test') #data points\n",
    "\n",
    "# Plot configurations\n",
    "plt.axis([max(k),min(k)+1, 0, 1])\n",
    "plt.xlabel('number of nearest neighbours (k)', size = 13)\n",
    "plt.ylabel('misclassification (error) rate', size = 13)\n",
    "plt.title('Model Performance vs Complexity', size = 20)\n",
    "plt.legend()\n",
    "\n",
    "# Output\n",
    "plt.show()"
   ]
  },
  {
   "cell_type": "markdown",
   "metadata": {},
   "source": [
    "> Models on the left side of the plot (near $k=n=20$) use too large a neighborhood and produce an underfit model. Models on the right side of the plot (near $k=1$) use too small a neighborhood and produce an overfit model. Models between $k=3$ and $k=7$ perform optimally on the test set -- in other words, they optimally balance overfitting and underfitting."
   ]
  }
 ],
 "metadata": {
  "kernelspec": {
   "display_name": "Python 3",
   "language": "python",
   "name": "python3"
  },
  "language_info": {
   "codemirror_mode": {
    "name": "ipython",
    "version": 3
   },
   "file_extension": ".py",
   "mimetype": "text/x-python",
   "name": "python",
   "nbconvert_exporter": "python",
   "pygments_lexer": "ipython3",
   "version": "3.8.3"
  }
 },
 "nbformat": 4,
 "nbformat_minor": 4
}
