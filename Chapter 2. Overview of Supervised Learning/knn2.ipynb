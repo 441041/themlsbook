{
 "cells": [
  {
   "cell_type": "markdown",
   "metadata": {},
   "source": [
    "# Chapter 2 | K-nearest neighbors (KNN)\n",
    "\n",
    "This Jupyter Notebook is a supplement for the [Machine Learning For Everyone](ml4everyonebook.com) book."
   ]
  },
  {
   "cell_type": "markdown",
   "metadata": {},
   "source": [
    "> Let's recall what we covered in Chapter 2. We have a hypothetical data table containing 20 fruits that are a mix of `apples`, `mandarins`, and `lemons` For each fruit, we have measured it’s `height` and `width` and recorded them as the first two columns of the table. For each fruit we know its `type`, or class label, and this is represented by the last column:"
   ]
  },
  {
   "cell_type": "markdown",
   "metadata": {},
   "source": [
    "| height | width | fruit |\n",
    "| ----------- | ----------- | ----------- |\n",
    "| 3.91 | 5.76 | Mandarin |\n",
    "| 7.09 | 7.69 | Apple |\n",
    "| 10.48 | 7.32 | Lemon |\n",
    "| 9.21 | 7.20 | Lemon |\n",
    "| 7.95 | 5.90 | Lemon |\n",
    "| 4.30 | 5.88 | Mandarin |\n",
    "| 7.62 | 7.51 | Apple |\n",
    "| 8.42 | 5.99 | Lemon |\n",
    "| 7.15 | 7.43 | Apple |\n",
    "| 4.69 | 6.19 | Mandarin |\n",
    "| 7.50 | 5.99 | Lemon |\n",
    "| 7.11 | 7.02 | Apple |\n",
    "| 4.15 | 5.60 | Mandarin |\n",
    "| 7.29 | 8.38 | Apple |\n",
    "| 8.49 | 6.52 | Lemon |\n",
    "| 7.44 | 7.89 | Apple |\n",
    "| 7.86 | 7.60 | Apple |\n",
    "| 4.40 | 5.90 | Mandarin |\n",
    "| 8.10 | 6.15 | Lemon |\n",
    "| 8.69 | 5.82 | Lemon |"
   ]
  },
  {
   "cell_type": "markdown",
   "metadata": {},
   "source": [
    "> The structure of this notebook is identical to the structure of Chapter 2: Overview of Supervised Learning. That means, we will sequentially:\n",
    "\n",
    "> 1. re-create a hypothetical data table with fruits measurements in Python\n",
    "> 2. visualize the dataset in the graph\n",
    "> 2. build a KNN classifier by training it with the dataset\n",
    "> 4. predict new values with classifier\n",
    "> 5. visualize decision boundaries of KNN classifier\n",
    "> 6. "
   ]
  },
  {
   "cell_type": "markdown",
   "metadata": {},
   "source": [
    "# 1. Load libraries and functions that we will need"
   ]
  },
  {
   "cell_type": "code",
   "execution_count": 22,
   "metadata": {},
   "outputs": [],
   "source": [
    "import matplotlib.pyplot as plt # Load matplotlib library for visualization\n",
    "from matplotlib.colors import ListedColormap\n",
    "import pandas as pd  #import pandas for data manipulations\n",
    "import numpy as np\n",
    "import seaborn as sns\n",
    "from sklearn import metrics\n",
    "from sklearn.neighbors import KNeighborsClassifier\n",
    "\n",
    "def plotFruitFigure():\n",
    "    # Define variables for graph\n",
    "    apple_height, apple_width = df.height[df.fruit == 'Apple'], df.width[df.fruit == 'Apple']\n",
    "    mandarin_height, mandarin_width = df.height[df.fruit == 'Mandarin'], df.width[df.fruit == 'Mandarin']\n",
    "    lemon_height, lemon_width = df.height[df.fruit == 'Lemon'], df.width[df.fruit == 'Lemon']\n",
    "\n",
    "    # Initialize the graph\n",
    "    fig, ax = plt.subplots()\n",
    "    plt.gca().set_aspect('equal', adjustable='box')\n",
    "\n",
    "    # Plot defined variables on it\n",
    "    ax.plot(apple_height, apple_width, 'o', color='r', label='apple')\n",
    "    ax.plot(mandarin_height, mandarin_width, 'o', color='g', label='mandarin')\n",
    "    ax.plot(lemon_height, lemon_width, 'o', color='b', label='lemon')\n",
    "\n",
    "    # Show legend and configure graph's size\n",
    "    plt.legend()\n",
    "    plt.ylim(3, 10) \n",
    "    plt.xlim(3, 11)\n",
    "    \n",
    "\n",
    "def plotKNN(\n",
    "    n_neighbors=int, \n",
    "            plot_data=True,\n",
    "            plot_height=None,\n",
    "            plot_width=None,\n",
    "            plot_labels=None \n",
    "#            n_neighbors=int,\n",
    "#            plot_data=True\n",
    "):\n",
    "    \n",
    "#     plot_height = df['height']\n",
    "#     plot_width = df['width']\n",
    "#     plot_labels=df.fruit.values\n",
    "    \n",
    "    # Turn categorical target variable into numerical to make a graph\n",
    "    X = df[['height', 'width']].values\n",
    "    y_encoded = df[\"fruit\"].astype('category').cat.codes #encoded y\n",
    "\n",
    "\n",
    "    # Create color maps for graph\n",
    "    cmap_light = ListedColormap(['pink', 'lightblue', 'lightgreen'])\n",
    "    cmap_bold = ['green', 'red', 'blue']\n",
    "\n",
    "    # We want to visualize KNN with 1 nearest neighbor.\n",
    "    # Let's initialize the model and train it with the dataset\n",
    "    clf = KNeighborsClassifier(n_neighbors = n_neighbors)\n",
    "    clf.fit(X, y_encoded)\n",
    "\n",
    "    # Plot the decision boundary. For that, we will assign a color to each point in the mesh\n",
    "    x_min, x_max = X[:, 0].min() - 3, X[:, 0].max() + 3\n",
    "    y_min, y_max = X[:, 1].min() - 3, X[:, 1].max() + 3\n",
    "\n",
    "    h = .02  # step size in the mesh\n",
    "    xx, yy = np.meshgrid(np.arange(x_min, x_max, h),\n",
    "                         np.arange(y_min, y_max, h))\n",
    "\n",
    "    Z = clf.predict(np.c_[xx.ravel(), yy.ravel()])\n",
    "\n",
    "    # Put the result into a color plot\n",
    "    Z = Z.reshape(xx.shape)\n",
    "    plt.contourf(xx, yy, Z, cmap=cmap_light)\n",
    "    \n",
    "    if plot_data==True:\n",
    "        # Plot also the dataset observations\n",
    "        sns.scatterplot(x=plot_height, \n",
    "                        y=plot_width,#y=X[:, 1], \n",
    "                        hue=plot_labels,#df.fruit.values,\n",
    "                        palette=cmap_bold, \n",
    "                        alpha=1.0, \n",
    "                        edgecolor=\"black\")\n",
    "\n",
    "    # Configure the graph\n",
    "    plt.ylim(3, 10) \n",
    "    plt.xlim(3, 11)\n",
    "    plt.gca().set_aspect('equal', adjustable='box')\n",
    "\n",
    "    plt.title(f'KNN Fruits Classifier, n={n_neighbors}')\n",
    "    plt.xlabel(\"height\")\n",
    "    plt.ylabel(\"width\")  "
   ]
  },
  {
   "cell_type": "markdown",
   "metadata": {},
   "source": [
    "# 2. Dataset"
   ]
  },
  {
   "cell_type": "markdown",
   "metadata": {},
   "source": [
    "## 2.1. Compose the table"
   ]
  },
  {
   "cell_type": "markdown",
   "metadata": {},
   "source": [
    "> To create a table, we use `pandas` library - a library that manages **PAN**el **DA**ta **S**ets."
   ]
  },
  {
   "cell_type": "code",
   "execution_count": 23,
   "metadata": {},
   "outputs": [
    {
     "data": {
      "text/html": [
       "<div>\n",
       "<style scoped>\n",
       "    .dataframe tbody tr th:only-of-type {\n",
       "        vertical-align: middle;\n",
       "    }\n",
       "\n",
       "    .dataframe tbody tr th {\n",
       "        vertical-align: top;\n",
       "    }\n",
       "\n",
       "    .dataframe thead th {\n",
       "        text-align: right;\n",
       "    }\n",
       "</style>\n",
       "<table border=\"1\" class=\"dataframe\">\n",
       "  <thead>\n",
       "    <tr style=\"text-align: right;\">\n",
       "      <th></th>\n",
       "      <th>height</th>\n",
       "      <th>width</th>\n",
       "      <th>fruit</th>\n",
       "    </tr>\n",
       "  </thead>\n",
       "  <tbody>\n",
       "    <tr>\n",
       "      <th>0</th>\n",
       "      <td>3.91</td>\n",
       "      <td>5.76</td>\n",
       "      <td>Mandarin</td>\n",
       "    </tr>\n",
       "    <tr>\n",
       "      <th>1</th>\n",
       "      <td>7.09</td>\n",
       "      <td>7.69</td>\n",
       "      <td>Apple</td>\n",
       "    </tr>\n",
       "    <tr>\n",
       "      <th>2</th>\n",
       "      <td>10.48</td>\n",
       "      <td>7.32</td>\n",
       "      <td>Lemon</td>\n",
       "    </tr>\n",
       "    <tr>\n",
       "      <th>3</th>\n",
       "      <td>9.21</td>\n",
       "      <td>7.20</td>\n",
       "      <td>Lemon</td>\n",
       "    </tr>\n",
       "    <tr>\n",
       "      <th>4</th>\n",
       "      <td>7.95</td>\n",
       "      <td>5.90</td>\n",
       "      <td>Lemon</td>\n",
       "    </tr>\n",
       "    <tr>\n",
       "      <th>5</th>\n",
       "      <td>4.30</td>\n",
       "      <td>5.88</td>\n",
       "      <td>Mandarin</td>\n",
       "    </tr>\n",
       "    <tr>\n",
       "      <th>6</th>\n",
       "      <td>7.62</td>\n",
       "      <td>7.51</td>\n",
       "      <td>Apple</td>\n",
       "    </tr>\n",
       "    <tr>\n",
       "      <th>7</th>\n",
       "      <td>8.42</td>\n",
       "      <td>5.99</td>\n",
       "      <td>Lemon</td>\n",
       "    </tr>\n",
       "    <tr>\n",
       "      <th>8</th>\n",
       "      <td>7.15</td>\n",
       "      <td>7.43</td>\n",
       "      <td>Apple</td>\n",
       "    </tr>\n",
       "    <tr>\n",
       "      <th>9</th>\n",
       "      <td>4.69</td>\n",
       "      <td>6.19</td>\n",
       "      <td>Mandarin</td>\n",
       "    </tr>\n",
       "    <tr>\n",
       "      <th>10</th>\n",
       "      <td>7.50</td>\n",
       "      <td>5.99</td>\n",
       "      <td>Lemon</td>\n",
       "    </tr>\n",
       "    <tr>\n",
       "      <th>11</th>\n",
       "      <td>7.11</td>\n",
       "      <td>7.02</td>\n",
       "      <td>Apple</td>\n",
       "    </tr>\n",
       "    <tr>\n",
       "      <th>12</th>\n",
       "      <td>4.15</td>\n",
       "      <td>5.60</td>\n",
       "      <td>Mandarin</td>\n",
       "    </tr>\n",
       "    <tr>\n",
       "      <th>13</th>\n",
       "      <td>7.29</td>\n",
       "      <td>8.38</td>\n",
       "      <td>Apple</td>\n",
       "    </tr>\n",
       "    <tr>\n",
       "      <th>14</th>\n",
       "      <td>8.49</td>\n",
       "      <td>6.52</td>\n",
       "      <td>Lemon</td>\n",
       "    </tr>\n",
       "    <tr>\n",
       "      <th>15</th>\n",
       "      <td>7.44</td>\n",
       "      <td>7.89</td>\n",
       "      <td>Apple</td>\n",
       "    </tr>\n",
       "    <tr>\n",
       "      <th>16</th>\n",
       "      <td>7.86</td>\n",
       "      <td>7.60</td>\n",
       "      <td>Apple</td>\n",
       "    </tr>\n",
       "    <tr>\n",
       "      <th>17</th>\n",
       "      <td>4.40</td>\n",
       "      <td>5.90</td>\n",
       "      <td>Mandarin</td>\n",
       "    </tr>\n",
       "    <tr>\n",
       "      <th>18</th>\n",
       "      <td>8.10</td>\n",
       "      <td>6.15</td>\n",
       "      <td>Lemon</td>\n",
       "    </tr>\n",
       "    <tr>\n",
       "      <th>19</th>\n",
       "      <td>8.69</td>\n",
       "      <td>5.82</td>\n",
       "      <td>Lemon</td>\n",
       "    </tr>\n",
       "  </tbody>\n",
       "</table>\n",
       "</div>"
      ],
      "text/plain": [
       "    height  width     fruit\n",
       "0     3.91   5.76  Mandarin\n",
       "1     7.09   7.69     Apple\n",
       "2    10.48   7.32     Lemon\n",
       "3     9.21   7.20     Lemon\n",
       "4     7.95   5.90     Lemon\n",
       "5     4.30   5.88  Mandarin\n",
       "6     7.62   7.51     Apple\n",
       "7     8.42   5.99     Lemon\n",
       "8     7.15   7.43     Apple\n",
       "9     4.69   6.19  Mandarin\n",
       "10    7.50   5.99     Lemon\n",
       "11    7.11   7.02     Apple\n",
       "12    4.15   5.60  Mandarin\n",
       "13    7.29   8.38     Apple\n",
       "14    8.49   6.52     Lemon\n",
       "15    7.44   7.89     Apple\n",
       "16    7.86   7.60     Apple\n",
       "17    4.40   5.90  Mandarin\n",
       "18    8.10   6.15     Lemon\n",
       "19    8.69   5.82     Lemon"
      ]
     },
     "execution_count": 23,
     "metadata": {},
     "output_type": "execute_result"
    }
   ],
   "source": [
    "# Import pandas \n",
    "import pandas as pd  \n",
    "\n",
    "# Create a hypothetical dataset from the book\n",
    "data = {'height': [3.91, 7.09, 10.48, 9.21, 7.95, 4.30, 7.62, 8.42, 7.15, 4.69, 7.50, 7.11, 4.15, 7.29, 8.49, 7.44, 7.86, 4.40, 8.10, 8.69], \n",
    "        'width': [5.76, 7.69, 7.32, 7.20, 5.90, 5.88, 7.51, 5.99, 7.43, 6.19, 5.99, 7.02, 5.60, 8.38, 6.52, 7.89, 7.60, 5.90, 6.15, 5.82],\n",
    "        'fruit': ['Mandarin', 'Apple', 'Lemon', 'Lemon', 'Lemon', 'Mandarin', 'Apple', 'Lemon', 'Apple', 'Mandarin', 'Lemon', 'Apple', 'Mandarin', 'Apple', 'Lemon', 'Apple', 'Apple', 'Mandarin', 'Lemon', 'Lemon']\n",
    "       }  \n",
    "\n",
    "# Create DataFrame df using pandas library\n",
    "df = pd.DataFrame(data)  \n",
    "  \n",
    "# Print the output\n",
    "df"
   ]
  },
  {
   "cell_type": "markdown",
   "metadata": {},
   "source": [
    "## 2.2. Visualize data points"
   ]
  },
  {
   "cell_type": "markdown",
   "metadata": {},
   "source": [
    "> Let's now make the same graph that we had in the book."
   ]
  },
  {
   "cell_type": "code",
   "execution_count": 3,
   "metadata": {},
   "outputs": [
    {
     "data": {
      "image/png": "[encoded data removed]",
      "text/plain": [
       "<Figure size 432x288 with 1 Axes>"
      ]
     },
     "metadata": {
      "needs_background": "light"
     },
     "output_type": "display_data"
    }
   ],
   "source": [
    "plotFruitFigure()"
   ]
  },
  {
   "cell_type": "markdown",
   "metadata": {},
   "source": [
    "# 3. Learning a Prediction Function"
   ]
  },
  {
   "cell_type": "markdown",
   "metadata": {},
   "source": [
    "## 3.1. Build a KNN Classifier"
   ]
  },
  {
   "cell_type": "markdown",
   "metadata": {},
   "source": [
    "> Let's build a classifier and use it to predict some values. Firstly, we define `X` and `y`:"
   ]
  },
  {
   "cell_type": "code",
   "execution_count": 4,
   "metadata": {},
   "outputs": [],
   "source": [
    "# Define X and y using the dataset\n",
    "\n",
    "X = df[['height', 'width']].values\n",
    "y = df.fruit.values\n"
   ]
  },
  {
   "cell_type": "markdown",
   "metadata": {},
   "source": [
    "> Second, we **initialize** our `KNN` algorithm and **train** it with X and y."
   ]
  },
  {
   "cell_type": "code",
   "execution_count": 6,
   "metadata": {},
   "outputs": [
    {
     "data": {
      "text/plain": [
       "KNeighborsClassifier(n_neighbors=1)"
      ]
     },
     "execution_count": 6,
     "metadata": {},
     "output_type": "execute_result"
    }
   ],
   "source": [
    "# Import a KNN library\n",
    "from sklearn.neighbors import KNeighborsClassifier\n",
    "\n",
    "# Initialize the KNN model with 1 nearest neighbor\n",
    "clf = KNeighborsClassifier(n_neighbors = 1)\n",
    "\n",
    "# Feed the dataset into the model to train\n",
    "clf.fit(X, y)"
   ]
  },
  {
   "cell_type": "markdown",
   "metadata": {},
   "source": [
    "## 3.2. Vizualize KNN decision boundaries"
   ]
  },
  {
   "cell_type": "markdown",
   "metadata": {},
   "source": [
    "> Let's visualize the decision boundaries of KNN in a graph, like we did in the book."
   ]
  },
  {
   "cell_type": "code",
   "execution_count": 27,
   "metadata": {},
   "outputs": [
    {
     "data": {
      "image/png": "[encoded data removed]",
      "text/plain": [
       "<Figure size 432x288 with 1 Axes>"
      ]
     },
     "metadata": {
      "needs_background": "light"
     },
     "output_type": "display_data"
    }
   ],
   "source": [
    "plotKNN(n_neighbors=1, \n",
    "        plot_height= df['height'], \n",
    "        plot_width = df['width'], \n",
    "        plot_labels=df.fruit.values)"
   ]
  },
  {
   "cell_type": "markdown",
   "metadata": {},
   "source": [
    "## 3.3. Predict unknown values"
   ]
  },
  {
   "cell_type": "markdown",
   "metadata": {},
   "source": [
    "> Let's predict unknown fruits using our trained classifier:"
   ]
  },
  {
   "cell_type": "code",
   "execution_count": 60,
   "metadata": {
    "scrolled": true
   },
   "outputs": [
    {
     "data": {
      "text/plain": [
       "array(['Lemon'], dtype=object)"
      ]
     },
     "execution_count": 60,
     "metadata": {},
     "output_type": "execute_result"
    }
   ],
   "source": [
    "# Let's try to predict the label for an unknown fruit with width of 9cm and height of 3cm\n",
    "clf.predict([[9, 3]])"
   ]
  },
  {
   "cell_type": "code",
   "execution_count": 44,
   "metadata": {},
   "outputs": [
    {
     "data": {
      "text/plain": [
       "array(['Lemon', 'Mandarin', 'Mandarin', 'Apple', 'Mandarin'], dtype=object)"
      ]
     },
     "execution_count": 44,
     "metadata": {},
     "output_type": "execute_result"
    }
   ],
   "source": [
    "# We can predict values for a whole bunch of them!\n",
    "clf.predict([[9, 3], [4, 5], [2, 5], [8, 9], [5, 7]])"
   ]
  },
  {
   "cell_type": "code",
   "execution_count": null,
   "metadata": {},
   "outputs": [],
   "source": []
  },
  {
   "cell_type": "code",
   "execution_count": null,
   "metadata": {},
   "outputs": [],
   "source": []
  },
  {
   "cell_type": "markdown",
   "metadata": {},
   "source": [
    "# 4. How Good is our Prediction Function?"
   ]
  },
  {
   "cell_type": "markdown",
   "metadata": {},
   "source": [
    "Training and Test error curves as we vary the hyper-parameter K, the number of neighbors. The left shows an under-fit model which uses too large of a neighborhood K = n. The right of the plot shows an over-fit model which uses too small of a neighborhood K = 1."
   ]
  },
  {
   "cell_type": "markdown",
   "metadata": {},
   "source": [
    "## 4.1. Add outliers"
   ]
  },
  {
   "cell_type": "code",
   "execution_count": 45,
   "metadata": {},
   "outputs": [],
   "source": [
    "# Create a hypothetical dataset from the book\n",
    "data = {'height': [3.91, 7.09, 10.48, 9.21, 7.95, 4.30, 7.62, 8.42, 7.15, 4.69, 7.50, 7.11, 4.15, 7.29, 8.49, 7.44, 7.86, 4.40, 8.10, 8.69], \n",
    "        'width': [5.76, 7.69, 7.32, 7.20, 5.90, 5.88, 7.51, 5.99, 7.43, 6.19, 5.99, 7.02, 5.60, 8.38, 6.52, 7.89, 7.60, 5.90, 6.15, 5.82],\n",
    "        'fruit': ['Mandarin', 'Apple', 'Lemon', 'Lemon', 'Lemon', 'Mandarin', 'Apple', 'Lemon', 'Apple', 'Mandarin', 'Lemon', 'Apple', 'Mandarin', 'Apple', 'Lemon', 'Apple', 'Apple', 'Mandarin', 'Lemon', 'Lemon']\n",
    "       }  \n",
    "df = pd.DataFrame(data) \n",
    "\n",
    "new_data = {'height': [7.95, 3.93, 5.5],\n",
    "            'width': [5.32, 6.12, 4.5],\n",
    "            'fruit': ['Mandarin', 'Apple', 'Lemon']\n",
    "           }\n",
    "\n",
    "# Create DataFrame df using pandas library\n",
    "new_points = pd.DataFrame(new_data)  \n",
    "  \n",
    "# Print the output\n",
    "df = pd.concat([df, new_points])"
   ]
  },
  {
   "cell_type": "markdown",
   "metadata": {},
   "source": [
    "> Visualize"
   ]
  },
  {
   "cell_type": "code",
   "execution_count": 72,
   "metadata": {},
   "outputs": [
    {
     "data": {
      "image/png": "[encoded data removed]",
      "text/plain": [
       "<Figure size 432x288 with 1 Axes>"
      ]
     },
     "metadata": {
      "needs_background": "light"
     },
     "output_type": "display_data"
    }
   ],
   "source": [
    "plotFruitFigure()"
   ]
  },
  {
   "cell_type": "markdown",
   "metadata": {},
   "source": [
    "## 4.2. Train KNN"
   ]
  },
  {
   "cell_type": "code",
   "execution_count": 77,
   "metadata": {},
   "outputs": [
    {
     "data": {
      "text/plain": [
       "KNeighborsClassifier(n_neighbors=1)"
      ]
     },
     "execution_count": 77,
     "metadata": {},
     "output_type": "execute_result"
    }
   ],
   "source": [
    "# Import a KNN library\n",
    "from sklearn.neighbors import KNeighborsClassifier\n",
    "\n",
    "# Initialize the KNN model with 1 nearest neighbor\n",
    "clf = KNeighborsClassifier(n_neighbors = 1)\n",
    "\n",
    "# Define X and y using the dataset\n",
    "\n",
    "X = df[['height', 'width']].values\n",
    "y = df.fruit.values\n",
    "\n",
    "# Feed the dataset into the model to train\n",
    "clf.fit(X, y)"
   ]
  },
  {
   "cell_type": "markdown",
   "metadata": {},
   "source": [
    "> Visualize decision boundaries"
   ]
  },
  {
   "cell_type": "code",
   "execution_count": 48,
   "metadata": {},
   "outputs": [
    {
     "data": {
      "image/png": "[encoded data removed]",
      "text/plain": [
       "<Figure size 432x288 with 1 Axes>"
      ]
     },
     "metadata": {
      "needs_background": "light"
     },
     "output_type": "display_data"
    }
   ],
   "source": [
    "plotKNN(n_neighbors=1, \n",
    "        plot_height= df['height'], \n",
    "        plot_width = df['width'], \n",
    "        plot_labels=df.fruit.values)"
   ]
  },
  {
   "cell_type": "markdown",
   "metadata": {},
   "source": [
    "> Plot the model"
   ]
  },
  {
   "cell_type": "code",
   "execution_count": 21,
   "metadata": {
    "scrolled": true
   },
   "outputs": [
    {
     "data": {
      "image/png": "[encoded data removed]",
      "text/plain": [
       "<Figure size 432x288 with 1 Axes>"
      ]
     },
     "metadata": {
      "needs_background": "light"
     },
     "output_type": "display_data"
    }
   ],
   "source": [
    "plotKNN(n_neighbors=1, plot_data=False)"
   ]
  },
  {
   "cell_type": "markdown",
   "metadata": {},
   "source": [
    "## 4.3. Test the model"
   ]
  },
  {
   "cell_type": "markdown",
   "metadata": {},
   "source": [
    "### 4.2.1. Evaluate on Train Set"
   ]
  },
  {
   "cell_type": "code",
   "execution_count": 73,
   "metadata": {},
   "outputs": [
    {
     "data": {
      "image/png": "[encoded data removed]",
      "text/plain": [
       "<Figure size 432x288 with 1 Axes>"
      ]
     },
     "metadata": {
      "needs_background": "light"
     },
     "output_type": "display_data"
    }
   ],
   "source": [
    "plotKNN(n_neighbors=1, \n",
    "        plot_height= df['height'], \n",
    "        plot_width = df['width'], \n",
    "        plot_labels=df.fruit.values)"
   ]
  },
  {
   "cell_type": "code",
   "execution_count": null,
   "metadata": {},
   "outputs": [],
   "source": []
  },
  {
   "cell_type": "markdown",
   "metadata": {},
   "source": [
    "### 4.2.2. Evaluate on Test Set"
   ]
  },
  {
   "cell_type": "markdown",
   "metadata": {},
   "source": [
    "> Imagine we have new fuits with the following properties:\n",
    "\n",
    "| height | width | fruit |\n",
    "| ----------- | ----------- | ----------- |\n",
    "| 6.5 | 7 | Apple |\n",
    "| 7.5 | 5 | Lemon |\n",
    "| 4 | 6.5 | Mandarin |"
   ]
  },
  {
   "cell_type": "markdown",
   "metadata": {},
   "source": [
    "> Let's see if our model would correctly predict the fruit label by showing fruits' measurements and not revealing their labels. Let's pick 6 nearest neighbors:"
   ]
  },
  {
   "cell_type": "code",
   "execution_count": 298,
   "metadata": {},
   "outputs": [],
   "source": [
    "# test_data = pd.DataFrame({'height': [4, 6.5, 7.5],\n",
    "#             'width': [6.5, 7, 5],\n",
    "#             'fruit': ['Mandarin', 'Apple', 'Lemon']\n",
    "#            })\n",
    "\n",
    "test_data = pd.DataFrame({'height': [4, 6.5, 7.5, 6],\n",
    "            'width': [6.5, 7, 5, 7.5],\n",
    "            'fruit': ['Mandarin', 'Apple', 'Lemon', 'Mandarin']\n",
    "           })\n"
   ]
  },
  {
   "cell_type": "code",
   "execution_count": null,
   "metadata": {},
   "outputs": [],
   "source": []
  },
  {
   "cell_type": "code",
   "execution_count": 299,
   "metadata": {
    "scrolled": true
   },
   "outputs": [
    {
     "data": {
      "image/png": "[encoded data removed]",
      "text/plain": [
       "<Figure size 432x288 with 1 Axes>"
      ]
     },
     "metadata": {
      "needs_background": "light"
     },
     "output_type": "display_data"
    }
   ],
   "source": [
    "plotKNN(n_neighbors=1, \n",
    "        plot_height=test_data.height,\n",
    "        plot_width=test_data.width,\n",
    "        plot_labels=test_data.fruit)"
   ]
  },
  {
   "cell_type": "markdown",
   "metadata": {},
   "source": [
    "> You can see that the model failed to.."
   ]
  },
  {
   "cell_type": "code",
   "execution_count": 297,
   "metadata": {},
   "outputs": [
    {
     "name": "stdout",
     "output_type": "stream",
     "text": [
      "[WRONG!] - actual observation is Mandarin, but the model predicted ['Apple']\n",
      "[CORRECT!] - actual observation is Apple, and the model predicted ['Apple']\n",
      "[WRONG!] - actual observation is Lemon, but the model predicted ['Mandarin']\n",
      "[WRONG!] - actual observation is Mandarin, but the model predicted ['Apple']\n"
     ]
    }
   ],
   "source": [
    "# Predict observations\n",
    "for i in range(len(test_data)):\n",
    "    \n",
    "    # Initialize the KNN model with 1 nearest neighbor\n",
    "    clf = KNeighborsClassifier(n_neighbors = 1)\n",
    "\n",
    "    # Define X and y using the dataset\n",
    "    X = df[['height', 'width']].values\n",
    "    y = df.fruit.values\n",
    "\n",
    "    # Feed the dataset into the model to train\n",
    "    clf.fit(X, y)\n",
    "    \n",
    "    pred = clf.predict([test_data.iloc[i, :-1]])\n",
    "    \n",
    "    if pred == test_data.fruit[i]:\n",
    "        print(f'[CORRECT!] - actual observation is {test_data.fruit[i]}, and the model predicted {pred}')\n",
    "    else:\n",
    "        print(f'[WRONG!] - actual observation is {test_data.fruit[i]}, but the model predicted {pred}')"
   ]
  },
  {
   "cell_type": "markdown",
   "metadata": {},
   "source": [
    "> The model incorrectly predicted the second observation. This is called misclassification - the model predicted the label that was actually incorrect. That reminds me to go further and explain how do we test our model after it was trained. "
   ]
  },
  {
   "cell_type": "code",
   "execution_count": null,
   "metadata": {},
   "outputs": [],
   "source": []
  },
  {
   "cell_type": "code",
   "execution_count": null,
   "metadata": {},
   "outputs": [],
   "source": []
  },
  {
   "cell_type": "code",
   "execution_count": null,
   "metadata": {},
   "outputs": [],
   "source": []
  },
  {
   "cell_type": "markdown",
   "metadata": {},
   "source": [
    "# 5. Model Complexity"
   ]
  },
  {
   "cell_type": "markdown",
   "metadata": {},
   "source": [
    "## K = 1"
   ]
  },
  {
   "cell_type": "code",
   "execution_count": 137,
   "metadata": {},
   "outputs": [
    {
     "data": {
      "image/png": "[encoded data removed]",
      "text/plain": [
       "<Figure size 432x288 with 1 Axes>"
      ]
     },
     "metadata": {
      "needs_background": "light"
     },
     "output_type": "display_data"
    }
   ],
   "source": [
    "plotKNN(n_neighbors=1, \n",
    "        plot_height= df['height'], \n",
    "        plot_width = df['width'], \n",
    "        plot_labels=df.fruit.values)"
   ]
  },
  {
   "cell_type": "markdown",
   "metadata": {},
   "source": [
    "## Test data"
   ]
  },
  {
   "cell_type": "code",
   "execution_count": 138,
   "metadata": {},
   "outputs": [
    {
     "data": {
      "image/png": "[encoded data removed]",
      "text/plain": [
       "<Figure size 432x288 with 1 Axes>"
      ]
     },
     "metadata": {
      "needs_background": "light"
     },
     "output_type": "display_data"
    }
   ],
   "source": [
    "plotKNN(n_neighbors=1, \n",
    "        plot_height=test_data.height,\n",
    "        plot_width=test_data.width,\n",
    "        plot_labels=test_data.fruit)"
   ]
  },
  {
   "cell_type": "markdown",
   "metadata": {},
   "source": [
    "## K = 2"
   ]
  },
  {
   "cell_type": "code",
   "execution_count": 25,
   "metadata": {},
   "outputs": [
    {
     "data": {
      "image/png": "[encoded data removed]",
      "text/plain": [
       "<Figure size 432x288 with 1 Axes>"
      ]
     },
     "metadata": {
      "needs_background": "light"
     },
     "output_type": "display_data"
    }
   ],
   "source": [
    "plotKNN(n_neighbors=2, \n",
    "        plot_height= df['height'], \n",
    "        plot_width = df['width'], \n",
    "        plot_labels=df.fruit.values)"
   ]
  },
  {
   "cell_type": "markdown",
   "metadata": {},
   "source": [
    "## Test Data"
   ]
  },
  {
   "cell_type": "code",
   "execution_count": 139,
   "metadata": {},
   "outputs": [
    {
     "data": {
      "image/png": "[encoded data removed]",
      "text/plain": [
       "<Figure size 432x288 with 1 Axes>"
      ]
     },
     "metadata": {
      "needs_background": "light"
     },
     "output_type": "display_data"
    }
   ],
   "source": [
    "plotKNN(n_neighbors=2, \n",
    "        plot_height=test_data.height,\n",
    "        plot_width=test_data.width,\n",
    "        plot_labels=test_data.fruit)"
   ]
  },
  {
   "cell_type": "markdown",
   "metadata": {},
   "source": [
    "## K = 5"
   ]
  },
  {
   "cell_type": "code",
   "execution_count": 26,
   "metadata": {},
   "outputs": [
    {
     "data": {
      "image/png": "[encoded data removed]",
      "text/plain": [
       "<Figure size 432x288 with 1 Axes>"
      ]
     },
     "metadata": {
      "needs_background": "light"
     },
     "output_type": "display_data"
    }
   ],
   "source": [
    "plotKNN(n_neighbors=5, \n",
    "        plot_height= df['height'], \n",
    "        plot_width = df['width'], \n",
    "        plot_labels=df.fruit.values)"
   ]
  },
  {
   "cell_type": "markdown",
   "metadata": {},
   "source": [
    "## Test Data"
   ]
  },
  {
   "cell_type": "code",
   "execution_count": 140,
   "metadata": {},
   "outputs": [
    {
     "data": {
      "image/png": "[encoded data removed]",
      "text/plain": [
       "<Figure size 432x288 with 1 Axes>"
      ]
     },
     "metadata": {
      "needs_background": "light"
     },
     "output_type": "display_data"
    }
   ],
   "source": [
    "plotKNN(n_neighbors=5, \n",
    "        plot_height=test_data.height,\n",
    "        plot_width=test_data.width,\n",
    "        plot_labels=test_data.fruit)"
   ]
  },
  {
   "cell_type": "markdown",
   "metadata": {},
   "source": [
    "## K = N"
   ]
  },
  {
   "cell_type": "code",
   "execution_count": 101,
   "metadata": {},
   "outputs": [
    {
     "data": {
      "image/png": "[encoded data removed]",
      "text/plain": [
       "<Figure size 432x288 with 1 Axes>"
      ]
     },
     "metadata": {
      "needs_background": "light"
     },
     "output_type": "display_data"
    }
   ],
   "source": [
    "n = len(X)\n",
    "\n",
    "plotKNN(n_neighbors=n, \n",
    "        plot_height= df['height'], \n",
    "        plot_width = df['width'], \n",
    "        plot_labels=df.fruit.values)"
   ]
  },
  {
   "cell_type": "code",
   "execution_count": null,
   "metadata": {},
   "outputs": [],
   "source": []
  },
  {
   "cell_type": "markdown",
   "metadata": {},
   "source": [
    "# 6. Building Model Complexity Graph"
   ]
  },
  {
   "cell_type": "code",
   "execution_count": 300,
   "metadata": {},
   "outputs": [],
   "source": [
    "test_data = pd.DataFrame({'height': [4, 6.5, 7.5, 6],\n",
    "            'width': [6.5, 7, 5, 7.5],\n",
    "            'fruit': ['Mandarin', 'Apple', 'Lemon', 'Mandarin']\n",
    "           })\n"
   ]
  },
  {
   "cell_type": "code",
   "execution_count": 301,
   "metadata": {},
   "outputs": [],
   "source": [
    "clf = KNeighborsClassifier(n_neighbors = 2)\n",
    "clf.fit(X, y)\n",
    "y_pred_test = clf.predict(test_data[['height', 'width']])"
   ]
  },
  {
   "cell_type": "code",
   "execution_count": 327,
   "metadata": {},
   "outputs": [
    {
     "name": "stdout",
     "output_type": "stream",
     "text": [
      "k=1 | test misclassifications: 3.0 | train misclassifications: 0 | train score: 1.0 | test score: 0.25\n",
      "k=2 | test misclassifications: 2.0 | train misclassifications: 0 | train score: 0.96 | test score: 0.5\n",
      "k=3 | test misclassifications: 1.0 | train misclassifications: 2 | train score: 0.87 | test score: 0.75\n",
      "k=4 | test misclassifications: 1.0 | train misclassifications: 2 | train score: 0.87 | test score: 0.75\n",
      "k=5 | test misclassifications: 1.0 | train misclassifications: 2 | train score: 0.87 | test score: 0.75\n",
      "k=6 | test misclassifications: 1.0 | train misclassifications: 2 | train score: 0.87 | test score: 0.75\n",
      "k=7 | test misclassifications: 1.0 | train misclassifications: 2 | train score: 0.87 | test score: 0.75\n",
      "k=8 | test misclassifications: 1.0 | train misclassifications: 2 | train score: 0.87 | test score: 0.75\n",
      "k=9 | test misclassifications: 1.0 | train misclassifications: 2 | train score: 0.87 | test score: 0.75\n",
      "k=10 | test misclassifications: 1.0 | train misclassifications: 2 | train score: 0.87 | test score: 0.75\n",
      "k=11 | test misclassifications: 1.0 | train misclassifications: 2 | train score: 0.87 | test score: 0.75\n",
      "k=12 | test misclassifications: 2.0 | train misclassifications: 2 | train score: 0.87 | test score: 0.5\n",
      "k=13 | test misclassifications: 2.0 | train misclassifications: 3 | train score: 0.83 | test score: 0.5\n",
      "k=14 | test misclassifications: 2.0 | train misclassifications: 2 | train score: 0.87 | test score: 0.5\n",
      "k=15 | test misclassifications: 2.0 | train misclassifications: 8 | train score: 0.65 | test score: 0.5\n",
      "k=16 | test misclassifications: 2.0 | train misclassifications: 9 | train score: 0.57 | test score: 0.5\n",
      "k=17 | test misclassifications: 2.0 | train misclassifications: 9 | train score: 0.57 | test score: 0.5\n",
      "k=18 | test misclassifications: 2.0 | train misclassifications: 11 | train score: 0.52 | test score: 0.5\n",
      "k=19 | test misclassifications: 2.0 | train misclassifications: 13 | train score: 0.43 | test score: 0.5\n",
      "k=20 | test misclassifications: 2.0 | train misclassifications: 11 | train score: 0.48 | test score: 0.5\n",
      "k=21 | test misclassifications: 2.0 | train misclassifications: 11 | train score: 0.48 | test score: 0.5\n",
      "k=22 | test misclassifications: 3.0 | train misclassifications: 14 | train score: 0.39 | test score: 0.25\n",
      "k=23 | test misclassifications: 3.0 | train misclassifications: 14 | train score: 0.39 | test score: 0.25\n"
     ]
    }
   ],
   "source": [
    "# Define X and y using the dataset\n",
    "X = df[['height', 'width']].values\n",
    "y = df.fruit.values\n",
    "test_n=len(test_data)\n",
    "train_n=len(df)\n",
    "\n",
    "train_scores = []\n",
    "test_scores = []\n",
    "k = []\n",
    "test_misclassifications = []\n",
    "train_misclassifications = []\n",
    "\n",
    "for i in range(len(X)):\n",
    "    _k = i+1\n",
    "    # # STEP 2: Again, initialize the model\n",
    "    clf = KNeighborsClassifier(n_neighbors = _k)\n",
    "    clf.fit(X, y)\n",
    "\n",
    "    # STEP 3: make predictions on the testing set\n",
    "    y_pred_train = clf.predict(X)\n",
    "    y_pred_test = clf.predict(test_data[['height', 'width']])\n",
    "\n",
    "    # STEP 4: compare actual response values (y_test) with predicted response values (y_pred)\n",
    "    k.append(i)\n",
    "    train_score = round(metrics.accuracy_score(y, y_pred_train), 2)\n",
    "    test_score = round(metrics.accuracy_score(test_data[['fruit']], y_pred_test), 2)\n",
    "    \n",
    "    train_scores.append(train_score)\n",
    "    test_scores.append(test_score)\n",
    "    test_misclassifications.append(test_n-test_scores[i]*test_n)\n",
    "    train_misclassifications.append(int(train_n-train_scores[i]*train_n))\n",
    "    \n",
    "    print(f'k={_k} | test misclassifications: {test_misclassifications[i]} | train misclassifications: {train_misclassifications[i]} | train score: {train_scores[i]} | test score: {test_scores[i]}')\n",
    "    \n",
    "    "
   ]
  },
  {
   "cell_type": "code",
   "execution_count": 338,
   "metadata": {},
   "outputs": [
    {
     "data": {
      "image/png": "[encoded data removed]",
      "text/plain": [
       "<Figure size 432x288 with 1 Axes>"
      ]
     },
     "metadata": {
      "needs_background": "light"
     },
     "output_type": "display_data"
    }
   ],
   "source": [
    "import numpy as np\n",
    "\n",
    "# x = np.array(k)\n",
    "# y = np.array(test_scores)\n",
    "\n",
    "degrees = 3\n",
    "p1 = np.poly1d(np.polyfit(k, test_misclassifications, degrees))\n",
    "p2 = np.poly1d(np.polyfit(k, train_misclassifications, degrees))\n",
    "\n",
    "t = np.linspace(0, 25, 25)\n",
    "\n",
    "plt.scatter(k, test_misclassifications)\n",
    "plt.plot(t, p1(t), '-', label='test misclassifications')\n",
    "\n",
    "plt.scatter(k, train_misclassifications)\n",
    "plt.plot(t, p2(t), '-', label='train misclassifications')\n",
    "\n",
    "\n",
    "plt.axis([max(x),min(x), 0, 15])\n",
    "plt.xlabel('model complexity (k) ->', size = 13)\n",
    "plt.ylabel('model score', size = 13)\n",
    "plt.title('Controlling Model Complexity', size = 20)\n",
    "plt.legend()\n",
    "\n",
    "plt.show()"
   ]
  },
  {
   "cell_type": "code",
   "execution_count": 340,
   "metadata": {},
   "outputs": [
    {
     "data": {
      "image/png": "[encoded data removed]",
      "text/plain": [
       "<Figure size 432x288 with 1 Axes>"
      ]
     },
     "metadata": {
      "needs_background": "light"
     },
     "output_type": "display_data"
    }
   ],
   "source": [
    "import numpy as np\n",
    "\n",
    "# x = np.array(k)\n",
    "# y = np.array(test_scores)\n",
    "\n",
    "degrees = 3\n",
    "p1 = np.poly1d(np.polyfit(k, test_scores, degrees))\n",
    "p2 = np.poly1d(np.polyfit(k, train_scores, degrees))\n",
    "\n",
    "t = np.linspace(0, 25, 25)\n",
    "\n",
    "plt.scatter(k, test_scores)\n",
    "plt.plot(t, p1(t), '-')\n",
    "\n",
    "plt.scatter(k, train_scores)\n",
    "plt.plot(t, p2(t), '-')\n",
    "\n",
    "\n",
    "plt.axis([max(x),min(x), 0, 1])\n",
    "plt.xlabel('model complexity (k) ->', size = 13)\n",
    "plt.ylabel('model score', size = 13)\n",
    "plt.title('Controlling Model Complexity', size = 20)\n",
    "\n",
    "plt.show()"
   ]
  },
  {
   "cell_type": "code",
   "execution_count": null,
   "metadata": {},
   "outputs": [],
   "source": []
  },
  {
   "cell_type": "code",
   "execution_count": null,
   "metadata": {},
   "outputs": [],
   "source": []
  },
  {
   "cell_type": "code",
   "execution_count": null,
   "metadata": {},
   "outputs": [],
   "source": []
  },
  {
   "cell_type": "code",
   "execution_count": null,
   "metadata": {},
   "outputs": [],
   "source": []
  },
  {
   "cell_type": "code",
   "execution_count": 158,
   "metadata": {},
   "outputs": [
    {
     "data": {
      "text/plain": [
       "(0.0, 22.0)"
      ]
     },
     "execution_count": 158,
     "metadata": {},
     "output_type": "execute_result"
    },
    {
     "data": {
      "image/png": "[encoded data removed]",
      "text/plain": [
       "<Figure size 432x288 with 1 Axes>"
      ]
     },
     "metadata": {
      "needs_background": "light"
     },
     "output_type": "display_data"
    }
   ],
   "source": [
    "# Load matplotlib library for visualization\n",
    "import matplotlib.pyplot as plt\n",
    "\n",
    "# Initialize the graph\n",
    "fig, ax = plt.subplots()\n",
    "# plt.gca().set_aspect('equal', adjustable='box')\n",
    "\n",
    "# Plot defined variables on it\n",
    "ax.plot(k, train_scores, label='train score')\n",
    "ax.plot(k, test_scores, label='test score')\n",
    "# ax.plot(lemon_height, lemon_width, 'o', color='b', label='lemon')\n",
    "\n",
    "# Show legend and configure graph's size\n",
    "plt.legend()\n",
    "plt.ylim(0, 1) \n",
    "plt.xlim(0, 22)"
   ]
  },
  {
   "cell_type": "code",
   "execution_count": null,
   "metadata": {},
   "outputs": [],
   "source": []
  },
  {
   "cell_type": "code",
   "execution_count": null,
   "metadata": {},
   "outputs": [],
   "source": []
  },
  {
   "cell_type": "code",
   "execution_count": null,
   "metadata": {},
   "outputs": [],
   "source": []
  },
  {
   "cell_type": "code",
   "execution_count": null,
   "metadata": {},
   "outputs": [],
   "source": []
  },
  {
   "cell_type": "code",
   "execution_count": null,
   "metadata": {},
   "outputs": [],
   "source": []
  },
  {
   "cell_type": "code",
   "execution_count": null,
   "metadata": {},
   "outputs": [],
   "source": []
  },
  {
   "cell_type": "code",
   "execution_count": null,
   "metadata": {},
   "outputs": [],
   "source": []
  },
  {
   "cell_type": "code",
   "execution_count": null,
   "metadata": {},
   "outputs": [],
   "source": []
  },
  {
   "cell_type": "code",
   "execution_count": null,
   "metadata": {},
   "outputs": [],
   "source": []
  },
  {
   "cell_type": "code",
   "execution_count": null,
   "metadata": {},
   "outputs": [],
   "source": []
  },
  {
   "cell_type": "code",
   "execution_count": null,
   "metadata": {},
   "outputs": [],
   "source": []
  },
  {
   "cell_type": "code",
   "execution_count": null,
   "metadata": {},
   "outputs": [],
   "source": []
  },
  {
   "cell_type": "markdown",
   "metadata": {},
   "source": [
    "## 3.5. Train test curve"
   ]
  },
  {
   "cell_type": "markdown",
   "metadata": {},
   "source": [
    "> Testing the model is just a procedure to evaluate model's accuracy. It's done by comparing model's predicted values with actual results. "
   ]
  },
  {
   "cell_type": "code",
   "execution_count": 11,
   "metadata": {},
   "outputs": [
    {
     "name": "stdout",
     "output_type": "stream",
     "text": [
      "predicted labels: \n",
      "\n",
      " ['Mandarin' 'Apple' 'Lemon' 'Lemon' 'Lemon' 'Mandarin' 'Apple' 'Lemon'\n",
      " 'Apple' 'Mandarin' 'Lemon' 'Apple' 'Mandarin' 'Apple' 'Lemon' 'Apple'\n",
      " 'Apple' 'Mandarin' 'Lemon' 'Lemon']\n"
     ]
    }
   ],
   "source": [
    "# First, we predict labels for X\n",
    "y_pred = clf.predict(X)\n",
    "print(f'predicted labels: \\n\\n {y_pred}')"
   ]
  },
  {
   "cell_type": "markdown",
   "metadata": {},
   "source": [
    "> `y_pred` is predicted by the model fruit labels. Because we also know actual labels `y`:"
   ]
  },
  {
   "cell_type": "code",
   "execution_count": 12,
   "metadata": {},
   "outputs": [
    {
     "name": "stdout",
     "output_type": "stream",
     "text": [
      "actual labels: \n",
      "\n",
      " ['Mandarin' 'Apple' 'Lemon' 'Lemon' 'Lemon' 'Mandarin' 'Apple' 'Lemon'\n",
      " 'Apple' 'Mandarin' 'Lemon' 'Apple' 'Mandarin' 'Apple' 'Lemon' 'Apple'\n",
      " 'Apple' 'Mandarin' 'Lemon' 'Lemon']\n"
     ]
    }
   ],
   "source": [
    "print(f'actual labels: \\n\\n {y}')"
   ]
  },
  {
   "cell_type": "markdown",
   "metadata": {},
   "source": [
    "> We can easily calculate the difference between predicted and actual values. The more the difference between these two, the worse the model is at correct predictions. We can use a ready-to-use library from sklearn called `metrics`"
   ]
  },
  {
   "cell_type": "code",
   "execution_count": 13,
   "metadata": {},
   "outputs": [
    {
     "name": "stdout",
     "output_type": "stream",
     "text": [
      "1.0\n"
     ]
    }
   ],
   "source": [
    "# Load metrics\n",
    "from sklearn import metrics\n",
    "\n",
    "# Give y and y_pred\n",
    "print(metrics.accuracy_score(y, y_pred))"
   ]
  },
  {
   "cell_type": "markdown",
   "metadata": {},
   "source": [
    "> 1 means 100% accuracy. Hold on.. That's because we tested the model with the same dataset `X` that we used to train it! In other words, we tried to predict the values (that's `y_pred = clf.predict(X)`) that we used to train the model (`clf.fit(X, y)`). \n",
    "\n",
    "> The model is always tested on the observations it has not seen before, i.e. observations that did not participate in model training. One of the ways is to split the dataset into **two chunks** of data, and then use one chunk to train the model, and another one to test it. "
   ]
  },
  {
   "cell_type": "code",
   "execution_count": 14,
   "metadata": {},
   "outputs": [],
   "source": [
    "y_encoded = df[\"fruit\"].astype('category').cat.codes #encoded\n",
    "\n",
    "# STEP 1: Split X and y into training and testing sets\n",
    "from sklearn.model_selection import train_test_split\n",
    "X_train, X_test, y_train, y_test = train_test_split(X,       # specifying X\n",
    "                                                    y_encoded,  # specifying y\n",
    "                                                    test_size=0.4 #split dataset into 60% training and 40% testing\n",
    "                                                   )"
   ]
  },
  {
   "cell_type": "markdown",
   "metadata": {},
   "source": [
    "> let's train our classifier"
   ]
  },
  {
   "cell_type": "code",
   "execution_count": 15,
   "metadata": {},
   "outputs": [
    {
     "data": {
      "text/plain": [
       "KNeighborsClassifier(n_neighbors=1)"
      ]
     },
     "execution_count": 15,
     "metadata": {},
     "output_type": "execute_result"
    }
   ],
   "source": [
    "# # STEP 2: Again, initialize the model\n",
    "clf = KNeighborsClassifier(n_neighbors = 1)\n",
    "clf.fit(X_train, y_train)"
   ]
  },
  {
   "cell_type": "code",
   "execution_count": 16,
   "metadata": {},
   "outputs": [],
   "source": [
    "# STEP 3: make predictions on the testing set\n",
    "y_pred = clf.predict(X_test)"
   ]
  },
  {
   "cell_type": "code",
   "execution_count": 17,
   "metadata": {},
   "outputs": [
    {
     "name": "stdout",
     "output_type": "stream",
     "text": [
      "1.0\n"
     ]
    }
   ],
   "source": [
    "# STEP 4: compare actual response values (y_test) with predicted response values (y_pred)\n",
    "print(metrics.accuracy_score(y_test, y_pred))"
   ]
  },
  {
   "cell_type": "code",
   "execution_count": null,
   "metadata": {},
   "outputs": [],
   "source": []
  }
 ],
 "metadata": {
  "kernelspec": {
   "display_name": "Python 3",
   "language": "python",
   "name": "python3"
  },
  "language_info": {
   "codemirror_mode": {
    "name": "ipython",
    "version": 3
   },
   "file_extension": ".py",
   "mimetype": "text/x-python",
   "name": "python",
   "nbconvert_exporter": "python",
   "pygments_lexer": "ipython3",
   "version": "3.8.3"
  }
 },
 "nbformat": 4,
 "nbformat_minor": 4
}
